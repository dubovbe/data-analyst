{
 "cells": [
  {
   "cell_type": "markdown",
   "metadata": {},
   "source": [
    "# Определение перспективного тарифа для телеком компании"
   ]
  },
  {
   "cell_type": "markdown",
   "metadata": {},
   "source": [
    "    Клиентам предлагают два тарифных плана: «Смарт» и «Ультра». Чтобы скорректировать рекламный бюджет, коммерческий департамент хочет понять, какой тариф приносит больше денег.\n",
    "    Нам предстоит сделать предварительный анализ тарифов на небольшой выборке клиентов. В нашем распоряжении данные 500 пользователей «Мегалайна»: кто они, откуда, каким тарифом пользуются, сколько звонков и сообщений каждый отправил за 2018 год. Нужно проанализировать поведение клиентов и сделать вывод — какой тариф лучше."
   ]
  },
  {
   "cell_type": "markdown",
   "metadata": {},
   "source": [
    "# Описание тарифов"
   ]
  },
  {
   "cell_type": "markdown",
   "metadata": {},
   "source": [
    "# Тариф «Смарт»"
   ]
  },
  {
   "cell_type": "markdown",
   "metadata": {},
   "source": [
    "    Ежемесячная плата: 550 рублей\n",
    "    Включено 500 минут разговора, 50 сообщений и 15 Гб интернет-трафика\n",
    "    Стоимость услуг сверх тарифного пакета: 1. минута разговора: 3 рубля («Мегалайн» всегда округляет вверх значения минут и мегабайтов. Если пользователь проговорил всего 1 секунду, в тарифе засчитывается целая минута); 2. сообщение: 3 рубля; 3. 1 Гб интернет-трафика: 200 рублей."
   ]
  },
  {
   "cell_type": "markdown",
   "metadata": {},
   "source": [
    "# Тариф «Ультра»"
   ]
  },
  {
   "cell_type": "markdown",
   "metadata": {},
   "source": [
    "    Ежемесячная плата: 1950 рублей\n",
    "    Включено 3000 минут разговора, 1000 сообщений и 30 Гб интернет-трафика\n",
    "    Стоимость услуг сверх тарифного пакета: 1. минута разговора: 1 рубль; 2. сообщение: 1 рубль; 3. 1 Гб интернет-трафика: 150 рублей."
   ]
  },
  {
   "cell_type": "markdown",
   "metadata": {},
   "source": [
    "## Изучение и подготовка данных из файла"
   ]
  },
  {
   "cell_type": "code",
   "execution_count": 1,
   "metadata": {},
   "outputs": [],
   "source": [
    "import pandas as pd\n",
    "import numpy as np\n",
    "from scipy import stats as st\n",
    "import matplotlib.pyplot as plt\n",
    "from matplotlib.pyplot import figure\n",
    "import seaborn as sns\n",
    "import math"
   ]
  },
  {
   "cell_type": "code",
   "execution_count": 2,
   "metadata": {},
   "outputs": [],
   "source": [
    "pd.options.display.max_columns = None"
   ]
  },
  {
   "cell_type": "code",
   "execution_count": 3,
   "metadata": {},
   "outputs": [],
   "source": [
    "df_users = pd.read_csv('/datasets/users.csv')\n",
    "df_tariffs = pd.read_csv('/datasets/tariffs.csv')\n",
    "df_calls = pd.read_csv('/datasets/calls.csv')\n",
    "df_messages = pd.read_csv('/datasets/messages.csv')\n",
    "df_internet = pd.read_csv('/datasets/internet.csv')"
   ]
  },
  {
   "cell_type": "markdown",
   "metadata": {},
   "source": [
    "### Изучение данных таблицы df_users"
   ]
  },
  {
   "cell_type": "code",
   "execution_count": 4,
   "metadata": {},
   "outputs": [
    {
     "data": {
      "text/html": [
       "<div>\n",
       "<style scoped>\n",
       "    .dataframe tbody tr th:only-of-type {\n",
       "        vertical-align: middle;\n",
       "    }\n",
       "\n",
       "    .dataframe tbody tr th {\n",
       "        vertical-align: top;\n",
       "    }\n",
       "\n",
       "    .dataframe thead th {\n",
       "        text-align: right;\n",
       "    }\n",
       "</style>\n",
       "<table border=\"1\" class=\"dataframe\">\n",
       "  <thead>\n",
       "    <tr style=\"text-align: right;\">\n",
       "      <th></th>\n",
       "      <th>user_id</th>\n",
       "      <th>age</th>\n",
       "      <th>churn_date</th>\n",
       "      <th>city</th>\n",
       "      <th>first_name</th>\n",
       "      <th>last_name</th>\n",
       "      <th>reg_date</th>\n",
       "      <th>tariff</th>\n",
       "    </tr>\n",
       "  </thead>\n",
       "  <tbody>\n",
       "    <tr>\n",
       "      <td>0</td>\n",
       "      <td>1000</td>\n",
       "      <td>52</td>\n",
       "      <td>NaN</td>\n",
       "      <td>Краснодар</td>\n",
       "      <td>Рафаил</td>\n",
       "      <td>Верещагин</td>\n",
       "      <td>2018-05-25</td>\n",
       "      <td>ultra</td>\n",
       "    </tr>\n",
       "    <tr>\n",
       "      <td>1</td>\n",
       "      <td>1001</td>\n",
       "      <td>41</td>\n",
       "      <td>NaN</td>\n",
       "      <td>Москва</td>\n",
       "      <td>Иван</td>\n",
       "      <td>Ежов</td>\n",
       "      <td>2018-11-01</td>\n",
       "      <td>smart</td>\n",
       "    </tr>\n",
       "    <tr>\n",
       "      <td>2</td>\n",
       "      <td>1002</td>\n",
       "      <td>59</td>\n",
       "      <td>NaN</td>\n",
       "      <td>Стерлитамак</td>\n",
       "      <td>Евгений</td>\n",
       "      <td>Абрамович</td>\n",
       "      <td>2018-06-17</td>\n",
       "      <td>smart</td>\n",
       "    </tr>\n",
       "    <tr>\n",
       "      <td>3</td>\n",
       "      <td>1003</td>\n",
       "      <td>23</td>\n",
       "      <td>NaN</td>\n",
       "      <td>Москва</td>\n",
       "      <td>Белла</td>\n",
       "      <td>Белякова</td>\n",
       "      <td>2018-08-17</td>\n",
       "      <td>ultra</td>\n",
       "    </tr>\n",
       "    <tr>\n",
       "      <td>4</td>\n",
       "      <td>1004</td>\n",
       "      <td>68</td>\n",
       "      <td>NaN</td>\n",
       "      <td>Новокузнецк</td>\n",
       "      <td>Татьяна</td>\n",
       "      <td>Авдеенко</td>\n",
       "      <td>2018-05-14</td>\n",
       "      <td>ultra</td>\n",
       "    </tr>\n",
       "    <tr>\n",
       "      <td>5</td>\n",
       "      <td>1005</td>\n",
       "      <td>67</td>\n",
       "      <td>NaN</td>\n",
       "      <td>Набережные Челны</td>\n",
       "      <td>Афанасий</td>\n",
       "      <td>Горлов</td>\n",
       "      <td>2018-01-25</td>\n",
       "      <td>smart</td>\n",
       "    </tr>\n",
       "    <tr>\n",
       "      <td>6</td>\n",
       "      <td>1006</td>\n",
       "      <td>21</td>\n",
       "      <td>NaN</td>\n",
       "      <td>Ульяновск</td>\n",
       "      <td>Леонид</td>\n",
       "      <td>Ермолаев</td>\n",
       "      <td>2018-02-26</td>\n",
       "      <td>smart</td>\n",
       "    </tr>\n",
       "    <tr>\n",
       "      <td>7</td>\n",
       "      <td>1007</td>\n",
       "      <td>65</td>\n",
       "      <td>NaN</td>\n",
       "      <td>Москва</td>\n",
       "      <td>Юна</td>\n",
       "      <td>Березина</td>\n",
       "      <td>2018-04-19</td>\n",
       "      <td>smart</td>\n",
       "    </tr>\n",
       "    <tr>\n",
       "      <td>8</td>\n",
       "      <td>1008</td>\n",
       "      <td>63</td>\n",
       "      <td>NaN</td>\n",
       "      <td>Челябинск</td>\n",
       "      <td>Рустэм</td>\n",
       "      <td>Пономарёв</td>\n",
       "      <td>2018-12-19</td>\n",
       "      <td>smart</td>\n",
       "    </tr>\n",
       "    <tr>\n",
       "      <td>9</td>\n",
       "      <td>1009</td>\n",
       "      <td>24</td>\n",
       "      <td>NaN</td>\n",
       "      <td>Пермь</td>\n",
       "      <td>Василиса</td>\n",
       "      <td>Блинова</td>\n",
       "      <td>2018-03-22</td>\n",
       "      <td>smart</td>\n",
       "    </tr>\n",
       "  </tbody>\n",
       "</table>\n",
       "</div>"
      ],
      "text/plain": [
       "   user_id  age churn_date              city first_name  last_name  \\\n",
       "0     1000   52        NaN         Краснодар     Рафаил  Верещагин   \n",
       "1     1001   41        NaN            Москва       Иван       Ежов   \n",
       "2     1002   59        NaN       Стерлитамак    Евгений  Абрамович   \n",
       "3     1003   23        NaN            Москва      Белла   Белякова   \n",
       "4     1004   68        NaN       Новокузнецк    Татьяна   Авдеенко   \n",
       "5     1005   67        NaN  Набережные Челны   Афанасий     Горлов   \n",
       "6     1006   21        NaN         Ульяновск     Леонид   Ермолаев   \n",
       "7     1007   65        NaN            Москва        Юна   Березина   \n",
       "8     1008   63        NaN         Челябинск     Рустэм  Пономарёв   \n",
       "9     1009   24        NaN             Пермь   Василиса    Блинова   \n",
       "\n",
       "     reg_date tariff  \n",
       "0  2018-05-25  ultra  \n",
       "1  2018-11-01  smart  \n",
       "2  2018-06-17  smart  \n",
       "3  2018-08-17  ultra  \n",
       "4  2018-05-14  ultra  \n",
       "5  2018-01-25  smart  \n",
       "6  2018-02-26  smart  \n",
       "7  2018-04-19  smart  \n",
       "8  2018-12-19  smart  \n",
       "9  2018-03-22  smart  "
      ]
     },
     "execution_count": 4,
     "metadata": {},
     "output_type": "execute_result"
    }
   ],
   "source": [
    "df_users.head(10)"
   ]
  },
  {
   "cell_type": "code",
   "execution_count": 5,
   "metadata": {},
   "outputs": [
    {
     "data": {
      "text/html": [
       "<div>\n",
       "<style scoped>\n",
       "    .dataframe tbody tr th:only-of-type {\n",
       "        vertical-align: middle;\n",
       "    }\n",
       "\n",
       "    .dataframe tbody tr th {\n",
       "        vertical-align: top;\n",
       "    }\n",
       "\n",
       "    .dataframe thead th {\n",
       "        text-align: right;\n",
       "    }\n",
       "</style>\n",
       "<table border=\"1\" class=\"dataframe\">\n",
       "  <thead>\n",
       "    <tr style=\"text-align: right;\">\n",
       "      <th></th>\n",
       "      <th>count</th>\n",
       "      <th>mean</th>\n",
       "      <th>std</th>\n",
       "      <th>min</th>\n",
       "      <th>25%</th>\n",
       "      <th>50%</th>\n",
       "      <th>75%</th>\n",
       "      <th>max</th>\n",
       "    </tr>\n",
       "  </thead>\n",
       "  <tbody>\n",
       "    <tr>\n",
       "      <td>user_id</td>\n",
       "      <td>500.0</td>\n",
       "      <td>1249.500</td>\n",
       "      <td>144.481833</td>\n",
       "      <td>1000.0</td>\n",
       "      <td>1124.75</td>\n",
       "      <td>1249.5</td>\n",
       "      <td>1374.25</td>\n",
       "      <td>1499.0</td>\n",
       "    </tr>\n",
       "    <tr>\n",
       "      <td>age</td>\n",
       "      <td>500.0</td>\n",
       "      <td>46.588</td>\n",
       "      <td>16.667630</td>\n",
       "      <td>18.0</td>\n",
       "      <td>32.00</td>\n",
       "      <td>46.0</td>\n",
       "      <td>62.00</td>\n",
       "      <td>75.0</td>\n",
       "    </tr>\n",
       "  </tbody>\n",
       "</table>\n",
       "</div>"
      ],
      "text/plain": [
       "         count      mean         std     min      25%     50%      75%     max\n",
       "user_id  500.0  1249.500  144.481833  1000.0  1124.75  1249.5  1374.25  1499.0\n",
       "age      500.0    46.588   16.667630    18.0    32.00    46.0    62.00    75.0"
      ]
     },
     "execution_count": 5,
     "metadata": {},
     "output_type": "execute_result"
    }
   ],
   "source": [
    "df_users.describe().T"
   ]
  },
  {
   "cell_type": "code",
   "execution_count": 6,
   "metadata": {},
   "outputs": [
    {
     "name": "stdout",
     "output_type": "stream",
     "text": [
      "<class 'pandas.core.frame.DataFrame'>\n",
      "RangeIndex: 500 entries, 0 to 499\n",
      "Data columns (total 8 columns):\n",
      "user_id       500 non-null int64\n",
      "age           500 non-null int64\n",
      "churn_date    38 non-null object\n",
      "city          500 non-null object\n",
      "first_name    500 non-null object\n",
      "last_name     500 non-null object\n",
      "reg_date      500 non-null object\n",
      "tariff        500 non-null object\n",
      "dtypes: int64(2), object(6)\n",
      "memory usage: 31.4+ KB\n"
     ]
    }
   ],
   "source": [
    "df_users.info()"
   ]
  },
  {
   "cell_type": "markdown",
   "metadata": {},
   "source": [
    "    df_users:\n",
    "    1. user_id изменить тип данных для уменьшения выделяемой памяти.\n",
    "    2. age изменить тип данных для уменьшения выделяемой памяти.\n",
    "    3. reg_date изменить тип данных на datetime.\n",
    "    4. churn_date изменить тип данных на datetime."
   ]
  },
  {
   "cell_type": "code",
   "execution_count": 7,
   "metadata": {},
   "outputs": [],
   "source": [
    "df_users['churn_date'] = pd.to_datetime(df_users['churn_date'], format='%Y-%m-%dT')\n",
    "df_users['reg_date'] = pd.to_datetime(df_users['reg_date'], format='%Y-%m-%dT')\n",
    "df_users  = df_users.astype({'age': 'int8',\n",
    "'user_id': 'int16'})"
   ]
  },
  {
   "cell_type": "code",
   "execution_count": 8,
   "metadata": {},
   "outputs": [
    {
     "data": {
      "text/html": [
       "<div>\n",
       "<style scoped>\n",
       "    .dataframe tbody tr th:only-of-type {\n",
       "        vertical-align: middle;\n",
       "    }\n",
       "\n",
       "    .dataframe tbody tr th {\n",
       "        vertical-align: top;\n",
       "    }\n",
       "\n",
       "    .dataframe thead th {\n",
       "        text-align: right;\n",
       "    }\n",
       "</style>\n",
       "<table border=\"1\" class=\"dataframe\">\n",
       "  <thead>\n",
       "    <tr style=\"text-align: right;\">\n",
       "      <th></th>\n",
       "      <th>user_id</th>\n",
       "      <th>age</th>\n",
       "      <th>churn_date</th>\n",
       "      <th>city</th>\n",
       "      <th>first_name</th>\n",
       "      <th>last_name</th>\n",
       "      <th>reg_date</th>\n",
       "      <th>tariff</th>\n",
       "    </tr>\n",
       "  </thead>\n",
       "  <tbody>\n",
       "    <tr>\n",
       "      <td>0</td>\n",
       "      <td>1000</td>\n",
       "      <td>52</td>\n",
       "      <td>NaT</td>\n",
       "      <td>Краснодар</td>\n",
       "      <td>Рафаил</td>\n",
       "      <td>Верещагин</td>\n",
       "      <td>2018-05-25</td>\n",
       "      <td>ultra</td>\n",
       "    </tr>\n",
       "    <tr>\n",
       "      <td>1</td>\n",
       "      <td>1001</td>\n",
       "      <td>41</td>\n",
       "      <td>NaT</td>\n",
       "      <td>Москва</td>\n",
       "      <td>Иван</td>\n",
       "      <td>Ежов</td>\n",
       "      <td>2018-11-01</td>\n",
       "      <td>smart</td>\n",
       "    </tr>\n",
       "    <tr>\n",
       "      <td>2</td>\n",
       "      <td>1002</td>\n",
       "      <td>59</td>\n",
       "      <td>NaT</td>\n",
       "      <td>Стерлитамак</td>\n",
       "      <td>Евгений</td>\n",
       "      <td>Абрамович</td>\n",
       "      <td>2018-06-17</td>\n",
       "      <td>smart</td>\n",
       "    </tr>\n",
       "    <tr>\n",
       "      <td>3</td>\n",
       "      <td>1003</td>\n",
       "      <td>23</td>\n",
       "      <td>NaT</td>\n",
       "      <td>Москва</td>\n",
       "      <td>Белла</td>\n",
       "      <td>Белякова</td>\n",
       "      <td>2018-08-17</td>\n",
       "      <td>ultra</td>\n",
       "    </tr>\n",
       "    <tr>\n",
       "      <td>4</td>\n",
       "      <td>1004</td>\n",
       "      <td>68</td>\n",
       "      <td>NaT</td>\n",
       "      <td>Новокузнецк</td>\n",
       "      <td>Татьяна</td>\n",
       "      <td>Авдеенко</td>\n",
       "      <td>2018-05-14</td>\n",
       "      <td>ultra</td>\n",
       "    </tr>\n",
       "    <tr>\n",
       "      <td>5</td>\n",
       "      <td>1005</td>\n",
       "      <td>67</td>\n",
       "      <td>NaT</td>\n",
       "      <td>Набережные Челны</td>\n",
       "      <td>Афанасий</td>\n",
       "      <td>Горлов</td>\n",
       "      <td>2018-01-25</td>\n",
       "      <td>smart</td>\n",
       "    </tr>\n",
       "    <tr>\n",
       "      <td>6</td>\n",
       "      <td>1006</td>\n",
       "      <td>21</td>\n",
       "      <td>NaT</td>\n",
       "      <td>Ульяновск</td>\n",
       "      <td>Леонид</td>\n",
       "      <td>Ермолаев</td>\n",
       "      <td>2018-02-26</td>\n",
       "      <td>smart</td>\n",
       "    </tr>\n",
       "    <tr>\n",
       "      <td>7</td>\n",
       "      <td>1007</td>\n",
       "      <td>65</td>\n",
       "      <td>NaT</td>\n",
       "      <td>Москва</td>\n",
       "      <td>Юна</td>\n",
       "      <td>Березина</td>\n",
       "      <td>2018-04-19</td>\n",
       "      <td>smart</td>\n",
       "    </tr>\n",
       "    <tr>\n",
       "      <td>8</td>\n",
       "      <td>1008</td>\n",
       "      <td>63</td>\n",
       "      <td>NaT</td>\n",
       "      <td>Челябинск</td>\n",
       "      <td>Рустэм</td>\n",
       "      <td>Пономарёв</td>\n",
       "      <td>2018-12-19</td>\n",
       "      <td>smart</td>\n",
       "    </tr>\n",
       "    <tr>\n",
       "      <td>9</td>\n",
       "      <td>1009</td>\n",
       "      <td>24</td>\n",
       "      <td>NaT</td>\n",
       "      <td>Пермь</td>\n",
       "      <td>Василиса</td>\n",
       "      <td>Блинова</td>\n",
       "      <td>2018-03-22</td>\n",
       "      <td>smart</td>\n",
       "    </tr>\n",
       "  </tbody>\n",
       "</table>\n",
       "</div>"
      ],
      "text/plain": [
       "   user_id  age churn_date              city first_name  last_name   reg_date  \\\n",
       "0     1000   52        NaT         Краснодар     Рафаил  Верещагин 2018-05-25   \n",
       "1     1001   41        NaT            Москва       Иван       Ежов 2018-11-01   \n",
       "2     1002   59        NaT       Стерлитамак    Евгений  Абрамович 2018-06-17   \n",
       "3     1003   23        NaT            Москва      Белла   Белякова 2018-08-17   \n",
       "4     1004   68        NaT       Новокузнецк    Татьяна   Авдеенко 2018-05-14   \n",
       "5     1005   67        NaT  Набережные Челны   Афанасий     Горлов 2018-01-25   \n",
       "6     1006   21        NaT         Ульяновск     Леонид   Ермолаев 2018-02-26   \n",
       "7     1007   65        NaT            Москва        Юна   Березина 2018-04-19   \n",
       "8     1008   63        NaT         Челябинск     Рустэм  Пономарёв 2018-12-19   \n",
       "9     1009   24        NaT             Пермь   Василиса    Блинова 2018-03-22   \n",
       "\n",
       "  tariff  \n",
       "0  ultra  \n",
       "1  smart  \n",
       "2  smart  \n",
       "3  ultra  \n",
       "4  ultra  \n",
       "5  smart  \n",
       "6  smart  \n",
       "7  smart  \n",
       "8  smart  \n",
       "9  smart  "
      ]
     },
     "execution_count": 8,
     "metadata": {},
     "output_type": "execute_result"
    }
   ],
   "source": [
    "df_users.head(10)"
   ]
  },
  {
   "cell_type": "code",
   "execution_count": 9,
   "metadata": {},
   "outputs": [
    {
     "data": {
      "text/plain": [
       "4     53\n",
       "8     50\n",
       "10    45\n",
       "7     44\n",
       "1     43\n",
       "11    42\n",
       "5     41\n",
       "6     40\n",
       "2     39\n",
       "12    36\n",
       "9     35\n",
       "3     32\n",
       "Name: reg_date, dtype: int64"
      ]
     },
     "execution_count": 9,
     "metadata": {},
     "output_type": "execute_result"
    }
   ],
   "source": [
    "df_users['reg_date'].dt.month.value_counts()"
   ]
  },
  {
   "cell_type": "markdown",
   "metadata": {},
   "source": [
    "### Изучение данных таблицы df_tariffs"
   ]
  },
  {
   "cell_type": "code",
   "execution_count": 10,
   "metadata": {
    "scrolled": true
   },
   "outputs": [
    {
     "data": {
      "text/html": [
       "<div>\n",
       "<style scoped>\n",
       "    .dataframe tbody tr th:only-of-type {\n",
       "        vertical-align: middle;\n",
       "    }\n",
       "\n",
       "    .dataframe tbody tr th {\n",
       "        vertical-align: top;\n",
       "    }\n",
       "\n",
       "    .dataframe thead th {\n",
       "        text-align: right;\n",
       "    }\n",
       "</style>\n",
       "<table border=\"1\" class=\"dataframe\">\n",
       "  <thead>\n",
       "    <tr style=\"text-align: right;\">\n",
       "      <th></th>\n",
       "      <th>messages_included</th>\n",
       "      <th>mb_per_month_included</th>\n",
       "      <th>minutes_included</th>\n",
       "      <th>rub_monthly_fee</th>\n",
       "      <th>rub_per_gb</th>\n",
       "      <th>rub_per_message</th>\n",
       "      <th>rub_per_minute</th>\n",
       "      <th>tariff_name</th>\n",
       "    </tr>\n",
       "  </thead>\n",
       "  <tbody>\n",
       "    <tr>\n",
       "      <td>0</td>\n",
       "      <td>50</td>\n",
       "      <td>15360</td>\n",
       "      <td>500</td>\n",
       "      <td>550</td>\n",
       "      <td>200</td>\n",
       "      <td>3</td>\n",
       "      <td>3</td>\n",
       "      <td>smart</td>\n",
       "    </tr>\n",
       "    <tr>\n",
       "      <td>1</td>\n",
       "      <td>1000</td>\n",
       "      <td>30720</td>\n",
       "      <td>3000</td>\n",
       "      <td>1950</td>\n",
       "      <td>150</td>\n",
       "      <td>1</td>\n",
       "      <td>1</td>\n",
       "      <td>ultra</td>\n",
       "    </tr>\n",
       "  </tbody>\n",
       "</table>\n",
       "</div>"
      ],
      "text/plain": [
       "   messages_included  mb_per_month_included  minutes_included  \\\n",
       "0                 50                  15360               500   \n",
       "1               1000                  30720              3000   \n",
       "\n",
       "   rub_monthly_fee  rub_per_gb  rub_per_message  rub_per_minute tariff_name  \n",
       "0              550         200                3               3       smart  \n",
       "1             1950         150                1               1       ultra  "
      ]
     },
     "execution_count": 10,
     "metadata": {},
     "output_type": "execute_result"
    }
   ],
   "source": [
    "df_tariffs.head()"
   ]
  },
  {
   "cell_type": "code",
   "execution_count": 11,
   "metadata": {},
   "outputs": [],
   "source": [
    "df_tariffs['mb_per_month_included'] = df_tariffs['mb_per_month_included']/1024\n",
    "df_tariffs.rename(columns={'mb_per_month_included': 'gb_per_month_included'}, inplace=True)\n",
    "df_tariffs  = df_tariffs.astype({'messages_included': 'int16',\n",
    "                                 'gb_per_month_included': 'int8',\n",
    "                                 'minutes_included': 'int16',\n",
    "                                 'rub_monthly_fee': 'int16',\n",
    "                                 'rub_per_gb': 'int16',\n",
    "                                 'rub_per_message': 'int8',\n",
    "                                 'rub_per_minute': 'int8',\n",
    "                                })"
   ]
  },
  {
   "cell_type": "code",
   "execution_count": 12,
   "metadata": {},
   "outputs": [
    {
     "data": {
      "text/html": [
       "<div>\n",
       "<style scoped>\n",
       "    .dataframe tbody tr th:only-of-type {\n",
       "        vertical-align: middle;\n",
       "    }\n",
       "\n",
       "    .dataframe tbody tr th {\n",
       "        vertical-align: top;\n",
       "    }\n",
       "\n",
       "    .dataframe thead th {\n",
       "        text-align: right;\n",
       "    }\n",
       "</style>\n",
       "<table border=\"1\" class=\"dataframe\">\n",
       "  <thead>\n",
       "    <tr style=\"text-align: right;\">\n",
       "      <th></th>\n",
       "      <th>messages_included</th>\n",
       "      <th>gb_per_month_included</th>\n",
       "      <th>minutes_included</th>\n",
       "      <th>rub_monthly_fee</th>\n",
       "      <th>rub_per_gb</th>\n",
       "      <th>rub_per_message</th>\n",
       "      <th>rub_per_minute</th>\n",
       "      <th>tariff_name</th>\n",
       "    </tr>\n",
       "  </thead>\n",
       "  <tbody>\n",
       "    <tr>\n",
       "      <td>0</td>\n",
       "      <td>50</td>\n",
       "      <td>15</td>\n",
       "      <td>500</td>\n",
       "      <td>550</td>\n",
       "      <td>200</td>\n",
       "      <td>3</td>\n",
       "      <td>3</td>\n",
       "      <td>smart</td>\n",
       "    </tr>\n",
       "    <tr>\n",
       "      <td>1</td>\n",
       "      <td>1000</td>\n",
       "      <td>30</td>\n",
       "      <td>3000</td>\n",
       "      <td>1950</td>\n",
       "      <td>150</td>\n",
       "      <td>1</td>\n",
       "      <td>1</td>\n",
       "      <td>ultra</td>\n",
       "    </tr>\n",
       "  </tbody>\n",
       "</table>\n",
       "</div>"
      ],
      "text/plain": [
       "   messages_included  gb_per_month_included  minutes_included  \\\n",
       "0                 50                     15               500   \n",
       "1               1000                     30              3000   \n",
       "\n",
       "   rub_monthly_fee  rub_per_gb  rub_per_message  rub_per_minute tariff_name  \n",
       "0              550         200                3               3       smart  \n",
       "1             1950         150                1               1       ultra  "
      ]
     },
     "execution_count": 12,
     "metadata": {},
     "output_type": "execute_result"
    }
   ],
   "source": [
    "df_tariffs.head()"
   ]
  },
  {
   "cell_type": "code",
   "execution_count": 13,
   "metadata": {},
   "outputs": [
    {
     "data": {
      "text/plain": [
       "1    150\n",
       "Name: rub_per_gb, dtype: int16"
      ]
     },
     "execution_count": 13,
     "metadata": {},
     "output_type": "execute_result"
    }
   ],
   "source": [
    "df_tariffs[df_tariffs['tariff_name'] == 'ultra']['rub_per_gb']"
   ]
  },
  {
   "cell_type": "markdown",
   "metadata": {},
   "source": [
    "### Изучение данных таблицы df_calls"
   ]
  },
  {
   "cell_type": "code",
   "execution_count": 14,
   "metadata": {},
   "outputs": [
    {
     "data": {
      "text/html": [
       "<div>\n",
       "<style scoped>\n",
       "    .dataframe tbody tr th:only-of-type {\n",
       "        vertical-align: middle;\n",
       "    }\n",
       "\n",
       "    .dataframe tbody tr th {\n",
       "        vertical-align: top;\n",
       "    }\n",
       "\n",
       "    .dataframe thead th {\n",
       "        text-align: right;\n",
       "    }\n",
       "</style>\n",
       "<table border=\"1\" class=\"dataframe\">\n",
       "  <thead>\n",
       "    <tr style=\"text-align: right;\">\n",
       "      <th></th>\n",
       "      <th>id</th>\n",
       "      <th>call_date</th>\n",
       "      <th>duration</th>\n",
       "      <th>user_id</th>\n",
       "    </tr>\n",
       "  </thead>\n",
       "  <tbody>\n",
       "    <tr>\n",
       "      <td>0</td>\n",
       "      <td>1000_0</td>\n",
       "      <td>2018-07-25</td>\n",
       "      <td>0.00</td>\n",
       "      <td>1000</td>\n",
       "    </tr>\n",
       "    <tr>\n",
       "      <td>1</td>\n",
       "      <td>1000_1</td>\n",
       "      <td>2018-08-17</td>\n",
       "      <td>0.00</td>\n",
       "      <td>1000</td>\n",
       "    </tr>\n",
       "    <tr>\n",
       "      <td>2</td>\n",
       "      <td>1000_2</td>\n",
       "      <td>2018-06-11</td>\n",
       "      <td>2.85</td>\n",
       "      <td>1000</td>\n",
       "    </tr>\n",
       "    <tr>\n",
       "      <td>3</td>\n",
       "      <td>1000_3</td>\n",
       "      <td>2018-09-21</td>\n",
       "      <td>13.80</td>\n",
       "      <td>1000</td>\n",
       "    </tr>\n",
       "    <tr>\n",
       "      <td>4</td>\n",
       "      <td>1000_4</td>\n",
       "      <td>2018-12-15</td>\n",
       "      <td>5.18</td>\n",
       "      <td>1000</td>\n",
       "    </tr>\n",
       "    <tr>\n",
       "      <td>5</td>\n",
       "      <td>1000_5</td>\n",
       "      <td>2018-11-02</td>\n",
       "      <td>0.00</td>\n",
       "      <td>1000</td>\n",
       "    </tr>\n",
       "    <tr>\n",
       "      <td>6</td>\n",
       "      <td>1000_6</td>\n",
       "      <td>2018-10-18</td>\n",
       "      <td>0.00</td>\n",
       "      <td>1000</td>\n",
       "    </tr>\n",
       "    <tr>\n",
       "      <td>7</td>\n",
       "      <td>1000_7</td>\n",
       "      <td>2018-08-22</td>\n",
       "      <td>18.31</td>\n",
       "      <td>1000</td>\n",
       "    </tr>\n",
       "    <tr>\n",
       "      <td>8</td>\n",
       "      <td>1000_8</td>\n",
       "      <td>2018-09-15</td>\n",
       "      <td>18.44</td>\n",
       "      <td>1000</td>\n",
       "    </tr>\n",
       "    <tr>\n",
       "      <td>9</td>\n",
       "      <td>1000_9</td>\n",
       "      <td>2018-08-15</td>\n",
       "      <td>0.00</td>\n",
       "      <td>1000</td>\n",
       "    </tr>\n",
       "  </tbody>\n",
       "</table>\n",
       "</div>"
      ],
      "text/plain": [
       "       id   call_date  duration  user_id\n",
       "0  1000_0  2018-07-25      0.00     1000\n",
       "1  1000_1  2018-08-17      0.00     1000\n",
       "2  1000_2  2018-06-11      2.85     1000\n",
       "3  1000_3  2018-09-21     13.80     1000\n",
       "4  1000_4  2018-12-15      5.18     1000\n",
       "5  1000_5  2018-11-02      0.00     1000\n",
       "6  1000_6  2018-10-18      0.00     1000\n",
       "7  1000_7  2018-08-22     18.31     1000\n",
       "8  1000_8  2018-09-15     18.44     1000\n",
       "9  1000_9  2018-08-15      0.00     1000"
      ]
     },
     "execution_count": 14,
     "metadata": {},
     "output_type": "execute_result"
    }
   ],
   "source": [
    "df_calls.head(10)"
   ]
  },
  {
   "cell_type": "code",
   "execution_count": 15,
   "metadata": {},
   "outputs": [
    {
     "name": "stdout",
     "output_type": "stream",
     "text": [
      "<class 'pandas.core.frame.DataFrame'>\n",
      "RangeIndex: 202607 entries, 0 to 202606\n",
      "Data columns (total 4 columns):\n",
      "id           202607 non-null object\n",
      "call_date    202607 non-null object\n",
      "duration     202607 non-null float64\n",
      "user_id      202607 non-null int64\n",
      "dtypes: float64(1), int64(1), object(2)\n",
      "memory usage: 6.2+ MB\n"
     ]
    }
   ],
   "source": [
    "df_calls.info()"
   ]
  },
  {
   "cell_type": "code",
   "execution_count": 16,
   "metadata": {},
   "outputs": [
    {
     "data": {
      "text/html": [
       "<div>\n",
       "<style scoped>\n",
       "    .dataframe tbody tr th:only-of-type {\n",
       "        vertical-align: middle;\n",
       "    }\n",
       "\n",
       "    .dataframe tbody tr th {\n",
       "        vertical-align: top;\n",
       "    }\n",
       "\n",
       "    .dataframe thead th {\n",
       "        text-align: right;\n",
       "    }\n",
       "</style>\n",
       "<table border=\"1\" class=\"dataframe\">\n",
       "  <thead>\n",
       "    <tr style=\"text-align: right;\">\n",
       "      <th></th>\n",
       "      <th>count</th>\n",
       "      <th>mean</th>\n",
       "      <th>std</th>\n",
       "      <th>min</th>\n",
       "      <th>25%</th>\n",
       "      <th>50%</th>\n",
       "      <th>75%</th>\n",
       "      <th>max</th>\n",
       "    </tr>\n",
       "  </thead>\n",
       "  <tbody>\n",
       "    <tr>\n",
       "      <td>duration</td>\n",
       "      <td>202607.0</td>\n",
       "      <td>6.755887</td>\n",
       "      <td>5.843365</td>\n",
       "      <td>0.0</td>\n",
       "      <td>1.3</td>\n",
       "      <td>6.0</td>\n",
       "      <td>10.7</td>\n",
       "      <td>38.0</td>\n",
       "    </tr>\n",
       "    <tr>\n",
       "      <td>user_id</td>\n",
       "      <td>202607.0</td>\n",
       "      <td>1253.940619</td>\n",
       "      <td>144.722751</td>\n",
       "      <td>1000.0</td>\n",
       "      <td>1126.0</td>\n",
       "      <td>1260.0</td>\n",
       "      <td>1379.0</td>\n",
       "      <td>1499.0</td>\n",
       "    </tr>\n",
       "  </tbody>\n",
       "</table>\n",
       "</div>"
      ],
      "text/plain": [
       "             count         mean         std     min     25%     50%     75%  \\\n",
       "duration  202607.0     6.755887    5.843365     0.0     1.3     6.0    10.7   \n",
       "user_id   202607.0  1253.940619  144.722751  1000.0  1126.0  1260.0  1379.0   \n",
       "\n",
       "             max  \n",
       "duration    38.0  \n",
       "user_id   1499.0  "
      ]
     },
     "execution_count": 16,
     "metadata": {},
     "output_type": "execute_result"
    }
   ],
   "source": [
    "df_calls.describe().T"
   ]
  },
  {
   "cell_type": "markdown",
   "metadata": {},
   "source": [
    "    df_calls:\n",
    "    1. duration поменять тип данных на int с округлением в большую сторону.\n",
    "    2. call_date изменить тип данных на datetime.\n",
    "    3. выделение столбца month для дальнейшег анализа."
   ]
  },
  {
   "cell_type": "code",
   "execution_count": 17,
   "metadata": {},
   "outputs": [],
   "source": [
    "df_calls['call_date'] = pd.to_datetime(df_calls['call_date'], format='%Y-%m-%dT')\n",
    "df_calls['duration'] = df_calls['duration'].apply(math.ceil)\n",
    "df_calls['month'] = df_calls['call_date'].dt.month\n",
    "df_calls  = df_calls.astype({'user_id': 'int16',\n",
    "                            'duration': 'int8',\n",
    "                            'month': 'int8'})"
   ]
  },
  {
   "cell_type": "code",
   "execution_count": 18,
   "metadata": {},
   "outputs": [
    {
     "data": {
      "text/html": [
       "<div>\n",
       "<style scoped>\n",
       "    .dataframe tbody tr th:only-of-type {\n",
       "        vertical-align: middle;\n",
       "    }\n",
       "\n",
       "    .dataframe tbody tr th {\n",
       "        vertical-align: top;\n",
       "    }\n",
       "\n",
       "    .dataframe thead th {\n",
       "        text-align: right;\n",
       "    }\n",
       "</style>\n",
       "<table border=\"1\" class=\"dataframe\">\n",
       "  <thead>\n",
       "    <tr style=\"text-align: right;\">\n",
       "      <th></th>\n",
       "      <th>id</th>\n",
       "      <th>call_date</th>\n",
       "      <th>duration</th>\n",
       "      <th>user_id</th>\n",
       "      <th>month</th>\n",
       "    </tr>\n",
       "  </thead>\n",
       "  <tbody>\n",
       "    <tr>\n",
       "      <td>0</td>\n",
       "      <td>1000_0</td>\n",
       "      <td>2018-07-25</td>\n",
       "      <td>0</td>\n",
       "      <td>1000</td>\n",
       "      <td>7</td>\n",
       "    </tr>\n",
       "    <tr>\n",
       "      <td>1</td>\n",
       "      <td>1000_1</td>\n",
       "      <td>2018-08-17</td>\n",
       "      <td>0</td>\n",
       "      <td>1000</td>\n",
       "      <td>8</td>\n",
       "    </tr>\n",
       "    <tr>\n",
       "      <td>2</td>\n",
       "      <td>1000_2</td>\n",
       "      <td>2018-06-11</td>\n",
       "      <td>3</td>\n",
       "      <td>1000</td>\n",
       "      <td>6</td>\n",
       "    </tr>\n",
       "    <tr>\n",
       "      <td>3</td>\n",
       "      <td>1000_3</td>\n",
       "      <td>2018-09-21</td>\n",
       "      <td>14</td>\n",
       "      <td>1000</td>\n",
       "      <td>9</td>\n",
       "    </tr>\n",
       "    <tr>\n",
       "      <td>4</td>\n",
       "      <td>1000_4</td>\n",
       "      <td>2018-12-15</td>\n",
       "      <td>6</td>\n",
       "      <td>1000</td>\n",
       "      <td>12</td>\n",
       "    </tr>\n",
       "    <tr>\n",
       "      <td>5</td>\n",
       "      <td>1000_5</td>\n",
       "      <td>2018-11-02</td>\n",
       "      <td>0</td>\n",
       "      <td>1000</td>\n",
       "      <td>11</td>\n",
       "    </tr>\n",
       "    <tr>\n",
       "      <td>6</td>\n",
       "      <td>1000_6</td>\n",
       "      <td>2018-10-18</td>\n",
       "      <td>0</td>\n",
       "      <td>1000</td>\n",
       "      <td>10</td>\n",
       "    </tr>\n",
       "    <tr>\n",
       "      <td>7</td>\n",
       "      <td>1000_7</td>\n",
       "      <td>2018-08-22</td>\n",
       "      <td>19</td>\n",
       "      <td>1000</td>\n",
       "      <td>8</td>\n",
       "    </tr>\n",
       "    <tr>\n",
       "      <td>8</td>\n",
       "      <td>1000_8</td>\n",
       "      <td>2018-09-15</td>\n",
       "      <td>19</td>\n",
       "      <td>1000</td>\n",
       "      <td>9</td>\n",
       "    </tr>\n",
       "    <tr>\n",
       "      <td>9</td>\n",
       "      <td>1000_9</td>\n",
       "      <td>2018-08-15</td>\n",
       "      <td>0</td>\n",
       "      <td>1000</td>\n",
       "      <td>8</td>\n",
       "    </tr>\n",
       "  </tbody>\n",
       "</table>\n",
       "</div>"
      ],
      "text/plain": [
       "       id  call_date  duration  user_id  month\n",
       "0  1000_0 2018-07-25         0     1000      7\n",
       "1  1000_1 2018-08-17         0     1000      8\n",
       "2  1000_2 2018-06-11         3     1000      6\n",
       "3  1000_3 2018-09-21        14     1000      9\n",
       "4  1000_4 2018-12-15         6     1000     12\n",
       "5  1000_5 2018-11-02         0     1000     11\n",
       "6  1000_6 2018-10-18         0     1000     10\n",
       "7  1000_7 2018-08-22        19     1000      8\n",
       "8  1000_8 2018-09-15        19     1000      9\n",
       "9  1000_9 2018-08-15         0     1000      8"
      ]
     },
     "execution_count": 18,
     "metadata": {},
     "output_type": "execute_result"
    }
   ],
   "source": [
    "df_calls.head(10)"
   ]
  },
  {
   "cell_type": "markdown",
   "metadata": {},
   "source": [
    "### Изучение данных таблицы df_messages"
   ]
  },
  {
   "cell_type": "code",
   "execution_count": 19,
   "metadata": {},
   "outputs": [
    {
     "data": {
      "text/html": [
       "<div>\n",
       "<style scoped>\n",
       "    .dataframe tbody tr th:only-of-type {\n",
       "        vertical-align: middle;\n",
       "    }\n",
       "\n",
       "    .dataframe tbody tr th {\n",
       "        vertical-align: top;\n",
       "    }\n",
       "\n",
       "    .dataframe thead th {\n",
       "        text-align: right;\n",
       "    }\n",
       "</style>\n",
       "<table border=\"1\" class=\"dataframe\">\n",
       "  <thead>\n",
       "    <tr style=\"text-align: right;\">\n",
       "      <th></th>\n",
       "      <th>id</th>\n",
       "      <th>message_date</th>\n",
       "      <th>user_id</th>\n",
       "    </tr>\n",
       "  </thead>\n",
       "  <tbody>\n",
       "    <tr>\n",
       "      <td>0</td>\n",
       "      <td>1000_0</td>\n",
       "      <td>2018-06-27</td>\n",
       "      <td>1000</td>\n",
       "    </tr>\n",
       "    <tr>\n",
       "      <td>1</td>\n",
       "      <td>1000_1</td>\n",
       "      <td>2018-10-08</td>\n",
       "      <td>1000</td>\n",
       "    </tr>\n",
       "    <tr>\n",
       "      <td>2</td>\n",
       "      <td>1000_2</td>\n",
       "      <td>2018-08-04</td>\n",
       "      <td>1000</td>\n",
       "    </tr>\n",
       "    <tr>\n",
       "      <td>3</td>\n",
       "      <td>1000_3</td>\n",
       "      <td>2018-06-16</td>\n",
       "      <td>1000</td>\n",
       "    </tr>\n",
       "    <tr>\n",
       "      <td>4</td>\n",
       "      <td>1000_4</td>\n",
       "      <td>2018-12-05</td>\n",
       "      <td>1000</td>\n",
       "    </tr>\n",
       "    <tr>\n",
       "      <td>5</td>\n",
       "      <td>1000_5</td>\n",
       "      <td>2018-06-20</td>\n",
       "      <td>1000</td>\n",
       "    </tr>\n",
       "    <tr>\n",
       "      <td>6</td>\n",
       "      <td>1000_6</td>\n",
       "      <td>2018-11-19</td>\n",
       "      <td>1000</td>\n",
       "    </tr>\n",
       "    <tr>\n",
       "      <td>7</td>\n",
       "      <td>1000_7</td>\n",
       "      <td>2018-10-29</td>\n",
       "      <td>1000</td>\n",
       "    </tr>\n",
       "    <tr>\n",
       "      <td>8</td>\n",
       "      <td>1000_8</td>\n",
       "      <td>2018-06-25</td>\n",
       "      <td>1000</td>\n",
       "    </tr>\n",
       "    <tr>\n",
       "      <td>9</td>\n",
       "      <td>1000_9</td>\n",
       "      <td>2018-12-18</td>\n",
       "      <td>1000</td>\n",
       "    </tr>\n",
       "  </tbody>\n",
       "</table>\n",
       "</div>"
      ],
      "text/plain": [
       "       id message_date  user_id\n",
       "0  1000_0   2018-06-27     1000\n",
       "1  1000_1   2018-10-08     1000\n",
       "2  1000_2   2018-08-04     1000\n",
       "3  1000_3   2018-06-16     1000\n",
       "4  1000_4   2018-12-05     1000\n",
       "5  1000_5   2018-06-20     1000\n",
       "6  1000_6   2018-11-19     1000\n",
       "7  1000_7   2018-10-29     1000\n",
       "8  1000_8   2018-06-25     1000\n",
       "9  1000_9   2018-12-18     1000"
      ]
     },
     "execution_count": 19,
     "metadata": {},
     "output_type": "execute_result"
    }
   ],
   "source": [
    "df_messages.head(10)"
   ]
  },
  {
   "cell_type": "markdown",
   "metadata": {},
   "source": [
    "    df_messages:\n",
    "    1. message_date изменить тип данных на datetime.\n",
    "    2. выделение столбца month для дальнейшег анализа.\n",
    "    3. приведение user_id к нужному типу."
   ]
  },
  {
   "cell_type": "code",
   "execution_count": 20,
   "metadata": {},
   "outputs": [],
   "source": [
    "df_messages['message_date'] = pd.to_datetime(df_messages['message_date'], format='%Y-%m-%dT')\n",
    "df_messages['month'] = df_messages['message_date'].dt.month\n",
    "df_messages  = df_messages.astype({'user_id': 'int16',\n",
    "                                  'month': 'int8'})"
   ]
  },
  {
   "cell_type": "code",
   "execution_count": 21,
   "metadata": {},
   "outputs": [
    {
     "data": {
      "text/html": [
       "<div>\n",
       "<style scoped>\n",
       "    .dataframe tbody tr th:only-of-type {\n",
       "        vertical-align: middle;\n",
       "    }\n",
       "\n",
       "    .dataframe tbody tr th {\n",
       "        vertical-align: top;\n",
       "    }\n",
       "\n",
       "    .dataframe thead th {\n",
       "        text-align: right;\n",
       "    }\n",
       "</style>\n",
       "<table border=\"1\" class=\"dataframe\">\n",
       "  <thead>\n",
       "    <tr style=\"text-align: right;\">\n",
       "      <th></th>\n",
       "      <th>id</th>\n",
       "      <th>message_date</th>\n",
       "      <th>user_id</th>\n",
       "      <th>month</th>\n",
       "    </tr>\n",
       "  </thead>\n",
       "  <tbody>\n",
       "    <tr>\n",
       "      <td>0</td>\n",
       "      <td>1000_0</td>\n",
       "      <td>2018-06-27</td>\n",
       "      <td>1000</td>\n",
       "      <td>6</td>\n",
       "    </tr>\n",
       "    <tr>\n",
       "      <td>1</td>\n",
       "      <td>1000_1</td>\n",
       "      <td>2018-10-08</td>\n",
       "      <td>1000</td>\n",
       "      <td>10</td>\n",
       "    </tr>\n",
       "    <tr>\n",
       "      <td>2</td>\n",
       "      <td>1000_2</td>\n",
       "      <td>2018-08-04</td>\n",
       "      <td>1000</td>\n",
       "      <td>8</td>\n",
       "    </tr>\n",
       "    <tr>\n",
       "      <td>3</td>\n",
       "      <td>1000_3</td>\n",
       "      <td>2018-06-16</td>\n",
       "      <td>1000</td>\n",
       "      <td>6</td>\n",
       "    </tr>\n",
       "    <tr>\n",
       "      <td>4</td>\n",
       "      <td>1000_4</td>\n",
       "      <td>2018-12-05</td>\n",
       "      <td>1000</td>\n",
       "      <td>12</td>\n",
       "    </tr>\n",
       "    <tr>\n",
       "      <td>5</td>\n",
       "      <td>1000_5</td>\n",
       "      <td>2018-06-20</td>\n",
       "      <td>1000</td>\n",
       "      <td>6</td>\n",
       "    </tr>\n",
       "    <tr>\n",
       "      <td>6</td>\n",
       "      <td>1000_6</td>\n",
       "      <td>2018-11-19</td>\n",
       "      <td>1000</td>\n",
       "      <td>11</td>\n",
       "    </tr>\n",
       "    <tr>\n",
       "      <td>7</td>\n",
       "      <td>1000_7</td>\n",
       "      <td>2018-10-29</td>\n",
       "      <td>1000</td>\n",
       "      <td>10</td>\n",
       "    </tr>\n",
       "    <tr>\n",
       "      <td>8</td>\n",
       "      <td>1000_8</td>\n",
       "      <td>2018-06-25</td>\n",
       "      <td>1000</td>\n",
       "      <td>6</td>\n",
       "    </tr>\n",
       "    <tr>\n",
       "      <td>9</td>\n",
       "      <td>1000_9</td>\n",
       "      <td>2018-12-18</td>\n",
       "      <td>1000</td>\n",
       "      <td>12</td>\n",
       "    </tr>\n",
       "  </tbody>\n",
       "</table>\n",
       "</div>"
      ],
      "text/plain": [
       "       id message_date  user_id  month\n",
       "0  1000_0   2018-06-27     1000      6\n",
       "1  1000_1   2018-10-08     1000     10\n",
       "2  1000_2   2018-08-04     1000      8\n",
       "3  1000_3   2018-06-16     1000      6\n",
       "4  1000_4   2018-12-05     1000     12\n",
       "5  1000_5   2018-06-20     1000      6\n",
       "6  1000_6   2018-11-19     1000     11\n",
       "7  1000_7   2018-10-29     1000     10\n",
       "8  1000_8   2018-06-25     1000      6\n",
       "9  1000_9   2018-12-18     1000     12"
      ]
     },
     "execution_count": 21,
     "metadata": {},
     "output_type": "execute_result"
    }
   ],
   "source": [
    "df_messages.head(10)"
   ]
  },
  {
   "cell_type": "markdown",
   "metadata": {},
   "source": [
    "### Изучение данных таблицы df_internet"
   ]
  },
  {
   "cell_type": "code",
   "execution_count": 22,
   "metadata": {},
   "outputs": [
    {
     "data": {
      "text/html": [
       "<div>\n",
       "<style scoped>\n",
       "    .dataframe tbody tr th:only-of-type {\n",
       "        vertical-align: middle;\n",
       "    }\n",
       "\n",
       "    .dataframe tbody tr th {\n",
       "        vertical-align: top;\n",
       "    }\n",
       "\n",
       "    .dataframe thead th {\n",
       "        text-align: right;\n",
       "    }\n",
       "</style>\n",
       "<table border=\"1\" class=\"dataframe\">\n",
       "  <thead>\n",
       "    <tr style=\"text-align: right;\">\n",
       "      <th></th>\n",
       "      <th>Unnamed: 0</th>\n",
       "      <th>id</th>\n",
       "      <th>mb_used</th>\n",
       "      <th>session_date</th>\n",
       "      <th>user_id</th>\n",
       "    </tr>\n",
       "  </thead>\n",
       "  <tbody>\n",
       "    <tr>\n",
       "      <td>0</td>\n",
       "      <td>0</td>\n",
       "      <td>1000_0</td>\n",
       "      <td>112.95</td>\n",
       "      <td>2018-11-25</td>\n",
       "      <td>1000</td>\n",
       "    </tr>\n",
       "    <tr>\n",
       "      <td>1</td>\n",
       "      <td>1</td>\n",
       "      <td>1000_1</td>\n",
       "      <td>1052.81</td>\n",
       "      <td>2018-09-07</td>\n",
       "      <td>1000</td>\n",
       "    </tr>\n",
       "    <tr>\n",
       "      <td>2</td>\n",
       "      <td>2</td>\n",
       "      <td>1000_2</td>\n",
       "      <td>1197.26</td>\n",
       "      <td>2018-06-25</td>\n",
       "      <td>1000</td>\n",
       "    </tr>\n",
       "    <tr>\n",
       "      <td>3</td>\n",
       "      <td>3</td>\n",
       "      <td>1000_3</td>\n",
       "      <td>550.27</td>\n",
       "      <td>2018-08-22</td>\n",
       "      <td>1000</td>\n",
       "    </tr>\n",
       "    <tr>\n",
       "      <td>4</td>\n",
       "      <td>4</td>\n",
       "      <td>1000_4</td>\n",
       "      <td>302.56</td>\n",
       "      <td>2018-09-24</td>\n",
       "      <td>1000</td>\n",
       "    </tr>\n",
       "    <tr>\n",
       "      <td>5</td>\n",
       "      <td>5</td>\n",
       "      <td>1000_5</td>\n",
       "      <td>399.97</td>\n",
       "      <td>2018-10-02</td>\n",
       "      <td>1000</td>\n",
       "    </tr>\n",
       "    <tr>\n",
       "      <td>6</td>\n",
       "      <td>6</td>\n",
       "      <td>1000_6</td>\n",
       "      <td>540.08</td>\n",
       "      <td>2018-09-07</td>\n",
       "      <td>1000</td>\n",
       "    </tr>\n",
       "    <tr>\n",
       "      <td>7</td>\n",
       "      <td>7</td>\n",
       "      <td>1000_7</td>\n",
       "      <td>415.70</td>\n",
       "      <td>2018-07-11</td>\n",
       "      <td>1000</td>\n",
       "    </tr>\n",
       "    <tr>\n",
       "      <td>8</td>\n",
       "      <td>8</td>\n",
       "      <td>1000_8</td>\n",
       "      <td>505.40</td>\n",
       "      <td>2018-10-08</td>\n",
       "      <td>1000</td>\n",
       "    </tr>\n",
       "    <tr>\n",
       "      <td>9</td>\n",
       "      <td>9</td>\n",
       "      <td>1000_9</td>\n",
       "      <td>345.54</td>\n",
       "      <td>2018-09-03</td>\n",
       "      <td>1000</td>\n",
       "    </tr>\n",
       "  </tbody>\n",
       "</table>\n",
       "</div>"
      ],
      "text/plain": [
       "   Unnamed: 0      id  mb_used session_date  user_id\n",
       "0           0  1000_0   112.95   2018-11-25     1000\n",
       "1           1  1000_1  1052.81   2018-09-07     1000\n",
       "2           2  1000_2  1197.26   2018-06-25     1000\n",
       "3           3  1000_3   550.27   2018-08-22     1000\n",
       "4           4  1000_4   302.56   2018-09-24     1000\n",
       "5           5  1000_5   399.97   2018-10-02     1000\n",
       "6           6  1000_6   540.08   2018-09-07     1000\n",
       "7           7  1000_7   415.70   2018-07-11     1000\n",
       "8           8  1000_8   505.40   2018-10-08     1000\n",
       "9           9  1000_9   345.54   2018-09-03     1000"
      ]
     },
     "execution_count": 22,
     "metadata": {},
     "output_type": "execute_result"
    }
   ],
   "source": [
    "df_internet.head(10)"
   ]
  },
  {
   "cell_type": "markdown",
   "metadata": {},
   "source": [
    "    df_internet:\n",
    "    1. mb_used заменить на gb_used=mb_used/1024: полученные данные округить в большую сторону.\n",
    "    2. session_date изменить тип данных на datetime.\n",
    "    3. удалить продублированный столбец Unnamed: 0.\n",
    "    4. выделение столбца month для дальнейшег анализа."
   ]
  },
  {
   "cell_type": "code",
   "execution_count": 23,
   "metadata": {},
   "outputs": [],
   "source": [
    "df_internet = df_internet.drop('Unnamed: 0', 1)\n",
    "df_internet['session_date'] = pd.to_datetime(df_internet['session_date'], format='%Y-%m-%dT')\n",
    "df_internet['month'] = df_internet['session_date'].dt.month\n",
    "df_internet  = df_internet.astype({'user_id': 'int16',\n",
    "                                   'month': 'int8'})"
   ]
  },
  {
   "cell_type": "code",
   "execution_count": 24,
   "metadata": {},
   "outputs": [
    {
     "data": {
      "text/html": [
       "<div>\n",
       "<style scoped>\n",
       "    .dataframe tbody tr th:only-of-type {\n",
       "        vertical-align: middle;\n",
       "    }\n",
       "\n",
       "    .dataframe tbody tr th {\n",
       "        vertical-align: top;\n",
       "    }\n",
       "\n",
       "    .dataframe thead th {\n",
       "        text-align: right;\n",
       "    }\n",
       "</style>\n",
       "<table border=\"1\" class=\"dataframe\">\n",
       "  <thead>\n",
       "    <tr style=\"text-align: right;\">\n",
       "      <th></th>\n",
       "      <th>count</th>\n",
       "      <th>mean</th>\n",
       "      <th>std</th>\n",
       "      <th>min</th>\n",
       "      <th>25%</th>\n",
       "      <th>50%</th>\n",
       "      <th>75%</th>\n",
       "      <th>max</th>\n",
       "    </tr>\n",
       "  </thead>\n",
       "  <tbody>\n",
       "    <tr>\n",
       "      <td>mb_used</td>\n",
       "      <td>149396.0</td>\n",
       "      <td>370.192426</td>\n",
       "      <td>278.300951</td>\n",
       "      <td>0.0</td>\n",
       "      <td>138.1875</td>\n",
       "      <td>348.015</td>\n",
       "      <td>559.5525</td>\n",
       "      <td>1724.83</td>\n",
       "    </tr>\n",
       "    <tr>\n",
       "      <td>user_id</td>\n",
       "      <td>149396.0</td>\n",
       "      <td>1252.099842</td>\n",
       "      <td>144.050823</td>\n",
       "      <td>1000.0</td>\n",
       "      <td>1130.0000</td>\n",
       "      <td>1251.000</td>\n",
       "      <td>1380.0000</td>\n",
       "      <td>1499.00</td>\n",
       "    </tr>\n",
       "    <tr>\n",
       "      <td>month</td>\n",
       "      <td>149396.0</td>\n",
       "      <td>8.563315</td>\n",
       "      <td>2.788717</td>\n",
       "      <td>1.0</td>\n",
       "      <td>7.0000</td>\n",
       "      <td>9.000</td>\n",
       "      <td>11.0000</td>\n",
       "      <td>12.00</td>\n",
       "    </tr>\n",
       "  </tbody>\n",
       "</table>\n",
       "</div>"
      ],
      "text/plain": [
       "            count         mean         std     min        25%       50%  \\\n",
       "mb_used  149396.0   370.192426  278.300951     0.0   138.1875   348.015   \n",
       "user_id  149396.0  1252.099842  144.050823  1000.0  1130.0000  1251.000   \n",
       "month    149396.0     8.563315    2.788717     1.0     7.0000     9.000   \n",
       "\n",
       "               75%      max  \n",
       "mb_used   559.5525  1724.83  \n",
       "user_id  1380.0000  1499.00  \n",
       "month      11.0000    12.00  "
      ]
     },
     "execution_count": 24,
     "metadata": {},
     "output_type": "execute_result"
    }
   ],
   "source": [
    "df_internet.describe().T"
   ]
  },
  {
   "cell_type": "code",
   "execution_count": 25,
   "metadata": {},
   "outputs": [
    {
     "data": {
      "text/html": [
       "<div>\n",
       "<style scoped>\n",
       "    .dataframe tbody tr th:only-of-type {\n",
       "        vertical-align: middle;\n",
       "    }\n",
       "\n",
       "    .dataframe tbody tr th {\n",
       "        vertical-align: top;\n",
       "    }\n",
       "\n",
       "    .dataframe thead th {\n",
       "        text-align: right;\n",
       "    }\n",
       "</style>\n",
       "<table border=\"1\" class=\"dataframe\">\n",
       "  <thead>\n",
       "    <tr style=\"text-align: right;\">\n",
       "      <th></th>\n",
       "      <th>id</th>\n",
       "      <th>mb_used</th>\n",
       "      <th>session_date</th>\n",
       "      <th>user_id</th>\n",
       "      <th>month</th>\n",
       "    </tr>\n",
       "  </thead>\n",
       "  <tbody>\n",
       "    <tr>\n",
       "      <td>0</td>\n",
       "      <td>1000_0</td>\n",
       "      <td>112.95</td>\n",
       "      <td>2018-11-25</td>\n",
       "      <td>1000</td>\n",
       "      <td>11</td>\n",
       "    </tr>\n",
       "    <tr>\n",
       "      <td>1</td>\n",
       "      <td>1000_1</td>\n",
       "      <td>1052.81</td>\n",
       "      <td>2018-09-07</td>\n",
       "      <td>1000</td>\n",
       "      <td>9</td>\n",
       "    </tr>\n",
       "    <tr>\n",
       "      <td>2</td>\n",
       "      <td>1000_2</td>\n",
       "      <td>1197.26</td>\n",
       "      <td>2018-06-25</td>\n",
       "      <td>1000</td>\n",
       "      <td>6</td>\n",
       "    </tr>\n",
       "    <tr>\n",
       "      <td>3</td>\n",
       "      <td>1000_3</td>\n",
       "      <td>550.27</td>\n",
       "      <td>2018-08-22</td>\n",
       "      <td>1000</td>\n",
       "      <td>8</td>\n",
       "    </tr>\n",
       "    <tr>\n",
       "      <td>4</td>\n",
       "      <td>1000_4</td>\n",
       "      <td>302.56</td>\n",
       "      <td>2018-09-24</td>\n",
       "      <td>1000</td>\n",
       "      <td>9</td>\n",
       "    </tr>\n",
       "    <tr>\n",
       "      <td>5</td>\n",
       "      <td>1000_5</td>\n",
       "      <td>399.97</td>\n",
       "      <td>2018-10-02</td>\n",
       "      <td>1000</td>\n",
       "      <td>10</td>\n",
       "    </tr>\n",
       "    <tr>\n",
       "      <td>6</td>\n",
       "      <td>1000_6</td>\n",
       "      <td>540.08</td>\n",
       "      <td>2018-09-07</td>\n",
       "      <td>1000</td>\n",
       "      <td>9</td>\n",
       "    </tr>\n",
       "    <tr>\n",
       "      <td>7</td>\n",
       "      <td>1000_7</td>\n",
       "      <td>415.70</td>\n",
       "      <td>2018-07-11</td>\n",
       "      <td>1000</td>\n",
       "      <td>7</td>\n",
       "    </tr>\n",
       "    <tr>\n",
       "      <td>8</td>\n",
       "      <td>1000_8</td>\n",
       "      <td>505.40</td>\n",
       "      <td>2018-10-08</td>\n",
       "      <td>1000</td>\n",
       "      <td>10</td>\n",
       "    </tr>\n",
       "    <tr>\n",
       "      <td>9</td>\n",
       "      <td>1000_9</td>\n",
       "      <td>345.54</td>\n",
       "      <td>2018-09-03</td>\n",
       "      <td>1000</td>\n",
       "      <td>9</td>\n",
       "    </tr>\n",
       "  </tbody>\n",
       "</table>\n",
       "</div>"
      ],
      "text/plain": [
       "       id  mb_used session_date  user_id  month\n",
       "0  1000_0   112.95   2018-11-25     1000     11\n",
       "1  1000_1  1052.81   2018-09-07     1000      9\n",
       "2  1000_2  1197.26   2018-06-25     1000      6\n",
       "3  1000_3   550.27   2018-08-22     1000      8\n",
       "4  1000_4   302.56   2018-09-24     1000      9\n",
       "5  1000_5   399.97   2018-10-02     1000     10\n",
       "6  1000_6   540.08   2018-09-07     1000      9\n",
       "7  1000_7   415.70   2018-07-11     1000      7\n",
       "8  1000_8   505.40   2018-10-08     1000     10\n",
       "9  1000_9   345.54   2018-09-03     1000      9"
      ]
     },
     "execution_count": 25,
     "metadata": {},
     "output_type": "execute_result"
    }
   ],
   "source": [
    "df_internet.head(10)"
   ]
  },
  {
   "cell_type": "markdown",
   "metadata": {},
   "source": [
    "### Вывод"
   ]
  },
  {
   "cell_type": "markdown",
   "metadata": {},
   "source": [
    "    Данные изучены и приведены короткие пометки по их первичной обработки. Все необходимые действия по предобработки данных проведены."
   ]
  },
  {
   "cell_type": "markdown",
   "metadata": {},
   "source": [
    "## Предобработка данных"
   ]
  },
  {
   "cell_type": "markdown",
   "metadata": {},
   "source": [
    "### Количество сделанных звонков и израсходованных минут разговора по месяцам"
   ]
  },
  {
   "cell_type": "code",
   "execution_count": 26,
   "metadata": {},
   "outputs": [
    {
     "data": {
      "text/html": [
       "<div>\n",
       "<style scoped>\n",
       "    .dataframe tbody tr th:only-of-type {\n",
       "        vertical-align: middle;\n",
       "    }\n",
       "\n",
       "    .dataframe tbody tr th {\n",
       "        vertical-align: top;\n",
       "    }\n",
       "\n",
       "    .dataframe thead th {\n",
       "        text-align: right;\n",
       "    }\n",
       "</style>\n",
       "<table border=\"1\" class=\"dataframe\">\n",
       "  <thead>\n",
       "    <tr style=\"text-align: right;\">\n",
       "      <th></th>\n",
       "      <th>id</th>\n",
       "      <th>call_date</th>\n",
       "      <th>duration</th>\n",
       "      <th>user_id</th>\n",
       "      <th>month</th>\n",
       "    </tr>\n",
       "  </thead>\n",
       "  <tbody>\n",
       "    <tr>\n",
       "      <td>0</td>\n",
       "      <td>1000_0</td>\n",
       "      <td>2018-07-25</td>\n",
       "      <td>0</td>\n",
       "      <td>1000</td>\n",
       "      <td>7</td>\n",
       "    </tr>\n",
       "    <tr>\n",
       "      <td>1</td>\n",
       "      <td>1000_1</td>\n",
       "      <td>2018-08-17</td>\n",
       "      <td>0</td>\n",
       "      <td>1000</td>\n",
       "      <td>8</td>\n",
       "    </tr>\n",
       "    <tr>\n",
       "      <td>2</td>\n",
       "      <td>1000_2</td>\n",
       "      <td>2018-06-11</td>\n",
       "      <td>3</td>\n",
       "      <td>1000</td>\n",
       "      <td>6</td>\n",
       "    </tr>\n",
       "    <tr>\n",
       "      <td>3</td>\n",
       "      <td>1000_3</td>\n",
       "      <td>2018-09-21</td>\n",
       "      <td>14</td>\n",
       "      <td>1000</td>\n",
       "      <td>9</td>\n",
       "    </tr>\n",
       "    <tr>\n",
       "      <td>4</td>\n",
       "      <td>1000_4</td>\n",
       "      <td>2018-12-15</td>\n",
       "      <td>6</td>\n",
       "      <td>1000</td>\n",
       "      <td>12</td>\n",
       "    </tr>\n",
       "    <tr>\n",
       "      <td>5</td>\n",
       "      <td>1000_5</td>\n",
       "      <td>2018-11-02</td>\n",
       "      <td>0</td>\n",
       "      <td>1000</td>\n",
       "      <td>11</td>\n",
       "    </tr>\n",
       "    <tr>\n",
       "      <td>6</td>\n",
       "      <td>1000_6</td>\n",
       "      <td>2018-10-18</td>\n",
       "      <td>0</td>\n",
       "      <td>1000</td>\n",
       "      <td>10</td>\n",
       "    </tr>\n",
       "    <tr>\n",
       "      <td>7</td>\n",
       "      <td>1000_7</td>\n",
       "      <td>2018-08-22</td>\n",
       "      <td>19</td>\n",
       "      <td>1000</td>\n",
       "      <td>8</td>\n",
       "    </tr>\n",
       "    <tr>\n",
       "      <td>8</td>\n",
       "      <td>1000_8</td>\n",
       "      <td>2018-09-15</td>\n",
       "      <td>19</td>\n",
       "      <td>1000</td>\n",
       "      <td>9</td>\n",
       "    </tr>\n",
       "    <tr>\n",
       "      <td>9</td>\n",
       "      <td>1000_9</td>\n",
       "      <td>2018-08-15</td>\n",
       "      <td>0</td>\n",
       "      <td>1000</td>\n",
       "      <td>8</td>\n",
       "    </tr>\n",
       "  </tbody>\n",
       "</table>\n",
       "</div>"
      ],
      "text/plain": [
       "       id  call_date  duration  user_id  month\n",
       "0  1000_0 2018-07-25         0     1000      7\n",
       "1  1000_1 2018-08-17         0     1000      8\n",
       "2  1000_2 2018-06-11         3     1000      6\n",
       "3  1000_3 2018-09-21        14     1000      9\n",
       "4  1000_4 2018-12-15         6     1000     12\n",
       "5  1000_5 2018-11-02         0     1000     11\n",
       "6  1000_6 2018-10-18         0     1000     10\n",
       "7  1000_7 2018-08-22        19     1000      8\n",
       "8  1000_8 2018-09-15        19     1000      9\n",
       "9  1000_9 2018-08-15         0     1000      8"
      ]
     },
     "execution_count": 26,
     "metadata": {},
     "output_type": "execute_result"
    }
   ],
   "source": [
    "df_calls.head(10)"
   ]
  },
  {
   "cell_type": "markdown",
   "metadata": {},
   "source": [
    "Убираем учет нулевых значений в столбце duration для правильного подсчета count по месяцам."
   ]
  },
  {
   "cell_type": "code",
   "execution_count": 27,
   "metadata": {},
   "outputs": [],
   "source": [
    "df_calls['duration'] = df_calls['duration'].replace(0, np.nan)"
   ]
  },
  {
   "cell_type": "code",
   "execution_count": 28,
   "metadata": {},
   "outputs": [
    {
     "data": {
      "text/html": [
       "<div>\n",
       "<style scoped>\n",
       "    .dataframe tbody tr th:only-of-type {\n",
       "        vertical-align: middle;\n",
       "    }\n",
       "\n",
       "    .dataframe tbody tr th {\n",
       "        vertical-align: top;\n",
       "    }\n",
       "\n",
       "    .dataframe thead th {\n",
       "        text-align: right;\n",
       "    }\n",
       "</style>\n",
       "<table border=\"1\" class=\"dataframe\">\n",
       "  <thead>\n",
       "    <tr style=\"text-align: right;\">\n",
       "      <th></th>\n",
       "      <th></th>\n",
       "      <th>calls_duration</th>\n",
       "      <th>calls_count</th>\n",
       "    </tr>\n",
       "    <tr>\n",
       "      <th>user_id</th>\n",
       "      <th>month</th>\n",
       "      <th></th>\n",
       "      <th></th>\n",
       "    </tr>\n",
       "  </thead>\n",
       "  <tbody>\n",
       "    <tr>\n",
       "      <td rowspan=\"5\" valign=\"top\">1000</td>\n",
       "      <td>5</td>\n",
       "      <td>159</td>\n",
       "      <td>17</td>\n",
       "    </tr>\n",
       "    <tr>\n",
       "      <td>6</td>\n",
       "      <td>172</td>\n",
       "      <td>28</td>\n",
       "    </tr>\n",
       "    <tr>\n",
       "      <td>7</td>\n",
       "      <td>340</td>\n",
       "      <td>41</td>\n",
       "    </tr>\n",
       "    <tr>\n",
       "      <td>8</td>\n",
       "      <td>408</td>\n",
       "      <td>42</td>\n",
       "    </tr>\n",
       "    <tr>\n",
       "      <td>9</td>\n",
       "      <td>466</td>\n",
       "      <td>46</td>\n",
       "    </tr>\n",
       "    <tr>\n",
       "      <td>...</td>\n",
       "      <td>...</td>\n",
       "      <td>...</td>\n",
       "      <td>...</td>\n",
       "    </tr>\n",
       "    <tr>\n",
       "      <td>1498</td>\n",
       "      <td>10</td>\n",
       "      <td>247</td>\n",
       "      <td>30</td>\n",
       "    </tr>\n",
       "    <tr>\n",
       "      <td rowspan=\"4\" valign=\"top\">1499</td>\n",
       "      <td>9</td>\n",
       "      <td>70</td>\n",
       "      <td>8</td>\n",
       "    </tr>\n",
       "    <tr>\n",
       "      <td>10</td>\n",
       "      <td>449</td>\n",
       "      <td>44</td>\n",
       "    </tr>\n",
       "    <tr>\n",
       "      <td>11</td>\n",
       "      <td>612</td>\n",
       "      <td>62</td>\n",
       "    </tr>\n",
       "    <tr>\n",
       "      <td>12</td>\n",
       "      <td>492</td>\n",
       "      <td>56</td>\n",
       "    </tr>\n",
       "  </tbody>\n",
       "</table>\n",
       "<p>3174 rows × 2 columns</p>\n",
       "</div>"
      ],
      "text/plain": [
       "               calls_duration  calls_count\n",
       "user_id month                             \n",
       "1000    5                 159           17\n",
       "        6                 172           28\n",
       "        7                 340           41\n",
       "        8                 408           42\n",
       "        9                 466           46\n",
       "...                       ...          ...\n",
       "1498    10                247           30\n",
       "1499    9                  70            8\n",
       "        10                449           44\n",
       "        11                612           62\n",
       "        12                492           56\n",
       "\n",
       "[3174 rows x 2 columns]"
      ]
     },
     "execution_count": 28,
     "metadata": {},
     "output_type": "execute_result"
    }
   ],
   "source": [
    "df_calls_pivot = df_calls.pivot_table(index=['user_id', 'month'], values='duration', aggfunc=['sum', 'count'], fill_value=0)\n",
    "df_calls_pivot.columns = ['calls_duration', 'calls_count']\n",
    "df_calls_pivot"
   ]
  },
  {
   "cell_type": "markdown",
   "metadata": {},
   "source": [
    "### Количество отправленных сообщений по месяцам"
   ]
  },
  {
   "cell_type": "code",
   "execution_count": 29,
   "metadata": {},
   "outputs": [
    {
     "data": {
      "text/html": [
       "<div>\n",
       "<style scoped>\n",
       "    .dataframe tbody tr th:only-of-type {\n",
       "        vertical-align: middle;\n",
       "    }\n",
       "\n",
       "    .dataframe tbody tr th {\n",
       "        vertical-align: top;\n",
       "    }\n",
       "\n",
       "    .dataframe thead th {\n",
       "        text-align: right;\n",
       "    }\n",
       "</style>\n",
       "<table border=\"1\" class=\"dataframe\">\n",
       "  <thead>\n",
       "    <tr style=\"text-align: right;\">\n",
       "      <th></th>\n",
       "      <th>id</th>\n",
       "      <th>message_date</th>\n",
       "      <th>user_id</th>\n",
       "      <th>month</th>\n",
       "    </tr>\n",
       "  </thead>\n",
       "  <tbody>\n",
       "    <tr>\n",
       "      <td>0</td>\n",
       "      <td>1000_0</td>\n",
       "      <td>2018-06-27</td>\n",
       "      <td>1000</td>\n",
       "      <td>6</td>\n",
       "    </tr>\n",
       "    <tr>\n",
       "      <td>1</td>\n",
       "      <td>1000_1</td>\n",
       "      <td>2018-10-08</td>\n",
       "      <td>1000</td>\n",
       "      <td>10</td>\n",
       "    </tr>\n",
       "    <tr>\n",
       "      <td>2</td>\n",
       "      <td>1000_2</td>\n",
       "      <td>2018-08-04</td>\n",
       "      <td>1000</td>\n",
       "      <td>8</td>\n",
       "    </tr>\n",
       "    <tr>\n",
       "      <td>3</td>\n",
       "      <td>1000_3</td>\n",
       "      <td>2018-06-16</td>\n",
       "      <td>1000</td>\n",
       "      <td>6</td>\n",
       "    </tr>\n",
       "    <tr>\n",
       "      <td>4</td>\n",
       "      <td>1000_4</td>\n",
       "      <td>2018-12-05</td>\n",
       "      <td>1000</td>\n",
       "      <td>12</td>\n",
       "    </tr>\n",
       "  </tbody>\n",
       "</table>\n",
       "</div>"
      ],
      "text/plain": [
       "       id message_date  user_id  month\n",
       "0  1000_0   2018-06-27     1000      6\n",
       "1  1000_1   2018-10-08     1000     10\n",
       "2  1000_2   2018-08-04     1000      8\n",
       "3  1000_3   2018-06-16     1000      6\n",
       "4  1000_4   2018-12-05     1000     12"
      ]
     },
     "execution_count": 29,
     "metadata": {},
     "output_type": "execute_result"
    }
   ],
   "source": [
    "df_messages.head()"
   ]
  },
  {
   "cell_type": "code",
   "execution_count": 30,
   "metadata": {},
   "outputs": [
    {
     "data": {
      "text/html": [
       "<div>\n",
       "<style scoped>\n",
       "    .dataframe tbody tr th:only-of-type {\n",
       "        vertical-align: middle;\n",
       "    }\n",
       "\n",
       "    .dataframe tbody tr th {\n",
       "        vertical-align: top;\n",
       "    }\n",
       "\n",
       "    .dataframe thead th {\n",
       "        text-align: right;\n",
       "    }\n",
       "</style>\n",
       "<table border=\"1\" class=\"dataframe\">\n",
       "  <thead>\n",
       "    <tr style=\"text-align: right;\">\n",
       "      <th></th>\n",
       "      <th></th>\n",
       "      <th>messages_count</th>\n",
       "    </tr>\n",
       "    <tr>\n",
       "      <th>user_id</th>\n",
       "      <th>month</th>\n",
       "      <th></th>\n",
       "    </tr>\n",
       "  </thead>\n",
       "  <tbody>\n",
       "    <tr>\n",
       "      <td rowspan=\"5\" valign=\"top\">1000</td>\n",
       "      <td>5</td>\n",
       "      <td>22</td>\n",
       "    </tr>\n",
       "    <tr>\n",
       "      <td>6</td>\n",
       "      <td>60</td>\n",
       "    </tr>\n",
       "    <tr>\n",
       "      <td>7</td>\n",
       "      <td>75</td>\n",
       "    </tr>\n",
       "    <tr>\n",
       "      <td>8</td>\n",
       "      <td>81</td>\n",
       "    </tr>\n",
       "    <tr>\n",
       "      <td>9</td>\n",
       "      <td>57</td>\n",
       "    </tr>\n",
       "    <tr>\n",
       "      <td>...</td>\n",
       "      <td>...</td>\n",
       "      <td>...</td>\n",
       "    </tr>\n",
       "    <tr>\n",
       "      <td>1498</td>\n",
       "      <td>10</td>\n",
       "      <td>42</td>\n",
       "    </tr>\n",
       "    <tr>\n",
       "      <td rowspan=\"4\" valign=\"top\">1499</td>\n",
       "      <td>9</td>\n",
       "      <td>11</td>\n",
       "    </tr>\n",
       "    <tr>\n",
       "      <td>10</td>\n",
       "      <td>48</td>\n",
       "    </tr>\n",
       "    <tr>\n",
       "      <td>11</td>\n",
       "      <td>59</td>\n",
       "    </tr>\n",
       "    <tr>\n",
       "      <td>12</td>\n",
       "      <td>66</td>\n",
       "    </tr>\n",
       "  </tbody>\n",
       "</table>\n",
       "<p>2717 rows × 1 columns</p>\n",
       "</div>"
      ],
      "text/plain": [
       "               messages_count\n",
       "user_id month                \n",
       "1000    5                  22\n",
       "        6                  60\n",
       "        7                  75\n",
       "        8                  81\n",
       "        9                  57\n",
       "...                       ...\n",
       "1498    10                 42\n",
       "1499    9                  11\n",
       "        10                 48\n",
       "        11                 59\n",
       "        12                 66\n",
       "\n",
       "[2717 rows x 1 columns]"
      ]
     },
     "execution_count": 30,
     "metadata": {},
     "output_type": "execute_result"
    }
   ],
   "source": [
    "df_messages_pivot = df_messages.pivot_table(index=['user_id', 'month'], values='id', aggfunc='count', fill_value=0)\n",
    "df_messages_pivot.columns = ['messages_count']\n",
    "df_messages_pivot"
   ]
  },
  {
   "cell_type": "markdown",
   "metadata": {},
   "source": [
    "### Объем израсходованного интернет-трафика по месяцам"
   ]
  },
  {
   "cell_type": "code",
   "execution_count": 31,
   "metadata": {},
   "outputs": [
    {
     "data": {
      "text/html": [
       "<div>\n",
       "<style scoped>\n",
       "    .dataframe tbody tr th:only-of-type {\n",
       "        vertical-align: middle;\n",
       "    }\n",
       "\n",
       "    .dataframe tbody tr th {\n",
       "        vertical-align: top;\n",
       "    }\n",
       "\n",
       "    .dataframe thead th {\n",
       "        text-align: right;\n",
       "    }\n",
       "</style>\n",
       "<table border=\"1\" class=\"dataframe\">\n",
       "  <thead>\n",
       "    <tr style=\"text-align: right;\">\n",
       "      <th></th>\n",
       "      <th>id</th>\n",
       "      <th>mb_used</th>\n",
       "      <th>session_date</th>\n",
       "      <th>user_id</th>\n",
       "      <th>month</th>\n",
       "    </tr>\n",
       "  </thead>\n",
       "  <tbody>\n",
       "    <tr>\n",
       "      <td>0</td>\n",
       "      <td>1000_0</td>\n",
       "      <td>112.95</td>\n",
       "      <td>2018-11-25</td>\n",
       "      <td>1000</td>\n",
       "      <td>11</td>\n",
       "    </tr>\n",
       "    <tr>\n",
       "      <td>1</td>\n",
       "      <td>1000_1</td>\n",
       "      <td>1052.81</td>\n",
       "      <td>2018-09-07</td>\n",
       "      <td>1000</td>\n",
       "      <td>9</td>\n",
       "    </tr>\n",
       "    <tr>\n",
       "      <td>2</td>\n",
       "      <td>1000_2</td>\n",
       "      <td>1197.26</td>\n",
       "      <td>2018-06-25</td>\n",
       "      <td>1000</td>\n",
       "      <td>6</td>\n",
       "    </tr>\n",
       "    <tr>\n",
       "      <td>3</td>\n",
       "      <td>1000_3</td>\n",
       "      <td>550.27</td>\n",
       "      <td>2018-08-22</td>\n",
       "      <td>1000</td>\n",
       "      <td>8</td>\n",
       "    </tr>\n",
       "    <tr>\n",
       "      <td>4</td>\n",
       "      <td>1000_4</td>\n",
       "      <td>302.56</td>\n",
       "      <td>2018-09-24</td>\n",
       "      <td>1000</td>\n",
       "      <td>9</td>\n",
       "    </tr>\n",
       "    <tr>\n",
       "      <td>5</td>\n",
       "      <td>1000_5</td>\n",
       "      <td>399.97</td>\n",
       "      <td>2018-10-02</td>\n",
       "      <td>1000</td>\n",
       "      <td>10</td>\n",
       "    </tr>\n",
       "    <tr>\n",
       "      <td>6</td>\n",
       "      <td>1000_6</td>\n",
       "      <td>540.08</td>\n",
       "      <td>2018-09-07</td>\n",
       "      <td>1000</td>\n",
       "      <td>9</td>\n",
       "    </tr>\n",
       "    <tr>\n",
       "      <td>7</td>\n",
       "      <td>1000_7</td>\n",
       "      <td>415.70</td>\n",
       "      <td>2018-07-11</td>\n",
       "      <td>1000</td>\n",
       "      <td>7</td>\n",
       "    </tr>\n",
       "    <tr>\n",
       "      <td>8</td>\n",
       "      <td>1000_8</td>\n",
       "      <td>505.40</td>\n",
       "      <td>2018-10-08</td>\n",
       "      <td>1000</td>\n",
       "      <td>10</td>\n",
       "    </tr>\n",
       "    <tr>\n",
       "      <td>9</td>\n",
       "      <td>1000_9</td>\n",
       "      <td>345.54</td>\n",
       "      <td>2018-09-03</td>\n",
       "      <td>1000</td>\n",
       "      <td>9</td>\n",
       "    </tr>\n",
       "  </tbody>\n",
       "</table>\n",
       "</div>"
      ],
      "text/plain": [
       "       id  mb_used session_date  user_id  month\n",
       "0  1000_0   112.95   2018-11-25     1000     11\n",
       "1  1000_1  1052.81   2018-09-07     1000      9\n",
       "2  1000_2  1197.26   2018-06-25     1000      6\n",
       "3  1000_3   550.27   2018-08-22     1000      8\n",
       "4  1000_4   302.56   2018-09-24     1000      9\n",
       "5  1000_5   399.97   2018-10-02     1000     10\n",
       "6  1000_6   540.08   2018-09-07     1000      9\n",
       "7  1000_7   415.70   2018-07-11     1000      7\n",
       "8  1000_8   505.40   2018-10-08     1000     10\n",
       "9  1000_9   345.54   2018-09-03     1000      9"
      ]
     },
     "execution_count": 31,
     "metadata": {},
     "output_type": "execute_result"
    }
   ],
   "source": [
    "df_internet.head(10)"
   ]
  },
  {
   "cell_type": "code",
   "execution_count": 32,
   "metadata": {},
   "outputs": [
    {
     "data": {
      "text/html": [
       "<div>\n",
       "<style scoped>\n",
       "    .dataframe tbody tr th:only-of-type {\n",
       "        vertical-align: middle;\n",
       "    }\n",
       "\n",
       "    .dataframe tbody tr th {\n",
       "        vertical-align: top;\n",
       "    }\n",
       "\n",
       "    .dataframe thead th {\n",
       "        text-align: right;\n",
       "    }\n",
       "</style>\n",
       "<table border=\"1\" class=\"dataframe\">\n",
       "  <thead>\n",
       "    <tr style=\"text-align: right;\">\n",
       "      <th></th>\n",
       "      <th></th>\n",
       "      <th>gb_used</th>\n",
       "    </tr>\n",
       "    <tr>\n",
       "      <th>user_id</th>\n",
       "      <th>month</th>\n",
       "      <th></th>\n",
       "    </tr>\n",
       "  </thead>\n",
       "  <tbody>\n",
       "    <tr>\n",
       "      <td rowspan=\"5\" valign=\"top\">1000</td>\n",
       "      <td>5</td>\n",
       "      <td>3</td>\n",
       "    </tr>\n",
       "    <tr>\n",
       "      <td>6</td>\n",
       "      <td>23</td>\n",
       "    </tr>\n",
       "    <tr>\n",
       "      <td>7</td>\n",
       "      <td>14</td>\n",
       "    </tr>\n",
       "    <tr>\n",
       "      <td>8</td>\n",
       "      <td>14</td>\n",
       "    </tr>\n",
       "    <tr>\n",
       "      <td>9</td>\n",
       "      <td>15</td>\n",
       "    </tr>\n",
       "    <tr>\n",
       "      <td>...</td>\n",
       "      <td>...</td>\n",
       "      <td>...</td>\n",
       "    </tr>\n",
       "    <tr>\n",
       "      <td>1498</td>\n",
       "      <td>10</td>\n",
       "      <td>21</td>\n",
       "    </tr>\n",
       "    <tr>\n",
       "      <td rowspan=\"4\" valign=\"top\">1499</td>\n",
       "      <td>9</td>\n",
       "      <td>2</td>\n",
       "    </tr>\n",
       "    <tr>\n",
       "      <td>10</td>\n",
       "      <td>18</td>\n",
       "    </tr>\n",
       "    <tr>\n",
       "      <td>11</td>\n",
       "      <td>18</td>\n",
       "    </tr>\n",
       "    <tr>\n",
       "      <td>12</td>\n",
       "      <td>13</td>\n",
       "    </tr>\n",
       "  </tbody>\n",
       "</table>\n",
       "<p>3203 rows × 1 columns</p>\n",
       "</div>"
      ],
      "text/plain": [
       "               gb_used\n",
       "user_id month         \n",
       "1000    5            3\n",
       "        6           23\n",
       "        7           14\n",
       "        8           14\n",
       "        9           15\n",
       "...                ...\n",
       "1498    10          21\n",
       "1499    9            2\n",
       "        10          18\n",
       "        11          18\n",
       "        12          13\n",
       "\n",
       "[3203 rows x 1 columns]"
      ]
     },
     "execution_count": 32,
     "metadata": {},
     "output_type": "execute_result"
    }
   ],
   "source": [
    "df_internet_pivot = df_internet.pivot_table(index=['user_id', 'month'], values='mb_used', aggfunc='sum', fill_value=0)\n",
    "\n",
    "df_internet_pivot['mb_used'] = df_internet_pivot['mb_used']/1024\n",
    "df_internet_pivot['mb_used'] = df_internet_pivot['mb_used'].apply(math.ceil)\n",
    "df_internet_pivot.rename(columns={'mb_used': 'gb_used'}, inplace=True)\n",
    "\n",
    "df_internet_pivot"
   ]
  },
  {
   "cell_type": "markdown",
   "metadata": {},
   "source": [
    "### Объединение сводных таблиц со всеми данными клиентов по месяцам"
   ]
  },
  {
   "cell_type": "code",
   "execution_count": 33,
   "metadata": {
    "scrolled": true
   },
   "outputs": [
    {
     "data": {
      "text/html": [
       "<div>\n",
       "<style scoped>\n",
       "    .dataframe tbody tr th:only-of-type {\n",
       "        vertical-align: middle;\n",
       "    }\n",
       "\n",
       "    .dataframe tbody tr th {\n",
       "        vertical-align: top;\n",
       "    }\n",
       "\n",
       "    .dataframe thead th {\n",
       "        text-align: right;\n",
       "    }\n",
       "</style>\n",
       "<table border=\"1\" class=\"dataframe\">\n",
       "  <thead>\n",
       "    <tr style=\"text-align: right;\">\n",
       "      <th></th>\n",
       "      <th>user_id</th>\n",
       "      <th>age</th>\n",
       "      <th>churn_date</th>\n",
       "      <th>city</th>\n",
       "      <th>first_name</th>\n",
       "      <th>last_name</th>\n",
       "      <th>reg_date</th>\n",
       "      <th>tariff</th>\n",
       "      <th>month</th>\n",
       "      <th>calls_duration</th>\n",
       "      <th>calls_count</th>\n",
       "      <th>messages_count</th>\n",
       "      <th>gb_used</th>\n",
       "    </tr>\n",
       "  </thead>\n",
       "  <tbody>\n",
       "    <tr>\n",
       "      <td>0</td>\n",
       "      <td>1000</td>\n",
       "      <td>52</td>\n",
       "      <td>NaT</td>\n",
       "      <td>Краснодар</td>\n",
       "      <td>Рафаил</td>\n",
       "      <td>Верещагин</td>\n",
       "      <td>2018-05-25</td>\n",
       "      <td>ultra</td>\n",
       "      <td>5.0</td>\n",
       "      <td>159.0</td>\n",
       "      <td>17.0</td>\n",
       "      <td>22.0</td>\n",
       "      <td>3.0</td>\n",
       "    </tr>\n",
       "    <tr>\n",
       "      <td>1</td>\n",
       "      <td>1000</td>\n",
       "      <td>52</td>\n",
       "      <td>NaT</td>\n",
       "      <td>Краснодар</td>\n",
       "      <td>Рафаил</td>\n",
       "      <td>Верещагин</td>\n",
       "      <td>2018-05-25</td>\n",
       "      <td>ultra</td>\n",
       "      <td>6.0</td>\n",
       "      <td>172.0</td>\n",
       "      <td>28.0</td>\n",
       "      <td>60.0</td>\n",
       "      <td>23.0</td>\n",
       "    </tr>\n",
       "    <tr>\n",
       "      <td>2</td>\n",
       "      <td>1000</td>\n",
       "      <td>52</td>\n",
       "      <td>NaT</td>\n",
       "      <td>Краснодар</td>\n",
       "      <td>Рафаил</td>\n",
       "      <td>Верещагин</td>\n",
       "      <td>2018-05-25</td>\n",
       "      <td>ultra</td>\n",
       "      <td>7.0</td>\n",
       "      <td>340.0</td>\n",
       "      <td>41.0</td>\n",
       "      <td>75.0</td>\n",
       "      <td>14.0</td>\n",
       "    </tr>\n",
       "    <tr>\n",
       "      <td>3</td>\n",
       "      <td>1000</td>\n",
       "      <td>52</td>\n",
       "      <td>NaT</td>\n",
       "      <td>Краснодар</td>\n",
       "      <td>Рафаил</td>\n",
       "      <td>Верещагин</td>\n",
       "      <td>2018-05-25</td>\n",
       "      <td>ultra</td>\n",
       "      <td>8.0</td>\n",
       "      <td>408.0</td>\n",
       "      <td>42.0</td>\n",
       "      <td>81.0</td>\n",
       "      <td>14.0</td>\n",
       "    </tr>\n",
       "    <tr>\n",
       "      <td>4</td>\n",
       "      <td>1000</td>\n",
       "      <td>52</td>\n",
       "      <td>NaT</td>\n",
       "      <td>Краснодар</td>\n",
       "      <td>Рафаил</td>\n",
       "      <td>Верещагин</td>\n",
       "      <td>2018-05-25</td>\n",
       "      <td>ultra</td>\n",
       "      <td>9.0</td>\n",
       "      <td>466.0</td>\n",
       "      <td>46.0</td>\n",
       "      <td>57.0</td>\n",
       "      <td>15.0</td>\n",
       "    </tr>\n",
       "  </tbody>\n",
       "</table>\n",
       "</div>"
      ],
      "text/plain": [
       "   user_id  age churn_date       city first_name  last_name   reg_date tariff  \\\n",
       "0     1000   52        NaT  Краснодар     Рафаил  Верещагин 2018-05-25  ultra   \n",
       "1     1000   52        NaT  Краснодар     Рафаил  Верещагин 2018-05-25  ultra   \n",
       "2     1000   52        NaT  Краснодар     Рафаил  Верещагин 2018-05-25  ultra   \n",
       "3     1000   52        NaT  Краснодар     Рафаил  Верещагин 2018-05-25  ultra   \n",
       "4     1000   52        NaT  Краснодар     Рафаил  Верещагин 2018-05-25  ultra   \n",
       "\n",
       "   month  calls_duration  calls_count  messages_count  gb_used  \n",
       "0    5.0           159.0         17.0            22.0      3.0  \n",
       "1    6.0           172.0         28.0            60.0     23.0  \n",
       "2    7.0           340.0         41.0            75.0     14.0  \n",
       "3    8.0           408.0         42.0            81.0     14.0  \n",
       "4    9.0           466.0         46.0            57.0     15.0  "
      ]
     },
     "execution_count": 33,
     "metadata": {},
     "output_type": "execute_result"
    }
   ],
   "source": [
    "df_tmp = df_calls_pivot.merge(df_messages_pivot, left_on=['user_id', 'month'], right_on=['user_id', 'month'], how='outer').merge(df_internet_pivot, left_on=['user_id', 'month'], right_on=['user_id', 'month'], how='outer')\n",
    "df_tmp.reset_index(inplace=True)\n",
    "df_users_merge = df_users.merge(df_tmp, left_on='user_id', right_on='user_id', how='outer')\n",
    "df_users_merge.head()"
   ]
  },
  {
   "cell_type": "code",
   "execution_count": 34,
   "metadata": {},
   "outputs": [],
   "source": [
    "df_users_merge.loc[:, 'month':'gb_used'] = df_users_merge.loc[:, 'month':'gb_used'].fillna(0)"
   ]
  },
  {
   "cell_type": "code",
   "execution_count": 35,
   "metadata": {},
   "outputs": [
    {
     "data": {
      "text/html": [
       "<div>\n",
       "<style scoped>\n",
       "    .dataframe tbody tr th:only-of-type {\n",
       "        vertical-align: middle;\n",
       "    }\n",
       "\n",
       "    .dataframe tbody tr th {\n",
       "        vertical-align: top;\n",
       "    }\n",
       "\n",
       "    .dataframe thead th {\n",
       "        text-align: right;\n",
       "    }\n",
       "</style>\n",
       "<table border=\"1\" class=\"dataframe\">\n",
       "  <thead>\n",
       "    <tr style=\"text-align: right;\">\n",
       "      <th></th>\n",
       "      <th>count</th>\n",
       "      <th>mean</th>\n",
       "      <th>std</th>\n",
       "      <th>min</th>\n",
       "      <th>25%</th>\n",
       "      <th>50%</th>\n",
       "      <th>75%</th>\n",
       "      <th>max</th>\n",
       "    </tr>\n",
       "  </thead>\n",
       "  <tbody>\n",
       "    <tr>\n",
       "      <td>user_id</td>\n",
       "      <td>3216.0</td>\n",
       "      <td>1251.588930</td>\n",
       "      <td>144.645928</td>\n",
       "      <td>1000.0</td>\n",
       "      <td>1125.0</td>\n",
       "      <td>1253.0</td>\n",
       "      <td>1378.25</td>\n",
       "      <td>1499.0</td>\n",
       "    </tr>\n",
       "    <tr>\n",
       "      <td>age</td>\n",
       "      <td>3216.0</td>\n",
       "      <td>46.643968</td>\n",
       "      <td>16.581233</td>\n",
       "      <td>18.0</td>\n",
       "      <td>32.0</td>\n",
       "      <td>46.0</td>\n",
       "      <td>62.00</td>\n",
       "      <td>75.0</td>\n",
       "    </tr>\n",
       "    <tr>\n",
       "      <td>month</td>\n",
       "      <td>3216.0</td>\n",
       "      <td>8.312189</td>\n",
       "      <td>2.911903</td>\n",
       "      <td>0.0</td>\n",
       "      <td>6.0</td>\n",
       "      <td>9.0</td>\n",
       "      <td>11.00</td>\n",
       "      <td>12.0</td>\n",
       "    </tr>\n",
       "    <tr>\n",
       "      <td>calls_duration</td>\n",
       "      <td>3216.0</td>\n",
       "      <td>450.964241</td>\n",
       "      <td>242.096312</td>\n",
       "      <td>0.0</td>\n",
       "      <td>282.0</td>\n",
       "      <td>443.0</td>\n",
       "      <td>589.00</td>\n",
       "      <td>1673.0</td>\n",
       "    </tr>\n",
       "    <tr>\n",
       "      <td>calls_count</td>\n",
       "      <td>3216.0</td>\n",
       "      <td>50.682214</td>\n",
       "      <td>26.972685</td>\n",
       "      <td>0.0</td>\n",
       "      <td>32.0</td>\n",
       "      <td>50.0</td>\n",
       "      <td>66.00</td>\n",
       "      <td>190.0</td>\n",
       "    </tr>\n",
       "    <tr>\n",
       "      <td>messages_count</td>\n",
       "      <td>3216.0</td>\n",
       "      <td>38.257463</td>\n",
       "      <td>36.149684</td>\n",
       "      <td>0.0</td>\n",
       "      <td>9.0</td>\n",
       "      <td>30.0</td>\n",
       "      <td>57.00</td>\n",
       "      <td>224.0</td>\n",
       "    </tr>\n",
       "    <tr>\n",
       "      <td>gb_used</td>\n",
       "      <td>3216.0</td>\n",
       "      <td>17.288246</td>\n",
       "      <td>7.410845</td>\n",
       "      <td>0.0</td>\n",
       "      <td>13.0</td>\n",
       "      <td>17.0</td>\n",
       "      <td>21.00</td>\n",
       "      <td>49.0</td>\n",
       "    </tr>\n",
       "  </tbody>\n",
       "</table>\n",
       "</div>"
      ],
      "text/plain": [
       "                 count         mean         std     min     25%     50%  \\\n",
       "user_id         3216.0  1251.588930  144.645928  1000.0  1125.0  1253.0   \n",
       "age             3216.0    46.643968   16.581233    18.0    32.0    46.0   \n",
       "month           3216.0     8.312189    2.911903     0.0     6.0     9.0   \n",
       "calls_duration  3216.0   450.964241  242.096312     0.0   282.0   443.0   \n",
       "calls_count     3216.0    50.682214   26.972685     0.0    32.0    50.0   \n",
       "messages_count  3216.0    38.257463   36.149684     0.0     9.0    30.0   \n",
       "gb_used         3216.0    17.288246    7.410845     0.0    13.0    17.0   \n",
       "\n",
       "                    75%     max  \n",
       "user_id         1378.25  1499.0  \n",
       "age               62.00    75.0  \n",
       "month             11.00    12.0  \n",
       "calls_duration   589.00  1673.0  \n",
       "calls_count       66.00   190.0  \n",
       "messages_count    57.00   224.0  \n",
       "gb_used           21.00    49.0  "
      ]
     },
     "execution_count": 35,
     "metadata": {},
     "output_type": "execute_result"
    }
   ],
   "source": [
    "df_users_merge.describe().T"
   ]
  },
  {
   "cell_type": "code",
   "execution_count": 36,
   "metadata": {},
   "outputs": [],
   "source": [
    "df_users_merge = df_users_merge.astype({'month': 'int8',\n",
    "                                        'calls_duration': 'int16',\n",
    "                                        'calls_count': 'int16',\n",
    "                                        'messages_count': 'int16',\n",
    "                                        'gb_used': 'int16',\n",
    "                                       })"
   ]
  },
  {
   "cell_type": "code",
   "execution_count": 37,
   "metadata": {},
   "outputs": [
    {
     "name": "stdout",
     "output_type": "stream",
     "text": [
      "<class 'pandas.core.frame.DataFrame'>\n",
      "Int64Index: 3216 entries, 0 to 3215\n",
      "Data columns (total 13 columns):\n",
      "user_id           3216 non-null int16\n",
      "age               3216 non-null int8\n",
      "churn_date        189 non-null datetime64[ns]\n",
      "city              3216 non-null object\n",
      "first_name        3216 non-null object\n",
      "last_name         3216 non-null object\n",
      "reg_date          3216 non-null datetime64[ns]\n",
      "tariff            3216 non-null object\n",
      "month             3216 non-null int8\n",
      "calls_duration    3216 non-null int16\n",
      "calls_count       3216 non-null int16\n",
      "messages_count    3216 non-null int16\n",
      "gb_used           3216 non-null int16\n",
      "dtypes: datetime64[ns](2), int16(5), int8(2), object(4)\n",
      "memory usage: 213.6+ KB\n"
     ]
    }
   ],
   "source": [
    "df_users_merge.info()"
   ]
  },
  {
   "cell_type": "markdown",
   "metadata": {},
   "source": [
    "### Помесячная выручка с каждого пользователя"
   ]
  },
  {
   "cell_type": "code",
   "execution_count": 38,
   "metadata": {},
   "outputs": [],
   "source": [
    "def calc_profit(row):\n",
    "    tariff = row['tariff']\n",
    "    rub_monthly_fee = df_tariffs[df_tariffs['tariff_name'] == tariff]['rub_monthly_fee'].values[0]\n",
    "    messages_included = df_tariffs[df_tariffs['tariff_name'] == tariff]['messages_included'].values[0]\n",
    "    gb_per_month_included = df_tariffs[df_tariffs['tariff_name'] == tariff]['gb_per_month_included'].values[0]\n",
    "    minutes_included = df_tariffs[df_tariffs['tariff_name'] == tariff]['minutes_included'].values[0]\n",
    "    rub_per_gb = df_tariffs[df_tariffs['tariff_name'] == tariff]['rub_per_gb'].values[0]\n",
    "    rub_per_message = df_tariffs[df_tariffs['tariff_name'] == tariff]['rub_per_message'].values[0]\n",
    "    rub_per_minute = df_tariffs[df_tariffs['tariff_name'] == tariff]['rub_per_minute'].values[0]\n",
    "    \n",
    "    value = 0\n",
    "    \n",
    "    value += rub_monthly_fee\n",
    "    if (row['calls_duration'] > minutes_included):\n",
    "        value += (row['calls_duration'] - minutes_included) * rub_per_minute\n",
    "    if (row['messages_count'] > messages_included):\n",
    "        value += (row['messages_count'] - messages_included) * rub_per_message\n",
    "    if (row['gb_used'] > gb_per_month_included):\n",
    "        value += (row['gb_used'] - gb_per_month_included) * rub_per_gb\n",
    "        \n",
    "    return value"
   ]
  },
  {
   "cell_type": "code",
   "execution_count": 39,
   "metadata": {},
   "outputs": [],
   "source": [
    "df_users_merge['profit'] = df_users_merge.apply(calc_profit, axis=1)"
   ]
  },
  {
   "cell_type": "code",
   "execution_count": 40,
   "metadata": {
    "scrolled": true
   },
   "outputs": [
    {
     "data": {
      "text/html": [
       "<div>\n",
       "<style scoped>\n",
       "    .dataframe tbody tr th:only-of-type {\n",
       "        vertical-align: middle;\n",
       "    }\n",
       "\n",
       "    .dataframe tbody tr th {\n",
       "        vertical-align: top;\n",
       "    }\n",
       "\n",
       "    .dataframe thead th {\n",
       "        text-align: right;\n",
       "    }\n",
       "</style>\n",
       "<table border=\"1\" class=\"dataframe\">\n",
       "  <thead>\n",
       "    <tr style=\"text-align: right;\">\n",
       "      <th></th>\n",
       "      <th>user_id</th>\n",
       "      <th>age</th>\n",
       "      <th>churn_date</th>\n",
       "      <th>city</th>\n",
       "      <th>first_name</th>\n",
       "      <th>last_name</th>\n",
       "      <th>reg_date</th>\n",
       "      <th>tariff</th>\n",
       "      <th>month</th>\n",
       "      <th>calls_duration</th>\n",
       "      <th>calls_count</th>\n",
       "      <th>messages_count</th>\n",
       "      <th>gb_used</th>\n",
       "      <th>profit</th>\n",
       "    </tr>\n",
       "  </thead>\n",
       "  <tbody>\n",
       "    <tr>\n",
       "      <td>0</td>\n",
       "      <td>1000</td>\n",
       "      <td>52</td>\n",
       "      <td>NaT</td>\n",
       "      <td>Краснодар</td>\n",
       "      <td>Рафаил</td>\n",
       "      <td>Верещагин</td>\n",
       "      <td>2018-05-25</td>\n",
       "      <td>ultra</td>\n",
       "      <td>5</td>\n",
       "      <td>159</td>\n",
       "      <td>17</td>\n",
       "      <td>22</td>\n",
       "      <td>3</td>\n",
       "      <td>1950</td>\n",
       "    </tr>\n",
       "    <tr>\n",
       "      <td>1</td>\n",
       "      <td>1000</td>\n",
       "      <td>52</td>\n",
       "      <td>NaT</td>\n",
       "      <td>Краснодар</td>\n",
       "      <td>Рафаил</td>\n",
       "      <td>Верещагин</td>\n",
       "      <td>2018-05-25</td>\n",
       "      <td>ultra</td>\n",
       "      <td>6</td>\n",
       "      <td>172</td>\n",
       "      <td>28</td>\n",
       "      <td>60</td>\n",
       "      <td>23</td>\n",
       "      <td>1950</td>\n",
       "    </tr>\n",
       "    <tr>\n",
       "      <td>2</td>\n",
       "      <td>1000</td>\n",
       "      <td>52</td>\n",
       "      <td>NaT</td>\n",
       "      <td>Краснодар</td>\n",
       "      <td>Рафаил</td>\n",
       "      <td>Верещагин</td>\n",
       "      <td>2018-05-25</td>\n",
       "      <td>ultra</td>\n",
       "      <td>7</td>\n",
       "      <td>340</td>\n",
       "      <td>41</td>\n",
       "      <td>75</td>\n",
       "      <td>14</td>\n",
       "      <td>1950</td>\n",
       "    </tr>\n",
       "    <tr>\n",
       "      <td>3</td>\n",
       "      <td>1000</td>\n",
       "      <td>52</td>\n",
       "      <td>NaT</td>\n",
       "      <td>Краснодар</td>\n",
       "      <td>Рафаил</td>\n",
       "      <td>Верещагин</td>\n",
       "      <td>2018-05-25</td>\n",
       "      <td>ultra</td>\n",
       "      <td>8</td>\n",
       "      <td>408</td>\n",
       "      <td>42</td>\n",
       "      <td>81</td>\n",
       "      <td>14</td>\n",
       "      <td>1950</td>\n",
       "    </tr>\n",
       "    <tr>\n",
       "      <td>4</td>\n",
       "      <td>1000</td>\n",
       "      <td>52</td>\n",
       "      <td>NaT</td>\n",
       "      <td>Краснодар</td>\n",
       "      <td>Рафаил</td>\n",
       "      <td>Верещагин</td>\n",
       "      <td>2018-05-25</td>\n",
       "      <td>ultra</td>\n",
       "      <td>9</td>\n",
       "      <td>466</td>\n",
       "      <td>46</td>\n",
       "      <td>57</td>\n",
       "      <td>15</td>\n",
       "      <td>1950</td>\n",
       "    </tr>\n",
       "  </tbody>\n",
       "</table>\n",
       "</div>"
      ],
      "text/plain": [
       "   user_id  age churn_date       city first_name  last_name   reg_date tariff  \\\n",
       "0     1000   52        NaT  Краснодар     Рафаил  Верещагин 2018-05-25  ultra   \n",
       "1     1000   52        NaT  Краснодар     Рафаил  Верещагин 2018-05-25  ultra   \n",
       "2     1000   52        NaT  Краснодар     Рафаил  Верещагин 2018-05-25  ultra   \n",
       "3     1000   52        NaT  Краснодар     Рафаил  Верещагин 2018-05-25  ultra   \n",
       "4     1000   52        NaT  Краснодар     Рафаил  Верещагин 2018-05-25  ultra   \n",
       "\n",
       "   month  calls_duration  calls_count  messages_count  gb_used  profit  \n",
       "0      5             159           17              22        3    1950  \n",
       "1      6             172           28              60       23    1950  \n",
       "2      7             340           41              75       14    1950  \n",
       "3      8             408           42              81       14    1950  \n",
       "4      9             466           46              57       15    1950  "
      ]
     },
     "execution_count": 40,
     "metadata": {},
     "output_type": "execute_result"
    }
   ],
   "source": [
    "df_users_merge.head()"
   ]
  },
  {
   "cell_type": "code",
   "execution_count": 41,
   "metadata": {},
   "outputs": [
    {
     "data": {
      "text/html": [
       "<div>\n",
       "<style scoped>\n",
       "    .dataframe tbody tr th:only-of-type {\n",
       "        vertical-align: middle;\n",
       "    }\n",
       "\n",
       "    .dataframe tbody tr th {\n",
       "        vertical-align: top;\n",
       "    }\n",
       "\n",
       "    .dataframe thead th {\n",
       "        text-align: right;\n",
       "    }\n",
       "</style>\n",
       "<table border=\"1\" class=\"dataframe\">\n",
       "  <thead>\n",
       "    <tr style=\"text-align: right;\">\n",
       "      <th></th>\n",
       "      <th>count</th>\n",
       "      <th>mean</th>\n",
       "      <th>std</th>\n",
       "      <th>min</th>\n",
       "      <th>25%</th>\n",
       "      <th>50%</th>\n",
       "      <th>75%</th>\n",
       "      <th>max</th>\n",
       "    </tr>\n",
       "  </thead>\n",
       "  <tbody>\n",
       "    <tr>\n",
       "      <td>user_id</td>\n",
       "      <td>3216.0</td>\n",
       "      <td>1251.588930</td>\n",
       "      <td>144.645928</td>\n",
       "      <td>1000.0</td>\n",
       "      <td>1125.0</td>\n",
       "      <td>1253.0</td>\n",
       "      <td>1378.25</td>\n",
       "      <td>1499.0</td>\n",
       "    </tr>\n",
       "    <tr>\n",
       "      <td>age</td>\n",
       "      <td>3216.0</td>\n",
       "      <td>46.643968</td>\n",
       "      <td>16.581233</td>\n",
       "      <td>18.0</td>\n",
       "      <td>32.0</td>\n",
       "      <td>46.0</td>\n",
       "      <td>62.00</td>\n",
       "      <td>75.0</td>\n",
       "    </tr>\n",
       "    <tr>\n",
       "      <td>month</td>\n",
       "      <td>3216.0</td>\n",
       "      <td>8.312189</td>\n",
       "      <td>2.911903</td>\n",
       "      <td>0.0</td>\n",
       "      <td>6.0</td>\n",
       "      <td>9.0</td>\n",
       "      <td>11.00</td>\n",
       "      <td>12.0</td>\n",
       "    </tr>\n",
       "    <tr>\n",
       "      <td>calls_duration</td>\n",
       "      <td>3216.0</td>\n",
       "      <td>450.964241</td>\n",
       "      <td>242.096312</td>\n",
       "      <td>0.0</td>\n",
       "      <td>282.0</td>\n",
       "      <td>443.0</td>\n",
       "      <td>589.00</td>\n",
       "      <td>1673.0</td>\n",
       "    </tr>\n",
       "    <tr>\n",
       "      <td>calls_count</td>\n",
       "      <td>3216.0</td>\n",
       "      <td>50.682214</td>\n",
       "      <td>26.972685</td>\n",
       "      <td>0.0</td>\n",
       "      <td>32.0</td>\n",
       "      <td>50.0</td>\n",
       "      <td>66.00</td>\n",
       "      <td>190.0</td>\n",
       "    </tr>\n",
       "    <tr>\n",
       "      <td>messages_count</td>\n",
       "      <td>3216.0</td>\n",
       "      <td>38.257463</td>\n",
       "      <td>36.149684</td>\n",
       "      <td>0.0</td>\n",
       "      <td>9.0</td>\n",
       "      <td>30.0</td>\n",
       "      <td>57.00</td>\n",
       "      <td>224.0</td>\n",
       "    </tr>\n",
       "    <tr>\n",
       "      <td>gb_used</td>\n",
       "      <td>3216.0</td>\n",
       "      <td>17.288246</td>\n",
       "      <td>7.410845</td>\n",
       "      <td>0.0</td>\n",
       "      <td>13.0</td>\n",
       "      <td>17.0</td>\n",
       "      <td>21.00</td>\n",
       "      <td>49.0</td>\n",
       "    </tr>\n",
       "    <tr>\n",
       "      <td>profit</td>\n",
       "      <td>3216.0</td>\n",
       "      <td>1528.902674</td>\n",
       "      <td>798.224060</td>\n",
       "      <td>550.0</td>\n",
       "      <td>750.0</td>\n",
       "      <td>1653.5</td>\n",
       "      <td>1950.00</td>\n",
       "      <td>6770.0</td>\n",
       "    </tr>\n",
       "  </tbody>\n",
       "</table>\n",
       "</div>"
      ],
      "text/plain": [
       "                 count         mean         std     min     25%     50%  \\\n",
       "user_id         3216.0  1251.588930  144.645928  1000.0  1125.0  1253.0   \n",
       "age             3216.0    46.643968   16.581233    18.0    32.0    46.0   \n",
       "month           3216.0     8.312189    2.911903     0.0     6.0     9.0   \n",
       "calls_duration  3216.0   450.964241  242.096312     0.0   282.0   443.0   \n",
       "calls_count     3216.0    50.682214   26.972685     0.0    32.0    50.0   \n",
       "messages_count  3216.0    38.257463   36.149684     0.0     9.0    30.0   \n",
       "gb_used         3216.0    17.288246    7.410845     0.0    13.0    17.0   \n",
       "profit          3216.0  1528.902674  798.224060   550.0   750.0  1653.5   \n",
       "\n",
       "                    75%     max  \n",
       "user_id         1378.25  1499.0  \n",
       "age               62.00    75.0  \n",
       "month             11.00    12.0  \n",
       "calls_duration   589.00  1673.0  \n",
       "calls_count       66.00   190.0  \n",
       "messages_count    57.00   224.0  \n",
       "gb_used           21.00    49.0  \n",
       "profit          1950.00  6770.0  "
      ]
     },
     "execution_count": 41,
     "metadata": {},
     "output_type": "execute_result"
    }
   ],
   "source": [
    "df_users_merge.describe().T"
   ]
  },
  {
   "cell_type": "markdown",
   "metadata": {},
   "source": [
    "### Вывод"
   ]
  },
  {
   "cell_type": "markdown",
   "metadata": {},
   "source": [
    "    Был проведен расчет всех параметров пользователей для всех активных месяцев (мин/смс/гб). \n",
    "    Был проделан расчет всех расходов пользоавтелей исходя из тарифного плана.\n",
    "    Все полученные данные были сведены в одну таблицу для далнейшей работы с ней."
   ]
  },
  {
   "cell_type": "markdown",
   "metadata": {},
   "source": [
    "## Анализ данных"
   ]
  },
  {
   "cell_type": "code",
   "execution_count": 42,
   "metadata": {},
   "outputs": [
    {
     "data": {
      "text/html": [
       "<div>\n",
       "<style scoped>\n",
       "    .dataframe tbody tr th:only-of-type {\n",
       "        vertical-align: middle;\n",
       "    }\n",
       "\n",
       "    .dataframe tbody tr th {\n",
       "        vertical-align: top;\n",
       "    }\n",
       "\n",
       "    .dataframe thead th {\n",
       "        text-align: right;\n",
       "    }\n",
       "</style>\n",
       "<table border=\"1\" class=\"dataframe\">\n",
       "  <thead>\n",
       "    <tr style=\"text-align: right;\">\n",
       "      <th></th>\n",
       "      <th>user_id</th>\n",
       "      <th>age</th>\n",
       "      <th>churn_date</th>\n",
       "      <th>city</th>\n",
       "      <th>first_name</th>\n",
       "      <th>last_name</th>\n",
       "      <th>reg_date</th>\n",
       "      <th>tariff</th>\n",
       "      <th>month</th>\n",
       "      <th>calls_duration</th>\n",
       "      <th>calls_count</th>\n",
       "      <th>messages_count</th>\n",
       "      <th>gb_used</th>\n",
       "      <th>profit</th>\n",
       "    </tr>\n",
       "  </thead>\n",
       "  <tbody>\n",
       "    <tr>\n",
       "      <td>2199</td>\n",
       "      <td>1346</td>\n",
       "      <td>69</td>\n",
       "      <td>NaT</td>\n",
       "      <td>Саратов</td>\n",
       "      <td>Адам</td>\n",
       "      <td>Антропов</td>\n",
       "      <td>2018-07-03</td>\n",
       "      <td>ultra</td>\n",
       "      <td>9</td>\n",
       "      <td>982</td>\n",
       "      <td>114</td>\n",
       "      <td>56</td>\n",
       "      <td>3</td>\n",
       "      <td>1950</td>\n",
       "    </tr>\n",
       "    <tr>\n",
       "      <td>1612</td>\n",
       "      <td>1254</td>\n",
       "      <td>75</td>\n",
       "      <td>2018-08-17</td>\n",
       "      <td>Москва</td>\n",
       "      <td>Александра</td>\n",
       "      <td>Сухарева</td>\n",
       "      <td>2018-01-04</td>\n",
       "      <td>ultra</td>\n",
       "      <td>3</td>\n",
       "      <td>504</td>\n",
       "      <td>56</td>\n",
       "      <td>0</td>\n",
       "      <td>29</td>\n",
       "      <td>1950</td>\n",
       "    </tr>\n",
       "    <tr>\n",
       "      <td>2220</td>\n",
       "      <td>1352</td>\n",
       "      <td>53</td>\n",
       "      <td>NaT</td>\n",
       "      <td>Рязань</td>\n",
       "      <td>Кристина</td>\n",
       "      <td>Румянцева</td>\n",
       "      <td>2018-04-17</td>\n",
       "      <td>ultra</td>\n",
       "      <td>8</td>\n",
       "      <td>796</td>\n",
       "      <td>94</td>\n",
       "      <td>14</td>\n",
       "      <td>16</td>\n",
       "      <td>1950</td>\n",
       "    </tr>\n",
       "    <tr>\n",
       "      <td>146</td>\n",
       "      <td>1021</td>\n",
       "      <td>61</td>\n",
       "      <td>NaT</td>\n",
       "      <td>Краснодар</td>\n",
       "      <td>Святослав</td>\n",
       "      <td>Тихонов</td>\n",
       "      <td>2018-04-26</td>\n",
       "      <td>ultra</td>\n",
       "      <td>5</td>\n",
       "      <td>989</td>\n",
       "      <td>111</td>\n",
       "      <td>101</td>\n",
       "      <td>16</td>\n",
       "      <td>1950</td>\n",
       "    </tr>\n",
       "    <tr>\n",
       "      <td>1143</td>\n",
       "      <td>1178</td>\n",
       "      <td>56</td>\n",
       "      <td>NaT</td>\n",
       "      <td>Москва</td>\n",
       "      <td>Наталья</td>\n",
       "      <td>Жарова</td>\n",
       "      <td>2018-05-15</td>\n",
       "      <td>smart</td>\n",
       "      <td>8</td>\n",
       "      <td>404</td>\n",
       "      <td>44</td>\n",
       "      <td>30</td>\n",
       "      <td>18</td>\n",
       "      <td>1150</td>\n",
       "    </tr>\n",
       "  </tbody>\n",
       "</table>\n",
       "</div>"
      ],
      "text/plain": [
       "      user_id  age churn_date       city  first_name  last_name   reg_date  \\\n",
       "2199     1346   69        NaT    Саратов        Адам   Антропов 2018-07-03   \n",
       "1612     1254   75 2018-08-17     Москва  Александра   Сухарева 2018-01-04   \n",
       "2220     1352   53        NaT     Рязань    Кристина  Румянцева 2018-04-17   \n",
       "146      1021   61        NaT  Краснодар   Святослав    Тихонов 2018-04-26   \n",
       "1143     1178   56        NaT     Москва     Наталья     Жарова 2018-05-15   \n",
       "\n",
       "     tariff  month  calls_duration  calls_count  messages_count  gb_used  \\\n",
       "2199  ultra      9             982          114              56        3   \n",
       "1612  ultra      3             504           56               0       29   \n",
       "2220  ultra      8             796           94              14       16   \n",
       "146   ultra      5             989          111             101       16   \n",
       "1143  smart      8             404           44              30       18   \n",
       "\n",
       "      profit  \n",
       "2199    1950  \n",
       "1612    1950  \n",
       "2220    1950  \n",
       "146     1950  \n",
       "1143    1150  "
      ]
     },
     "execution_count": 42,
     "metadata": {},
     "output_type": "execute_result"
    }
   ],
   "source": [
    "df_users_merge.sample(5)"
   ]
  },
  {
   "cell_type": "code",
   "execution_count": 43,
   "metadata": {},
   "outputs": [
    {
     "data": {
      "text/html": [
       "<div>\n",
       "<style scoped>\n",
       "    .dataframe tbody tr th:only-of-type {\n",
       "        vertical-align: middle;\n",
       "    }\n",
       "\n",
       "    .dataframe tbody tr th {\n",
       "        vertical-align: top;\n",
       "    }\n",
       "\n",
       "    .dataframe thead th {\n",
       "        text-align: right;\n",
       "    }\n",
       "</style>\n",
       "<table border=\"1\" class=\"dataframe\">\n",
       "  <thead>\n",
       "    <tr style=\"text-align: right;\">\n",
       "      <th></th>\n",
       "      <th>user_id</th>\n",
       "      <th>age</th>\n",
       "      <th>churn_date</th>\n",
       "      <th>city</th>\n",
       "      <th>first_name</th>\n",
       "      <th>last_name</th>\n",
       "      <th>reg_date</th>\n",
       "      <th>tariff</th>\n",
       "      <th>month</th>\n",
       "      <th>calls_duration</th>\n",
       "      <th>calls_count</th>\n",
       "      <th>messages_count</th>\n",
       "      <th>gb_used</th>\n",
       "      <th>profit</th>\n",
       "    </tr>\n",
       "  </thead>\n",
       "  <tbody>\n",
       "    <tr>\n",
       "      <td>67</td>\n",
       "      <td>1009</td>\n",
       "      <td>24</td>\n",
       "      <td>NaT</td>\n",
       "      <td>Пермь</td>\n",
       "      <td>Василиса</td>\n",
       "      <td>Блинова</td>\n",
       "      <td>2018-03-22</td>\n",
       "      <td>smart</td>\n",
       "      <td>7</td>\n",
       "      <td>183</td>\n",
       "      <td>20</td>\n",
       "      <td>14</td>\n",
       "      <td>25</td>\n",
       "      <td>2550</td>\n",
       "    </tr>\n",
       "    <tr>\n",
       "      <td>86</td>\n",
       "      <td>1011</td>\n",
       "      <td>44</td>\n",
       "      <td>NaT</td>\n",
       "      <td>Самара</td>\n",
       "      <td>Веселина</td>\n",
       "      <td>Алёшко</td>\n",
       "      <td>2018-03-19</td>\n",
       "      <td>smart</td>\n",
       "      <td>11</td>\n",
       "      <td>501</td>\n",
       "      <td>52</td>\n",
       "      <td>12</td>\n",
       "      <td>25</td>\n",
       "      <td>2553</td>\n",
       "    </tr>\n",
       "    <tr>\n",
       "      <td>90</td>\n",
       "      <td>1012</td>\n",
       "      <td>38</td>\n",
       "      <td>NaT</td>\n",
       "      <td>Санкт-Петербург</td>\n",
       "      <td>Варлам</td>\n",
       "      <td>Соловьев</td>\n",
       "      <td>2018-03-28</td>\n",
       "      <td>smart</td>\n",
       "      <td>5</td>\n",
       "      <td>316</td>\n",
       "      <td>35</td>\n",
       "      <td>10</td>\n",
       "      <td>26</td>\n",
       "      <td>2750</td>\n",
       "    </tr>\n",
       "    <tr>\n",
       "      <td>91</td>\n",
       "      <td>1012</td>\n",
       "      <td>38</td>\n",
       "      <td>NaT</td>\n",
       "      <td>Санкт-Петербург</td>\n",
       "      <td>Варлам</td>\n",
       "      <td>Соловьев</td>\n",
       "      <td>2018-03-28</td>\n",
       "      <td>smart</td>\n",
       "      <td>6</td>\n",
       "      <td>219</td>\n",
       "      <td>23</td>\n",
       "      <td>15</td>\n",
       "      <td>25</td>\n",
       "      <td>2550</td>\n",
       "    </tr>\n",
       "    <tr>\n",
       "      <td>95</td>\n",
       "      <td>1012</td>\n",
       "      <td>38</td>\n",
       "      <td>NaT</td>\n",
       "      <td>Санкт-Петербург</td>\n",
       "      <td>Варлам</td>\n",
       "      <td>Соловьев</td>\n",
       "      <td>2018-03-28</td>\n",
       "      <td>smart</td>\n",
       "      <td>10</td>\n",
       "      <td>451</td>\n",
       "      <td>43</td>\n",
       "      <td>13</td>\n",
       "      <td>29</td>\n",
       "      <td>3350</td>\n",
       "    </tr>\n",
       "    <tr>\n",
       "      <td>...</td>\n",
       "      <td>...</td>\n",
       "      <td>...</td>\n",
       "      <td>...</td>\n",
       "      <td>...</td>\n",
       "      <td>...</td>\n",
       "      <td>...</td>\n",
       "      <td>...</td>\n",
       "      <td>...</td>\n",
       "      <td>...</td>\n",
       "      <td>...</td>\n",
       "      <td>...</td>\n",
       "      <td>...</td>\n",
       "      <td>...</td>\n",
       "      <td>...</td>\n",
       "    </tr>\n",
       "    <tr>\n",
       "      <td>3195</td>\n",
       "      <td>1496</td>\n",
       "      <td>36</td>\n",
       "      <td>NaT</td>\n",
       "      <td>Вологда</td>\n",
       "      <td>Трифон</td>\n",
       "      <td>Блохин</td>\n",
       "      <td>2018-01-27</td>\n",
       "      <td>smart</td>\n",
       "      <td>3</td>\n",
       "      <td>557</td>\n",
       "      <td>67</td>\n",
       "      <td>46</td>\n",
       "      <td>25</td>\n",
       "      <td>2721</td>\n",
       "    </tr>\n",
       "    <tr>\n",
       "      <td>3199</td>\n",
       "      <td>1496</td>\n",
       "      <td>36</td>\n",
       "      <td>NaT</td>\n",
       "      <td>Вологда</td>\n",
       "      <td>Трифон</td>\n",
       "      <td>Блохин</td>\n",
       "      <td>2018-01-27</td>\n",
       "      <td>smart</td>\n",
       "      <td>7</td>\n",
       "      <td>582</td>\n",
       "      <td>63</td>\n",
       "      <td>42</td>\n",
       "      <td>24</td>\n",
       "      <td>2596</td>\n",
       "    </tr>\n",
       "    <tr>\n",
       "      <td>3201</td>\n",
       "      <td>1496</td>\n",
       "      <td>36</td>\n",
       "      <td>NaT</td>\n",
       "      <td>Вологда</td>\n",
       "      <td>Трифон</td>\n",
       "      <td>Блохин</td>\n",
       "      <td>2018-01-27</td>\n",
       "      <td>smart</td>\n",
       "      <td>9</td>\n",
       "      <td>486</td>\n",
       "      <td>58</td>\n",
       "      <td>29</td>\n",
       "      <td>27</td>\n",
       "      <td>2950</td>\n",
       "    </tr>\n",
       "    <tr>\n",
       "      <td>3202</td>\n",
       "      <td>1496</td>\n",
       "      <td>36</td>\n",
       "      <td>NaT</td>\n",
       "      <td>Вологда</td>\n",
       "      <td>Трифон</td>\n",
       "      <td>Блохин</td>\n",
       "      <td>2018-01-27</td>\n",
       "      <td>smart</td>\n",
       "      <td>10</td>\n",
       "      <td>450</td>\n",
       "      <td>56</td>\n",
       "      <td>35</td>\n",
       "      <td>28</td>\n",
       "      <td>3150</td>\n",
       "    </tr>\n",
       "    <tr>\n",
       "      <td>3203</td>\n",
       "      <td>1496</td>\n",
       "      <td>36</td>\n",
       "      <td>NaT</td>\n",
       "      <td>Вологда</td>\n",
       "      <td>Трифон</td>\n",
       "      <td>Блохин</td>\n",
       "      <td>2018-01-27</td>\n",
       "      <td>smart</td>\n",
       "      <td>11</td>\n",
       "      <td>662</td>\n",
       "      <td>66</td>\n",
       "      <td>46</td>\n",
       "      <td>25</td>\n",
       "      <td>3036</td>\n",
       "    </tr>\n",
       "  </tbody>\n",
       "</table>\n",
       "<p>223 rows × 14 columns</p>\n",
       "</div>"
      ],
      "text/plain": [
       "      user_id  age churn_date             city first_name last_name  \\\n",
       "67       1009   24        NaT            Пермь   Василиса   Блинова   \n",
       "86       1011   44        NaT           Самара   Веселина    Алёшко   \n",
       "90       1012   38        NaT  Санкт-Петербург     Варлам  Соловьев   \n",
       "91       1012   38        NaT  Санкт-Петербург     Варлам  Соловьев   \n",
       "95       1012   38        NaT  Санкт-Петербург     Варлам  Соловьев   \n",
       "...       ...  ...        ...              ...        ...       ...   \n",
       "3195     1496   36        NaT          Вологда     Трифон    Блохин   \n",
       "3199     1496   36        NaT          Вологда     Трифон    Блохин   \n",
       "3201     1496   36        NaT          Вологда     Трифон    Блохин   \n",
       "3202     1496   36        NaT          Вологда     Трифон    Блохин   \n",
       "3203     1496   36        NaT          Вологда     Трифон    Блохин   \n",
       "\n",
       "       reg_date tariff  month  calls_duration  calls_count  messages_count  \\\n",
       "67   2018-03-22  smart      7             183           20              14   \n",
       "86   2018-03-19  smart     11             501           52              12   \n",
       "90   2018-03-28  smart      5             316           35              10   \n",
       "91   2018-03-28  smart      6             219           23              15   \n",
       "95   2018-03-28  smart     10             451           43              13   \n",
       "...         ...    ...    ...             ...          ...             ...   \n",
       "3195 2018-01-27  smart      3             557           67              46   \n",
       "3199 2018-01-27  smart      7             582           63              42   \n",
       "3201 2018-01-27  smart      9             486           58              29   \n",
       "3202 2018-01-27  smart     10             450           56              35   \n",
       "3203 2018-01-27  smart     11             662           66              46   \n",
       "\n",
       "      gb_used  profit  \n",
       "67         25    2550  \n",
       "86         25    2553  \n",
       "90         26    2750  \n",
       "91         25    2550  \n",
       "95         29    3350  \n",
       "...       ...     ...  \n",
       "3195       25    2721  \n",
       "3199       24    2596  \n",
       "3201       27    2950  \n",
       "3202       28    3150  \n",
       "3203       25    3036  \n",
       "\n",
       "[223 rows x 14 columns]"
      ]
     },
     "execution_count": 43,
     "metadata": {},
     "output_type": "execute_result"
    }
   ],
   "source": [
    "df_users_merge[(df_users_merge['tariff'] == 'smart') & (df_users_merge['profit'] > df_users_merge[df_users_merge['tariff'] == 'smart']['profit'].quantile(q=0.9))]"
   ]
  },
  {
   "cell_type": "markdown",
   "metadata": {},
   "source": [
    "Удаляем \"нулевые\" месяцы. Месяцы пронумерованы от 1 до 12."
   ]
  },
  {
   "cell_type": "code",
   "execution_count": 44,
   "metadata": {},
   "outputs": [
    {
     "data": {
      "text/html": [
       "<div>\n",
       "<style scoped>\n",
       "    .dataframe tbody tr th:only-of-type {\n",
       "        vertical-align: middle;\n",
       "    }\n",
       "\n",
       "    .dataframe tbody tr th {\n",
       "        vertical-align: top;\n",
       "    }\n",
       "\n",
       "    .dataframe thead th {\n",
       "        text-align: right;\n",
       "    }\n",
       "</style>\n",
       "<table border=\"1\" class=\"dataframe\">\n",
       "  <thead>\n",
       "    <tr style=\"text-align: right;\">\n",
       "      <th></th>\n",
       "      <th>user_id</th>\n",
       "      <th>age</th>\n",
       "      <th>churn_date</th>\n",
       "      <th>city</th>\n",
       "      <th>first_name</th>\n",
       "      <th>last_name</th>\n",
       "      <th>reg_date</th>\n",
       "      <th>tariff</th>\n",
       "      <th>month</th>\n",
       "      <th>calls_duration</th>\n",
       "      <th>calls_count</th>\n",
       "      <th>messages_count</th>\n",
       "      <th>gb_used</th>\n",
       "      <th>profit</th>\n",
       "    </tr>\n",
       "  </thead>\n",
       "  <tbody>\n",
       "    <tr>\n",
       "      <td>827</td>\n",
       "      <td>1128</td>\n",
       "      <td>51</td>\n",
       "      <td>2018-12-23</td>\n",
       "      <td>Волжский</td>\n",
       "      <td>Ксения</td>\n",
       "      <td>Агаева</td>\n",
       "      <td>2018-12-15</td>\n",
       "      <td>ultra</td>\n",
       "      <td>0</td>\n",
       "      <td>0</td>\n",
       "      <td>0</td>\n",
       "      <td>0</td>\n",
       "      <td>0</td>\n",
       "      <td>1950</td>\n",
       "    </tr>\n",
       "    <tr>\n",
       "      <td>2335</td>\n",
       "      <td>1371</td>\n",
       "      <td>50</td>\n",
       "      <td>2018-12-30</td>\n",
       "      <td>Омск</td>\n",
       "      <td>Ириней</td>\n",
       "      <td>Трофимов</td>\n",
       "      <td>2018-12-25</td>\n",
       "      <td>smart</td>\n",
       "      <td>0</td>\n",
       "      <td>0</td>\n",
       "      <td>0</td>\n",
       "      <td>0</td>\n",
       "      <td>0</td>\n",
       "      <td>550</td>\n",
       "    </tr>\n",
       "  </tbody>\n",
       "</table>\n",
       "</div>"
      ],
      "text/plain": [
       "      user_id  age churn_date      city first_name last_name   reg_date  \\\n",
       "827      1128   51 2018-12-23  Волжский     Ксения    Агаева 2018-12-15   \n",
       "2335     1371   50 2018-12-30      Омск     Ириней  Трофимов 2018-12-25   \n",
       "\n",
       "     tariff  month  calls_duration  calls_count  messages_count  gb_used  \\\n",
       "827   ultra      0               0            0               0        0   \n",
       "2335  smart      0               0            0               0        0   \n",
       "\n",
       "      profit  \n",
       "827     1950  \n",
       "2335     550  "
      ]
     },
     "execution_count": 44,
     "metadata": {},
     "output_type": "execute_result"
    }
   ],
   "source": [
    "df_users_merge[df_users_merge['month'] == 0]"
   ]
  },
  {
   "cell_type": "code",
   "execution_count": 45,
   "metadata": {},
   "outputs": [],
   "source": [
    "df_users_merge.drop(df_users_merge[df_users_merge['month'] == 0].index, inplace=True)"
   ]
  },
  {
   "cell_type": "markdown",
   "metadata": {},
   "source": [
    "Тариф «Смарт»\n",
    "Ежемесячная плата: 550 рублей\n",
    "Включено 500 минут разговора, 50 сообщений и 15 Гб интернет-трафика\n",
    "Стоимость услуг сверх тарифного пакета: 1. минута разговора: 3 рубля («Мегалайн» всегда округляет вверх значения минут и мегабайтов. Если пользователь проговорил всего 1 секунду, в тарифе засчитывается целая минута); 2. сообщение: 3 рубля; 3. 1 Гб интернет-трафика: 200 рублей.\n",
    "\n",
    "Тариф «Ультра»\n",
    "Ежемесячная плата: 1950 рублей\n",
    "Включено 3000 минут разговора, 1000 сообщений и 30 Гб интернет-трафика\n",
    "Стоимость услуг сверх тарифного пакета: 1. минута разговора: 1 рубль; 2. сообщение: 1 рубль; 3. 1 Гб интернет-трафика: 150 рублей."
   ]
  },
  {
   "cell_type": "code",
   "execution_count": 46,
   "metadata": {},
   "outputs": [
    {
     "data": {
      "image/png": "[encoded data removed]",
      "text/plain": [
       "<Figure size 576x432 with 1 Axes>"
      ]
     },
     "metadata": {
      "needs_background": "light"
     },
     "output_type": "display_data"
    }
   ],
   "source": [
    "plt.figure(figsize=(8, 6))\n",
    "plt.grid()\n",
    "plt.title('Calls')\n",
    "plt.hist(df_users_merge[df_users_merge['tariff'] == 'smart']['calls_duration'], alpha=0.7, label='Smart')\n",
    "plt.hist(df_users_merge[df_users_merge['tariff'] == 'ultra']['calls_duration'], alpha=0.7, label='Ultra')\n",
    "plt.legend()\n",
    "plt.show()\n"
   ]
  },
  {
   "cell_type": "markdown",
   "metadata": {},
   "source": [
    "Вывод:\n",
    "- У тарифа \"Смарт\" распределение похоже на нормальное. Как и ожидалось явный пик в районе 500р, что соответствует минутам, включенным в тарифный план.\n",
    "- Тариф \"Ультра\" явно завышает включенные в пакет минуты, никто из клиентов не выговаривает даже 2000 мин. Нужно подумать об уменьшении кол-ва минут, что удешевит тариф и привлечет новых клментов. Распределение похоже на равномерное."
   ]
  },
  {
   "cell_type": "code",
   "execution_count": 47,
   "metadata": {},
   "outputs": [
    {
     "data": {
      "image/png": "[encoded data removed]",
      "text/plain": [
       "<Figure size 576x432 with 1 Axes>"
      ]
     },
     "metadata": {
      "needs_background": "light"
     },
     "output_type": "display_data"
    }
   ],
   "source": [
    "plt.figure(figsize=(8, 6))\n",
    "plt.grid()\n",
    "plt.title('Messages')\n",
    "plt.hist(df_users_merge[df_users_merge['tariff'] == 'smart']['messages_count'], alpha=0.7, label='Smart')\n",
    "plt.hist(df_users_merge[df_users_merge['tariff'] == 'ultra']['messages_count'], alpha=0.7, label='Ultra')\n",
    "plt.legend()\n",
    "plt.show()"
   ]
  },
  {
   "cell_type": "markdown",
   "metadata": {},
   "source": [
    "Превышение лимитов по смс у абонентов тарифа \"Смарт\":"
   ]
  },
  {
   "cell_type": "code",
   "execution_count": 48,
   "metadata": {},
   "outputs": [
    {
     "data": {
      "text/plain": [
       "25.3028263795424"
      ]
     },
     "execution_count": 48,
     "metadata": {},
     "output_type": "execute_result"
    }
   ],
   "source": [
    "df_users_merge[(df_users_merge['tariff'] == 'smart') & (df_users_merge['messages_count'] > 50)]['user_id'].count() / df_users_merge[df_users_merge['tariff'] == 'smart']['user_id'].count() * 100"
   ]
  },
  {
   "cell_type": "markdown",
   "metadata": {},
   "source": [
    "Вывод:\n",
    "- Экспоненциальное распределение\n",
    "- У клиентов тарифа \"Смарт\" в 25% случаются превышения лимитов по смс. Возможно стоит задуматься об увеличении лимитов.\n",
    "- Тарифу \"Ультра\" такой большой лимит по смс не нужен. Более 300 смс вообще нигому не понадобилось. Также как и в случае с минутами можно лимит уменьшить и удешевить тариф."
   ]
  },
  {
   "cell_type": "code",
   "execution_count": 49,
   "metadata": {},
   "outputs": [
    {
     "data": {
      "image/png": "[encoded data removed]",
      "text/plain": [
       "<Figure size 576x432 with 1 Axes>"
      ]
     },
     "metadata": {
      "needs_background": "light"
     },
     "output_type": "display_data"
    }
   ],
   "source": [
    "plt.figure(figsize=(8, 6))\n",
    "plt.grid()\n",
    "plt.title('Internet')\n",
    "plt.hist(df_users_merge[df_users_merge['tariff'] == 'smart']['gb_used'], alpha=0.7, label='Smart')\n",
    "plt.hist(df_users_merge[df_users_merge['tariff'] == 'ultra']['gb_used'], alpha=0.7, label='Ultra')\n",
    "plt.legend()\n",
    "plt.show()"
   ]
  },
  {
   "cell_type": "markdown",
   "metadata": {},
   "source": [
    "Больше интернет лимита у Смарт:"
   ]
  },
  {
   "cell_type": "code",
   "execution_count": 50,
   "metadata": {},
   "outputs": [
    {
     "data": {
      "text/plain": [
       "58.50157021085689"
      ]
     },
     "execution_count": 50,
     "metadata": {},
     "output_type": "execute_result"
    }
   ],
   "source": [
    "df_users_merge[(df_users_merge['tariff'] == 'smart') & (df_users_merge['gb_used'] > 15)]['user_id'].count() / df_users_merge[df_users_merge['tariff'] == 'smart']['user_id'].count() * 100"
   ]
  },
  {
   "cell_type": "markdown",
   "metadata": {},
   "source": [
    "Больше интернет лимита у Ультра:"
   ]
  },
  {
   "cell_type": "code",
   "execution_count": 51,
   "metadata": {},
   "outputs": [
    {
     "data": {
      "text/plain": [
       "13.604060913705585"
      ]
     },
     "execution_count": 51,
     "metadata": {},
     "output_type": "execute_result"
    }
   ],
   "source": [
    "df_users_merge[(df_users_merge['tariff'] == 'ultra') & (df_users_merge['gb_used'] > 30)]['user_id'].count() / df_users_merge[df_users_merge['tariff'] == 'ultra']['user_id'].count() * 100"
   ]
  },
  {
   "cell_type": "markdown",
   "metadata": {},
   "source": [
    "Вывод:\n",
    "- Нормальное распределение\n",
    "- У клиентов тарифа \"Смарт\" более боловины клиентов 58% превышают лимиты по интренету. Возможно стоит увеличить.\n",
    "- Тарифу \"Ультра\" страдает меньше, только 13 процентов."
   ]
  },
  {
   "cell_type": "code",
   "execution_count": 52,
   "metadata": {},
   "outputs": [
    {
     "data": {
      "image/png": "[encoded data removed]",
      "text/plain": [
       "<Figure size 576x432 with 1 Axes>"
      ]
     },
     "metadata": {
      "needs_background": "light"
     },
     "output_type": "display_data"
    }
   ],
   "source": [
    "plt.figure(figsize=(8, 6))\n",
    "plt.grid()\n",
    "plt.title('Profit')\n",
    "plt.hist(df_users_merge[df_users_merge['tariff'] == 'smart']['profit'], alpha=0.7, label='Smart')\n",
    "plt.legend()\n",
    "plt.show()"
   ]
  },
  {
   "cell_type": "markdown",
   "metadata": {},
   "source": [
    "Вывод:\n",
    "- Экспоненциальное распределение"
   ]
  },
  {
   "cell_type": "code",
   "execution_count": 53,
   "metadata": {},
   "outputs": [
    {
     "data": {
      "image/png": "[encoded data removed]",
      "text/plain": [
       "<Figure size 576x432 with 1 Axes>"
      ]
     },
     "metadata": {
      "needs_background": "light"
     },
     "output_type": "display_data"
    }
   ],
   "source": [
    "plt.figure(figsize=(8, 6))\n",
    "plt.grid()\n",
    "plt.title('Profit')\n",
    "plt.hist(df_users_merge[df_users_merge['tariff'] == 'ultra']['profit'], alpha=0.7, label='Ultra')\n",
    "plt.legend()\n",
    "plt.show()"
   ]
  },
  {
   "cell_type": "markdown",
   "metadata": {},
   "source": [
    "### Сколько минут разговора, сколько сообщений и какой объём интернет-трафика требуется пользователям каждого тарифа в месяц?"
   ]
  },
  {
   "cell_type": "markdown",
   "metadata": {},
   "source": [
    "Проведем расчет этих показателей отдельно для каждого тарифа"
   ]
  },
  {
   "cell_type": "markdown",
   "metadata": {},
   "source": [
    "### Тариф \"Ультра\""
   ]
  },
  {
   "cell_type": "code",
   "execution_count": 54,
   "metadata": {},
   "outputs": [],
   "source": [
    "df_ultra = pd.DataFrame([\n",
    "                        df_users_merge[df_users_merge['tariff'] == 'ultra'].loc[:, 'calls_duration': 'profit'].median(),\n",
    "                        df_users_merge[df_users_merge['tariff'] == 'ultra'].loc[:, 'calls_duration': 'profit'].mean(),\n",
    "                        np.var(df_users_merge[df_users_merge['tariff'] == 'ultra'].loc[:, 'calls_duration': 'profit'], ddof=1),\n",
    "                        np.std(df_users_merge[df_users_merge['tariff'] == 'ultra'].loc[:, 'calls_duration': 'profit'], ddof=1)\n",
    "                        ], \n",
    "                        index=['median', 'mean', 'var', 'std'],\n",
    "                        columns=['calls_duration', 'calls_count', 'messages_count', 'gb_used', 'profit'])"
   ]
  },
  {
   "cell_type": "markdown",
   "metadata": {},
   "source": [
    "    Вывод: Пользователи тарифа \"Ультра\" не переплачивают сверх тарифа. Из-за этого нулевые значения var и std в итоговой сводной таблице."
   ]
  },
  {
   "cell_type": "markdown",
   "metadata": {},
   "source": [
    "### Тариф \"Смарт\""
   ]
  },
  {
   "cell_type": "code",
   "execution_count": 55,
   "metadata": {},
   "outputs": [],
   "source": [
    "df_smart = pd.DataFrame([\n",
    "                        df_users_merge[df_users_merge['tariff'] == 'smart'].loc[:, 'calls_duration': 'profit'].median(),\n",
    "                        df_users_merge[df_users_merge['tariff'] == 'smart'].loc[:, 'calls_duration': 'profit'].mean(),\n",
    "                        np.var(df_users_merge[df_users_merge['tariff'] == 'smart'].loc[:, 'calls_duration': 'profit'], ddof=1),\n",
    "                        np.std(df_users_merge[df_users_merge['tariff'] == 'smart'].loc[:, 'calls_duration': 'profit'], ddof=1)\n",
    "                        ], \n",
    "                        index=['median', 'mean', 'var', 'std'],\n",
    "                        columns=['calls_duration', 'calls_count', 'messages_count', 'gb_used', 'profit'])"
   ]
  },
  {
   "cell_type": "markdown",
   "metadata": {},
   "source": [
    "### Сводная таблица по тарифам"
   ]
  },
  {
   "cell_type": "code",
   "execution_count": 56,
   "metadata": {},
   "outputs": [
    {
     "data": {
      "text/html": [
       "<div>\n",
       "<style scoped>\n",
       "    .dataframe tbody tr th:only-of-type {\n",
       "        vertical-align: middle;\n",
       "    }\n",
       "\n",
       "    .dataframe tbody tr th {\n",
       "        vertical-align: top;\n",
       "    }\n",
       "\n",
       "    .dataframe thead th {\n",
       "        text-align: right;\n",
       "    }\n",
       "</style>\n",
       "<table border=\"1\" class=\"dataframe\">\n",
       "  <thead>\n",
       "    <tr style=\"text-align: right;\">\n",
       "      <th></th>\n",
       "      <th>ultra_median</th>\n",
       "      <th>ultra_mean</th>\n",
       "      <th>ultra_var</th>\n",
       "      <th>ultra_std</th>\n",
       "      <th>smart_median</th>\n",
       "      <th>smart_mean</th>\n",
       "      <th>smart_var</th>\n",
       "      <th>smart_std</th>\n",
       "    </tr>\n",
       "  </thead>\n",
       "  <tbody>\n",
       "    <tr>\n",
       "      <td>calls_duration</td>\n",
       "      <td>518.0</td>\n",
       "      <td>526.623350</td>\n",
       "      <td>100873.633397</td>\n",
       "      <td>317.606098</td>\n",
       "      <td>422.0</td>\n",
       "      <td>417.934948</td>\n",
       "      <td>36219.315784</td>\n",
       "      <td>190.313730</td>\n",
       "    </tr>\n",
       "    <tr>\n",
       "      <td>calls_count</td>\n",
       "      <td>58.0</td>\n",
       "      <td>59.236548</td>\n",
       "      <td>1264.707199</td>\n",
       "      <td>35.562722</td>\n",
       "      <td>47.0</td>\n",
       "      <td>46.947510</td>\n",
       "      <td>442.646705</td>\n",
       "      <td>21.039171</td>\n",
       "    </tr>\n",
       "    <tr>\n",
       "      <td>messages_count</td>\n",
       "      <td>38.0</td>\n",
       "      <td>49.363452</td>\n",
       "      <td>2285.266143</td>\n",
       "      <td>47.804457</td>\n",
       "      <td>28.0</td>\n",
       "      <td>33.384029</td>\n",
       "      <td>796.812958</td>\n",
       "      <td>28.227876</td>\n",
       "    </tr>\n",
       "    <tr>\n",
       "      <td>gb_used</td>\n",
       "      <td>19.0</td>\n",
       "      <td>19.494416</td>\n",
       "      <td>97.091686</td>\n",
       "      <td>9.853511</td>\n",
       "      <td>17.0</td>\n",
       "      <td>16.328847</td>\n",
       "      <td>33.028705</td>\n",
       "      <td>5.747061</td>\n",
       "    </tr>\n",
       "    <tr>\n",
       "      <td>profit</td>\n",
       "      <td>1950.0</td>\n",
       "      <td>2070.152284</td>\n",
       "      <td>141516.745079</td>\n",
       "      <td>376.187114</td>\n",
       "      <td>1023.0</td>\n",
       "      <td>1289.973531</td>\n",
       "      <td>669785.708006</td>\n",
       "      <td>818.404367</td>\n",
       "    </tr>\n",
       "  </tbody>\n",
       "</table>\n",
       "</div>"
      ],
      "text/plain": [
       "                ultra_median   ultra_mean      ultra_var   ultra_std  \\\n",
       "calls_duration         518.0   526.623350  100873.633397  317.606098   \n",
       "calls_count             58.0    59.236548    1264.707199   35.562722   \n",
       "messages_count          38.0    49.363452    2285.266143   47.804457   \n",
       "gb_used                 19.0    19.494416      97.091686    9.853511   \n",
       "profit                1950.0  2070.152284  141516.745079  376.187114   \n",
       "\n",
       "                smart_median   smart_mean      smart_var   smart_std  \n",
       "calls_duration         422.0   417.934948   36219.315784  190.313730  \n",
       "calls_count             47.0    46.947510     442.646705   21.039171  \n",
       "messages_count          28.0    33.384029     796.812958   28.227876  \n",
       "gb_used                 17.0    16.328847      33.028705    5.747061  \n",
       "profit                1023.0  1289.973531  669785.708006  818.404367  "
      ]
     },
     "execution_count": 56,
     "metadata": {},
     "output_type": "execute_result"
    }
   ],
   "source": [
    "df_final = df_ultra.T.merge(df_smart.T, left_on=df_ultra.T.index, right_on=df_smart.T.index, how='outer')\n",
    "df_final.columns = [\n",
    "    'metrica',\n",
    "    'ultra_median',\n",
    "    'ultra_mean',\n",
    "    'ultra_var',\n",
    "    'ultra_std',\n",
    "    'smart_median',\n",
    "    'smart_mean',\n",
    "    'smart_var',\n",
    "    'smart_std',\n",
    "]\n",
    "df_final.index = [\n",
    "    'calls_duration',\n",
    "    'calls_count',\n",
    "    'messages_count',\n",
    "    'gb_used',\n",
    "    'profit',\n",
    "]\n",
    "df_final = df_final.drop('metrica', 1)\n",
    "df_final"
   ]
  },
  {
   "cell_type": "code",
   "execution_count": 57,
   "metadata": {},
   "outputs": [
    {
     "data": {
      "text/plain": [
       "2408.4"
      ]
     },
     "execution_count": 57,
     "metadata": {},
     "output_type": "execute_result"
    }
   ],
   "source": [
    "df_users_merge[df_users_merge['tariff'] == 'smart']['profit'].quantile(q=0.9)"
   ]
  },
  {
   "cell_type": "markdown",
   "metadata": {},
   "source": [
    "    Вывод: 90% квантиль указывает нам на то, что часть, хоть и малая, переплачивает за тариф \"Смарт\" почти в два раза."
   ]
  },
  {
   "cell_type": "code",
   "execution_count": 60,
   "metadata": {},
   "outputs": [
    {
     "data": {
      "text/html": [
       "<style  type=\"text/css\" >\n",
       "</style><table id=\"T_baa6764e_12e8_11ec_8ef5_02420a395b43\" ><thead>    <tr>        <th class=\"blank level0\" ></th>        <th class=\"col_heading level0 col0\" colspan=4>calls_duration</th>        <th class=\"col_heading level0 col4\" colspan=4>messages_count</th>        <th class=\"col_heading level0 col8\" colspan=4>gb_used</th>    </tr>    <tr>        <th class=\"blank level1\" ></th>        <th class=\"col_heading level1 col0\" >median</th>        <th class=\"col_heading level1 col1\" >mean</th>        <th class=\"col_heading level1 col2\" >var</th>        <th class=\"col_heading level1 col3\" >std</th>        <th class=\"col_heading level1 col4\" >median</th>        <th class=\"col_heading level1 col5\" >mean</th>        <th class=\"col_heading level1 col6\" >var</th>        <th class=\"col_heading level1 col7\" >std</th>        <th class=\"col_heading level1 col8\" >median</th>        <th class=\"col_heading level1 col9\" >mean</th>        <th class=\"col_heading level1 col10\" >var</th>        <th class=\"col_heading level1 col11\" >std</th>    </tr>    <tr>        <th class=\"index_name level0\" >tariff</th>        <th class=\"blank\" ></th>        <th class=\"blank\" ></th>        <th class=\"blank\" ></th>        <th class=\"blank\" ></th>        <th class=\"blank\" ></th>        <th class=\"blank\" ></th>        <th class=\"blank\" ></th>        <th class=\"blank\" ></th>        <th class=\"blank\" ></th>        <th class=\"blank\" ></th>        <th class=\"blank\" ></th>        <th class=\"blank\" ></th>    </tr></thead><tbody>\n",
       "                <tr>\n",
       "                        <th id=\"T_baa6764e_12e8_11ec_8ef5_02420a395b43level0_row0\" class=\"row_heading level0 row0\" >smart</th>\n",
       "                        <td id=\"T_baa6764e_12e8_11ec_8ef5_02420a395b43row0_col0\" class=\"data row0 col0\" >422</td>\n",
       "                        <td id=\"T_baa6764e_12e8_11ec_8ef5_02420a395b43row0_col1\" class=\"data row0 col1\" >418</td>\n",
       "                        <td id=\"T_baa6764e_12e8_11ec_8ef5_02420a395b43row0_col2\" class=\"data row0 col2\" >36219</td>\n",
       "                        <td id=\"T_baa6764e_12e8_11ec_8ef5_02420a395b43row0_col3\" class=\"data row0 col3\" >190</td>\n",
       "                        <td id=\"T_baa6764e_12e8_11ec_8ef5_02420a395b43row0_col4\" class=\"data row0 col4\" >28</td>\n",
       "                        <td id=\"T_baa6764e_12e8_11ec_8ef5_02420a395b43row0_col5\" class=\"data row0 col5\" >33</td>\n",
       "                        <td id=\"T_baa6764e_12e8_11ec_8ef5_02420a395b43row0_col6\" class=\"data row0 col6\" >797</td>\n",
       "                        <td id=\"T_baa6764e_12e8_11ec_8ef5_02420a395b43row0_col7\" class=\"data row0 col7\" >28</td>\n",
       "                        <td id=\"T_baa6764e_12e8_11ec_8ef5_02420a395b43row0_col8\" class=\"data row0 col8\" >17</td>\n",
       "                        <td id=\"T_baa6764e_12e8_11ec_8ef5_02420a395b43row0_col9\" class=\"data row0 col9\" >16</td>\n",
       "                        <td id=\"T_baa6764e_12e8_11ec_8ef5_02420a395b43row0_col10\" class=\"data row0 col10\" >33</td>\n",
       "                        <td id=\"T_baa6764e_12e8_11ec_8ef5_02420a395b43row0_col11\" class=\"data row0 col11\" >6</td>\n",
       "            </tr>\n",
       "            <tr>\n",
       "                        <th id=\"T_baa6764e_12e8_11ec_8ef5_02420a395b43level0_row1\" class=\"row_heading level0 row1\" >ultra</th>\n",
       "                        <td id=\"T_baa6764e_12e8_11ec_8ef5_02420a395b43row1_col0\" class=\"data row1 col0\" >518</td>\n",
       "                        <td id=\"T_baa6764e_12e8_11ec_8ef5_02420a395b43row1_col1\" class=\"data row1 col1\" >527</td>\n",
       "                        <td id=\"T_baa6764e_12e8_11ec_8ef5_02420a395b43row1_col2\" class=\"data row1 col2\" >100874</td>\n",
       "                        <td id=\"T_baa6764e_12e8_11ec_8ef5_02420a395b43row1_col3\" class=\"data row1 col3\" >318</td>\n",
       "                        <td id=\"T_baa6764e_12e8_11ec_8ef5_02420a395b43row1_col4\" class=\"data row1 col4\" >38</td>\n",
       "                        <td id=\"T_baa6764e_12e8_11ec_8ef5_02420a395b43row1_col5\" class=\"data row1 col5\" >49</td>\n",
       "                        <td id=\"T_baa6764e_12e8_11ec_8ef5_02420a395b43row1_col6\" class=\"data row1 col6\" >2285</td>\n",
       "                        <td id=\"T_baa6764e_12e8_11ec_8ef5_02420a395b43row1_col7\" class=\"data row1 col7\" >48</td>\n",
       "                        <td id=\"T_baa6764e_12e8_11ec_8ef5_02420a395b43row1_col8\" class=\"data row1 col8\" >19</td>\n",
       "                        <td id=\"T_baa6764e_12e8_11ec_8ef5_02420a395b43row1_col9\" class=\"data row1 col9\" >19</td>\n",
       "                        <td id=\"T_baa6764e_12e8_11ec_8ef5_02420a395b43row1_col10\" class=\"data row1 col10\" >97</td>\n",
       "                        <td id=\"T_baa6764e_12e8_11ec_8ef5_02420a395b43row1_col11\" class=\"data row1 col11\" >10</td>\n",
       "            </tr>\n",
       "    </tbody></table>"
      ],
      "text/plain": [
       "<pandas.io.formats.style.Styler at 0x7fcfe70e7d10>"
      ]
     },
     "execution_count": 60,
     "metadata": {},
     "output_type": "execute_result"
    }
   ],
   "source": [
    "(\n",
    " df_users_merge\n",
    " .groupby('tariff')\n",
    " [['calls_duration', 'messages_count', 'gb_used']]\n",
    " .agg(['median','mean','var','std'])\n",
    " .style.format('{:.0f}')\n",
    ")"
   ]
  },
  {
   "cell_type": "markdown",
   "metadata": {},
   "source": [
    "### Построение графиков"
   ]
  },
  {
   "cell_type": "markdown",
   "metadata": {},
   "source": [
    "## Проверка гипотез"
   ]
  },
  {
   "cell_type": "markdown",
   "metadata": {},
   "source": [
    "### Средняя выручка пользователей тарифов «Ультра» и «Смарт» различаются"
   ]
  },
  {
   "cell_type": "markdown",
   "metadata": {},
   "source": [
    "    Нулевая гипотеза: средняя выручка пользователей тарифов «Ультра» и «Смарт» одинаковая.\n",
    "    Альтернативная гипотеза: средняя выручка пользователей тарифов «Ультра» и «Смарт» различается."
   ]
  },
  {
   "cell_type": "code",
   "execution_count": 58,
   "metadata": {},
   "outputs": [
    {
     "name": "stdout",
     "output_type": "stream",
     "text": [
      "p-значение:  1.4229814360764067e-160\n",
      "Отвергаем нулевую гипотезу\n",
      "Не получилось отвергнуть альтернативную гипотезу\n"
     ]
    }
   ],
   "source": [
    "fir = df_users_merge[df_users_merge['tariff'] == 'ultra']['profit'].to_list()\n",
    "\n",
    "sec = df_users_merge[df_users_merge['tariff'] == 'smart']['profit'].to_list()\n",
    "\n",
    "alpha = 0.05\n",
    "\n",
    "results = st.ttest_ind(fir, sec)\n",
    "\n",
    "print('p-значение: ', results.pvalue)\n",
    "\n",
    "if results.pvalue < alpha:\n",
    "    print(\"Отвергаем нулевую гипотезу\")\n",
    "    print(\"Не получилось отвергнуть альтернативную гипотезу\") \n",
    "else:\n",
    "    print(\"Не получилось отвергнуть нулевую гипотезу\") \n",
    "    print(\"Отвергаем альтернативную гипотезу\")"
   ]
  },
  {
   "cell_type": "markdown",
   "metadata": {},
   "source": [
    "    Гипотезу о том, что средняя выручка пользователей тарифов «Ультра» и «Смарт» различаются не получилось отвергнуть."
   ]
  },
  {
   "cell_type": "markdown",
   "metadata": {},
   "source": [
    "### Средняя выручка пользователи из Москвы отличается от выручки пользователей из других регионов"
   ]
  },
  {
   "cell_type": "markdown",
   "metadata": {},
   "source": [
    "    Нулевая гипотеза: средняя выручка пользователи из Москвы равна выручке пользователей из других регионов.\n",
    "    Альтернативная гипотеза: средняя выручка пользователи из Москвы отличается от выручки пользователей из других регионов."
   ]
  },
  {
   "cell_type": "code",
   "execution_count": 59,
   "metadata": {},
   "outputs": [
    {
     "name": "stdout",
     "output_type": "stream",
     "text": [
      "p-значение:  0.5440152911670224\n",
      "Не получилось отвергнуть нулевую гипотезу\n",
      "Отвергаем альтернативную гипотезу\n"
     ]
    }
   ],
   "source": [
    "fir = df_users_merge[df_users_merge['city'] == 'Москва']['profit']\n",
    "\n",
    "sec = df_users_merge[df_users_merge['city'] != 'Москва']['profit']\n",
    "\n",
    "alpha = 0.05\n",
    "\n",
    "results = st.ttest_ind(fir, sec)\n",
    "\n",
    "print('p-значение: ', results.pvalue)\n",
    "\n",
    "if results.pvalue < alpha:\n",
    "    print(\"Отвергаем нулевую гипотезу\")\n",
    "    print(\"Не получилось отвергнуть альтернативную гипотезу\") \n",
    "else:\n",
    "    print(\"Не получилось отвергнуть нулевую гипотезу\") \n",
    "    print(\"Отвергаем альтернативную гипотезу\")"
   ]
  },
  {
   "cell_type": "markdown",
   "metadata": {},
   "source": [
    "    Гипотезу о том, что средняя выручка пользователи из Москвы равна выручке пользователей из других регионов не получилось отвергнуть."
   ]
  },
  {
   "cell_type": "markdown",
   "metadata": {},
   "source": [
    "    Формировал гипотезы на основе \"Гипотезы о равенстве средних двух генеральных совокупностей\". Нулевая гипотеза предпологала равенство двух сравниваемых компонентов, а альтернативная напротив - неравенство.\n",
    "    Использовал гипотезу alpha = 0.05 - критический уровень статистической значимости, если p-value окажется меньше него - отвергнем гипотезу\n"
   ]
  },
  {
   "cell_type": "markdown",
   "metadata": {},
   "source": [
    "## Общий вывод"
   ]
  },
  {
   "cell_type": "markdown",
   "metadata": {},
   "source": [
    "В данной проектной работе был проведен предварительный анализ тарифов на небольшой выборке клиентов. В нашем распоряжении данные 500 пользователей «Мегалайна»: кто они, откуда, каким тарифом пользуются, сколько звонков и сообщений каждый отправил за 2018 год. Было проанализировано поведение клиентов и сделан вывод — какой тариф лучше.\n",
    "1.\tДанные были предварительно изучены и обработаны: были устранены пропуски, данные приведены и переработаны к нужным типам и виду.\n",
    "2.\tСозданы сводные таблицы для помесячного анализа всех пользовательских показателей: минут, смс, интернета.\n",
    "3.\tБыл вычислен помесячный доход, исходя из тарифа, для каждого пользователя компании.\n",
    "4.\tВсе данные были сведены в одну таблицу для простоты анализа.\n",
    "5.\tБыли построены графики и гистограммы сравнения всех параметров у тарифов.\n",
    "\n",
    "Использую графическое представление данных об затратах пользователей на тариф, можно сделать, что пользователи тарифа ультра стабильно приносят больше прибыли весь год, относительно своих конкурентов.\n",
    "\n",
    "6.\tГипотезу о том, что средняя выручка пользователей тарифов «Ультра» и «Смарт» различаются не получилось отвергнуть.\n",
    "7.\tГипотезу о том, что средняя выручка пользователи из Москвы равна выручке пользователей из других регионов не получилось отвергнуть.\n",
    "\n",
    "Можно сделать вывод, что тариф \"Ультра\" нуждается в переработке. У него завышенные лимиты, которые никто из пользователей не превышает. Отсюда следуюет завышенная цена. Нужно уменьшить лимиты и цену.\n"
   ]
  }
 ],
 "metadata": {
  "ExecuteTimeLog": [
   {
    "duration": 743,
    "start_time": "2021-08-30T12:19:14.395Z"
   },
   {
    "duration": 52,
    "start_time": "2021-08-30T12:20:00.009Z"
   },
   {
    "duration": 351,
    "start_time": "2021-08-30T12:21:44.019Z"
   },
   {
    "duration": 14,
    "start_time": "2021-08-30T12:21:46.736Z"
   },
   {
    "duration": 11,
    "start_time": "2021-08-30T12:21:53.838Z"
   },
   {
    "duration": 17,
    "start_time": "2021-08-30T12:22:01.951Z"
   },
   {
    "duration": 11,
    "start_time": "2021-08-30T12:22:23.446Z"
   },
   {
    "duration": 20,
    "start_time": "2021-08-30T12:22:46.256Z"
   },
   {
    "duration": 3,
    "start_time": "2021-08-30T12:23:32.094Z"
   },
   {
    "duration": 539,
    "start_time": "2021-08-30T12:23:32.398Z"
   },
   {
    "duration": 15,
    "start_time": "2021-08-30T12:23:33.320Z"
   },
   {
    "duration": 12,
    "start_time": "2021-08-30T12:23:33.782Z"
   },
   {
    "duration": 11,
    "start_time": "2021-08-30T12:23:34.142Z"
   },
   {
    "duration": 11,
    "start_time": "2021-08-30T12:23:34.438Z"
   },
   {
    "duration": 12,
    "start_time": "2021-08-30T12:23:34.774Z"
   },
   {
    "duration": 3,
    "start_time": "2021-08-30T12:24:00.398Z"
   },
   {
    "duration": 534,
    "start_time": "2021-08-30T12:24:00.646Z"
   },
   {
    "duration": 14,
    "start_time": "2021-08-30T12:24:01.183Z"
   },
   {
    "duration": 12,
    "start_time": "2021-08-30T12:24:01.831Z"
   },
   {
    "duration": 15,
    "start_time": "2021-08-30T12:24:02.352Z"
   },
   {
    "duration": 11,
    "start_time": "2021-08-30T12:24:02.694Z"
   },
   {
    "duration": 12,
    "start_time": "2021-08-30T12:24:03.016Z"
   },
   {
    "duration": 4,
    "start_time": "2021-08-30T12:24:22.806Z"
   },
   {
    "duration": 527,
    "start_time": "2021-08-30T12:24:23.135Z"
   },
   {
    "duration": 17,
    "start_time": "2021-08-30T12:24:23.665Z"
   },
   {
    "duration": 12,
    "start_time": "2021-08-30T12:24:24.366Z"
   },
   {
    "duration": 14,
    "start_time": "2021-08-30T12:24:25.054Z"
   },
   {
    "duration": 11,
    "start_time": "2021-08-30T12:24:25.685Z"
   },
   {
    "duration": 14,
    "start_time": "2021-08-30T12:24:26.255Z"
   },
   {
    "duration": 9,
    "start_time": "2021-08-30T12:28:37.919Z"
   },
   {
    "duration": 28,
    "start_time": "2021-08-30T12:29:42.561Z"
   },
   {
    "duration": 51,
    "start_time": "2021-08-30T12:30:12.968Z"
   },
   {
    "duration": 16,
    "start_time": "2021-08-30T12:32:43.695Z"
   },
   {
    "duration": 396,
    "start_time": "2021-08-30T12:55:52.959Z"
   },
   {
    "duration": 9,
    "start_time": "2021-08-30T12:56:25.888Z"
   },
   {
    "duration": 27,
    "start_time": "2021-08-30T12:56:30.470Z"
   },
   {
    "duration": 31,
    "start_time": "2021-08-30T12:57:38.591Z"
   },
   {
    "duration": 9,
    "start_time": "2021-08-30T12:57:53.624Z"
   },
   {
    "duration": 12,
    "start_time": "2021-08-30T13:00:46.904Z"
   },
   {
    "duration": 27,
    "start_time": "2021-08-30T13:00:47.631Z"
   },
   {
    "duration": 9,
    "start_time": "2021-08-30T13:00:58.984Z"
   },
   {
    "duration": 3,
    "start_time": "2021-08-30T13:06:14.927Z"
   },
   {
    "duration": 280,
    "start_time": "2021-08-30T13:06:21.680Z"
   },
   {
    "duration": 200,
    "start_time": "2021-08-30T13:07:27.208Z"
   },
   {
    "duration": 11,
    "start_time": "2021-08-30T13:07:29.376Z"
   },
   {
    "duration": 27,
    "start_time": "2021-08-30T13:07:41.560Z"
   },
   {
    "duration": 13,
    "start_time": "2021-08-30T13:07:52.943Z"
   },
   {
    "duration": 27,
    "start_time": "2021-08-30T13:08:12.971Z"
   },
   {
    "duration": 33,
    "start_time": "2021-08-30T13:09:35.097Z"
   },
   {
    "duration": 13,
    "start_time": "2021-08-30T13:09:41.775Z"
   },
   {
    "duration": 32,
    "start_time": "2021-08-30T13:09:53.231Z"
   },
   {
    "duration": 13,
    "start_time": "2021-08-30T13:09:53.689Z"
   },
   {
    "duration": 17,
    "start_time": "2021-08-30T13:10:04.599Z"
   },
   {
    "duration": 6146,
    "start_time": "2021-08-30T13:13:20.344Z"
   },
   {
    "duration": 7010,
    "start_time": "2021-08-30T13:13:55.050Z"
   },
   {
    "duration": 7166,
    "start_time": "2021-08-30T13:14:26.809Z"
   },
   {
    "duration": 134,
    "start_time": "2021-08-30T13:15:26.952Z"
   },
   {
    "duration": 137,
    "start_time": "2021-08-30T13:16:11.706Z"
   },
   {
    "duration": 13,
    "start_time": "2021-08-30T13:16:22.177Z"
   },
   {
    "duration": 19,
    "start_time": "2021-08-30T13:16:42.616Z"
   },
   {
    "duration": 10012,
    "start_time": "2021-08-30T13:17:58.586Z"
   },
   {
    "duration": 4,
    "start_time": "2021-08-30T13:18:17.863Z"
   },
   {
    "duration": 550,
    "start_time": "2021-08-30T13:18:18.160Z"
   },
   {
    "duration": 24,
    "start_time": "2021-08-30T13:18:19.552Z"
   },
   {
    "duration": 31,
    "start_time": "2021-08-30T13:18:20.068Z"
   },
   {
    "duration": 9,
    "start_time": "2021-08-30T13:18:20.503Z"
   },
   {
    "duration": 15,
    "start_time": "2021-08-30T13:18:21.144Z"
   },
   {
    "duration": 14,
    "start_time": "2021-08-30T13:18:21.472Z"
   },
   {
    "duration": 14,
    "start_time": "2021-08-30T13:18:21.761Z"
   },
   {
    "duration": 42,
    "start_time": "2021-08-30T13:18:22.056Z"
   },
   {
    "duration": 51,
    "start_time": "2021-08-30T13:18:22.327Z"
   },
   {
    "duration": 205,
    "start_time": "2021-08-30T13:18:23.087Z"
   },
   {
    "duration": 14,
    "start_time": "2021-08-30T13:18:23.504Z"
   },
   {
    "duration": 34,
    "start_time": "2021-08-30T13:18:23.968Z"
   },
   {
    "duration": 14,
    "start_time": "2021-08-30T13:18:24.400Z"
   },
   {
    "duration": 36,
    "start_time": "2021-08-30T13:18:25.240Z"
   },
   {
    "duration": 11,
    "start_time": "2021-08-30T13:18:25.600Z"
   },
   {
    "duration": 22,
    "start_time": "2021-08-30T13:18:26.064Z"
   },
   {
    "duration": 12,
    "start_time": "2021-08-30T13:18:26.488Z"
   },
   {
    "duration": 174,
    "start_time": "2021-08-30T13:18:27.312Z"
   },
   {
    "duration": 12,
    "start_time": "2021-08-30T13:18:28.695Z"
   },
   {
    "duration": 17,
    "start_time": "2021-08-30T13:18:34.375Z"
   },
   {
    "duration": 4,
    "start_time": "2021-08-30T13:21:23.265Z"
   },
   {
    "duration": 511,
    "start_time": "2021-08-30T13:21:23.552Z"
   },
   {
    "duration": 16,
    "start_time": "2021-08-30T13:21:24.810Z"
   },
   {
    "duration": 28,
    "start_time": "2021-08-30T13:21:25.714Z"
   },
   {
    "duration": 8,
    "start_time": "2021-08-30T13:21:26.208Z"
   },
   {
    "duration": 12,
    "start_time": "2021-08-30T13:21:26.991Z"
   },
   {
    "duration": 15,
    "start_time": "2021-08-30T13:21:27.752Z"
   },
   {
    "duration": 13,
    "start_time": "2021-08-30T13:21:28.479Z"
   },
   {
    "duration": 28,
    "start_time": "2021-08-30T13:21:28.871Z"
   },
   {
    "duration": 44,
    "start_time": "2021-08-30T13:21:29.456Z"
   },
   {
    "duration": 200,
    "start_time": "2021-08-30T13:21:30.040Z"
   },
   {
    "duration": 15,
    "start_time": "2021-08-30T13:21:30.352Z"
   },
   {
    "duration": 33,
    "start_time": "2021-08-30T13:21:30.639Z"
   },
   {
    "duration": 11,
    "start_time": "2021-08-30T13:21:31.376Z"
   },
   {
    "duration": 31,
    "start_time": "2021-08-30T13:21:32.330Z"
   },
   {
    "duration": 12,
    "start_time": "2021-08-30T13:21:32.873Z"
   },
   {
    "duration": 14,
    "start_time": "2021-08-30T13:21:33.312Z"
   },
   {
    "duration": 15,
    "start_time": "2021-08-30T13:21:34.356Z"
   },
   {
    "duration": 159,
    "start_time": "2021-08-30T13:21:35.447Z"
   },
   {
    "duration": 13,
    "start_time": "2021-08-30T13:21:35.764Z"
   },
   {
    "duration": 20,
    "start_time": "2021-08-30T13:21:36.063Z"
   },
   {
    "duration": 206,
    "start_time": "2021-08-30T13:23:49.738Z"
   },
   {
    "duration": 14,
    "start_time": "2021-08-30T13:23:50.472Z"
   },
   {
    "duration": 27,
    "start_time": "2021-08-30T13:23:53.808Z"
   },
   {
    "duration": 4,
    "start_time": "2021-08-30T13:27:21.256Z"
   },
   {
    "duration": 519,
    "start_time": "2021-08-30T13:27:21.616Z"
   },
   {
    "duration": 17,
    "start_time": "2021-08-30T13:27:23.162Z"
   },
   {
    "duration": 28,
    "start_time": "2021-08-30T13:27:23.696Z"
   },
   {
    "duration": 10,
    "start_time": "2021-08-30T13:27:24.185Z"
   },
   {
    "duration": 18,
    "start_time": "2021-08-30T13:27:25.048Z"
   },
   {
    "duration": 13,
    "start_time": "2021-08-30T13:27:26.023Z"
   },
   {
    "duration": 12,
    "start_time": "2021-08-30T13:27:27.295Z"
   },
   {
    "duration": 33,
    "start_time": "2021-08-30T13:27:29.352Z"
   },
   {
    "duration": 40,
    "start_time": "2021-08-30T13:27:29.816Z"
   },
   {
    "duration": 461,
    "start_time": "2021-08-30T13:27:31.248Z"
   },
   {
    "duration": 212,
    "start_time": "2021-08-30T13:28:02.662Z"
   },
   {
    "duration": 19,
    "start_time": "2021-08-30T13:28:04.152Z"
   },
   {
    "duration": 3,
    "start_time": "2021-08-30T13:28:12.330Z"
   },
   {
    "duration": 524,
    "start_time": "2021-08-30T13:28:12.795Z"
   },
   {
    "duration": 19,
    "start_time": "2021-08-30T13:28:14.537Z"
   },
   {
    "duration": 34,
    "start_time": "2021-08-30T13:28:16.046Z"
   },
   {
    "duration": 8,
    "start_time": "2021-08-30T13:28:16.368Z"
   },
   {
    "duration": 13,
    "start_time": "2021-08-30T13:28:17.235Z"
   },
   {
    "duration": 12,
    "start_time": "2021-08-30T13:28:18.105Z"
   },
   {
    "duration": 13,
    "start_time": "2021-08-30T13:28:20.298Z"
   },
   {
    "duration": 54,
    "start_time": "2021-08-30T13:28:20.313Z"
   },
   {
    "duration": 38,
    "start_time": "2021-08-30T13:28:21.296Z"
   },
   {
    "duration": 211,
    "start_time": "2021-08-30T13:28:22.616Z"
   },
   {
    "duration": 13,
    "start_time": "2021-08-30T13:28:23.064Z"
   },
   {
    "duration": 24,
    "start_time": "2021-08-30T13:28:24.856Z"
   },
   {
    "duration": 12,
    "start_time": "2021-08-30T13:28:26.184Z"
   },
   {
    "duration": 52,
    "start_time": "2021-08-30T13:28:30.231Z"
   },
   {
    "duration": 12,
    "start_time": "2021-08-30T13:28:32.411Z"
   },
   {
    "duration": 16,
    "start_time": "2021-08-30T13:28:35.040Z"
   },
   {
    "duration": 13,
    "start_time": "2021-08-30T13:28:44.912Z"
   },
   {
    "duration": 166,
    "start_time": "2021-08-30T13:28:47.399Z"
   },
   {
    "duration": 13,
    "start_time": "2021-08-30T13:28:48.440Z"
   },
   {
    "duration": 19,
    "start_time": "2021-08-30T13:28:55.239Z"
   },
   {
    "duration": 3,
    "start_time": "2021-08-30T13:37:04.882Z"
   },
   {
    "duration": 535,
    "start_time": "2021-08-30T13:37:05.122Z"
   },
   {
    "duration": 21,
    "start_time": "2021-08-30T13:37:05.661Z"
   },
   {
    "duration": 27,
    "start_time": "2021-08-30T13:37:06.193Z"
   },
   {
    "duration": 9,
    "start_time": "2021-08-30T13:37:06.608Z"
   },
   {
    "duration": 18,
    "start_time": "2021-08-30T13:37:07.392Z"
   },
   {
    "duration": 14,
    "start_time": "2021-08-30T13:37:08.504Z"
   },
   {
    "duration": 18,
    "start_time": "2021-08-30T13:37:09.361Z"
   },
   {
    "duration": 26,
    "start_time": "2021-08-30T13:37:10.192Z"
   },
   {
    "duration": 50,
    "start_time": "2021-08-30T13:37:10.737Z"
   },
   {
    "duration": 244,
    "start_time": "2021-08-30T13:37:11.625Z"
   },
   {
    "duration": 13,
    "start_time": "2021-08-30T13:37:11.986Z"
   },
   {
    "duration": 19,
    "start_time": "2021-08-30T13:37:12.514Z"
   },
   {
    "duration": 16,
    "start_time": "2021-08-30T13:37:13.657Z"
   },
   {
    "duration": 54,
    "start_time": "2021-08-30T13:37:14.672Z"
   },
   {
    "duration": 12,
    "start_time": "2021-08-30T13:37:15.240Z"
   },
   {
    "duration": 16,
    "start_time": "2021-08-30T13:37:15.616Z"
   },
   {
    "duration": 13,
    "start_time": "2021-08-30T13:37:17.280Z"
   },
   {
    "duration": 187,
    "start_time": "2021-08-30T13:37:18.144Z"
   },
   {
    "duration": 13,
    "start_time": "2021-08-30T13:37:18.609Z"
   },
   {
    "duration": 18,
    "start_time": "2021-08-30T13:37:22.280Z"
   },
   {
    "duration": 7,
    "start_time": "2021-08-30T13:44:17.825Z"
   },
   {
    "duration": 12,
    "start_time": "2021-08-30T13:44:22.874Z"
   },
   {
    "duration": 7241,
    "start_time": "2021-08-30T13:46:26.988Z"
   },
   {
    "duration": 7090,
    "start_time": "2021-08-30T13:47:00.690Z"
   },
   {
    "duration": 3,
    "start_time": "2021-08-30T13:47:18.289Z"
   },
   {
    "duration": 568,
    "start_time": "2021-08-30T13:47:18.521Z"
   },
   {
    "duration": 16,
    "start_time": "2021-08-30T13:47:19.092Z"
   },
   {
    "duration": 27,
    "start_time": "2021-08-30T13:47:19.778Z"
   },
   {
    "duration": 9,
    "start_time": "2021-08-30T13:47:20.177Z"
   },
   {
    "duration": 18,
    "start_time": "2021-08-30T13:47:20.761Z"
   },
   {
    "duration": 20,
    "start_time": "2021-08-30T13:47:21.361Z"
   },
   {
    "duration": 11,
    "start_time": "2021-08-30T13:47:21.881Z"
   },
   {
    "duration": 12,
    "start_time": "2021-08-30T13:47:23.593Z"
   },
   {
    "duration": 13,
    "start_time": "2021-08-30T13:47:29.371Z"
   },
   {
    "duration": 29,
    "start_time": "2021-08-30T13:47:29.770Z"
   },
   {
    "duration": 41,
    "start_time": "2021-08-30T13:47:30.089Z"
   },
   {
    "duration": 241,
    "start_time": "2021-08-30T13:47:30.690Z"
   },
   {
    "duration": 11,
    "start_time": "2021-08-30T13:47:31.241Z"
   },
   {
    "duration": 51,
    "start_time": "2021-08-30T13:47:31.880Z"
   },
   {
    "duration": 26,
    "start_time": "2021-08-30T13:47:32.457Z"
   },
   {
    "duration": 199,
    "start_time": "2021-08-30T13:47:33.024Z"
   },
   {
    "duration": 5,
    "start_time": "2021-08-30T14:01:54.858Z"
   },
   {
    "duration": 581,
    "start_time": "2021-08-30T14:01:55.066Z"
   },
   {
    "duration": 24,
    "start_time": "2021-08-30T14:01:55.650Z"
   },
   {
    "duration": 28,
    "start_time": "2021-08-30T14:01:56.305Z"
   },
   {
    "duration": 9,
    "start_time": "2021-08-30T14:01:56.738Z"
   },
   {
    "duration": 17,
    "start_time": "2021-08-30T14:01:57.569Z"
   },
   {
    "duration": 16,
    "start_time": "2021-08-30T14:01:57.936Z"
   },
   {
    "duration": 12,
    "start_time": "2021-08-30T14:01:58.913Z"
   },
   {
    "duration": 12,
    "start_time": "2021-08-30T14:01:59.537Z"
   },
   {
    "duration": 12,
    "start_time": "2021-08-30T14:01:59.978Z"
   },
   {
    "duration": 16,
    "start_time": "2021-08-30T14:02:00.971Z"
   },
   {
    "duration": 28,
    "start_time": "2021-08-30T14:02:01.400Z"
   },
   {
    "duration": 52,
    "start_time": "2021-08-30T14:02:01.850Z"
   },
   {
    "duration": 239,
    "start_time": "2021-08-30T14:02:02.762Z"
   },
   {
    "duration": 14,
    "start_time": "2021-08-30T14:02:03.233Z"
   },
   {
    "duration": 11,
    "start_time": "2021-08-30T14:02:04.538Z"
   },
   {
    "duration": 53,
    "start_time": "2021-08-30T14:02:05.408Z"
   },
   {
    "duration": 20,
    "start_time": "2021-08-30T14:02:05.762Z"
   },
   {
    "duration": 14,
    "start_time": "2021-08-30T14:02:06.713Z"
   },
   {
    "duration": 189,
    "start_time": "2021-08-30T14:02:07.665Z"
   },
   {
    "duration": 15,
    "start_time": "2021-08-30T14:02:08.144Z"
   },
   {
    "duration": 13,
    "start_time": "2021-08-30T14:09:27.581Z"
   },
   {
    "duration": 42,
    "start_time": "2021-08-30T14:13:27.843Z"
   },
   {
    "duration": 43,
    "start_time": "2021-08-30T14:13:32.601Z"
   },
   {
    "duration": 26,
    "start_time": "2021-08-30T14:15:53.371Z"
   },
   {
    "duration": 287,
    "start_time": "2021-08-30T14:22:30.203Z"
   },
   {
    "duration": 491,
    "start_time": "2021-08-30T14:23:26.163Z"
   },
   {
    "duration": 496,
    "start_time": "2021-08-30T14:23:54.996Z"
   },
   {
    "duration": 135,
    "start_time": "2021-08-30T14:24:17.374Z"
   },
   {
    "duration": 589,
    "start_time": "2021-08-30T14:26:17.308Z"
   },
   {
    "duration": 278,
    "start_time": "2021-08-30T14:26:23.621Z"
   },
   {
    "duration": 4,
    "start_time": "2021-08-30T14:26:41.267Z"
   },
   {
    "duration": 5,
    "start_time": "2021-08-30T14:26:41.669Z"
   },
   {
    "duration": 585,
    "start_time": "2021-08-30T14:26:42.250Z"
   },
   {
    "duration": 31,
    "start_time": "2021-08-30T14:26:43.650Z"
   },
   {
    "duration": 26,
    "start_time": "2021-08-30T14:26:44.226Z"
   },
   {
    "duration": 9,
    "start_time": "2021-08-30T14:26:44.610Z"
   },
   {
    "duration": 22,
    "start_time": "2021-08-30T14:26:45.363Z"
   },
   {
    "duration": 18,
    "start_time": "2021-08-30T14:26:45.738Z"
   },
   {
    "duration": 11,
    "start_time": "2021-08-30T14:26:46.586Z"
   },
   {
    "duration": 12,
    "start_time": "2021-08-30T14:26:47.034Z"
   },
   {
    "duration": 12,
    "start_time": "2021-08-30T14:26:47.434Z"
   },
   {
    "duration": 12,
    "start_time": "2021-08-30T14:26:48.210Z"
   },
   {
    "duration": 27,
    "start_time": "2021-08-30T14:26:48.714Z"
   },
   {
    "duration": 38,
    "start_time": "2021-08-30T14:26:49.089Z"
   },
   {
    "duration": 231,
    "start_time": "2021-08-30T14:26:49.833Z"
   },
   {
    "duration": 13,
    "start_time": "2021-08-30T14:26:50.194Z"
   },
   {
    "duration": 11,
    "start_time": "2021-08-30T14:26:50.979Z"
   },
   {
    "duration": 47,
    "start_time": "2021-08-30T14:26:51.689Z"
   },
   {
    "duration": 19,
    "start_time": "2021-08-30T14:26:52.066Z"
   },
   {
    "duration": 13,
    "start_time": "2021-08-30T14:26:52.801Z"
   },
   {
    "duration": 200,
    "start_time": "2021-08-30T14:26:53.521Z"
   },
   {
    "duration": 14,
    "start_time": "2021-08-30T14:26:53.841Z"
   },
   {
    "duration": 13,
    "start_time": "2021-08-30T14:26:55.609Z"
   },
   {
    "duration": 128,
    "start_time": "2021-08-30T14:26:55.939Z"
   },
   {
    "duration": 5,
    "start_time": "2021-08-30T14:34:55.163Z"
   },
   {
    "duration": 13,
    "start_time": "2021-08-30T14:35:00.395Z"
   },
   {
    "duration": 646,
    "start_time": "2021-08-30T14:35:01.370Z"
   },
   {
    "duration": 12,
    "start_time": "2021-08-30T14:35:16.338Z"
   },
   {
    "duration": 140,
    "start_time": "2021-08-30T14:35:22.457Z"
   },
   {
    "duration": 22,
    "start_time": "2021-08-30T14:35:33.051Z"
   },
   {
    "duration": 16,
    "start_time": "2021-08-30T14:36:59.901Z"
   },
   {
    "duration": 62,
    "start_time": "2021-08-30T14:38:01.972Z"
   },
   {
    "duration": 20,
    "start_time": "2021-08-30T14:40:26.357Z"
   },
   {
    "duration": 83,
    "start_time": "2021-08-30T14:41:00.436Z"
   },
   {
    "duration": 369,
    "start_time": "2021-08-30T15:08:17.380Z"
   },
   {
    "duration": 97,
    "start_time": "2021-08-30T15:08:55.925Z"
   },
   {
    "duration": 79,
    "start_time": "2021-08-30T15:09:32.454Z"
   },
   {
    "duration": 84,
    "start_time": "2021-08-30T15:09:48.724Z"
   },
   {
    "duration": 14,
    "start_time": "2021-08-30T15:23:08.101Z"
   },
   {
    "duration": 6,
    "start_time": "2021-08-30T15:23:09.019Z"
   },
   {
    "duration": 18,
    "start_time": "2021-08-30T15:23:09.412Z"
   },
   {
    "duration": 151,
    "start_time": "2021-08-30T15:23:09.949Z"
   },
   {
    "duration": 66,
    "start_time": "2021-08-30T15:23:10.677Z"
   },
   {
    "duration": 12,
    "start_time": "2021-08-30T15:23:11.644Z"
   },
   {
    "duration": 81,
    "start_time": "2021-08-30T15:23:12.125Z"
   },
   {
    "duration": 13,
    "start_time": "2021-08-30T15:23:13.030Z"
   },
   {
    "duration": 74,
    "start_time": "2021-08-30T15:23:13.607Z"
   },
   {
    "duration": 48,
    "start_time": "2021-08-30T15:50:39.477Z"
   },
   {
    "duration": 112,
    "start_time": "2021-08-30T15:51:24.358Z"
   },
   {
    "duration": 4,
    "start_time": "2021-08-30T15:54:18.077Z"
   },
   {
    "duration": 3,
    "start_time": "2021-08-30T15:54:18.660Z"
   },
   {
    "duration": 594,
    "start_time": "2021-08-30T15:54:19.277Z"
   },
   {
    "duration": 16,
    "start_time": "2021-08-30T15:54:21.088Z"
   },
   {
    "duration": 33,
    "start_time": "2021-08-30T15:54:21.789Z"
   },
   {
    "duration": 13,
    "start_time": "2021-08-30T15:54:22.268Z"
   },
   {
    "duration": 15,
    "start_time": "2021-08-30T15:54:23.157Z"
   },
   {
    "duration": 16,
    "start_time": "2021-08-30T15:54:23.629Z"
   },
   {
    "duration": 35,
    "start_time": "2021-08-30T15:54:24.549Z"
   },
   {
    "duration": 19,
    "start_time": "2021-08-30T15:54:24.966Z"
   },
   {
    "duration": 22,
    "start_time": "2021-08-30T15:54:25.365Z"
   },
   {
    "duration": 12,
    "start_time": "2021-08-30T15:54:26.123Z"
   },
   {
    "duration": 42,
    "start_time": "2021-08-30T15:54:26.444Z"
   },
   {
    "duration": 39,
    "start_time": "2021-08-30T15:54:26.796Z"
   },
   {
    "duration": 257,
    "start_time": "2021-08-30T15:54:27.451Z"
   },
   {
    "duration": 14,
    "start_time": "2021-08-30T15:54:27.806Z"
   },
   {
    "duration": 15,
    "start_time": "2021-08-30T15:54:28.509Z"
   },
   {
    "duration": 56,
    "start_time": "2021-08-30T15:54:29.172Z"
   },
   {
    "duration": 12,
    "start_time": "2021-08-30T15:54:29.525Z"
   },
   {
    "duration": 12,
    "start_time": "2021-08-30T15:54:30.229Z"
   },
   {
    "duration": 210,
    "start_time": "2021-08-30T15:54:30.957Z"
   },
   {
    "duration": 14,
    "start_time": "2021-08-30T15:54:31.317Z"
   },
   {
    "duration": 15,
    "start_time": "2021-08-30T15:54:32.845Z"
   },
   {
    "duration": 11,
    "start_time": "2021-08-30T15:54:33.612Z"
   },
   {
    "duration": 13,
    "start_time": "2021-08-30T15:54:33.981Z"
   },
   {
    "duration": 127,
    "start_time": "2021-08-30T15:54:34.342Z"
   },
   {
    "duration": 66,
    "start_time": "2021-08-30T15:54:34.644Z"
   },
   {
    "duration": 13,
    "start_time": "2021-08-30T15:54:35.375Z"
   },
   {
    "duration": 68,
    "start_time": "2021-08-30T15:54:35.709Z"
   },
   {
    "duration": 12,
    "start_time": "2021-08-30T15:54:36.484Z"
   },
   {
    "duration": 67,
    "start_time": "2021-08-30T15:54:36.822Z"
   },
   {
    "duration": 95,
    "start_time": "2021-08-30T15:54:37.176Z"
   },
   {
    "duration": 94,
    "start_time": "2021-08-30T15:55:48.987Z"
   },
   {
    "duration": 14,
    "start_time": "2021-08-30T15:55:54.733Z"
   },
   {
    "duration": 177,
    "start_time": "2021-08-30T15:57:00.221Z"
   },
   {
    "duration": 502,
    "start_time": "2021-08-31T12:48:55.946Z"
   },
   {
    "duration": 4,
    "start_time": "2021-08-31T12:48:56.855Z"
   },
   {
    "duration": 420,
    "start_time": "2021-08-31T12:48:57.333Z"
   },
   {
    "duration": 16,
    "start_time": "2021-08-31T12:48:58.496Z"
   },
   {
    "duration": 19,
    "start_time": "2021-08-31T12:48:58.933Z"
   },
   {
    "duration": 6,
    "start_time": "2021-08-31T12:48:59.309Z"
   },
   {
    "duration": 9,
    "start_time": "2021-08-31T12:48:59.966Z"
   },
   {
    "duration": 10,
    "start_time": "2021-08-31T12:49:00.421Z"
   },
   {
    "duration": 8,
    "start_time": "2021-08-31T12:49:02.950Z"
   },
   {
    "duration": 9,
    "start_time": "2021-08-31T12:49:05.934Z"
   },
   {
    "duration": 8,
    "start_time": "2021-08-31T12:49:06.461Z"
   },
   {
    "duration": 10,
    "start_time": "2021-08-31T12:50:05.231Z"
   },
   {
    "duration": 9,
    "start_time": "2021-08-31T12:50:11.373Z"
   },
   {
    "duration": 253,
    "start_time": "2021-08-31T12:50:43.182Z"
   },
   {
    "duration": 6,
    "start_time": "2021-08-31T12:50:51.750Z"
   },
   {
    "duration": 6,
    "start_time": "2021-08-31T12:51:04.253Z"
   },
   {
    "duration": 164,
    "start_time": "2021-08-31T12:51:15.639Z"
   },
   {
    "duration": 6,
    "start_time": "2021-08-31T12:51:23.424Z"
   },
   {
    "duration": 7,
    "start_time": "2021-08-31T12:51:30.414Z"
   },
   {
    "duration": 286,
    "start_time": "2021-08-31T12:51:38.749Z"
   },
   {
    "duration": 6,
    "start_time": "2021-08-31T12:51:42.326Z"
   },
   {
    "duration": 5,
    "start_time": "2021-08-31T12:51:46.909Z"
   },
   {
    "duration": 5,
    "start_time": "2021-08-31T12:51:58.253Z"
   },
   {
    "duration": 8,
    "start_time": "2021-08-31T12:52:21.221Z"
   },
   {
    "duration": 190,
    "start_time": "2021-08-31T13:16:14.400Z"
   },
   {
    "duration": 182,
    "start_time": "2021-08-31T13:16:27.471Z"
   },
   {
    "duration": 182,
    "start_time": "2021-08-31T13:16:40.904Z"
   },
   {
    "duration": 205,
    "start_time": "2021-08-31T13:16:44.112Z"
   },
   {
    "duration": 170,
    "start_time": "2021-08-31T13:17:07.774Z"
   },
   {
    "duration": 184,
    "start_time": "2021-08-31T13:17:15.267Z"
   },
   {
    "duration": 2,
    "start_time": "2021-08-31T13:17:23.153Z"
   },
   {
    "duration": 3,
    "start_time": "2021-08-31T13:17:23.664Z"
   },
   {
    "duration": 437,
    "start_time": "2021-08-31T13:17:24.099Z"
   },
   {
    "duration": 10,
    "start_time": "2021-08-31T13:17:25.442Z"
   },
   {
    "duration": 18,
    "start_time": "2021-08-31T13:17:25.952Z"
   },
   {
    "duration": 7,
    "start_time": "2021-08-31T13:17:26.344Z"
   },
   {
    "duration": 8,
    "start_time": "2021-08-31T13:17:26.928Z"
   },
   {
    "duration": 11,
    "start_time": "2021-08-31T13:17:27.183Z"
   },
   {
    "duration": 8,
    "start_time": "2021-08-31T13:17:27.706Z"
   },
   {
    "duration": 8,
    "start_time": "2021-08-31T13:17:27.950Z"
   },
   {
    "duration": 8,
    "start_time": "2021-08-31T13:17:28.231Z"
   },
   {
    "duration": 6,
    "start_time": "2021-08-31T13:17:28.487Z"
   },
   {
    "duration": 9,
    "start_time": "2021-08-31T13:17:28.967Z"
   },
   {
    "duration": 19,
    "start_time": "2021-08-31T13:17:29.202Z"
   },
   {
    "duration": 28,
    "start_time": "2021-08-31T13:17:29.451Z"
   },
   {
    "duration": 144,
    "start_time": "2021-08-31T13:17:29.917Z"
   },
   {
    "duration": 8,
    "start_time": "2021-08-31T13:17:30.144Z"
   },
   {
    "duration": 7,
    "start_time": "2021-08-31T13:17:30.615Z"
   },
   {
    "duration": 33,
    "start_time": "2021-08-31T13:17:31.070Z"
   },
   {
    "duration": 8,
    "start_time": "2021-08-31T13:17:31.288Z"
   },
   {
    "duration": 9,
    "start_time": "2021-08-31T13:17:31.744Z"
   },
   {
    "duration": 115,
    "start_time": "2021-08-31T13:17:32.239Z"
   },
   {
    "duration": 8,
    "start_time": "2021-08-31T13:17:32.488Z"
   },
   {
    "duration": 9,
    "start_time": "2021-08-31T13:17:33.711Z"
   },
   {
    "duration": 8,
    "start_time": "2021-08-31T13:17:34.222Z"
   },
   {
    "duration": 9,
    "start_time": "2021-08-31T13:17:34.448Z"
   },
   {
    "duration": 65,
    "start_time": "2021-08-31T13:17:34.698Z"
   },
   {
    "duration": 34,
    "start_time": "2021-08-31T13:17:35.048Z"
   },
   {
    "duration": 8,
    "start_time": "2021-08-31T13:17:35.694Z"
   },
   {
    "duration": 39,
    "start_time": "2021-08-31T13:17:36.025Z"
   },
   {
    "duration": 8,
    "start_time": "2021-08-31T13:17:36.592Z"
   },
   {
    "duration": 33,
    "start_time": "2021-08-31T13:17:36.856Z"
   },
   {
    "duration": 51,
    "start_time": "2021-08-31T13:17:37.118Z"
   },
   {
    "duration": 18,
    "start_time": "2021-08-31T13:17:37.400Z"
   },
   {
    "duration": 8,
    "start_time": "2021-08-31T13:17:37.670Z"
   },
   {
    "duration": 62,
    "start_time": "2021-08-31T13:17:37.936Z"
   },
   {
    "duration": 9,
    "start_time": "2021-08-31T13:17:38.462Z"
   },
   {
    "duration": 90,
    "start_time": "2021-08-31T13:17:38.866Z"
   },
   {
    "duration": 26,
    "start_time": "2021-08-31T13:18:06.890Z"
   },
   {
    "duration": 6,
    "start_time": "2021-08-31T13:18:14.945Z"
   },
   {
    "duration": 7,
    "start_time": "2021-08-31T13:18:23.087Z"
   },
   {
    "duration": 7,
    "start_time": "2021-08-31T13:18:35.286Z"
   },
   {
    "duration": 6,
    "start_time": "2021-08-31T13:18:38.239Z"
   },
   {
    "duration": 6,
    "start_time": "2021-08-31T14:09:05.489Z"
   },
   {
    "duration": 50,
    "start_time": "2021-08-31T14:09:18.255Z"
   },
   {
    "duration": 45,
    "start_time": "2021-08-31T14:09:24.968Z"
   },
   {
    "duration": 7,
    "start_time": "2021-08-31T14:09:43.964Z"
   },
   {
    "duration": 354,
    "start_time": "2021-08-31T14:10:58.570Z"
   },
   {
    "duration": 7,
    "start_time": "2021-08-31T14:11:42.034Z"
   },
   {
    "duration": 352,
    "start_time": "2021-08-31T14:11:42.887Z"
   },
   {
    "duration": 170,
    "start_time": "2021-08-31T14:11:58.954Z"
   },
   {
    "duration": 176,
    "start_time": "2021-08-31T14:12:20.296Z"
   },
   {
    "duration": 7,
    "start_time": "2021-08-31T14:12:30.488Z"
   },
   {
    "duration": 5,
    "start_time": "2021-08-31T14:12:42.457Z"
   },
   {
    "duration": 228,
    "start_time": "2021-08-31T14:16:53.466Z"
   },
   {
    "duration": 6,
    "start_time": "2021-08-31T14:25:28.612Z"
   },
   {
    "duration": 169,
    "start_time": "2021-08-31T14:25:29.762Z"
   },
   {
    "duration": 168,
    "start_time": "2021-08-31T14:25:54.666Z"
   },
   {
    "duration": 184,
    "start_time": "2021-08-31T14:26:24.193Z"
   },
   {
    "duration": 189,
    "start_time": "2021-08-31T14:26:30.842Z"
   },
   {
    "duration": 166,
    "start_time": "2021-08-31T14:27:54.804Z"
   },
   {
    "duration": 199,
    "start_time": "2021-08-31T14:32:06.537Z"
   },
   {
    "duration": 190,
    "start_time": "2021-08-31T14:32:23.818Z"
   },
   {
    "duration": 9,
    "start_time": "2021-08-31T14:32:51.497Z"
   },
   {
    "duration": 399,
    "start_time": "2021-08-31T14:32:52.072Z"
   },
   {
    "duration": 8,
    "start_time": "2021-08-31T14:33:49.394Z"
   },
   {
    "duration": 4258,
    "start_time": "2021-08-31T14:34:02.816Z"
   },
   {
    "duration": 159,
    "start_time": "2021-08-31T14:34:12.280Z"
   },
   {
    "duration": 6,
    "start_time": "2021-08-31T14:34:24.016Z"
   },
   {
    "duration": 1190,
    "start_time": "2021-08-31T14:34:46.568Z"
   },
   {
    "duration": 6,
    "start_time": "2021-08-31T14:35:19.449Z"
   },
   {
    "duration": 6,
    "start_time": "2021-08-31T14:38:33.633Z"
   },
   {
    "duration": 6,
    "start_time": "2021-08-31T14:40:29.608Z"
   },
   {
    "duration": 6,
    "start_time": "2021-08-31T14:40:33.705Z"
   },
   {
    "duration": 6,
    "start_time": "2021-08-31T14:40:40.602Z"
   },
   {
    "duration": 5,
    "start_time": "2021-08-31T14:40:51.880Z"
   },
   {
    "duration": 5,
    "start_time": "2021-08-31T14:40:57.800Z"
   },
   {
    "duration": 5,
    "start_time": "2021-08-31T14:41:34.706Z"
   },
   {
    "duration": 7,
    "start_time": "2021-08-31T14:41:41.394Z"
   },
   {
    "duration": 6,
    "start_time": "2021-08-31T14:41:59.370Z"
   },
   {
    "duration": 373,
    "start_time": "2021-08-31T14:42:00.291Z"
   },
   {
    "duration": 8,
    "start_time": "2021-08-31T14:42:06.912Z"
   },
   {
    "duration": 364,
    "start_time": "2021-08-31T14:42:07.496Z"
   },
   {
    "duration": 6,
    "start_time": "2021-08-31T14:42:25.520Z"
   },
   {
    "duration": 5,
    "start_time": "2021-08-31T14:45:36.081Z"
   },
   {
    "duration": 6,
    "start_time": "2021-08-31T14:45:46.802Z"
   },
   {
    "duration": 164,
    "start_time": "2021-08-31T14:45:52.952Z"
   },
   {
    "duration": 4364,
    "start_time": "2021-08-31T14:46:00.616Z"
   },
   {
    "duration": 6,
    "start_time": "2021-08-31T14:46:14.127Z"
   },
   {
    "duration": 6,
    "start_time": "2021-08-31T14:49:07.498Z"
   },
   {
    "duration": 372,
    "start_time": "2021-08-31T14:49:16.857Z"
   },
   {
    "duration": 6,
    "start_time": "2021-08-31T14:51:33.345Z"
   },
   {
    "duration": 6,
    "start_time": "2021-08-31T14:51:34.562Z"
   },
   {
    "duration": 388,
    "start_time": "2021-08-31T14:51:35.253Z"
   },
   {
    "duration": 6,
    "start_time": "2021-08-31T14:51:56.529Z"
   },
   {
    "duration": 346,
    "start_time": "2021-08-31T14:51:57.080Z"
   },
   {
    "duration": 6,
    "start_time": "2021-08-31T14:52:20.257Z"
   },
   {
    "duration": 4441,
    "start_time": "2021-08-31T14:52:20.858Z"
   },
   {
    "duration": 44,
    "start_time": "2021-08-31T14:56:12.560Z"
   },
   {
    "duration": 52,
    "start_time": "2021-08-31T14:56:21.163Z"
   },
   {
    "duration": 6,
    "start_time": "2021-08-31T15:02:23.962Z"
   },
   {
    "duration": 4512,
    "start_time": "2021-08-31T15:02:24.673Z"
   },
   {
    "duration": 756,
    "start_time": "2021-09-01T13:34:18.715Z"
   },
   {
    "duration": 3,
    "start_time": "2021-09-01T13:34:19.474Z"
   },
   {
    "duration": 568,
    "start_time": "2021-09-01T13:34:19.678Z"
   },
   {
    "duration": 28,
    "start_time": "2021-09-01T13:34:20.792Z"
   },
   {
    "duration": 30,
    "start_time": "2021-09-01T13:34:21.309Z"
   },
   {
    "duration": 9,
    "start_time": "2021-09-01T13:34:21.670Z"
   },
   {
    "duration": 14,
    "start_time": "2021-09-01T13:34:22.405Z"
   },
   {
    "duration": 18,
    "start_time": "2021-09-01T13:34:22.758Z"
   },
   {
    "duration": 12,
    "start_time": "2021-09-01T13:34:23.414Z"
   },
   {
    "duration": 18,
    "start_time": "2021-09-01T13:34:23.747Z"
   },
   {
    "duration": 12,
    "start_time": "2021-09-01T13:34:24.063Z"
   },
   {
    "duration": 9,
    "start_time": "2021-09-01T13:34:24.352Z"
   },
   {
    "duration": 13,
    "start_time": "2021-09-01T13:34:24.942Z"
   },
   {
    "duration": 28,
    "start_time": "2021-09-01T13:34:25.246Z"
   },
   {
    "duration": 41,
    "start_time": "2021-09-01T13:34:25.549Z"
   },
   {
    "duration": 225,
    "start_time": "2021-09-01T13:34:26.173Z"
   },
   {
    "duration": 13,
    "start_time": "2021-09-01T13:34:26.453Z"
   },
   {
    "duration": 13,
    "start_time": "2021-09-01T13:34:26.998Z"
   },
   {
    "duration": 50,
    "start_time": "2021-09-01T13:34:27.562Z"
   },
   {
    "duration": 12,
    "start_time": "2021-09-01T13:34:27.846Z"
   },
   {
    "duration": 15,
    "start_time": "2021-09-01T13:34:28.396Z"
   },
   {
    "duration": 199,
    "start_time": "2021-09-01T13:34:28.939Z"
   },
   {
    "duration": 13,
    "start_time": "2021-09-01T13:34:29.229Z"
   },
   {
    "duration": 13,
    "start_time": "2021-09-01T13:34:30.628Z"
   },
   {
    "duration": 9,
    "start_time": "2021-09-01T13:34:31.236Z"
   },
   {
    "duration": 16,
    "start_time": "2021-09-01T13:34:31.541Z"
   },
   {
    "duration": 104,
    "start_time": "2021-09-01T13:34:31.823Z"
   },
   {
    "duration": 57,
    "start_time": "2021-09-01T13:34:32.070Z"
   },
   {
    "duration": 13,
    "start_time": "2021-09-01T13:34:32.654Z"
   },
   {
    "duration": 61,
    "start_time": "2021-09-01T13:34:32.886Z"
   },
   {
    "duration": 14,
    "start_time": "2021-09-01T13:34:33.541Z"
   },
   {
    "duration": 54,
    "start_time": "2021-09-01T13:34:33.829Z"
   },
   {
    "duration": 87,
    "start_time": "2021-09-01T13:34:34.137Z"
   },
   {
    "duration": 11,
    "start_time": "2021-09-01T13:34:34.428Z"
   },
   {
    "duration": 13,
    "start_time": "2021-09-01T13:34:34.733Z"
   },
   {
    "duration": 9,
    "start_time": "2021-09-01T13:34:35.349Z"
   },
   {
    "duration": 8423,
    "start_time": "2021-09-01T13:34:36.575Z"
   },
   {
    "duration": -57,
    "start_time": "2021-09-01T13:34:45.059Z"
   },
   {
    "duration": -62,
    "start_time": "2021-09-01T13:34:45.066Z"
   },
   {
    "duration": -73,
    "start_time": "2021-09-01T13:34:45.079Z"
   },
   {
    "duration": 9,
    "start_time": "2021-09-01T13:35:48.727Z"
   },
   {
    "duration": 8358,
    "start_time": "2021-09-01T13:35:49.436Z"
   },
   {
    "duration": 10,
    "start_time": "2021-09-01T13:36:21.709Z"
   },
   {
    "duration": 8633,
    "start_time": "2021-09-01T13:36:22.783Z"
   },
   {
    "duration": 424,
    "start_time": "2021-09-01T13:37:50.422Z"
   },
   {
    "duration": 10001,
    "start_time": "2021-09-01T13:38:28.003Z"
   },
   {
    "duration": 384,
    "start_time": "2021-09-01T13:38:50.830Z"
   },
   {
    "duration": 9,
    "start_time": "2021-09-01T13:39:44.031Z"
   },
   {
    "duration": 401,
    "start_time": "2021-09-01T13:39:52.589Z"
   },
   {
    "duration": 8,
    "start_time": "2021-09-01T13:40:05.055Z"
   },
   {
    "duration": 489,
    "start_time": "2021-09-01T13:40:25.654Z"
   },
   {
    "duration": 8,
    "start_time": "2021-09-01T13:41:32.511Z"
   },
   {
    "duration": 8,
    "start_time": "2021-09-01T13:41:48.623Z"
   },
   {
    "duration": 6,
    "start_time": "2021-09-01T13:42:37.342Z"
   },
   {
    "duration": 10,
    "start_time": "2021-09-01T13:42:58.183Z"
   },
   {
    "duration": 8800,
    "start_time": "2021-09-01T13:43:00.062Z"
   },
   {
    "duration": 9,
    "start_time": "2021-09-01T13:43:34.705Z"
   },
   {
    "duration": 8434,
    "start_time": "2021-09-01T13:43:36.479Z"
   },
   {
    "duration": 10,
    "start_time": "2021-09-01T13:43:57.358Z"
   },
   {
    "duration": 10456,
    "start_time": "2021-09-01T13:43:59.437Z"
   },
   {
    "duration": 8,
    "start_time": "2021-09-01T13:45:12.215Z"
   },
   {
    "duration": 8486,
    "start_time": "2021-09-01T13:45:14.868Z"
   },
   {
    "duration": 79,
    "start_time": "2021-09-01T13:45:52.331Z"
   },
   {
    "duration": 8,
    "start_time": "2021-09-01T13:49:18.166Z"
   },
   {
    "duration": 7,
    "start_time": "2021-09-01T13:49:20.565Z"
   },
   {
    "duration": 8343,
    "start_time": "2021-09-01T13:49:21.406Z"
   },
   {
    "duration": 790,
    "start_time": "2021-09-01T13:52:07.239Z"
   },
   {
    "duration": 9,
    "start_time": "2021-09-01T13:52:16.894Z"
   },
   {
    "duration": 7,
    "start_time": "2021-09-01T13:52:18.286Z"
   },
   {
    "duration": 8384,
    "start_time": "2021-09-01T13:52:18.949Z"
   },
   {
    "duration": 8,
    "start_time": "2021-09-01T13:53:45.789Z"
   },
   {
    "duration": 7,
    "start_time": "2021-09-01T13:53:47.996Z"
   },
   {
    "duration": 9099,
    "start_time": "2021-09-01T13:53:48.646Z"
   },
   {
    "duration": 11,
    "start_time": "2021-09-01T14:05:24.814Z"
   },
   {
    "duration": 7,
    "start_time": "2021-09-01T14:05:26.796Z"
   },
   {
    "duration": 8707,
    "start_time": "2021-09-01T14:05:27.471Z"
   },
   {
    "duration": 921,
    "start_time": "2021-09-02T11:09:24.512Z"
   },
   {
    "duration": 3,
    "start_time": "2021-09-02T11:09:25.805Z"
   },
   {
    "duration": 531,
    "start_time": "2021-09-02T11:09:26.777Z"
   },
   {
    "duration": 38,
    "start_time": "2021-09-02T11:09:28.037Z"
   },
   {
    "duration": 28,
    "start_time": "2021-09-02T11:09:28.324Z"
   },
   {
    "duration": 10,
    "start_time": "2021-09-02T11:09:28.700Z"
   },
   {
    "duration": 16,
    "start_time": "2021-09-02T11:09:29.261Z"
   },
   {
    "duration": 21,
    "start_time": "2021-09-02T11:09:29.556Z"
   },
   {
    "duration": 12,
    "start_time": "2021-09-02T11:09:30.431Z"
   },
   {
    "duration": 19,
    "start_time": "2021-09-02T11:09:30.861Z"
   },
   {
    "duration": 12,
    "start_time": "2021-09-02T11:09:31.380Z"
   },
   {
    "duration": 8,
    "start_time": "2021-09-02T11:09:31.740Z"
   },
   {
    "duration": 13,
    "start_time": "2021-09-02T11:09:32.452Z"
   },
   {
    "duration": 26,
    "start_time": "2021-09-02T11:09:32.804Z"
   },
   {
    "duration": 40,
    "start_time": "2021-09-02T11:09:33.260Z"
   },
   {
    "duration": 245,
    "start_time": "2021-09-02T11:09:33.932Z"
   },
   {
    "duration": 14,
    "start_time": "2021-09-02T11:09:34.350Z"
   },
   {
    "duration": 12,
    "start_time": "2021-09-02T11:09:35.181Z"
   },
   {
    "duration": 51,
    "start_time": "2021-09-02T11:09:35.902Z"
   },
   {
    "duration": 13,
    "start_time": "2021-09-02T11:09:36.375Z"
   },
   {
    "duration": 14,
    "start_time": "2021-09-02T11:09:37.141Z"
   },
   {
    "duration": 190,
    "start_time": "2021-09-02T11:09:37.806Z"
   },
   {
    "duration": 14,
    "start_time": "2021-09-02T11:09:38.133Z"
   },
   {
    "duration": 14,
    "start_time": "2021-09-02T11:09:39.710Z"
   },
   {
    "duration": 11,
    "start_time": "2021-09-02T11:09:40.443Z"
   },
   {
    "duration": 17,
    "start_time": "2021-09-02T11:09:40.765Z"
   },
   {
    "duration": 111,
    "start_time": "2021-09-02T11:09:41.069Z"
   },
   {
    "duration": 56,
    "start_time": "2021-09-02T11:09:41.397Z"
   },
   {
    "duration": 14,
    "start_time": "2021-09-02T11:09:43.260Z"
   },
   {
    "duration": 62,
    "start_time": "2021-09-02T11:09:43.781Z"
   },
   {
    "duration": 13,
    "start_time": "2021-09-02T11:09:45.045Z"
   },
   {
    "duration": 60,
    "start_time": "2021-09-02T11:09:45.349Z"
   },
   {
    "duration": 80,
    "start_time": "2021-09-02T11:09:45.680Z"
   },
   {
    "duration": 9,
    "start_time": "2021-09-02T11:09:45.977Z"
   },
   {
    "duration": 12,
    "start_time": "2021-09-02T11:09:46.292Z"
   },
   {
    "duration": 9,
    "start_time": "2021-09-02T11:09:46.855Z"
   },
   {
    "duration": 6,
    "start_time": "2021-09-02T11:09:47.909Z"
   },
   {
    "duration": 821,
    "start_time": "2021-09-02T11:09:50.286Z"
   },
   {
    "duration": 9,
    "start_time": "2021-09-02T11:10:07.238Z"
   },
   {
    "duration": 7,
    "start_time": "2021-09-02T11:10:07.799Z"
   },
   {
    "duration": 8016,
    "start_time": "2021-09-02T11:10:08.372Z"
   },
   {
    "duration": 12,
    "start_time": "2021-09-02T11:12:49.869Z"
   },
   {
    "duration": 7,
    "start_time": "2021-09-02T11:12:51.231Z"
   },
   {
    "duration": 34889,
    "start_time": "2021-09-02T11:12:51.822Z"
   },
   {
    "duration": 72,
    "start_time": "2021-09-02T11:15:38.020Z"
   },
   {
    "duration": 9,
    "start_time": "2021-09-02T11:20:44.398Z"
   },
   {
    "duration": 9,
    "start_time": "2021-09-02T11:20:45.261Z"
   },
   {
    "duration": 37435,
    "start_time": "2021-09-02T11:20:46.509Z"
   },
   {
    "duration": 9,
    "start_time": "2021-09-02T11:24:28.408Z"
   },
   {
    "duration": 7,
    "start_time": "2021-09-02T11:24:29.924Z"
   },
   {
    "duration": 39205,
    "start_time": "2021-09-02T11:24:30.605Z"
   },
   {
    "duration": 36066,
    "start_time": "2021-09-02T11:28:55.840Z"
   },
   {
    "duration": 20,
    "start_time": "2021-09-02T11:36:04.557Z"
   },
   {
    "duration": 6,
    "start_time": "2021-09-02T11:36:06.940Z"
   },
   {
    "duration": 45896,
    "start_time": "2021-09-02T11:36:07.222Z"
   },
   {
    "duration": 9,
    "start_time": "2021-09-02T11:37:37.399Z"
   },
   {
    "duration": 6,
    "start_time": "2021-09-02T11:37:37.846Z"
   },
   {
    "duration": 886,
    "start_time": "2021-09-02T11:37:38.864Z"
   },
   {
    "duration": 9,
    "start_time": "2021-09-02T11:38:18.623Z"
   },
   {
    "duration": 6,
    "start_time": "2021-09-02T11:38:19.823Z"
   },
   {
    "duration": 43252,
    "start_time": "2021-09-02T11:38:20.366Z"
   },
   {
    "duration": 9,
    "start_time": "2021-09-02T11:41:33.694Z"
   },
   {
    "duration": 7,
    "start_time": "2021-09-02T11:41:34.534Z"
   },
   {
    "duration": 62194,
    "start_time": "2021-09-02T11:41:35.285Z"
   },
   {
    "duration": 93,
    "start_time": "2021-09-02T11:43:05.479Z"
   },
   {
    "duration": 8,
    "start_time": "2021-09-02T11:53:30.626Z"
   },
   {
    "duration": 3,
    "start_time": "2021-09-02T11:53:42.590Z"
   },
   {
    "duration": 4,
    "start_time": "2021-09-02T11:53:43.004Z"
   },
   {
    "duration": 547,
    "start_time": "2021-09-02T11:53:43.372Z"
   },
   {
    "duration": 17,
    "start_time": "2021-09-02T11:53:44.185Z"
   },
   {
    "duration": 30,
    "start_time": "2021-09-02T11:53:44.549Z"
   },
   {
    "duration": 10,
    "start_time": "2021-09-02T11:53:44.861Z"
   },
   {
    "duration": 13,
    "start_time": "2021-09-02T11:53:45.413Z"
   },
   {
    "duration": 17,
    "start_time": "2021-09-02T11:53:45.694Z"
   },
   {
    "duration": 12,
    "start_time": "2021-09-02T11:53:46.205Z"
   },
   {
    "duration": 17,
    "start_time": "2021-09-02T11:53:46.455Z"
   },
   {
    "duration": 12,
    "start_time": "2021-09-02T11:53:46.725Z"
   },
   {
    "duration": 9,
    "start_time": "2021-09-02T11:53:46.981Z"
   },
   {
    "duration": 13,
    "start_time": "2021-09-02T11:53:47.525Z"
   },
   {
    "duration": 39,
    "start_time": "2021-09-02T11:53:47.759Z"
   },
   {
    "duration": 49,
    "start_time": "2021-09-02T11:53:48.021Z"
   },
   {
    "duration": 238,
    "start_time": "2021-09-02T11:53:48.524Z"
   },
   {
    "duration": 14,
    "start_time": "2021-09-02T11:53:48.792Z"
   },
   {
    "duration": 16,
    "start_time": "2021-09-02T11:53:49.271Z"
   },
   {
    "duration": 49,
    "start_time": "2021-09-02T11:53:49.800Z"
   },
   {
    "duration": 12,
    "start_time": "2021-09-02T11:53:50.047Z"
   },
   {
    "duration": 14,
    "start_time": "2021-09-02T11:53:50.567Z"
   },
   {
    "duration": 194,
    "start_time": "2021-09-02T11:53:51.052Z"
   },
   {
    "duration": 12,
    "start_time": "2021-09-02T11:53:51.293Z"
   },
   {
    "duration": 13,
    "start_time": "2021-09-02T11:53:52.500Z"
   },
   {
    "duration": 11,
    "start_time": "2021-09-02T11:53:52.976Z"
   },
   {
    "duration": 13,
    "start_time": "2021-09-02T11:53:53.237Z"
   },
   {
    "duration": 131,
    "start_time": "2021-09-02T11:53:53.479Z"
   },
   {
    "duration": 63,
    "start_time": "2021-09-02T11:53:53.717Z"
   },
   {
    "duration": 12,
    "start_time": "2021-09-02T11:53:54.237Z"
   },
   {
    "duration": 63,
    "start_time": "2021-09-02T11:53:54.522Z"
   },
   {
    "duration": 13,
    "start_time": "2021-09-02T11:53:55.012Z"
   },
   {
    "duration": 65,
    "start_time": "2021-09-02T11:53:55.256Z"
   },
   {
    "duration": 74,
    "start_time": "2021-09-02T11:53:55.518Z"
   },
   {
    "duration": 15,
    "start_time": "2021-09-02T11:53:55.781Z"
   },
   {
    "duration": 14,
    "start_time": "2021-09-02T11:53:56.069Z"
   },
   {
    "duration": 9,
    "start_time": "2021-09-02T11:53:56.343Z"
   },
   {
    "duration": 10,
    "start_time": "2021-09-02T11:53:56.885Z"
   },
   {
    "duration": 46559,
    "start_time": "2021-09-02T11:53:57.548Z"
   },
   {
    "duration": 100,
    "start_time": "2021-09-02T11:54:44.110Z"
   },
   {
    "duration": 95,
    "start_time": "2021-09-02T11:56:08.297Z"
   },
   {
    "duration": 9,
    "start_time": "2021-09-02T12:01:16.248Z"
   },
   {
    "duration": 6,
    "start_time": "2021-09-02T12:01:18.393Z"
   },
   {
    "duration": 46093,
    "start_time": "2021-09-02T12:01:18.402Z"
   },
   {
    "duration": 94,
    "start_time": "2021-09-02T12:02:04.498Z"
   },
   {
    "duration": 9,
    "start_time": "2021-09-02T12:04:23.705Z"
   },
   {
    "duration": 6,
    "start_time": "2021-09-02T12:04:24.607Z"
   },
   {
    "duration": 46295,
    "start_time": "2021-09-02T12:04:25.367Z"
   },
   {
    "duration": 135,
    "start_time": "2021-09-02T12:05:11.665Z"
   },
   {
    "duration": 9,
    "start_time": "2021-09-02T13:45:47.479Z"
   },
   {
    "duration": 7,
    "start_time": "2021-09-02T13:45:47.985Z"
   },
   {
    "duration": 44117,
    "start_time": "2021-09-02T13:45:49.537Z"
   },
   {
    "duration": 106,
    "start_time": "2021-09-02T13:46:33.656Z"
   },
   {
    "duration": 115,
    "start_time": "2021-09-02T13:48:11.028Z"
   },
   {
    "duration": 10,
    "start_time": "2021-09-02T13:56:57.377Z"
   },
   {
    "duration": 613,
    "start_time": "2021-09-02T13:56:58.528Z"
   },
   {
    "duration": 122,
    "start_time": "2021-09-02T13:56:59.227Z"
   },
   {
    "duration": 10,
    "start_time": "2021-09-02T13:57:41.960Z"
   },
   {
    "duration": 43640,
    "start_time": "2021-09-02T13:57:42.440Z"
   },
   {
    "duration": 117,
    "start_time": "2021-09-02T13:58:50.769Z"
   },
   {
    "duration": 9,
    "start_time": "2021-09-02T13:59:48.055Z"
   },
   {
    "duration": 43072,
    "start_time": "2021-09-02T13:59:49.192Z"
   },
   {
    "duration": 128,
    "start_time": "2021-09-02T14:00:32.266Z"
   },
   {
    "duration": 9,
    "start_time": "2021-09-02T14:02:07.025Z"
   },
   {
    "duration": 49445,
    "start_time": "2021-09-02T14:02:07.753Z"
   },
   {
    "duration": 131,
    "start_time": "2021-09-02T14:02:57.201Z"
   },
   {
    "duration": 75,
    "start_time": "2021-09-02T14:04:25.430Z"
   },
   {
    "duration": 4,
    "start_time": "2021-09-02T14:05:36.655Z"
   },
   {
    "duration": 4,
    "start_time": "2021-09-02T14:05:36.918Z"
   },
   {
    "duration": 493,
    "start_time": "2021-09-02T14:05:37.238Z"
   },
   {
    "duration": 29,
    "start_time": "2021-09-02T14:05:37.734Z"
   },
   {
    "duration": 27,
    "start_time": "2021-09-02T14:05:37.935Z"
   },
   {
    "duration": 11,
    "start_time": "2021-09-02T14:05:38.167Z"
   },
   {
    "duration": 12,
    "start_time": "2021-09-02T14:05:38.574Z"
   },
   {
    "duration": 17,
    "start_time": "2021-09-02T14:05:38.783Z"
   },
   {
    "duration": 12,
    "start_time": "2021-09-02T14:05:39.190Z"
   },
   {
    "duration": 12,
    "start_time": "2021-09-02T14:05:39.407Z"
   },
   {
    "duration": 13,
    "start_time": "2021-09-02T14:05:39.623Z"
   },
   {
    "duration": 8,
    "start_time": "2021-09-02T14:05:39.831Z"
   },
   {
    "duration": 12,
    "start_time": "2021-09-02T14:05:40.256Z"
   },
   {
    "duration": 27,
    "start_time": "2021-09-02T14:05:40.478Z"
   },
   {
    "duration": 42,
    "start_time": "2021-09-02T14:05:40.697Z"
   },
   {
    "duration": 221,
    "start_time": "2021-09-02T14:05:41.087Z"
   },
   {
    "duration": 14,
    "start_time": "2021-09-02T14:05:41.346Z"
   },
   {
    "duration": 12,
    "start_time": "2021-09-02T14:05:41.782Z"
   },
   {
    "duration": 50,
    "start_time": "2021-09-02T14:05:42.222Z"
   },
   {
    "duration": 12,
    "start_time": "2021-09-02T14:05:42.439Z"
   },
   {
    "duration": 13,
    "start_time": "2021-09-02T14:05:42.870Z"
   },
   {
    "duration": 172,
    "start_time": "2021-09-02T14:05:43.310Z"
   },
   {
    "duration": 13,
    "start_time": "2021-09-02T14:05:43.518Z"
   },
   {
    "duration": 12,
    "start_time": "2021-09-02T14:05:44.649Z"
   },
   {
    "duration": 9,
    "start_time": "2021-09-02T14:05:45.079Z"
   },
   {
    "duration": 13,
    "start_time": "2021-09-02T14:05:45.297Z"
   },
   {
    "duration": 112,
    "start_time": "2021-09-02T14:05:45.521Z"
   },
   {
    "duration": 61,
    "start_time": "2021-09-02T14:05:45.753Z"
   },
   {
    "duration": 12,
    "start_time": "2021-09-02T14:05:46.238Z"
   },
   {
    "duration": 57,
    "start_time": "2021-09-02T14:05:46.496Z"
   },
   {
    "duration": 12,
    "start_time": "2021-09-02T14:05:47.022Z"
   },
   {
    "duration": 51,
    "start_time": "2021-09-02T14:05:47.255Z"
   },
   {
    "duration": 77,
    "start_time": "2021-09-02T14:05:47.505Z"
   },
   {
    "duration": 11,
    "start_time": "2021-09-02T14:05:47.751Z"
   },
   {
    "duration": 12,
    "start_time": "2021-09-02T14:05:48.001Z"
   },
   {
    "duration": 9,
    "start_time": "2021-09-02T14:05:48.265Z"
   },
   {
    "duration": 51796,
    "start_time": "2021-09-02T14:05:48.526Z"
   },
   {
    "duration": 90,
    "start_time": "2021-09-02T14:06:40.324Z"
   },
   {
    "duration": 206,
    "start_time": "2021-09-02T14:08:31.864Z"
   },
   {
    "duration": 38,
    "start_time": "2021-09-02T14:20:00.066Z"
   },
   {
    "duration": 35,
    "start_time": "2021-09-02T14:20:12.872Z"
   },
   {
    "duration": 35,
    "start_time": "2021-09-02T14:20:52.107Z"
   },
   {
    "duration": 34,
    "start_time": "2021-09-02T14:21:29.713Z"
   },
   {
    "duration": 34,
    "start_time": "2021-09-02T14:24:06.000Z"
   },
   {
    "duration": 36,
    "start_time": "2021-09-02T14:25:12.739Z"
   },
   {
    "duration": 34,
    "start_time": "2021-09-02T14:26:05.191Z"
   },
   {
    "duration": 4,
    "start_time": "2021-09-02T14:30:52.618Z"
   },
   {
    "duration": 3,
    "start_time": "2021-09-02T14:30:52.883Z"
   },
   {
    "duration": 498,
    "start_time": "2021-09-02T14:30:53.080Z"
   },
   {
    "duration": 17,
    "start_time": "2021-09-02T14:30:53.580Z"
   },
   {
    "duration": 27,
    "start_time": "2021-09-02T14:30:53.640Z"
   },
   {
    "duration": 8,
    "start_time": "2021-09-02T14:30:53.816Z"
   },
   {
    "duration": 14,
    "start_time": "2021-09-02T14:30:54.200Z"
   },
   {
    "duration": 16,
    "start_time": "2021-09-02T14:30:54.386Z"
   },
   {
    "duration": 11,
    "start_time": "2021-09-02T14:30:54.775Z"
   },
   {
    "duration": 12,
    "start_time": "2021-09-02T14:30:54.991Z"
   },
   {
    "duration": 11,
    "start_time": "2021-09-02T14:30:55.208Z"
   },
   {
    "duration": 8,
    "start_time": "2021-09-02T14:30:55.415Z"
   },
   {
    "duration": 12,
    "start_time": "2021-09-02T14:30:55.831Z"
   },
   {
    "duration": 26,
    "start_time": "2021-09-02T14:30:56.041Z"
   },
   {
    "duration": 52,
    "start_time": "2021-09-02T14:30:56.255Z"
   },
   {
    "duration": 211,
    "start_time": "2021-09-02T14:30:56.671Z"
   },
   {
    "duration": 12,
    "start_time": "2021-09-02T14:30:56.884Z"
   },
   {
    "duration": 12,
    "start_time": "2021-09-02T14:30:57.318Z"
   },
   {
    "duration": 49,
    "start_time": "2021-09-02T14:30:57.743Z"
   },
   {
    "duration": 11,
    "start_time": "2021-09-02T14:30:57.960Z"
   },
   {
    "duration": 12,
    "start_time": "2021-09-02T14:30:58.399Z"
   },
   {
    "duration": 164,
    "start_time": "2021-09-02T14:30:58.847Z"
   },
   {
    "duration": 13,
    "start_time": "2021-09-02T14:30:59.071Z"
   },
   {
    "duration": 13,
    "start_time": "2021-09-02T14:31:00.216Z"
   },
   {
    "duration": 12,
    "start_time": "2021-09-02T14:31:00.670Z"
   },
   {
    "duration": 13,
    "start_time": "2021-09-02T14:31:00.895Z"
   },
   {
    "duration": 123,
    "start_time": "2021-09-02T14:31:01.145Z"
   },
   {
    "duration": 64,
    "start_time": "2021-09-02T14:31:01.356Z"
   },
   {
    "duration": 12,
    "start_time": "2021-09-02T14:31:01.871Z"
   },
   {
    "duration": 61,
    "start_time": "2021-09-02T14:31:02.096Z"
   },
   {
    "duration": 15,
    "start_time": "2021-09-02T14:31:02.574Z"
   },
   {
    "duration": 57,
    "start_time": "2021-09-02T14:31:02.808Z"
   },
   {
    "duration": 74,
    "start_time": "2021-09-02T14:31:03.026Z"
   },
   {
    "duration": 10,
    "start_time": "2021-09-02T14:31:03.481Z"
   },
   {
    "duration": 50276,
    "start_time": "2021-09-02T14:31:03.735Z"
   },
   {
    "duration": 85,
    "start_time": "2021-09-02T14:31:54.014Z"
   },
   {
    "duration": 201,
    "start_time": "2021-09-02T14:31:54.103Z"
   },
   {
    "duration": 34,
    "start_time": "2021-09-02T14:31:54.307Z"
   },
   {
    "duration": 47,
    "start_time": "2021-09-02T14:31:54.344Z"
   },
   {
    "duration": 31,
    "start_time": "2021-09-02T14:31:54.393Z"
   },
   {
    "duration": 59,
    "start_time": "2021-09-02T14:31:54.426Z"
   },
   {
    "duration": 490,
    "start_time": "2021-09-02T14:36:02.563Z"
   },
   {
    "duration": 36,
    "start_time": "2021-09-02T14:38:19.008Z"
   },
   {
    "duration": 33,
    "start_time": "2021-09-02T14:38:22.599Z"
   },
   {
    "duration": 7,
    "start_time": "2021-09-02T14:50:07.286Z"
   },
   {
    "duration": 86,
    "start_time": "2021-09-02T14:51:27.897Z"
   },
   {
    "duration": 6,
    "start_time": "2021-09-02T14:51:46.896Z"
   },
   {
    "duration": 6,
    "start_time": "2021-09-02T14:53:38.337Z"
   },
   {
    "duration": 6,
    "start_time": "2021-09-02T14:54:16.656Z"
   },
   {
    "duration": 6,
    "start_time": "2021-09-02T14:54:38.658Z"
   },
   {
    "duration": 6,
    "start_time": "2021-09-02T14:55:33.202Z"
   },
   {
    "duration": 52,
    "start_time": "2021-09-02T14:57:27.114Z"
   },
   {
    "duration": 128,
    "start_time": "2021-09-02T14:57:36.771Z"
   },
   {
    "duration": 367,
    "start_time": "2021-09-02T14:57:45.304Z"
   },
   {
    "duration": 28,
    "start_time": "2021-09-02T14:58:14.981Z"
   },
   {
    "duration": 8,
    "start_time": "2021-09-02T14:58:48.357Z"
   },
   {
    "duration": 26,
    "start_time": "2021-09-02T14:59:20.648Z"
   },
   {
    "duration": 7,
    "start_time": "2021-09-02T15:00:09.762Z"
   },
   {
    "duration": 90,
    "start_time": "2021-09-02T15:00:10.184Z"
   },
   {
    "duration": 28,
    "start_time": "2021-09-02T15:00:10.763Z"
   },
   {
    "duration": 28,
    "start_time": "2021-09-02T15:00:31.064Z"
   },
   {
    "duration": 27,
    "start_time": "2021-09-02T15:00:44.403Z"
   },
   {
    "duration": 89,
    "start_time": "2021-09-02T15:01:33.132Z"
   },
   {
    "duration": 79,
    "start_time": "2021-09-02T15:01:54.512Z"
   },
   {
    "duration": 983,
    "start_time": "2021-09-03T10:06:52.605Z"
   },
   {
    "duration": 5,
    "start_time": "2021-09-03T10:06:53.591Z"
   },
   {
    "duration": 534,
    "start_time": "2021-09-03T10:06:53.599Z"
   },
   {
    "duration": 33,
    "start_time": "2021-09-03T10:06:54.136Z"
   },
   {
    "duration": 28,
    "start_time": "2021-09-03T10:06:54.171Z"
   },
   {
    "duration": 9,
    "start_time": "2021-09-03T10:06:54.201Z"
   },
   {
    "duration": 49,
    "start_time": "2021-09-03T10:06:54.220Z"
   },
   {
    "duration": 16,
    "start_time": "2021-09-03T10:06:54.422Z"
   },
   {
    "duration": 13,
    "start_time": "2021-09-03T10:06:54.869Z"
   },
   {
    "duration": 15,
    "start_time": "2021-09-03T10:06:55.092Z"
   },
   {
    "duration": 12,
    "start_time": "2021-09-03T10:06:55.316Z"
   },
   {
    "duration": 10,
    "start_time": "2021-09-03T10:06:55.554Z"
   },
   {
    "duration": 11,
    "start_time": "2021-09-03T10:06:56.003Z"
   },
   {
    "duration": 27,
    "start_time": "2021-09-03T10:06:56.218Z"
   },
   {
    "duration": 41,
    "start_time": "2021-09-03T10:06:56.443Z"
   },
   {
    "duration": 236,
    "start_time": "2021-09-03T10:06:56.880Z"
   },
   {
    "duration": 12,
    "start_time": "2021-09-03T10:06:57.119Z"
   },
   {
    "duration": 11,
    "start_time": "2021-09-03T10:06:57.538Z"
   },
   {
    "duration": 52,
    "start_time": "2021-09-03T10:06:57.996Z"
   },
   {
    "duration": 12,
    "start_time": "2021-09-03T10:06:58.219Z"
   },
   {
    "duration": 14,
    "start_time": "2021-09-03T10:06:58.681Z"
   },
   {
    "duration": 304,
    "start_time": "2021-09-03T10:06:59.146Z"
   },
   {
    "duration": 22,
    "start_time": "2021-09-03T10:06:59.453Z"
   },
   {
    "duration": 18,
    "start_time": "2021-09-03T10:07:00.516Z"
   },
   {
    "duration": 10,
    "start_time": "2021-09-03T10:07:00.976Z"
   },
   {
    "duration": 14,
    "start_time": "2021-09-03T10:07:01.211Z"
   },
   {
    "duration": 107,
    "start_time": "2021-09-03T10:07:01.462Z"
   },
   {
    "duration": 58,
    "start_time": "2021-09-03T10:07:01.686Z"
   },
   {
    "duration": 13,
    "start_time": "2021-09-03T10:07:02.172Z"
   },
   {
    "duration": 58,
    "start_time": "2021-09-03T10:07:02.412Z"
   },
   {
    "duration": 13,
    "start_time": "2021-09-03T10:07:02.906Z"
   },
   {
    "duration": 54,
    "start_time": "2021-09-03T10:07:03.124Z"
   },
   {
    "duration": 76,
    "start_time": "2021-09-03T10:07:03.364Z"
   },
   {
    "duration": 10,
    "start_time": "2021-09-03T10:07:03.843Z"
   },
   {
    "duration": 51497,
    "start_time": "2021-09-03T10:07:04.092Z"
   },
   {
    "duration": 101,
    "start_time": "2021-09-03T10:07:55.591Z"
   },
   {
    "duration": 195,
    "start_time": "2021-09-03T10:07:55.696Z"
   },
   {
    "duration": 8,
    "start_time": "2021-09-03T10:07:55.894Z"
   },
   {
    "duration": 30,
    "start_time": "2021-09-03T10:07:55.904Z"
   },
   {
    "duration": 51,
    "start_time": "2021-09-03T10:07:55.936Z"
   },
   {
    "duration": 30,
    "start_time": "2021-09-03T10:07:55.990Z"
   },
   {
    "duration": 28,
    "start_time": "2021-09-03T10:34:21.397Z"
   },
   {
    "duration": 9,
    "start_time": "2021-09-03T10:34:24.435Z"
   },
   {
    "duration": 8,
    "start_time": "2021-09-03T10:34:28.447Z"
   },
   {
    "duration": 9,
    "start_time": "2021-09-03T10:34:32.021Z"
   },
   {
    "duration": 11,
    "start_time": "2021-09-03T10:37:07.722Z"
   },
   {
    "duration": 457,
    "start_time": "2021-09-03T10:43:54.851Z"
   },
   {
    "duration": 5,
    "start_time": "2021-09-03T10:44:02.533Z"
   },
   {
    "duration": 5,
    "start_time": "2021-09-03T10:44:03.057Z"
   },
   {
    "duration": 5,
    "start_time": "2021-09-03T10:44:03.458Z"
   },
   {
    "duration": 5,
    "start_time": "2021-09-03T10:44:03.891Z"
   },
   {
    "duration": 339,
    "start_time": "2021-09-03T10:44:04.537Z"
   },
   {
    "duration": 383,
    "start_time": "2021-09-03T10:44:48.076Z"
   },
   {
    "duration": 363,
    "start_time": "2021-09-03T10:45:15.891Z"
   },
   {
    "duration": 316,
    "start_time": "2021-09-03T10:45:28.618Z"
   },
   {
    "duration": 375,
    "start_time": "2021-09-03T10:47:01.516Z"
   },
   {
    "duration": 380,
    "start_time": "2021-09-03T10:47:50.595Z"
   },
   {
    "duration": 13,
    "start_time": "2021-09-03T10:48:01.748Z"
   },
   {
    "duration": 10,
    "start_time": "2021-09-03T10:48:11.227Z"
   },
   {
    "duration": 377,
    "start_time": "2021-09-03T10:48:22.177Z"
   },
   {
    "duration": 476,
    "start_time": "2021-09-03T10:48:53.012Z"
   },
   {
    "duration": 11,
    "start_time": "2021-09-03T10:49:07.453Z"
   },
   {
    "duration": 7,
    "start_time": "2021-09-03T10:49:41.677Z"
   },
   {
    "duration": 27,
    "start_time": "2021-09-03T10:49:57.402Z"
   },
   {
    "duration": 31,
    "start_time": "2021-09-03T10:49:57.857Z"
   },
   {
    "duration": 36,
    "start_time": "2021-09-03T10:49:58.314Z"
   },
   {
    "duration": 26,
    "start_time": "2021-09-03T10:49:58.585Z"
   },
   {
    "duration": 9,
    "start_time": "2021-09-03T10:50:11.827Z"
   },
   {
    "duration": 8,
    "start_time": "2021-09-03T10:50:22.218Z"
   },
   {
    "duration": 9,
    "start_time": "2021-09-03T10:50:22.450Z"
   },
   {
    "duration": 8,
    "start_time": "2021-09-03T10:50:22.715Z"
   },
   {
    "duration": 8,
    "start_time": "2021-09-03T10:50:22.962Z"
   },
   {
    "duration": 8,
    "start_time": "2021-09-03T10:51:51.825Z"
   },
   {
    "duration": 8,
    "start_time": "2021-09-03T10:52:05.473Z"
   },
   {
    "duration": 8,
    "start_time": "2021-09-03T10:52:05.897Z"
   },
   {
    "duration": 7,
    "start_time": "2021-09-03T10:52:06.306Z"
   },
   {
    "duration": 9,
    "start_time": "2021-09-03T10:52:06.882Z"
   },
   {
    "duration": 8,
    "start_time": "2021-09-03T10:53:10.817Z"
   },
   {
    "duration": 8,
    "start_time": "2021-09-03T10:53:11.226Z"
   },
   {
    "duration": 7,
    "start_time": "2021-09-03T10:53:11.465Z"
   },
   {
    "duration": 7,
    "start_time": "2021-09-03T10:53:11.675Z"
   },
   {
    "duration": 6,
    "start_time": "2021-09-03T10:53:59.318Z"
   },
   {
    "duration": 18,
    "start_time": "2021-09-03T10:54:03.385Z"
   },
   {
    "duration": 350,
    "start_time": "2021-09-03T10:55:33.508Z"
   },
   {
    "duration": 6,
    "start_time": "2021-09-03T10:55:45.892Z"
   },
   {
    "duration": 19,
    "start_time": "2021-09-03T10:55:47.274Z"
   },
   {
    "duration": 12,
    "start_time": "2021-09-03T10:56:25.196Z"
   },
   {
    "duration": 9,
    "start_time": "2021-09-03T10:56:25.609Z"
   },
   {
    "duration": 9,
    "start_time": "2021-09-03T10:56:25.962Z"
   },
   {
    "duration": 8,
    "start_time": "2021-09-03T10:56:26.395Z"
   },
   {
    "duration": 7,
    "start_time": "2021-09-03T10:56:26.865Z"
   },
   {
    "duration": 19,
    "start_time": "2021-09-03T10:56:27.411Z"
   },
   {
    "duration": 8,
    "start_time": "2021-09-03T10:56:40.404Z"
   },
   {
    "duration": 8,
    "start_time": "2021-09-03T10:56:40.898Z"
   },
   {
    "duration": 7,
    "start_time": "2021-09-03T10:56:41.212Z"
   },
   {
    "duration": 10,
    "start_time": "2021-09-03T10:56:41.490Z"
   },
   {
    "duration": 6,
    "start_time": "2021-09-03T10:56:42.084Z"
   },
   {
    "duration": 20,
    "start_time": "2021-09-03T10:56:44.098Z"
   },
   {
    "duration": 5,
    "start_time": "2021-09-03T10:57:18.451Z"
   },
   {
    "duration": 5,
    "start_time": "2021-09-03T10:57:18.802Z"
   },
   {
    "duration": 5,
    "start_time": "2021-09-03T10:57:19.010Z"
   },
   {
    "duration": 5,
    "start_time": "2021-09-03T10:57:19.218Z"
   },
   {
    "duration": 6,
    "start_time": "2021-09-03T10:57:19.633Z"
   },
   {
    "duration": 19,
    "start_time": "2021-09-03T10:57:20.212Z"
   },
   {
    "duration": 7,
    "start_time": "2021-09-03T10:59:03.145Z"
   },
   {
    "duration": 6,
    "start_time": "2021-09-03T10:59:03.617Z"
   },
   {
    "duration": 5,
    "start_time": "2021-09-03T10:59:03.930Z"
   },
   {
    "duration": 6,
    "start_time": "2021-09-03T10:59:04.257Z"
   },
   {
    "duration": 6,
    "start_time": "2021-09-03T10:59:04.677Z"
   },
   {
    "duration": 19,
    "start_time": "2021-09-03T10:59:05.380Z"
   },
   {
    "duration": 393,
    "start_time": "2021-09-03T10:59:07.980Z"
   },
   {
    "duration": 18,
    "start_time": "2021-09-03T10:59:17.794Z"
   },
   {
    "duration": 88,
    "start_time": "2021-09-03T11:14:32.932Z"
   },
   {
    "duration": 50,
    "start_time": "2021-09-03T11:14:48.741Z"
   },
   {
    "duration": 40,
    "start_time": "2021-09-03T11:15:06.806Z"
   },
   {
    "duration": 9,
    "start_time": "2021-09-03T11:27:23.395Z"
   },
   {
    "duration": 8,
    "start_time": "2021-09-03T11:27:24.011Z"
   },
   {
    "duration": 9,
    "start_time": "2021-09-03T11:27:24.418Z"
   },
   {
    "duration": 8,
    "start_time": "2021-09-03T11:27:24.898Z"
   },
   {
    "duration": 418,
    "start_time": "2021-09-03T11:27:25.354Z"
   },
   {
    "duration": 405,
    "start_time": "2021-09-03T11:28:47.956Z"
   },
   {
    "duration": 7,
    "start_time": "2021-09-03T11:31:19.029Z"
   },
   {
    "duration": 23,
    "start_time": "2021-09-03T11:31:23.250Z"
   },
   {
    "duration": 10,
    "start_time": "2021-09-03T11:34:44.005Z"
   },
   {
    "duration": 9,
    "start_time": "2021-09-03T11:34:44.242Z"
   },
   {
    "duration": 9,
    "start_time": "2021-09-03T11:34:44.673Z"
   },
   {
    "duration": 9,
    "start_time": "2021-09-03T11:34:44.972Z"
   },
   {
    "duration": 365,
    "start_time": "2021-09-03T11:34:45.353Z"
   },
   {
    "duration": 10,
    "start_time": "2021-09-03T11:35:33.156Z"
   },
   {
    "duration": 9,
    "start_time": "2021-09-03T11:35:33.594Z"
   },
   {
    "duration": 8,
    "start_time": "2021-09-03T11:35:33.938Z"
   },
   {
    "duration": 9,
    "start_time": "2021-09-03T11:35:34.242Z"
   },
   {
    "duration": 7,
    "start_time": "2021-09-03T11:35:34.634Z"
   },
   {
    "duration": 9,
    "start_time": "2021-09-03T11:35:35.402Z"
   },
   {
    "duration": 8,
    "start_time": "2021-09-03T11:35:35.611Z"
   },
   {
    "duration": 9,
    "start_time": "2021-09-03T11:35:35.834Z"
   },
   {
    "duration": 9,
    "start_time": "2021-09-03T11:35:36.057Z"
   },
   {
    "duration": 6,
    "start_time": "2021-09-03T11:35:36.451Z"
   },
   {
    "duration": 22,
    "start_time": "2021-09-03T11:35:37.082Z"
   },
   {
    "duration": 23,
    "start_time": "2021-09-03T11:35:37.788Z"
   },
   {
    "duration": 7,
    "start_time": "2021-09-03T11:36:36.011Z"
   },
   {
    "duration": 10,
    "start_time": "2021-09-03T11:36:36.402Z"
   },
   {
    "duration": 10,
    "start_time": "2021-09-03T11:36:36.665Z"
   },
   {
    "duration": 9,
    "start_time": "2021-09-03T11:36:36.922Z"
   },
   {
    "duration": 9,
    "start_time": "2021-09-03T11:36:37.138Z"
   },
   {
    "duration": 7,
    "start_time": "2021-09-03T11:36:37.354Z"
   },
   {
    "duration": 10,
    "start_time": "2021-09-03T11:36:37.763Z"
   },
   {
    "duration": 9,
    "start_time": "2021-09-03T11:36:38.242Z"
   },
   {
    "duration": 8,
    "start_time": "2021-09-03T11:36:38.522Z"
   },
   {
    "duration": 11,
    "start_time": "2021-09-03T11:36:38.769Z"
   },
   {
    "duration": 9,
    "start_time": "2021-09-03T11:36:39.051Z"
   },
   {
    "duration": 21,
    "start_time": "2021-09-03T11:36:39.507Z"
   },
   {
    "duration": 23,
    "start_time": "2021-09-03T11:36:40.156Z"
   },
   {
    "duration": 391,
    "start_time": "2021-09-03T11:42:19.685Z"
   },
   {
    "duration": 3654,
    "start_time": "2021-09-03T11:42:27.316Z"
   },
   {
    "duration": 377,
    "start_time": "2021-09-03T11:42:59.022Z"
   },
   {
    "duration": 8629,
    "start_time": "2021-09-03T11:44:06.627Z"
   },
   {
    "duration": 8783,
    "start_time": "2021-09-03T11:44:24.805Z"
   },
   {
    "duration": 9949,
    "start_time": "2021-09-03T11:44:39.043Z"
   },
   {
    "duration": 320,
    "start_time": "2021-09-03T11:45:05.307Z"
   },
   {
    "duration": 364,
    "start_time": "2021-09-03T11:45:10.508Z"
   },
   {
    "duration": 368,
    "start_time": "2021-09-03T11:45:26.979Z"
   },
   {
    "duration": 396,
    "start_time": "2021-09-03T11:45:41.476Z"
   },
   {
    "duration": 346,
    "start_time": "2021-09-03T11:46:01.411Z"
   },
   {
    "duration": 376,
    "start_time": "2021-09-03T11:46:06.532Z"
   },
   {
    "duration": 371,
    "start_time": "2021-09-03T11:46:11.380Z"
   },
   {
    "duration": 23,
    "start_time": "2021-09-03T11:46:19.989Z"
   },
   {
    "duration": 5,
    "start_time": "2021-09-03T11:58:44.323Z"
   },
   {
    "duration": 113,
    "start_time": "2021-09-03T11:59:01.564Z"
   },
   {
    "duration": 420,
    "start_time": "2021-09-03T11:59:05.330Z"
   },
   {
    "duration": 374,
    "start_time": "2021-09-03T11:59:10.915Z"
   },
   {
    "duration": 453,
    "start_time": "2021-09-03T11:59:31.387Z"
   },
   {
    "duration": 5,
    "start_time": "2021-09-03T11:59:35.876Z"
   },
   {
    "duration": 5,
    "start_time": "2021-09-03T11:59:40.827Z"
   },
   {
    "duration": 357,
    "start_time": "2021-09-03T12:00:04.102Z"
   },
   {
    "duration": 7,
    "start_time": "2021-09-03T12:00:38.483Z"
   },
   {
    "duration": 11919,
    "start_time": "2021-09-03T12:01:00.685Z"
   },
   {
    "duration": 7,
    "start_time": "2021-09-03T12:01:12.704Z"
   },
   {
    "duration": 389,
    "start_time": "2021-09-03T12:01:35.907Z"
   },
   {
    "duration": 19,
    "start_time": "2021-09-03T12:02:01.468Z"
   },
   {
    "duration": 2227,
    "start_time": "2021-09-03T12:02:15.342Z"
   },
   {
    "duration": 414,
    "start_time": "2021-09-03T12:02:31.731Z"
   },
   {
    "duration": 11,
    "start_time": "2021-09-03T12:02:44.082Z"
   },
   {
    "duration": 320,
    "start_time": "2021-09-03T12:02:56.147Z"
   },
   {
    "duration": 10,
    "start_time": "2021-09-03T12:03:11.699Z"
   },
   {
    "duration": 23,
    "start_time": "2021-09-03T12:03:21.404Z"
   },
   {
    "duration": 13,
    "start_time": "2021-09-03T12:03:35.804Z"
   },
   {
    "duration": 3,
    "start_time": "2021-09-03T12:04:11.587Z"
   },
   {
    "duration": 309,
    "start_time": "2021-09-03T12:50:27.660Z"
   },
   {
    "duration": 10,
    "start_time": "2021-09-03T12:50:44.476Z"
   },
   {
    "duration": 2214,
    "start_time": "2021-09-03T12:55:11.875Z"
   },
   {
    "duration": 6,
    "start_time": "2021-09-03T12:56:33.307Z"
   },
   {
    "duration": 5,
    "start_time": "2021-09-03T12:56:40.853Z"
   },
   {
    "duration": 19,
    "start_time": "2021-09-03T12:57:19.612Z"
   },
   {
    "duration": 7,
    "start_time": "2021-09-03T12:57:29.547Z"
   },
   {
    "duration": 7,
    "start_time": "2021-09-03T12:57:48.717Z"
   },
   {
    "duration": 623,
    "start_time": "2021-09-03T12:58:10.236Z"
   },
   {
    "duration": 5,
    "start_time": "2021-09-03T13:02:57.997Z"
   },
   {
    "duration": 11,
    "start_time": "2021-09-03T13:03:05.075Z"
   },
   {
    "duration": 238,
    "start_time": "2021-09-03T13:03:12.782Z"
   },
   {
    "duration": 11,
    "start_time": "2021-09-03T13:03:21.739Z"
   },
   {
    "duration": 340,
    "start_time": "2021-09-03T13:03:35.869Z"
   },
   {
    "duration": 318,
    "start_time": "2021-09-03T13:03:49.764Z"
   },
   {
    "duration": 337,
    "start_time": "2021-09-03T13:04:12.068Z"
   },
   {
    "duration": 230,
    "start_time": "2021-09-03T13:04:21.891Z"
   },
   {
    "duration": 374,
    "start_time": "2021-09-03T13:05:38.836Z"
   },
   {
    "duration": 386,
    "start_time": "2021-09-03T13:06:01.708Z"
   },
   {
    "duration": 366,
    "start_time": "2021-09-03T13:06:04.941Z"
   },
   {
    "duration": 395,
    "start_time": "2021-09-03T13:06:26.636Z"
   },
   {
    "duration": 424,
    "start_time": "2021-09-03T13:06:45.795Z"
   },
   {
    "duration": 445,
    "start_time": "2021-09-03T13:07:13.455Z"
   },
   {
    "duration": 411,
    "start_time": "2021-09-03T13:07:52.156Z"
   },
   {
    "duration": 406,
    "start_time": "2021-09-03T13:09:08.220Z"
   },
   {
    "duration": 8,
    "start_time": "2021-09-03T13:09:13.019Z"
   },
   {
    "duration": 9,
    "start_time": "2021-09-03T13:09:20.923Z"
   },
   {
    "duration": 10,
    "start_time": "2021-09-03T13:09:47.443Z"
   },
   {
    "duration": 8,
    "start_time": "2021-09-03T13:12:10.151Z"
   },
   {
    "duration": 315,
    "start_time": "2021-09-03T13:12:17.652Z"
   },
   {
    "duration": 393,
    "start_time": "2021-09-03T13:13:36.836Z"
   },
   {
    "duration": 293,
    "start_time": "2021-09-03T13:14:12.213Z"
   },
   {
    "duration": 625,
    "start_time": "2021-09-03T13:15:06.486Z"
   },
   {
    "duration": 907,
    "start_time": "2021-09-07T10:03:08.617Z"
   },
   {
    "duration": 3,
    "start_time": "2021-09-07T10:03:09.527Z"
   },
   {
    "duration": 553,
    "start_time": "2021-09-07T10:03:09.533Z"
   },
   {
    "duration": 20,
    "start_time": "2021-09-07T10:03:10.089Z"
   },
   {
    "duration": 52,
    "start_time": "2021-09-07T10:03:10.112Z"
   },
   {
    "duration": 10,
    "start_time": "2021-09-07T10:03:10.167Z"
   },
   {
    "duration": 19,
    "start_time": "2021-09-07T10:03:10.382Z"
   },
   {
    "duration": 17,
    "start_time": "2021-09-07T10:03:10.598Z"
   },
   {
    "duration": 19,
    "start_time": "2021-09-07T10:03:10.829Z"
   },
   {
    "duration": 11,
    "start_time": "2021-09-07T10:03:11.303Z"
   },
   {
    "duration": 16,
    "start_time": "2021-09-07T10:03:11.534Z"
   },
   {
    "duration": 13,
    "start_time": "2021-09-07T10:03:11.783Z"
   },
   {
    "duration": 10,
    "start_time": "2021-09-07T10:03:12.020Z"
   },
   {
    "duration": 13,
    "start_time": "2021-09-07T10:03:12.484Z"
   },
   {
    "duration": 28,
    "start_time": "2021-09-07T10:03:12.726Z"
   },
   {
    "duration": 43,
    "start_time": "2021-09-07T10:03:12.948Z"
   },
   {
    "duration": 219,
    "start_time": "2021-09-07T10:03:13.413Z"
   },
   {
    "duration": 14,
    "start_time": "2021-09-07T10:03:13.651Z"
   },
   {
    "duration": 12,
    "start_time": "2021-09-07T10:03:14.119Z"
   },
   {
    "duration": 49,
    "start_time": "2021-09-07T10:03:14.595Z"
   },
   {
    "duration": 12,
    "start_time": "2021-09-07T10:03:14.845Z"
   },
   {
    "duration": 13,
    "start_time": "2021-09-07T10:03:15.317Z"
   },
   {
    "duration": 171,
    "start_time": "2021-09-07T10:03:15.796Z"
   },
   {
    "duration": 13,
    "start_time": "2021-09-07T10:03:16.029Z"
   },
   {
    "duration": 12,
    "start_time": "2021-09-07T10:03:17.188Z"
   },
   {
    "duration": 10,
    "start_time": "2021-09-07T10:03:17.669Z"
   },
   {
    "duration": 13,
    "start_time": "2021-09-07T10:03:17.916Z"
   },
   {
    "duration": 113,
    "start_time": "2021-09-07T10:03:18.170Z"
   },
   {
    "duration": 61,
    "start_time": "2021-09-07T10:03:18.405Z"
   },
   {
    "duration": 12,
    "start_time": "2021-09-07T10:03:18.883Z"
   },
   {
    "duration": 58,
    "start_time": "2021-09-07T10:03:19.117Z"
   },
   {
    "duration": 13,
    "start_time": "2021-09-07T10:03:19.596Z"
   },
   {
    "duration": 55,
    "start_time": "2021-09-07T10:03:19.840Z"
   },
   {
    "duration": 75,
    "start_time": "2021-09-07T10:03:20.070Z"
   },
   {
    "duration": 10,
    "start_time": "2021-09-07T10:03:20.557Z"
   },
   {
    "duration": 50004,
    "start_time": "2021-09-07T10:03:20.812Z"
   },
   {
    "duration": 92,
    "start_time": "2021-09-07T10:04:10.818Z"
   },
   {
    "duration": 193,
    "start_time": "2021-09-07T10:04:10.913Z"
   },
   {
    "duration": 8,
    "start_time": "2021-09-07T10:04:11.109Z"
   },
   {
    "duration": 17,
    "start_time": "2021-09-07T10:04:11.119Z"
   },
   {
    "duration": 26,
    "start_time": "2021-09-07T10:04:11.139Z"
   },
   {
    "duration": 8,
    "start_time": "2021-09-07T10:04:11.168Z"
   },
   {
    "duration": 10,
    "start_time": "2021-09-07T10:04:11.180Z"
   },
   {
    "duration": 6,
    "start_time": "2021-09-07T10:04:11.193Z"
   },
   {
    "duration": 13,
    "start_time": "2021-09-07T10:04:11.201Z"
   },
   {
    "duration": 16,
    "start_time": "2021-09-07T10:04:11.217Z"
   },
   {
    "duration": 34,
    "start_time": "2021-09-07T10:04:11.236Z"
   },
   {
    "duration": 12,
    "start_time": "2021-09-07T10:04:11.273Z"
   },
   {
    "duration": 6,
    "start_time": "2021-09-07T10:04:11.288Z"
   },
   {
    "duration": 24,
    "start_time": "2021-09-07T10:04:11.297Z"
   },
   {
    "duration": 431,
    "start_time": "2021-09-07T10:04:11.324Z"
   },
   {
    "duration": 25,
    "start_time": "2021-09-07T10:04:11.757Z"
   },
   {
    "duration": 392,
    "start_time": "2021-09-07T10:04:11.785Z"
   },
   {
    "duration": 516,
    "start_time": "2021-09-07T10:04:12.179Z"
   },
   {
    "duration": 379,
    "start_time": "2021-09-07T10:04:12.697Z"
   },
   {
    "duration": 406,
    "start_time": "2021-09-07T10:04:13.078Z"
   },
   {
    "duration": 130,
    "start_time": "2021-09-07T10:04:32.249Z"
   },
   {
    "duration": 90,
    "start_time": "2021-09-07T10:04:48.743Z"
   },
   {
    "duration": 102,
    "start_time": "2021-09-07T10:26:24.789Z"
   },
   {
    "duration": 8,
    "start_time": "2021-09-07T11:01:14.841Z"
   },
   {
    "duration": 281,
    "start_time": "2021-09-07T11:01:19.679Z"
   },
   {
    "duration": 9152,
    "start_time": "2021-09-07T11:01:39.173Z"
   },
   {
    "duration": 306,
    "start_time": "2021-09-07T11:02:15.950Z"
   },
   {
    "duration": 285,
    "start_time": "2021-09-07T11:02:38.711Z"
   },
   {
    "duration": 326,
    "start_time": "2021-09-07T11:02:41.687Z"
   },
   {
    "duration": 331,
    "start_time": "2021-09-07T11:03:00.110Z"
   },
   {
    "duration": 278,
    "start_time": "2021-09-07T11:03:08.798Z"
   },
   {
    "duration": 328,
    "start_time": "2021-09-07T11:03:24.518Z"
   },
   {
    "duration": 504,
    "start_time": "2021-09-07T11:03:33.665Z"
   },
   {
    "duration": 330,
    "start_time": "2021-09-07T11:03:52.273Z"
   },
   {
    "duration": 314,
    "start_time": "2021-09-07T11:04:22.199Z"
   },
   {
    "duration": 293,
    "start_time": "2021-09-07T11:04:29.385Z"
   },
   {
    "duration": 3,
    "start_time": "2021-09-07T11:27:48.843Z"
   },
   {
    "duration": 6,
    "start_time": "2021-09-07T11:35:34.799Z"
   },
   {
    "duration": 9,
    "start_time": "2021-09-07T11:35:35.315Z"
   },
   {
    "duration": 10,
    "start_time": "2021-09-07T11:35:35.501Z"
   },
   {
    "duration": 10,
    "start_time": "2021-09-07T11:35:35.686Z"
   },
   {
    "duration": 9,
    "start_time": "2021-09-07T11:35:35.878Z"
   },
   {
    "duration": 7,
    "start_time": "2021-09-07T11:35:36.117Z"
   },
   {
    "duration": 21,
    "start_time": "2021-09-07T11:35:36.497Z"
   },
   {
    "duration": 337,
    "start_time": "2021-09-07T11:42:57.406Z"
   },
   {
    "duration": 378,
    "start_time": "2021-09-07T11:43:03.169Z"
   },
   {
    "duration": 325,
    "start_time": "2021-09-07T11:45:05.607Z"
   },
   {
    "duration": 384,
    "start_time": "2021-09-07T11:49:16.680Z"
   },
   {
    "duration": 359,
    "start_time": "2021-09-07T11:49:27.584Z"
   },
   {
    "duration": 314,
    "start_time": "2021-09-07T11:50:56.362Z"
   },
   {
    "duration": 313,
    "start_time": "2021-09-07T11:53:32.585Z"
   },
   {
    "duration": 316,
    "start_time": "2021-09-07T11:54:01.046Z"
   },
   {
    "duration": 444,
    "start_time": "2021-09-07T11:55:48.743Z"
   },
   {
    "duration": 5,
    "start_time": "2021-09-07T11:56:11.846Z"
   },
   {
    "duration": 364,
    "start_time": "2021-09-07T11:56:25.839Z"
   },
   {
    "duration": 436,
    "start_time": "2021-09-07T11:56:49.363Z"
   },
   {
    "duration": 9,
    "start_time": "2021-09-07T11:58:20.342Z"
   },
   {
    "duration": 9,
    "start_time": "2021-09-07T11:58:31.168Z"
   },
   {
    "duration": 295,
    "start_time": "2021-09-07T11:58:36.186Z"
   },
   {
    "duration": 304,
    "start_time": "2021-09-07T11:58:39.074Z"
   },
   {
    "duration": 317,
    "start_time": "2021-09-07T11:58:46.872Z"
   },
   {
    "duration": 444,
    "start_time": "2021-09-07T11:58:53.946Z"
   },
   {
    "duration": 411,
    "start_time": "2021-09-07T11:58:58.921Z"
   },
   {
    "duration": 433,
    "start_time": "2021-09-07T12:00:08.015Z"
   },
   {
    "duration": 631,
    "start_time": "2021-09-07T12:00:11.304Z"
   },
   {
    "duration": 417,
    "start_time": "2021-09-07T12:00:48.241Z"
   },
   {
    "duration": 373,
    "start_time": "2021-09-07T12:01:07.747Z"
   },
   {
    "duration": 352,
    "start_time": "2021-09-07T12:01:14.047Z"
   },
   {
    "duration": 363,
    "start_time": "2021-09-07T12:01:17.999Z"
   },
   {
    "duration": 358,
    "start_time": "2021-09-07T12:01:22.238Z"
   },
   {
    "duration": 8927,
    "start_time": "2021-09-07T12:16:28.385Z"
   },
   {
    "duration": 2037,
    "start_time": "2021-09-07T12:17:10.280Z"
   },
   {
    "duration": 2532,
    "start_time": "2021-09-07T12:19:47.712Z"
   },
   {
    "duration": 2454,
    "start_time": "2021-09-07T12:19:56.334Z"
   },
   {
    "duration": 2856,
    "start_time": "2021-09-07T12:20:11.030Z"
   },
   {
    "duration": 3386,
    "start_time": "2021-09-07T12:20:23.159Z"
   },
   {
    "duration": 319,
    "start_time": "2021-09-07T12:23:25.166Z"
   },
   {
    "duration": 324,
    "start_time": "2021-09-07T12:23:36.831Z"
   },
   {
    "duration": 313,
    "start_time": "2021-09-07T12:24:43.583Z"
   },
   {
    "duration": 3827,
    "start_time": "2021-09-07T12:26:15.526Z"
   },
   {
    "duration": 4472,
    "start_time": "2021-09-07T12:26:38.864Z"
   },
   {
    "duration": 390,
    "start_time": "2021-09-07T12:28:20.464Z"
   },
   {
    "duration": 4913,
    "start_time": "2021-09-07T12:28:31.352Z"
   },
   {
    "duration": 4923,
    "start_time": "2021-09-07T12:28:58.488Z"
   },
   {
    "duration": 4645,
    "start_time": "2021-09-07T12:31:03.327Z"
   },
   {
    "duration": 5176,
    "start_time": "2021-09-07T12:31:41.439Z"
   },
   {
    "duration": 5389,
    "start_time": "2021-09-07T12:31:59.814Z"
   },
   {
    "duration": 4788,
    "start_time": "2021-09-07T12:32:13.424Z"
   },
   {
    "duration": 4763,
    "start_time": "2021-09-07T12:33:06.727Z"
   },
   {
    "duration": 5123,
    "start_time": "2021-09-07T12:34:04.283Z"
   },
   {
    "duration": 4521,
    "start_time": "2021-09-07T12:34:44.381Z"
   },
   {
    "duration": 5545,
    "start_time": "2021-09-07T12:50:09.528Z"
   },
   {
    "duration": 6246,
    "start_time": "2021-09-07T12:50:34.431Z"
   },
   {
    "duration": 5462,
    "start_time": "2021-09-07T12:50:41.512Z"
   },
   {
    "duration": 5432,
    "start_time": "2021-09-07T12:51:06.143Z"
   },
   {
    "duration": 5876,
    "start_time": "2021-09-07T12:51:11.579Z"
   },
   {
    "duration": 5518,
    "start_time": "2021-09-07T12:51:17.462Z"
   },
   {
    "duration": 6296,
    "start_time": "2021-09-07T12:51:22.982Z"
   },
   {
    "duration": 4,
    "start_time": "2021-09-07T13:15:28.043Z"
   },
   {
    "duration": 29,
    "start_time": "2021-09-07T13:17:25.058Z"
   },
   {
    "duration": 9,
    "start_time": "2021-09-07T13:17:38.376Z"
   },
   {
    "duration": 9,
    "start_time": "2021-09-07T13:18:13.272Z"
   },
   {
    "duration": 7,
    "start_time": "2021-09-07T13:18:34.720Z"
   },
   {
    "duration": 8,
    "start_time": "2021-09-07T13:18:39.721Z"
   },
   {
    "duration": 409,
    "start_time": "2021-09-07T13:18:59.951Z"
   },
   {
    "duration": 405,
    "start_time": "2021-09-07T13:19:15.863Z"
   },
   {
    "duration": 10,
    "start_time": "2021-09-07T13:19:20.240Z"
   },
   {
    "duration": 10,
    "start_time": "2021-09-07T13:24:18.803Z"
   },
   {
    "duration": 3,
    "start_time": "2021-09-07T13:26:33.146Z"
   },
   {
    "duration": 8,
    "start_time": "2021-09-07T13:29:20.575Z"
   },
   {
    "duration": 8,
    "start_time": "2021-09-07T13:29:55.369Z"
   },
   {
    "duration": 8,
    "start_time": "2021-09-07T13:30:07.776Z"
   },
   {
    "duration": 10,
    "start_time": "2021-09-07T13:30:52.236Z"
   },
   {
    "duration": 11,
    "start_time": "2021-09-07T13:33:53.937Z"
   },
   {
    "duration": 7,
    "start_time": "2021-09-07T13:33:55.424Z"
   },
   {
    "duration": 11,
    "start_time": "2021-09-07T13:33:56.329Z"
   },
   {
    "duration": 4,
    "start_time": "2021-09-07T13:47:33.999Z"
   },
   {
    "duration": 4,
    "start_time": "2021-09-07T13:47:34.219Z"
   },
   {
    "duration": 537,
    "start_time": "2021-09-07T13:47:34.417Z"
   },
   {
    "duration": 15,
    "start_time": "2021-09-07T13:47:34.956Z"
   },
   {
    "duration": 27,
    "start_time": "2021-09-07T13:47:35.052Z"
   },
   {
    "duration": 9,
    "start_time": "2021-09-07T13:47:35.263Z"
   },
   {
    "duration": 13,
    "start_time": "2021-09-07T13:47:35.694Z"
   },
   {
    "duration": 17,
    "start_time": "2021-09-07T13:47:35.915Z"
   },
   {
    "duration": 9,
    "start_time": "2021-09-07T13:47:36.128Z"
   },
   {
    "duration": 13,
    "start_time": "2021-09-07T13:47:36.559Z"
   },
   {
    "duration": 12,
    "start_time": "2021-09-07T13:47:36.768Z"
   },
   {
    "duration": 12,
    "start_time": "2021-09-07T13:47:36.984Z"
   },
   {
    "duration": 9,
    "start_time": "2021-09-07T13:47:37.192Z"
   },
   {
    "duration": 13,
    "start_time": "2021-09-07T13:47:37.642Z"
   },
   {
    "duration": 28,
    "start_time": "2021-09-07T13:47:37.848Z"
   },
   {
    "duration": 40,
    "start_time": "2021-09-07T13:47:38.063Z"
   },
   {
    "duration": 196,
    "start_time": "2021-09-07T13:47:38.502Z"
   },
   {
    "duration": 12,
    "start_time": "2021-09-07T13:47:38.734Z"
   },
   {
    "duration": 12,
    "start_time": "2021-09-07T13:47:39.151Z"
   },
   {
    "duration": 49,
    "start_time": "2021-09-07T13:47:39.591Z"
   },
   {
    "duration": 13,
    "start_time": "2021-09-07T13:47:39.808Z"
   },
   {
    "duration": 13,
    "start_time": "2021-09-07T13:47:40.255Z"
   },
   {
    "duration": 161,
    "start_time": "2021-09-07T13:47:40.695Z"
   },
   {
    "duration": 14,
    "start_time": "2021-09-07T13:47:40.915Z"
   },
   {
    "duration": 13,
    "start_time": "2021-09-07T13:47:42.007Z"
   },
   {
    "duration": 11,
    "start_time": "2021-09-07T13:47:42.439Z"
   },
   {
    "duration": 14,
    "start_time": "2021-09-07T13:47:42.664Z"
   },
   {
    "duration": 110,
    "start_time": "2021-09-07T13:47:42.874Z"
   },
   {
    "duration": 66,
    "start_time": "2021-09-07T13:47:43.097Z"
   },
   {
    "duration": 13,
    "start_time": "2021-09-07T13:47:43.543Z"
   },
   {
    "duration": 58,
    "start_time": "2021-09-07T13:47:43.778Z"
   },
   {
    "duration": 12,
    "start_time": "2021-09-07T13:47:44.239Z"
   },
   {
    "duration": 53,
    "start_time": "2021-09-07T13:47:44.472Z"
   },
   {
    "duration": 74,
    "start_time": "2021-09-07T13:47:44.929Z"
   },
   {
    "duration": 10,
    "start_time": "2021-09-07T13:47:45.376Z"
   },
   {
    "duration": 48816,
    "start_time": "2021-09-07T13:47:45.610Z"
   },
   {
    "duration": 101,
    "start_time": "2021-09-07T13:48:34.428Z"
   },
   {
    "duration": 9,
    "start_time": "2021-09-07T13:48:34.532Z"
   },
   {
    "duration": 5261,
    "start_time": "2021-09-07T13:48:34.544Z"
   },
   {
    "duration": 5690,
    "start_time": "2021-09-07T13:48:39.807Z"
   },
   {
    "duration": 5318,
    "start_time": "2021-09-07T13:48:45.499Z"
   },
   {
    "duration": 5218,
    "start_time": "2021-09-07T13:48:50.821Z"
   },
   {
    "duration": 20,
    "start_time": "2021-09-07T13:48:56.043Z"
   },
   {
    "duration": 9,
    "start_time": "2021-09-07T13:48:56.066Z"
   },
   {
    "duration": 12,
    "start_time": "2021-09-07T13:48:56.077Z"
   },
   {
    "duration": 18,
    "start_time": "2021-09-07T13:48:56.091Z"
   },
   {
    "duration": 11,
    "start_time": "2021-09-07T13:48:56.111Z"
   },
   {
    "duration": 13,
    "start_time": "2021-09-07T13:48:56.124Z"
   },
   {
    "duration": 27,
    "start_time": "2021-09-07T13:48:56.140Z"
   },
   {
    "duration": 13,
    "start_time": "2021-09-07T13:48:56.169Z"
   },
   {
    "duration": 8,
    "start_time": "2021-09-07T13:48:56.185Z"
   },
   {
    "duration": 9,
    "start_time": "2021-09-07T13:48:56.195Z"
   },
   {
    "duration": 26,
    "start_time": "2021-09-07T13:48:56.206Z"
   },
   {
    "duration": 48,
    "start_time": "2021-09-07T13:48:56.235Z"
   },
   {
    "duration": 376,
    "start_time": "2021-09-07T13:48:56.285Z"
   },
   {
    "duration": 381,
    "start_time": "2021-09-07T13:48:56.664Z"
   },
   {
    "duration": 817,
    "start_time": "2021-09-07T13:48:57.048Z"
   },
   {
    "duration": 122,
    "start_time": "2021-09-07T13:48:57.870Z"
   },
   {
    "duration": -15,
    "start_time": "2021-09-07T13:48:58.009Z"
   },
   {
    "duration": -19,
    "start_time": "2021-09-07T13:48:58.015Z"
   },
   {
    "duration": -24,
    "start_time": "2021-09-07T13:48:58.021Z"
   },
   {
    "duration": -27,
    "start_time": "2021-09-07T13:48:58.026Z"
   },
   {
    "duration": 372,
    "start_time": "2021-09-07T13:49:47.275Z"
   },
   {
    "duration": 11,
    "start_time": "2021-09-07T13:49:52.040Z"
   },
   {
    "duration": 10,
    "start_time": "2021-09-07T13:49:52.967Z"
   },
   {
    "duration": 12,
    "start_time": "2021-09-07T13:49:53.199Z"
   },
   {
    "duration": 3,
    "start_time": "2021-09-07T13:54:05.227Z"
   },
   {
    "duration": 4,
    "start_time": "2021-09-07T13:54:22.408Z"
   },
   {
    "duration": 1374,
    "start_time": "2021-09-08T07:06:22.159Z"
   },
   {
    "duration": 4,
    "start_time": "2021-09-08T07:06:23.536Z"
   },
   {
    "duration": 605,
    "start_time": "2021-09-08T07:06:23.543Z"
   },
   {
    "duration": 20,
    "start_time": "2021-09-08T07:06:24.151Z"
   },
   {
    "duration": 53,
    "start_time": "2021-09-08T07:06:24.173Z"
   },
   {
    "duration": 12,
    "start_time": "2021-09-08T07:06:24.229Z"
   },
   {
    "duration": 14,
    "start_time": "2021-09-08T07:06:24.244Z"
   },
   {
    "duration": 20,
    "start_time": "2021-09-08T07:06:24.262Z"
   },
   {
    "duration": 46,
    "start_time": "2021-09-08T07:06:24.285Z"
   },
   {
    "duration": 15,
    "start_time": "2021-09-08T07:06:24.334Z"
   },
   {
    "duration": 20,
    "start_time": "2021-09-08T07:06:24.352Z"
   },
   {
    "duration": 49,
    "start_time": "2021-09-08T07:06:24.375Z"
   },
   {
    "duration": 11,
    "start_time": "2021-09-08T07:06:24.428Z"
   },
   {
    "duration": 16,
    "start_time": "2021-09-08T07:06:24.442Z"
   },
   {
    "duration": 60,
    "start_time": "2021-09-08T07:06:24.461Z"
   },
   {
    "duration": 47,
    "start_time": "2021-09-08T07:06:24.525Z"
   },
   {
    "duration": 270,
    "start_time": "2021-09-08T07:06:24.574Z"
   },
   {
    "duration": 13,
    "start_time": "2021-09-08T07:06:24.846Z"
   },
   {
    "duration": 16,
    "start_time": "2021-09-08T07:06:24.861Z"
   },
   {
    "duration": 82,
    "start_time": "2021-09-08T07:06:24.879Z"
   },
   {
    "duration": 13,
    "start_time": "2021-09-08T07:06:24.964Z"
   },
   {
    "duration": 38,
    "start_time": "2021-09-08T07:06:24.980Z"
   },
   {
    "duration": 227,
    "start_time": "2021-09-08T07:06:25.025Z"
   },
   {
    "duration": 12,
    "start_time": "2021-09-08T07:06:25.255Z"
   },
   {
    "duration": 14,
    "start_time": "2021-09-08T07:06:25.269Z"
   },
   {
    "duration": 34,
    "start_time": "2021-09-08T07:06:25.285Z"
   },
   {
    "duration": 67,
    "start_time": "2021-09-08T07:06:25.322Z"
   },
   {
    "duration": 32,
    "start_time": "2021-09-08T07:06:25.392Z"
   },
   {
    "duration": 61,
    "start_time": "2021-09-08T07:06:25.428Z"
   },
   {
    "duration": 18,
    "start_time": "2021-09-08T07:06:25.516Z"
   },
   {
    "duration": 80,
    "start_time": "2021-09-08T07:06:25.537Z"
   },
   {
    "duration": 95,
    "start_time": "2021-09-08T07:06:25.621Z"
   },
   {
    "duration": 14,
    "start_time": "2021-09-08T07:06:25.720Z"
   },
   {
    "duration": 53648,
    "start_time": "2021-09-08T07:06:25.737Z"
   },
   {
    "duration": 100,
    "start_time": "2021-09-08T07:07:19.387Z"
   },
   {
    "duration": 8,
    "start_time": "2021-09-08T07:07:19.490Z"
   },
   {
    "duration": 5931,
    "start_time": "2021-09-08T07:07:19.501Z"
   },
   {
    "duration": 6044,
    "start_time": "2021-09-08T07:07:25.435Z"
   },
   {
    "duration": 5850,
    "start_time": "2021-09-08T07:07:31.483Z"
   },
   {
    "duration": 5807,
    "start_time": "2021-09-08T07:07:37.336Z"
   },
   {
    "duration": 10,
    "start_time": "2021-09-08T07:07:43.145Z"
   },
   {
    "duration": 10,
    "start_time": "2021-09-08T07:07:43.158Z"
   },
   {
    "duration": 11,
    "start_time": "2021-09-08T07:07:43.170Z"
   },
   {
    "duration": 38,
    "start_time": "2021-09-08T07:07:43.183Z"
   },
   {
    "duration": 9,
    "start_time": "2021-09-08T07:07:43.226Z"
   },
   {
    "duration": 10,
    "start_time": "2021-09-08T07:07:43.237Z"
   },
   {
    "duration": 8,
    "start_time": "2021-09-08T07:07:43.250Z"
   },
   {
    "duration": 12,
    "start_time": "2021-09-08T07:07:43.260Z"
   },
   {
    "duration": 47,
    "start_time": "2021-09-08T07:07:43.275Z"
   },
   {
    "duration": 9,
    "start_time": "2021-09-08T07:07:43.325Z"
   },
   {
    "duration": 25,
    "start_time": "2021-09-08T07:07:43.337Z"
   },
   {
    "duration": 51,
    "start_time": "2021-09-08T07:07:43.365Z"
   },
   {
    "duration": 408,
    "start_time": "2021-09-08T07:07:43.420Z"
   },
   {
    "duration": 409,
    "start_time": "2021-09-08T07:07:43.831Z"
   },
   {
    "duration": 382,
    "start_time": "2021-09-08T07:07:44.243Z"
   },
   {
    "duration": 508,
    "start_time": "2021-09-08T07:07:44.628Z"
   },
   {
    "duration": 11,
    "start_time": "2021-09-08T07:07:45.138Z"
   },
   {
    "duration": 8,
    "start_time": "2021-09-08T07:07:45.152Z"
   },
   {
    "duration": 13,
    "start_time": "2021-09-08T07:07:45.163Z"
   },
   {
    "duration": 6,
    "start_time": "2021-09-08T07:09:21.162Z"
   },
   {
    "duration": 7,
    "start_time": "2021-09-08T07:13:54.407Z"
   },
   {
    "duration": 1368,
    "start_time": "2021-09-08T07:13:57.076Z"
   },
   {
    "duration": 8,
    "start_time": "2021-09-08T07:14:15.998Z"
   },
   {
    "duration": 17,
    "start_time": "2021-09-08T07:14:40.887Z"
   },
   {
    "duration": 135,
    "start_time": "2021-09-08T07:15:25.435Z"
   },
   {
    "duration": 51,
    "start_time": "2021-09-08T07:27:55.175Z"
   },
   {
    "duration": 50,
    "start_time": "2021-09-08T07:28:00.471Z"
   },
   {
    "duration": 1091,
    "start_time": "2021-09-08T12:05:06.260Z"
   },
   {
    "duration": 3,
    "start_time": "2021-09-08T12:05:07.353Z"
   },
   {
    "duration": 397,
    "start_time": "2021-09-08T12:05:07.358Z"
   },
   {
    "duration": 13,
    "start_time": "2021-09-08T12:05:07.757Z"
   },
   {
    "duration": 24,
    "start_time": "2021-09-08T12:05:07.772Z"
   },
   {
    "duration": 7,
    "start_time": "2021-09-08T12:05:07.798Z"
   },
   {
    "duration": 9,
    "start_time": "2021-09-08T12:05:08.238Z"
   },
   {
    "duration": 12,
    "start_time": "2021-09-08T12:05:08.466Z"
   },
   {
    "duration": 7,
    "start_time": "2021-09-08T12:05:08.696Z"
   },
   {
    "duration": 8,
    "start_time": "2021-09-08T12:05:09.417Z"
   },
   {
    "duration": 12,
    "start_time": "2021-09-08T12:05:09.676Z"
   },
   {
    "duration": 9,
    "start_time": "2021-09-08T12:05:09.903Z"
   },
   {
    "duration": 6,
    "start_time": "2021-09-08T12:05:10.162Z"
   },
   {
    "duration": 9,
    "start_time": "2021-09-08T12:05:10.656Z"
   },
   {
    "duration": 21,
    "start_time": "2021-09-08T12:05:10.891Z"
   },
   {
    "duration": 30,
    "start_time": "2021-09-08T12:05:11.128Z"
   },
   {
    "duration": 124,
    "start_time": "2021-09-08T12:05:11.943Z"
   },
   {
    "duration": 10,
    "start_time": "2021-09-08T12:05:12.923Z"
   },
   {
    "duration": 7,
    "start_time": "2021-09-08T12:05:17.072Z"
   },
   {
    "duration": 36,
    "start_time": "2021-09-08T12:05:17.510Z"
   },
   {
    "duration": 8,
    "start_time": "2021-09-08T12:05:17.751Z"
   },
   {
    "duration": 8,
    "start_time": "2021-09-08T12:05:18.390Z"
   },
   {
    "duration": 111,
    "start_time": "2021-09-08T12:05:19.390Z"
   },
   {
    "duration": 8,
    "start_time": "2021-09-08T12:06:17.234Z"
   },
   {
    "duration": 25,
    "start_time": "2021-09-08T12:06:17.798Z"
   },
   {
    "duration": 9,
    "start_time": "2021-09-08T12:06:18.110Z"
   },
   {
    "duration": 8,
    "start_time": "2021-09-08T12:06:18.847Z"
   },
   {
    "duration": 81,
    "start_time": "2021-09-08T12:06:20.470Z"
   },
   {
    "duration": 3,
    "start_time": "2021-09-08T12:06:54.157Z"
   },
   {
    "duration": 3,
    "start_time": "2021-09-08T12:06:54.382Z"
   },
   {
    "duration": 379,
    "start_time": "2021-09-08T12:06:54.606Z"
   },
   {
    "duration": 11,
    "start_time": "2021-09-08T12:06:55.056Z"
   },
   {
    "duration": 17,
    "start_time": "2021-09-08T12:06:55.262Z"
   },
   {
    "duration": 6,
    "start_time": "2021-09-08T12:06:55.470Z"
   },
   {
    "duration": 9,
    "start_time": "2021-09-08T12:06:55.901Z"
   },
   {
    "duration": 11,
    "start_time": "2021-09-08T12:06:56.120Z"
   },
   {
    "duration": 6,
    "start_time": "2021-09-08T12:06:56.334Z"
   },
   {
    "duration": 8,
    "start_time": "2021-09-08T12:06:56.982Z"
   },
   {
    "duration": 8,
    "start_time": "2021-09-08T12:06:57.215Z"
   },
   {
    "duration": 8,
    "start_time": "2021-09-08T12:06:57.432Z"
   },
   {
    "duration": 6,
    "start_time": "2021-09-08T12:06:57.646Z"
   },
   {
    "duration": 8,
    "start_time": "2021-09-08T12:06:58.078Z"
   },
   {
    "duration": 20,
    "start_time": "2021-09-08T12:06:58.302Z"
   },
   {
    "duration": 27,
    "start_time": "2021-09-08T12:06:58.543Z"
   },
   {
    "duration": 116,
    "start_time": "2021-09-08T12:06:58.990Z"
   },
   {
    "duration": 8,
    "start_time": "2021-09-08T12:06:59.454Z"
   },
   {
    "duration": 7,
    "start_time": "2021-09-08T12:06:59.952Z"
   },
   {
    "duration": 35,
    "start_time": "2021-09-08T12:07:00.470Z"
   },
   {
    "duration": 10,
    "start_time": "2021-09-08T12:07:00.720Z"
   },
   {
    "duration": 9,
    "start_time": "2021-09-08T12:07:01.230Z"
   },
   {
    "duration": 100,
    "start_time": "2021-09-08T12:07:02.750Z"
   },
   {
    "duration": 3,
    "start_time": "2021-09-08T12:10:01.071Z"
   },
   {
    "duration": 3,
    "start_time": "2021-09-08T12:10:01.296Z"
   },
   {
    "duration": 405,
    "start_time": "2021-09-08T12:10:01.495Z"
   },
   {
    "duration": 11,
    "start_time": "2021-09-08T12:10:01.926Z"
   },
   {
    "duration": 17,
    "start_time": "2021-09-08T12:10:02.167Z"
   },
   {
    "duration": 6,
    "start_time": "2021-09-08T12:10:02.383Z"
   },
   {
    "duration": 9,
    "start_time": "2021-09-08T12:10:02.821Z"
   },
   {
    "duration": 11,
    "start_time": "2021-09-08T12:10:03.047Z"
   },
   {
    "duration": 7,
    "start_time": "2021-09-08T12:10:03.278Z"
   },
   {
    "duration": 7,
    "start_time": "2021-09-08T12:10:03.953Z"
   },
   {
    "duration": 7,
    "start_time": "2021-09-08T12:10:04.167Z"
   },
   {
    "duration": 8,
    "start_time": "2021-09-08T12:10:04.385Z"
   },
   {
    "duration": 7,
    "start_time": "2021-09-08T12:10:04.617Z"
   },
   {
    "duration": 9,
    "start_time": "2021-09-08T12:10:05.078Z"
   },
   {
    "duration": 20,
    "start_time": "2021-09-08T12:10:05.315Z"
   },
   {
    "duration": 31,
    "start_time": "2021-09-08T12:10:05.543Z"
   },
   {
    "duration": 127,
    "start_time": "2021-09-08T12:10:06.007Z"
   },
   {
    "duration": 9,
    "start_time": "2021-09-08T12:10:06.470Z"
   },
   {
    "duration": 8,
    "start_time": "2021-09-08T12:10:06.966Z"
   },
   {
    "duration": 36,
    "start_time": "2021-09-08T12:10:07.438Z"
   },
   {
    "duration": 8,
    "start_time": "2021-09-08T12:10:07.687Z"
   },
   {
    "duration": 9,
    "start_time": "2021-09-08T12:10:08.262Z"
   },
   {
    "duration": 51,
    "start_time": "2021-09-08T12:10:08.798Z"
   },
   {
    "duration": 30,
    "start_time": "2021-09-08T12:10:09.126Z"
   },
   {
    "duration": 9,
    "start_time": "2021-09-08T12:10:10.164Z"
   },
   {
    "duration": 32,
    "start_time": "2021-09-08T12:15:00.336Z"
   },
   {
    "duration": 49,
    "start_time": "2021-09-08T12:15:52.543Z"
   },
   {
    "duration": 32,
    "start_time": "2021-09-08T12:18:37.081Z"
   },
   {
    "duration": 8,
    "start_time": "2021-09-08T12:20:36.575Z"
   },
   {
    "duration": 34,
    "start_time": "2021-09-08T12:20:43.407Z"
   },
   {
    "duration": 327,
    "start_time": "2021-09-08T12:22:06.706Z"
   },
   {
    "duration": 247,
    "start_time": "2021-09-08T12:22:12.560Z"
   },
   {
    "duration": 3,
    "start_time": "2021-09-08T12:22:30.542Z"
   },
   {
    "duration": 3,
    "start_time": "2021-09-08T12:22:30.734Z"
   },
   {
    "duration": 420,
    "start_time": "2021-09-08T12:22:30.951Z"
   },
   {
    "duration": 11,
    "start_time": "2021-09-08T12:22:31.390Z"
   },
   {
    "duration": 18,
    "start_time": "2021-09-08T12:22:31.590Z"
   },
   {
    "duration": 7,
    "start_time": "2021-09-08T12:22:31.783Z"
   },
   {
    "duration": 8,
    "start_time": "2021-09-08T12:22:32.214Z"
   },
   {
    "duration": 11,
    "start_time": "2021-09-08T12:22:32.430Z"
   },
   {
    "duration": 6,
    "start_time": "2021-09-08T12:22:32.631Z"
   },
   {
    "duration": 9,
    "start_time": "2021-09-08T12:22:33.265Z"
   },
   {
    "duration": 7,
    "start_time": "2021-09-08T12:22:33.473Z"
   },
   {
    "duration": 9,
    "start_time": "2021-09-08T12:22:33.684Z"
   },
   {
    "duration": 7,
    "start_time": "2021-09-08T12:22:33.894Z"
   },
   {
    "duration": 9,
    "start_time": "2021-09-08T12:22:34.323Z"
   },
   {
    "duration": 21,
    "start_time": "2021-09-08T12:22:34.531Z"
   },
   {
    "duration": 32,
    "start_time": "2021-09-08T12:22:34.743Z"
   },
   {
    "duration": 127,
    "start_time": "2021-09-08T12:22:35.164Z"
   },
   {
    "duration": 9,
    "start_time": "2021-09-08T12:22:35.584Z"
   },
   {
    "duration": 8,
    "start_time": "2021-09-08T12:22:36.015Z"
   },
   {
    "duration": 35,
    "start_time": "2021-09-08T12:22:36.461Z"
   },
   {
    "duration": 8,
    "start_time": "2021-09-08T12:22:36.683Z"
   },
   {
    "duration": 9,
    "start_time": "2021-09-08T12:22:37.112Z"
   },
   {
    "duration": 51,
    "start_time": "2021-09-08T12:22:37.534Z"
   },
   {
    "duration": 29,
    "start_time": "2021-09-08T12:22:37.751Z"
   },
   {
    "duration": 9,
    "start_time": "2021-09-08T12:22:38.167Z"
   },
   {
    "duration": 9,
    "start_time": "2021-09-08T12:22:43.976Z"
   },
   {
    "duration": 9,
    "start_time": "2021-09-08T12:22:44.432Z"
   },
   {
    "duration": 58,
    "start_time": "2021-09-08T12:22:45.328Z"
   },
   {
    "duration": 44,
    "start_time": "2021-09-08T12:22:45.571Z"
   },
   {
    "duration": 40,
    "start_time": "2021-09-08T12:22:47.286Z"
   },
   {
    "duration": 8,
    "start_time": "2021-09-08T12:22:47.543Z"
   },
   {
    "duration": 34,
    "start_time": "2021-09-08T12:22:47.791Z"
   },
   {
    "duration": 9,
    "start_time": "2021-09-08T12:22:48.271Z"
   },
   {
    "duration": 252,
    "start_time": "2021-09-08T12:22:48.542Z"
   },
   {
    "duration": 240,
    "start_time": "2021-09-08T12:22:49.127Z"
   },
   {
    "duration": 280,
    "start_time": "2021-09-08T12:22:50.304Z"
   },
   {
    "duration": 28,
    "start_time": "2021-09-08T12:23:10.513Z"
   },
   {
    "duration": 29,
    "start_time": "2021-09-08T12:23:18.007Z"
   },
   {
    "duration": 57,
    "start_time": "2021-09-08T12:34:12.347Z"
   },
   {
    "duration": 31,
    "start_time": "2021-09-08T12:34:28.283Z"
   },
   {
    "duration": 27,
    "start_time": "2021-09-08T12:34:40.275Z"
   },
   {
    "duration": 25,
    "start_time": "2021-09-08T12:34:44.864Z"
   },
   {
    "duration": 57,
    "start_time": "2021-09-08T12:38:00.255Z"
   },
   {
    "duration": 69,
    "start_time": "2021-09-08T12:39:47.377Z"
   },
   {
    "duration": 29,
    "start_time": "2021-09-08T12:41:51.464Z"
   },
   {
    "duration": 49,
    "start_time": "2021-09-08T12:41:59.936Z"
   },
   {
    "duration": 3,
    "start_time": "2021-09-08T12:42:10.862Z"
   },
   {
    "duration": 2,
    "start_time": "2021-09-08T12:42:11.063Z"
   },
   {
    "duration": 402,
    "start_time": "2021-09-08T12:42:11.270Z"
   },
   {
    "duration": 10,
    "start_time": "2021-09-08T12:42:11.686Z"
   },
   {
    "duration": 17,
    "start_time": "2021-09-08T12:42:11.888Z"
   },
   {
    "duration": 6,
    "start_time": "2021-09-08T12:42:12.088Z"
   },
   {
    "duration": 8,
    "start_time": "2021-09-08T12:42:12.494Z"
   },
   {
    "duration": 10,
    "start_time": "2021-09-08T12:42:12.703Z"
   },
   {
    "duration": 6,
    "start_time": "2021-09-08T12:42:12.919Z"
   },
   {
    "duration": 8,
    "start_time": "2021-09-08T12:42:13.574Z"
   },
   {
    "duration": 8,
    "start_time": "2021-09-08T12:42:13.815Z"
   },
   {
    "duration": 8,
    "start_time": "2021-09-08T12:42:14.007Z"
   },
   {
    "duration": 6,
    "start_time": "2021-09-08T12:42:14.206Z"
   },
   {
    "duration": 9,
    "start_time": "2021-09-08T12:42:14.606Z"
   },
   {
    "duration": 20,
    "start_time": "2021-09-08T12:42:14.807Z"
   },
   {
    "duration": 32,
    "start_time": "2021-09-08T12:42:15.023Z"
   },
   {
    "duration": 111,
    "start_time": "2021-09-08T12:42:15.446Z"
   },
   {
    "duration": 9,
    "start_time": "2021-09-08T12:42:15.872Z"
   },
   {
    "duration": 8,
    "start_time": "2021-09-08T12:42:16.286Z"
   },
   {
    "duration": 35,
    "start_time": "2021-09-08T12:42:16.709Z"
   },
   {
    "duration": 10,
    "start_time": "2021-09-08T12:42:16.912Z"
   },
   {
    "duration": 9,
    "start_time": "2021-09-08T12:42:17.359Z"
   },
   {
    "duration": 48,
    "start_time": "2021-09-08T12:42:17.790Z"
   },
   {
    "duration": 31,
    "start_time": "2021-09-08T12:42:18.023Z"
   },
   {
    "duration": 10,
    "start_time": "2021-09-08T12:42:18.486Z"
   },
   {
    "duration": 9,
    "start_time": "2021-09-08T12:42:19.822Z"
   },
   {
    "duration": 9,
    "start_time": "2021-09-08T12:42:21.118Z"
   },
   {
    "duration": 54,
    "start_time": "2021-09-08T12:42:22.110Z"
   },
   {
    "duration": 37,
    "start_time": "2021-09-08T12:42:26.473Z"
   },
   {
    "duration": 7,
    "start_time": "2021-09-08T12:42:27.102Z"
   },
   {
    "duration": 33,
    "start_time": "2021-09-08T12:42:27.303Z"
   },
   {
    "duration": 10,
    "start_time": "2021-09-08T12:42:27.727Z"
   },
   {
    "duration": 27,
    "start_time": "2021-09-08T12:42:27.943Z"
   },
   {
    "duration": 51,
    "start_time": "2021-09-08T12:42:28.430Z"
   },
   {
    "duration": 56,
    "start_time": "2021-09-08T12:42:29.462Z"
   },
   {
    "duration": 247,
    "start_time": "2021-09-08T12:45:37.513Z"
   },
   {
    "duration": 48,
    "start_time": "2021-09-08T12:46:02.249Z"
   },
   {
    "duration": 276,
    "start_time": "2021-09-08T12:47:29.408Z"
   },
   {
    "duration": 50,
    "start_time": "2021-09-08T12:48:01.640Z"
   },
   {
    "duration": 22,
    "start_time": "2021-09-08T12:48:19.264Z"
   },
   {
    "duration": 238,
    "start_time": "2021-09-08T12:48:40.108Z"
   },
   {
    "duration": 19,
    "start_time": "2021-09-08T12:48:46.232Z"
   },
   {
    "duration": 47,
    "start_time": "2021-09-08T12:49:06.648Z"
   },
   {
    "duration": 37,
    "start_time": "2021-09-08T12:51:26.610Z"
   },
   {
    "duration": 1145,
    "start_time": "2021-09-08T12:54:20.193Z"
   },
   {
    "duration": 48,
    "start_time": "2021-09-08T12:54:31.224Z"
   },
   {
    "duration": 982,
    "start_time": "2021-09-08T12:54:41.506Z"
   },
   {
    "duration": 49,
    "start_time": "2021-09-08T12:54:58.928Z"
   },
   {
    "duration": 44,
    "start_time": "2021-09-08T12:55:19.272Z"
   },
   {
    "duration": 33,
    "start_time": "2021-09-08T12:56:14.176Z"
   },
   {
    "duration": 29,
    "start_time": "2021-09-08T12:56:44.905Z"
   },
   {
    "duration": 31,
    "start_time": "2021-09-08T12:56:55.464Z"
   },
   {
    "duration": 29,
    "start_time": "2021-09-08T12:57:00.288Z"
   },
   {
    "duration": 31,
    "start_time": "2021-09-08T12:58:17.344Z"
   },
   {
    "duration": 49,
    "start_time": "2021-09-08T12:58:27.334Z"
   },
   {
    "duration": 3,
    "start_time": "2021-09-08T12:58:41.646Z"
   },
   {
    "duration": 3,
    "start_time": "2021-09-08T12:58:41.857Z"
   },
   {
    "duration": 397,
    "start_time": "2021-09-08T12:58:42.071Z"
   },
   {
    "duration": 10,
    "start_time": "2021-09-08T12:58:42.486Z"
   },
   {
    "duration": 17,
    "start_time": "2021-09-08T12:58:42.710Z"
   },
   {
    "duration": 6,
    "start_time": "2021-09-08T12:58:42.927Z"
   },
   {
    "duration": 9,
    "start_time": "2021-09-08T12:58:43.342Z"
   },
   {
    "duration": 11,
    "start_time": "2021-09-08T12:58:43.559Z"
   },
   {
    "duration": 6,
    "start_time": "2021-09-08T12:58:43.775Z"
   },
   {
    "duration": 9,
    "start_time": "2021-09-08T12:58:44.422Z"
   },
   {
    "duration": 7,
    "start_time": "2021-09-08T12:58:44.647Z"
   },
   {
    "duration": 8,
    "start_time": "2021-09-08T12:58:44.864Z"
   },
   {
    "duration": 6,
    "start_time": "2021-09-08T12:58:45.071Z"
   },
   {
    "duration": 8,
    "start_time": "2021-09-08T12:58:45.511Z"
   },
   {
    "duration": 22,
    "start_time": "2021-09-08T12:58:45.727Z"
   },
   {
    "duration": 28,
    "start_time": "2021-09-08T12:58:45.943Z"
   },
   {
    "duration": 117,
    "start_time": "2021-09-08T12:58:46.416Z"
   },
   {
    "duration": 8,
    "start_time": "2021-09-08T12:58:46.847Z"
   },
   {
    "duration": 8,
    "start_time": "2021-09-08T12:58:47.286Z"
   },
   {
    "duration": 35,
    "start_time": "2021-09-08T12:58:47.726Z"
   },
   {
    "duration": 9,
    "start_time": "2021-09-08T12:58:47.952Z"
   },
   {
    "duration": 9,
    "start_time": "2021-09-08T12:58:48.406Z"
   },
   {
    "duration": 52,
    "start_time": "2021-09-08T12:58:48.838Z"
   },
   {
    "duration": 29,
    "start_time": "2021-09-08T12:58:49.064Z"
   },
   {
    "duration": 9,
    "start_time": "2021-09-08T12:58:49.519Z"
   },
   {
    "duration": 9,
    "start_time": "2021-09-08T12:58:54.783Z"
   },
   {
    "duration": 9,
    "start_time": "2021-09-08T12:58:55.190Z"
   },
   {
    "duration": 39,
    "start_time": "2021-09-08T12:58:55.822Z"
   },
   {
    "duration": 53,
    "start_time": "2021-09-08T12:58:56.034Z"
   },
   {
    "duration": 55,
    "start_time": "2021-09-08T12:58:56.264Z"
   },
   {
    "duration": 8,
    "start_time": "2021-09-08T12:58:57.734Z"
   },
   {
    "duration": 33,
    "start_time": "2021-09-08T12:58:57.999Z"
   },
   {
    "duration": 10,
    "start_time": "2021-09-08T12:59:00.759Z"
   },
   {
    "duration": 30,
    "start_time": "2021-09-08T12:59:00.975Z"
   },
   {
    "duration": 30,
    "start_time": "2021-09-08T12:59:01.463Z"
   },
   {
    "duration": 12,
    "start_time": "2021-09-08T12:59:05.743Z"
   },
   {
    "duration": 271,
    "start_time": "2021-09-08T12:59:59.727Z"
   },
   {
    "duration": 1009,
    "start_time": "2021-09-08T13:00:11.338Z"
   },
   {
    "duration": 3,
    "start_time": "2021-09-08T13:00:12.349Z"
   },
   {
    "duration": 390,
    "start_time": "2021-09-08T13:00:13.395Z"
   },
   {
    "duration": 15,
    "start_time": "2021-09-08T13:00:13.825Z"
   },
   {
    "duration": 17,
    "start_time": "2021-09-08T13:00:14.058Z"
   },
   {
    "duration": 7,
    "start_time": "2021-09-08T13:00:14.202Z"
   },
   {
    "duration": 8,
    "start_time": "2021-09-08T13:00:14.593Z"
   },
   {
    "duration": 12,
    "start_time": "2021-09-08T13:00:14.864Z"
   },
   {
    "duration": 7,
    "start_time": "2021-09-08T13:00:15.010Z"
   },
   {
    "duration": 8,
    "start_time": "2021-09-08T13:00:15.646Z"
   },
   {
    "duration": 11,
    "start_time": "2021-09-08T13:00:15.842Z"
   },
   {
    "duration": 8,
    "start_time": "2021-09-08T13:00:16.136Z"
   },
   {
    "duration": 6,
    "start_time": "2021-09-08T13:00:16.250Z"
   },
   {
    "duration": 8,
    "start_time": "2021-09-08T13:00:16.743Z"
   },
   {
    "duration": 21,
    "start_time": "2021-09-08T13:00:16.879Z"
   },
   {
    "duration": 29,
    "start_time": "2021-09-08T13:00:17.109Z"
   },
   {
    "duration": 130,
    "start_time": "2021-09-08T13:00:17.486Z"
   },
   {
    "duration": 9,
    "start_time": "2021-09-08T13:00:19.934Z"
   },
   {
    "duration": 8,
    "start_time": "2021-09-08T13:00:19.965Z"
   },
   {
    "duration": 49,
    "start_time": "2021-09-08T13:00:20.260Z"
   },
   {
    "duration": 10,
    "start_time": "2021-09-08T13:00:20.311Z"
   },
   {
    "duration": 27,
    "start_time": "2021-09-08T13:00:20.323Z"
   },
   {
    "duration": 71,
    "start_time": "2021-09-08T13:00:20.352Z"
   },
   {
    "duration": 29,
    "start_time": "2021-09-08T13:00:20.490Z"
   },
   {
    "duration": 9,
    "start_time": "2021-09-08T13:00:20.544Z"
   },
   {
    "duration": 9,
    "start_time": "2021-09-08T13:00:21.584Z"
   },
   {
    "duration": 8,
    "start_time": "2021-09-08T13:00:22.016Z"
   },
   {
    "duration": 35,
    "start_time": "2021-09-08T13:00:22.739Z"
   },
   {
    "duration": 57,
    "start_time": "2021-09-08T13:00:22.904Z"
   },
   {
    "duration": 42,
    "start_time": "2021-09-08T13:00:23.136Z"
   },
   {
    "duration": 8,
    "start_time": "2021-09-08T13:00:23.814Z"
   },
   {
    "duration": 33,
    "start_time": "2021-09-08T13:00:24.054Z"
   },
   {
    "duration": 9,
    "start_time": "2021-09-08T13:00:24.470Z"
   },
   {
    "duration": 31,
    "start_time": "2021-09-08T13:00:24.689Z"
   },
   {
    "duration": 313,
    "start_time": "2021-09-08T13:01:22.393Z"
   },
   {
    "duration": 1009,
    "start_time": "2021-09-08T13:01:55.735Z"
   },
   {
    "duration": 3,
    "start_time": "2021-09-08T13:01:56.746Z"
   },
   {
    "duration": 401,
    "start_time": "2021-09-08T13:01:56.751Z"
   },
   {
    "duration": 13,
    "start_time": "2021-09-08T13:01:57.155Z"
   },
   {
    "duration": 33,
    "start_time": "2021-09-08T13:01:57.170Z"
   },
   {
    "duration": 6,
    "start_time": "2021-09-08T13:01:57.205Z"
   },
   {
    "duration": 8,
    "start_time": "2021-09-08T13:01:57.415Z"
   },
   {
    "duration": 11,
    "start_time": "2021-09-08T13:01:57.632Z"
   },
   {
    "duration": 7,
    "start_time": "2021-09-08T13:01:57.839Z"
   },
   {
    "duration": 8,
    "start_time": "2021-09-08T13:01:58.462Z"
   },
   {
    "duration": 12,
    "start_time": "2021-09-08T13:01:58.655Z"
   },
   {
    "duration": 8,
    "start_time": "2021-09-08T13:01:58.864Z"
   },
   {
    "duration": 6,
    "start_time": "2021-09-08T13:01:59.071Z"
   },
   {
    "duration": 11,
    "start_time": "2021-09-08T13:01:59.480Z"
   },
   {
    "duration": 33,
    "start_time": "2021-09-08T13:01:59.687Z"
   },
   {
    "duration": 41,
    "start_time": "2021-09-08T13:01:59.895Z"
   },
   {
    "duration": 200,
    "start_time": "2021-09-08T13:02:00.318Z"
   },
   {
    "duration": 13,
    "start_time": "2021-09-08T13:02:00.812Z"
   },
   {
    "duration": 11,
    "start_time": "2021-09-08T13:02:01.175Z"
   },
   {
    "duration": 37,
    "start_time": "2021-09-08T13:02:01.608Z"
   },
   {
    "duration": 8,
    "start_time": "2021-09-08T13:02:01.817Z"
   },
   {
    "duration": 9,
    "start_time": "2021-09-08T13:02:02.407Z"
   },
   {
    "duration": 52,
    "start_time": "2021-09-08T13:02:02.694Z"
   },
   {
    "duration": 29,
    "start_time": "2021-09-08T13:02:02.927Z"
   },
   {
    "duration": 9,
    "start_time": "2021-09-08T13:02:03.389Z"
   },
   {
    "duration": 10,
    "start_time": "2021-09-08T13:02:05.432Z"
   },
   {
    "duration": 11,
    "start_time": "2021-09-08T13:02:06.054Z"
   },
   {
    "duration": 51,
    "start_time": "2021-09-08T13:02:06.983Z"
   },
   {
    "duration": 81,
    "start_time": "2021-09-08T13:02:07.192Z"
   },
   {
    "duration": 61,
    "start_time": "2021-09-08T13:02:07.401Z"
   },
   {
    "duration": 11,
    "start_time": "2021-09-08T13:02:08.057Z"
   },
   {
    "duration": 47,
    "start_time": "2021-09-08T13:02:08.280Z"
   },
   {
    "duration": 13,
    "start_time": "2021-09-08T13:02:08.712Z"
   },
   {
    "duration": 45,
    "start_time": "2021-09-08T13:02:08.949Z"
   },
   {
    "duration": 27,
    "start_time": "2021-09-08T13:02:09.666Z"
   },
   {
    "duration": 12,
    "start_time": "2021-09-08T13:02:24.367Z"
   },
   {
    "duration": 817,
    "start_time": "2021-09-08T13:06:21.986Z"
   },
   {
    "duration": 1037,
    "start_time": "2021-09-08T13:06:34.118Z"
   },
   {
    "duration": 3,
    "start_time": "2021-09-08T13:06:35.157Z"
   },
   {
    "duration": 440,
    "start_time": "2021-09-08T13:06:35.162Z"
   },
   {
    "duration": 14,
    "start_time": "2021-09-08T13:06:35.605Z"
   },
   {
    "duration": 28,
    "start_time": "2021-09-08T13:06:35.620Z"
   },
   {
    "duration": 9,
    "start_time": "2021-09-08T13:06:35.650Z"
   },
   {
    "duration": 9,
    "start_time": "2021-09-08T13:06:35.765Z"
   },
   {
    "duration": 12,
    "start_time": "2021-09-08T13:06:35.983Z"
   },
   {
    "duration": 7,
    "start_time": "2021-09-08T13:06:36.212Z"
   },
   {
    "duration": 8,
    "start_time": "2021-09-08T13:06:36.872Z"
   },
   {
    "duration": 12,
    "start_time": "2021-09-08T13:06:37.087Z"
   },
   {
    "duration": 8,
    "start_time": "2021-09-08T13:06:37.338Z"
   },
   {
    "duration": 7,
    "start_time": "2021-09-08T13:06:37.545Z"
   },
   {
    "duration": 8,
    "start_time": "2021-09-08T13:06:37.970Z"
   },
   {
    "duration": 21,
    "start_time": "2021-09-08T13:06:38.183Z"
   },
   {
    "duration": 33,
    "start_time": "2021-09-08T13:06:38.400Z"
   },
   {
    "duration": 127,
    "start_time": "2021-09-08T13:06:38.836Z"
   },
   {
    "duration": 9,
    "start_time": "2021-09-08T13:06:39.384Z"
   },
   {
    "duration": 7,
    "start_time": "2021-09-08T13:06:39.801Z"
   },
   {
    "duration": 34,
    "start_time": "2021-09-08T13:06:40.262Z"
   },
   {
    "duration": 8,
    "start_time": "2021-09-08T13:06:40.479Z"
   },
   {
    "duration": 9,
    "start_time": "2021-09-08T13:06:40.990Z"
   },
   {
    "duration": 55,
    "start_time": "2021-09-08T13:06:41.382Z"
   },
   {
    "duration": 31,
    "start_time": "2021-09-08T13:06:41.612Z"
   },
   {
    "duration": 8,
    "start_time": "2021-09-08T13:06:42.084Z"
   },
   {
    "duration": 8,
    "start_time": "2021-09-08T13:06:43.663Z"
   },
   {
    "duration": 8,
    "start_time": "2021-09-08T13:06:44.230Z"
   },
   {
    "duration": 37,
    "start_time": "2021-09-08T13:06:45.019Z"
   },
   {
    "duration": 55,
    "start_time": "2021-09-08T13:06:45.263Z"
   },
   {
    "duration": 40,
    "start_time": "2021-09-08T13:06:45.546Z"
   },
   {
    "duration": 8,
    "start_time": "2021-09-08T13:06:46.353Z"
   },
   {
    "duration": 32,
    "start_time": "2021-09-08T13:06:46.584Z"
   },
   {
    "duration": 10,
    "start_time": "2021-09-08T13:06:47.052Z"
   },
   {
    "duration": 29,
    "start_time": "2021-09-08T13:06:47.327Z"
   },
   {
    "duration": 1187,
    "start_time": "2021-09-08T13:07:33.837Z"
   },
   {
    "duration": 3,
    "start_time": "2021-09-08T13:07:35.025Z"
   },
   {
    "duration": 399,
    "start_time": "2021-09-08T13:07:35.030Z"
   },
   {
    "duration": 19,
    "start_time": "2021-09-08T13:07:35.432Z"
   },
   {
    "duration": 17,
    "start_time": "2021-09-08T13:07:35.453Z"
   },
   {
    "duration": 18,
    "start_time": "2021-09-08T13:07:35.472Z"
   },
   {
    "duration": 18,
    "start_time": "2021-09-08T13:07:35.492Z"
   },
   {
    "duration": 11,
    "start_time": "2021-09-08T13:07:35.660Z"
   },
   {
    "duration": 7,
    "start_time": "2021-09-08T13:07:35.863Z"
   },
   {
    "duration": 7,
    "start_time": "2021-09-08T13:07:41.076Z"
   },
   {
    "duration": 24,
    "start_time": "2021-09-08T13:07:41.085Z"
   },
   {
    "duration": 11,
    "start_time": "2021-09-08T13:07:41.111Z"
   },
   {
    "duration": 21,
    "start_time": "2021-09-08T13:07:41.124Z"
   },
   {
    "duration": 23,
    "start_time": "2021-09-08T13:07:41.147Z"
   },
   {
    "duration": 39,
    "start_time": "2021-09-08T13:07:41.172Z"
   },
   {
    "duration": 27,
    "start_time": "2021-09-08T13:07:41.213Z"
   },
   {
    "duration": 167,
    "start_time": "2021-09-08T13:07:41.242Z"
   },
   {
    "duration": 8,
    "start_time": "2021-09-08T13:07:41.411Z"
   },
   {
    "duration": 40,
    "start_time": "2021-09-08T13:07:41.421Z"
   },
   {
    "duration": 64,
    "start_time": "2021-09-08T13:07:41.462Z"
   },
   {
    "duration": 7,
    "start_time": "2021-09-08T13:07:41.528Z"
   },
   {
    "duration": 37,
    "start_time": "2021-09-08T13:07:41.537Z"
   },
   {
    "duration": 74,
    "start_time": "2021-09-08T13:07:41.575Z"
   },
   {
    "duration": 40,
    "start_time": "2021-09-08T13:07:45.424Z"
   },
   {
    "duration": 33,
    "start_time": "2021-09-08T13:07:45.466Z"
   },
   {
    "duration": 21,
    "start_time": "2021-09-08T13:07:45.501Z"
   },
   {
    "duration": 15,
    "start_time": "2021-09-08T13:07:45.523Z"
   },
   {
    "duration": 71,
    "start_time": "2021-09-08T13:07:45.540Z"
   },
   {
    "duration": 51,
    "start_time": "2021-09-08T13:07:45.613Z"
   },
   {
    "duration": 55,
    "start_time": "2021-09-08T13:07:45.666Z"
   },
   {
    "duration": 7,
    "start_time": "2021-09-08T13:07:45.723Z"
   },
   {
    "duration": 32,
    "start_time": "2021-09-08T13:07:46.034Z"
   },
   {
    "duration": 9,
    "start_time": "2021-09-08T13:07:47.295Z"
   },
   {
    "duration": 30,
    "start_time": "2021-09-08T13:07:47.831Z"
   },
   {
    "duration": 30,
    "start_time": "2021-09-08T13:07:49.334Z"
   },
   {
    "duration": 11,
    "start_time": "2021-09-08T13:07:50.141Z"
   },
   {
    "duration": 49,
    "start_time": "2021-09-08T13:32:14.607Z"
   },
   {
    "duration": 37,
    "start_time": "2021-09-08T13:32:19.162Z"
   },
   {
    "duration": 8,
    "start_time": "2021-09-08T13:32:19.743Z"
   },
   {
    "duration": 35,
    "start_time": "2021-09-08T13:32:19.928Z"
   },
   {
    "duration": 10,
    "start_time": "2021-09-08T13:32:20.319Z"
   },
   {
    "duration": 29,
    "start_time": "2021-09-08T13:32:20.521Z"
   },
   {
    "duration": 37,
    "start_time": "2021-09-08T13:32:20.927Z"
   },
   {
    "duration": 15,
    "start_time": "2021-09-08T13:32:21.130Z"
   },
   {
    "duration": 7,
    "start_time": "2021-09-08T13:32:21.767Z"
   },
   {
    "duration": 31,
    "start_time": "2021-09-08T13:33:12.753Z"
   },
   {
    "duration": 34,
    "start_time": "2021-09-08T13:33:19.004Z"
   },
   {
    "duration": 34,
    "start_time": "2021-09-08T13:33:40.370Z"
   },
   {
    "duration": 32,
    "start_time": "2021-09-08T13:33:46.713Z"
   },
   {
    "duration": 32,
    "start_time": "2021-09-08T13:34:00.546Z"
   },
   {
    "duration": 38,
    "start_time": "2021-09-08T13:34:25.763Z"
   },
   {
    "duration": 326,
    "start_time": "2021-09-08T13:36:15.003Z"
   },
   {
    "duration": 1075,
    "start_time": "2021-09-08T13:36:23.095Z"
   },
   {
    "duration": 2,
    "start_time": "2021-09-08T13:36:24.172Z"
   },
   {
    "duration": 435,
    "start_time": "2021-09-08T13:36:24.176Z"
   },
   {
    "duration": 14,
    "start_time": "2021-09-08T13:36:24.613Z"
   },
   {
    "duration": 24,
    "start_time": "2021-09-08T13:36:24.629Z"
   },
   {
    "duration": 6,
    "start_time": "2021-09-08T13:36:24.655Z"
   },
   {
    "duration": 10,
    "start_time": "2021-09-08T13:36:24.734Z"
   },
   {
    "duration": 12,
    "start_time": "2021-09-08T13:36:24.920Z"
   },
   {
    "duration": 8,
    "start_time": "2021-09-08T13:36:25.127Z"
   },
   {
    "duration": 9,
    "start_time": "2021-09-08T13:36:25.735Z"
   },
   {
    "duration": 14,
    "start_time": "2021-09-08T13:36:25.936Z"
   },
   {
    "duration": 9,
    "start_time": "2021-09-08T13:36:26.136Z"
   },
   {
    "duration": 7,
    "start_time": "2021-09-08T13:36:26.441Z"
   },
   {
    "duration": 9,
    "start_time": "2021-09-08T13:36:26.872Z"
   },
   {
    "duration": 20,
    "start_time": "2021-09-08T13:36:27.074Z"
   },
   {
    "duration": 31,
    "start_time": "2021-09-08T13:36:27.279Z"
   },
   {
    "duration": 134,
    "start_time": "2021-09-08T13:36:27.686Z"
   },
   {
    "duration": 9,
    "start_time": "2021-09-08T13:36:28.080Z"
   },
   {
    "duration": 8,
    "start_time": "2021-09-08T13:36:28.495Z"
   },
   {
    "duration": 38,
    "start_time": "2021-09-08T13:36:28.912Z"
   },
   {
    "duration": 9,
    "start_time": "2021-09-08T13:36:29.128Z"
   },
   {
    "duration": 13,
    "start_time": "2021-09-08T13:36:29.543Z"
   },
   {
    "duration": 52,
    "start_time": "2021-09-08T13:36:29.969Z"
   },
   {
    "duration": 33,
    "start_time": "2021-09-08T13:36:30.176Z"
   },
   {
    "duration": 9,
    "start_time": "2021-09-08T13:36:30.624Z"
   },
   {
    "duration": 9,
    "start_time": "2021-09-08T13:36:31.823Z"
   },
   {
    "duration": 8,
    "start_time": "2021-09-08T13:36:32.632Z"
   },
   {
    "duration": 58,
    "start_time": "2021-09-08T13:36:33.791Z"
   },
   {
    "duration": 43,
    "start_time": "2021-09-08T13:36:33.984Z"
   },
   {
    "duration": 9,
    "start_time": "2021-09-08T13:36:34.599Z"
   },
   {
    "duration": 34,
    "start_time": "2021-09-08T13:36:34.824Z"
   },
   {
    "duration": 9,
    "start_time": "2021-09-08T13:36:35.255Z"
   },
   {
    "duration": 33,
    "start_time": "2021-09-08T13:36:35.489Z"
   },
   {
    "duration": 56,
    "start_time": "2021-09-08T13:36:35.976Z"
   },
   {
    "duration": 67,
    "start_time": "2021-09-08T13:36:36.232Z"
   },
   {
    "duration": 279,
    "start_time": "2021-09-08T13:38:47.764Z"
   },
   {
    "duration": 51,
    "start_time": "2021-09-08T13:39:18.656Z"
   },
   {
    "duration": 28,
    "start_time": "2021-09-08T13:42:51.981Z"
   },
   {
    "duration": 43,
    "start_time": "2021-09-08T13:45:20.833Z"
   },
   {
    "duration": 30,
    "start_time": "2021-09-08T13:46:00.455Z"
   },
   {
    "duration": 37,
    "start_time": "2021-09-08T13:46:38.513Z"
   },
   {
    "duration": 33,
    "start_time": "2021-09-08T13:47:07.362Z"
   },
   {
    "duration": 28,
    "start_time": "2021-09-08T13:47:24.772Z"
   },
   {
    "duration": 32,
    "start_time": "2021-09-08T13:48:09.722Z"
   },
   {
    "duration": 33,
    "start_time": "2021-09-08T13:48:27.504Z"
   },
   {
    "duration": 36,
    "start_time": "2021-09-08T13:49:14.983Z"
   },
   {
    "duration": 28,
    "start_time": "2021-09-08T13:49:39.634Z"
   },
   {
    "duration": 36,
    "start_time": "2021-09-08T13:49:58.217Z"
   },
   {
    "duration": 256,
    "start_time": "2021-09-08T13:50:29.994Z"
   },
   {
    "duration": 37,
    "start_time": "2021-09-08T13:50:33.514Z"
   },
   {
    "duration": 32,
    "start_time": "2021-09-08T13:51:10.985Z"
   },
   {
    "duration": 30,
    "start_time": "2021-09-08T13:51:37.218Z"
   },
   {
    "duration": 36,
    "start_time": "2021-09-08T13:53:08.155Z"
   },
   {
    "duration": 254,
    "start_time": "2021-09-08T13:53:17.377Z"
   },
   {
    "duration": 256,
    "start_time": "2021-09-08T13:53:23.899Z"
   },
   {
    "duration": 255,
    "start_time": "2021-09-08T13:53:28.770Z"
   },
   {
    "duration": 40,
    "start_time": "2021-09-08T13:53:34.641Z"
   },
   {
    "duration": 47,
    "start_time": "2021-09-08T13:53:58.025Z"
   },
   {
    "duration": 33,
    "start_time": "2021-09-08T13:54:15.129Z"
   },
   {
    "duration": 17,
    "start_time": "2021-09-08T14:01:51.865Z"
   },
   {
    "duration": 5985,
    "start_time": "2021-09-08T14:02:36.034Z"
   },
   {
    "duration": 39,
    "start_time": "2021-09-08T14:03:11.114Z"
   },
   {
    "duration": 33,
    "start_time": "2021-09-08T14:03:31.849Z"
   },
   {
    "duration": 6403,
    "start_time": "2021-09-08T14:03:48.157Z"
   },
   {
    "duration": 52,
    "start_time": "2021-09-08T14:04:33.096Z"
   },
   {
    "duration": 48,
    "start_time": "2021-09-08T14:04:41.601Z"
   },
   {
    "duration": 35,
    "start_time": "2021-09-08T14:05:08.994Z"
   },
   {
    "duration": 53,
    "start_time": "2021-09-08T14:05:16.632Z"
   },
   {
    "duration": 62,
    "start_time": "2021-09-08T14:05:36.083Z"
   },
   {
    "duration": 8,
    "start_time": "2021-09-08T14:06:16.089Z"
   },
   {
    "duration": 38,
    "start_time": "2021-09-08T14:06:50.305Z"
   },
   {
    "duration": 9,
    "start_time": "2021-09-08T14:07:12.464Z"
   },
   {
    "duration": 30,
    "start_time": "2021-09-08T14:09:08.266Z"
   },
   {
    "duration": 9,
    "start_time": "2021-09-08T14:12:34.307Z"
   },
   {
    "duration": 34,
    "start_time": "2021-09-08T14:14:12.689Z"
   },
   {
    "duration": 38,
    "start_time": "2021-09-08T14:14:17.225Z"
   },
   {
    "duration": 14,
    "start_time": "2021-09-08T14:16:45.513Z"
   },
   {
    "duration": 8,
    "start_time": "2021-09-08T14:21:36.947Z"
   },
   {
    "duration": 4,
    "start_time": "2021-09-08T14:21:40.049Z"
   },
   {
    "duration": 8,
    "start_time": "2021-09-08T14:21:43.513Z"
   },
   {
    "duration": 4,
    "start_time": "2021-09-08T14:21:50.192Z"
   },
   {
    "duration": 8,
    "start_time": "2021-09-08T14:21:54.370Z"
   },
   {
    "duration": 88,
    "start_time": "2021-09-08T14:22:07.284Z"
   },
   {
    "duration": 4,
    "start_time": "2021-09-08T14:22:11.650Z"
   },
   {
    "duration": 9,
    "start_time": "2021-09-08T14:22:13.835Z"
   },
   {
    "duration": 4,
    "start_time": "2021-09-08T14:22:42.913Z"
   },
   {
    "duration": 10,
    "start_time": "2021-09-08T14:22:44.497Z"
   },
   {
    "duration": 3,
    "start_time": "2021-09-08T14:23:40.569Z"
   },
   {
    "duration": 3,
    "start_time": "2021-09-08T14:23:40.770Z"
   },
   {
    "duration": 399,
    "start_time": "2021-09-08T14:23:40.969Z"
   },
   {
    "duration": 10,
    "start_time": "2021-09-08T14:23:41.370Z"
   },
   {
    "duration": 18,
    "start_time": "2021-09-08T14:23:41.576Z"
   },
   {
    "duration": 6,
    "start_time": "2021-09-08T14:23:41.792Z"
   },
   {
    "duration": 9,
    "start_time": "2021-09-08T14:23:42.216Z"
   },
   {
    "duration": 11,
    "start_time": "2021-09-08T14:23:42.426Z"
   },
   {
    "duration": 6,
    "start_time": "2021-09-08T14:23:42.642Z"
   },
   {
    "duration": 8,
    "start_time": "2021-09-08T14:23:43.275Z"
   },
   {
    "duration": 8,
    "start_time": "2021-09-08T14:23:43.502Z"
   },
   {
    "duration": 9,
    "start_time": "2021-09-08T14:23:43.697Z"
   },
   {
    "duration": 6,
    "start_time": "2021-09-08T14:23:43.904Z"
   },
   {
    "duration": 9,
    "start_time": "2021-09-08T14:23:44.319Z"
   },
   {
    "duration": 29,
    "start_time": "2021-09-08T14:23:44.521Z"
   },
   {
    "duration": 29,
    "start_time": "2021-09-08T14:23:44.728Z"
   },
   {
    "duration": 114,
    "start_time": "2021-09-08T14:23:45.143Z"
   },
   {
    "duration": 9,
    "start_time": "2021-09-08T14:23:45.560Z"
   },
   {
    "duration": 9,
    "start_time": "2021-09-08T14:23:46.016Z"
   },
   {
    "duration": 36,
    "start_time": "2021-09-08T14:23:46.471Z"
   },
   {
    "duration": 9,
    "start_time": "2021-09-08T14:23:46.690Z"
   },
   {
    "duration": 9,
    "start_time": "2021-09-08T14:23:47.128Z"
   },
   {
    "duration": 48,
    "start_time": "2021-09-08T14:23:47.554Z"
   },
   {
    "duration": 30,
    "start_time": "2021-09-08T14:23:47.768Z"
   },
   {
    "duration": 8,
    "start_time": "2021-09-08T14:23:48.224Z"
   },
   {
    "duration": 8,
    "start_time": "2021-09-08T14:23:49.361Z"
   },
   {
    "duration": 8,
    "start_time": "2021-09-08T14:23:49.816Z"
   },
   {
    "duration": 52,
    "start_time": "2021-09-08T14:23:50.489Z"
   },
   {
    "duration": 38,
    "start_time": "2021-09-08T14:23:50.729Z"
   },
   {
    "duration": 9,
    "start_time": "2021-09-08T14:23:51.440Z"
   },
   {
    "duration": 32,
    "start_time": "2021-09-08T14:23:51.673Z"
   },
   {
    "duration": 9,
    "start_time": "2021-09-08T14:23:52.120Z"
   },
   {
    "duration": 28,
    "start_time": "2021-09-08T14:23:52.354Z"
   },
   {
    "duration": 15,
    "start_time": "2021-09-08T14:23:52.800Z"
   },
   {
    "duration": 35,
    "start_time": "2021-09-08T14:23:53.042Z"
   },
   {
    "duration": 8,
    "start_time": "2021-09-08T14:23:53.296Z"
   },
   {
    "duration": 13,
    "start_time": "2021-09-08T14:23:53.768Z"
   },
   {
    "duration": 4,
    "start_time": "2021-09-08T14:23:54.016Z"
   },
   {
    "duration": 7,
    "start_time": "2021-09-08T14:23:54.232Z"
   },
   {
    "duration": 28,
    "start_time": "2021-09-08T14:23:54.449Z"
   },
   {
    "duration": 237,
    "start_time": "2021-09-08T14:23:54.688Z"
   },
   {
    "duration": 7,
    "start_time": "2021-09-08T14:23:54.935Z"
   },
   {
    "duration": 7,
    "start_time": "2021-09-08T14:23:56.809Z"
   },
   {
    "duration": 7508,
    "start_time": "2021-09-08T14:23:57.847Z"
   },
   {
    "duration": -95,
    "start_time": "2021-09-08T14:24:05.452Z"
   },
   {
    "duration": 3,
    "start_time": "2021-09-08T14:25:23.506Z"
   },
   {
    "duration": 3,
    "start_time": "2021-09-08T14:25:23.715Z"
   },
   {
    "duration": 389,
    "start_time": "2021-09-08T14:25:23.921Z"
   },
   {
    "duration": 11,
    "start_time": "2021-09-08T14:25:24.336Z"
   },
   {
    "duration": 19,
    "start_time": "2021-09-08T14:25:24.537Z"
   },
   {
    "duration": 6,
    "start_time": "2021-09-08T14:25:24.769Z"
   },
   {
    "duration": 11,
    "start_time": "2021-09-08T14:25:25.184Z"
   },
   {
    "duration": 12,
    "start_time": "2021-09-08T14:25:25.378Z"
   },
   {
    "duration": 7,
    "start_time": "2021-09-08T14:25:25.586Z"
   },
   {
    "duration": 9,
    "start_time": "2021-09-08T14:25:26.194Z"
   },
   {
    "duration": 8,
    "start_time": "2021-09-08T14:25:26.386Z"
   },
   {
    "duration": 9,
    "start_time": "2021-09-08T14:25:26.585Z"
   },
   {
    "duration": 6,
    "start_time": "2021-09-08T14:25:26.802Z"
   },
   {
    "duration": 9,
    "start_time": "2021-09-08T14:25:27.208Z"
   },
   {
    "duration": 22,
    "start_time": "2021-09-08T14:25:27.409Z"
   },
   {
    "duration": 29,
    "start_time": "2021-09-08T14:25:27.618Z"
   },
   {
    "duration": 116,
    "start_time": "2021-09-08T14:25:28.032Z"
   },
   {
    "duration": 9,
    "start_time": "2021-09-08T14:25:28.456Z"
   },
   {
    "duration": 8,
    "start_time": "2021-09-08T14:25:28.880Z"
   },
   {
    "duration": 39,
    "start_time": "2021-09-08T14:25:29.328Z"
   },
   {
    "duration": 12,
    "start_time": "2021-09-08T14:25:29.529Z"
   },
   {
    "duration": 10,
    "start_time": "2021-09-08T14:25:29.960Z"
   },
   {
    "duration": 56,
    "start_time": "2021-09-08T14:25:30.383Z"
   },
   {
    "duration": 32,
    "start_time": "2021-09-08T14:25:30.577Z"
   },
   {
    "duration": 10,
    "start_time": "2021-09-08T14:25:31.016Z"
   },
   {
    "duration": 9,
    "start_time": "2021-09-08T14:25:32.177Z"
   },
   {
    "duration": 9,
    "start_time": "2021-09-08T14:25:32.607Z"
   },
   {
    "duration": 49,
    "start_time": "2021-09-08T14:25:33.296Z"
   },
   {
    "duration": 38,
    "start_time": "2021-09-08T14:25:33.537Z"
   },
   {
    "duration": 10,
    "start_time": "2021-09-08T14:25:34.264Z"
   },
   {
    "duration": 34,
    "start_time": "2021-09-08T14:25:34.513Z"
   },
   {
    "duration": 9,
    "start_time": "2021-09-08T14:25:34.985Z"
   },
   {
    "duration": 30,
    "start_time": "2021-09-08T14:25:35.233Z"
   },
   {
    "duration": 15,
    "start_time": "2021-09-08T14:25:35.696Z"
   },
   {
    "duration": 38,
    "start_time": "2021-09-08T14:25:35.931Z"
   },
   {
    "duration": 9,
    "start_time": "2021-09-08T14:25:36.176Z"
   },
   {
    "duration": 15,
    "start_time": "2021-09-08T14:25:36.648Z"
   },
   {
    "duration": 21,
    "start_time": "2021-09-08T14:25:36.985Z"
   },
   {
    "duration": 9,
    "start_time": "2021-09-08T14:25:37.226Z"
   },
   {
    "duration": 31,
    "start_time": "2021-09-08T14:25:37.897Z"
   },
   {
    "duration": 8,
    "start_time": "2021-09-08T14:25:38.138Z"
   },
   {
    "duration": 8,
    "start_time": "2021-09-08T14:25:43.744Z"
   },
   {
    "duration": 3,
    "start_time": "2021-09-08T14:27:25.448Z"
   },
   {
    "duration": 3,
    "start_time": "2021-09-08T14:27:25.664Z"
   },
   {
    "duration": 381,
    "start_time": "2021-09-08T14:27:25.858Z"
   },
   {
    "duration": 14,
    "start_time": "2021-09-08T14:27:26.321Z"
   },
   {
    "duration": 18,
    "start_time": "2021-09-08T14:27:26.531Z"
   },
   {
    "duration": 7,
    "start_time": "2021-09-08T14:27:26.725Z"
   },
   {
    "duration": 10,
    "start_time": "2021-09-08T14:27:27.119Z"
   },
   {
    "duration": 11,
    "start_time": "2021-09-08T14:27:27.320Z"
   },
   {
    "duration": 6,
    "start_time": "2021-09-08T14:27:27.520Z"
   },
   {
    "duration": 9,
    "start_time": "2021-09-08T14:27:28.111Z"
   },
   {
    "duration": 8,
    "start_time": "2021-09-08T14:27:28.320Z"
   },
   {
    "duration": 8,
    "start_time": "2021-09-08T14:27:28.520Z"
   },
   {
    "duration": 6,
    "start_time": "2021-09-08T14:27:28.720Z"
   },
   {
    "duration": 8,
    "start_time": "2021-09-08T14:27:29.136Z"
   },
   {
    "duration": 20,
    "start_time": "2021-09-08T14:27:29.336Z"
   },
   {
    "duration": 27,
    "start_time": "2021-09-08T14:27:29.544Z"
   },
   {
    "duration": 118,
    "start_time": "2021-09-08T14:27:29.975Z"
   },
   {
    "duration": 9,
    "start_time": "2021-09-08T14:27:30.432Z"
   },
   {
    "duration": 8,
    "start_time": "2021-09-08T14:27:30.889Z"
   },
   {
    "duration": 37,
    "start_time": "2021-09-08T14:27:31.320Z"
   },
   {
    "duration": 8,
    "start_time": "2021-09-08T14:27:31.545Z"
   },
   {
    "duration": 13,
    "start_time": "2021-09-08T14:27:32.287Z"
   },
   {
    "duration": 75,
    "start_time": "2021-09-08T14:27:32.728Z"
   },
   {
    "duration": 36,
    "start_time": "2021-09-08T14:27:32.944Z"
   },
   {
    "duration": 9,
    "start_time": "2021-09-08T14:27:33.352Z"
   },
   {
    "duration": 10,
    "start_time": "2021-09-08T14:27:34.418Z"
   },
   {
    "duration": 8,
    "start_time": "2021-09-08T14:27:34.848Z"
   },
   {
    "duration": 52,
    "start_time": "2021-09-08T14:27:35.769Z"
   },
   {
    "duration": 37,
    "start_time": "2021-09-08T14:27:35.969Z"
   },
   {
    "duration": 8,
    "start_time": "2021-09-08T14:27:36.601Z"
   },
   {
    "duration": 30,
    "start_time": "2021-09-08T14:27:36.818Z"
   },
   {
    "duration": 9,
    "start_time": "2021-09-08T14:27:37.240Z"
   },
   {
    "duration": 28,
    "start_time": "2021-09-08T14:27:37.448Z"
   },
   {
    "duration": 15,
    "start_time": "2021-09-08T14:27:37.888Z"
   },
   {
    "duration": 38,
    "start_time": "2021-09-08T14:27:38.114Z"
   },
   {
    "duration": 8,
    "start_time": "2021-09-08T14:27:38.329Z"
   },
   {
    "duration": 14,
    "start_time": "2021-09-08T14:27:38.768Z"
   },
   {
    "duration": 1662,
    "start_time": "2021-09-08T14:27:39.023Z"
   },
   {
    "duration": -29,
    "start_time": "2021-09-08T14:27:40.716Z"
   },
   {
    "duration": -36,
    "start_time": "2021-09-08T14:27:40.723Z"
   },
   {
    "duration": -40,
    "start_time": "2021-09-08T14:27:40.728Z"
   },
   {
    "duration": -45,
    "start_time": "2021-09-08T14:27:40.734Z"
   },
   {
    "duration": 4,
    "start_time": "2021-09-08T14:27:50.635Z"
   },
   {
    "duration": 8,
    "start_time": "2021-09-08T14:27:52.497Z"
   },
   {
    "duration": 7,
    "start_time": "2021-09-08T14:28:12.505Z"
   },
   {
    "duration": 9,
    "start_time": "2021-09-08T14:28:13.720Z"
   },
   {
    "duration": 30,
    "start_time": "2021-09-08T14:28:28.147Z"
   },
   {
    "duration": 8,
    "start_time": "2021-09-08T14:28:30.553Z"
   },
   {
    "duration": 9,
    "start_time": "2021-09-08T14:28:32.120Z"
   },
   {
    "duration": 48,
    "start_time": "2021-09-08T14:30:20.728Z"
   },
   {
    "duration": 8,
    "start_time": "2021-09-08T14:30:24.241Z"
   },
   {
    "duration": 3,
    "start_time": "2021-09-08T14:31:07.064Z"
   },
   {
    "duration": 3,
    "start_time": "2021-09-08T14:31:07.271Z"
   },
   {
    "duration": 408,
    "start_time": "2021-09-08T14:31:07.474Z"
   },
   {
    "duration": 12,
    "start_time": "2021-09-08T14:31:07.884Z"
   },
   {
    "duration": 17,
    "start_time": "2021-09-08T14:31:08.083Z"
   },
   {
    "duration": 8,
    "start_time": "2021-09-08T14:31:08.282Z"
   },
   {
    "duration": 9,
    "start_time": "2021-09-08T14:31:08.681Z"
   },
   {
    "duration": 11,
    "start_time": "2021-09-08T14:31:08.890Z"
   },
   {
    "duration": 6,
    "start_time": "2021-09-08T14:31:09.097Z"
   },
   {
    "duration": 8,
    "start_time": "2021-09-08T14:31:09.733Z"
   },
   {
    "duration": 8,
    "start_time": "2021-09-08T14:31:09.930Z"
   },
   {
    "duration": 8,
    "start_time": "2021-09-08T14:31:10.137Z"
   },
   {
    "duration": 6,
    "start_time": "2021-09-08T14:31:10.328Z"
   },
   {
    "duration": 9,
    "start_time": "2021-09-08T14:31:10.746Z"
   },
   {
    "duration": 19,
    "start_time": "2021-09-08T14:31:10.944Z"
   },
   {
    "duration": 30,
    "start_time": "2021-09-08T14:31:11.145Z"
   },
   {
    "duration": 118,
    "start_time": "2021-09-08T14:31:11.560Z"
   },
   {
    "duration": 9,
    "start_time": "2021-09-08T14:31:11.992Z"
   },
   {
    "duration": 7,
    "start_time": "2021-09-08T14:31:12.424Z"
   },
   {
    "duration": 36,
    "start_time": "2021-09-08T14:31:12.832Z"
   },
   {
    "duration": 9,
    "start_time": "2021-09-08T14:31:13.057Z"
   },
   {
    "duration": 9,
    "start_time": "2021-09-08T14:31:13.448Z"
   },
   {
    "duration": 53,
    "start_time": "2021-09-08T14:31:13.855Z"
   },
   {
    "duration": 31,
    "start_time": "2021-09-08T14:31:14.072Z"
   },
   {
    "duration": 11,
    "start_time": "2021-09-08T14:31:14.504Z"
   },
   {
    "duration": 13,
    "start_time": "2021-09-08T14:31:15.536Z"
   },
   {
    "duration": 10,
    "start_time": "2021-09-08T14:31:15.960Z"
   },
   {
    "duration": 83,
    "start_time": "2021-09-08T14:31:16.592Z"
   },
   {
    "duration": 11,
    "start_time": "2021-09-08T14:31:17.242Z"
   },
   {
    "duration": 39,
    "start_time": "2021-09-08T14:31:17.457Z"
   },
   {
    "duration": 9,
    "start_time": "2021-09-08T14:31:17.872Z"
   },
   {
    "duration": 33,
    "start_time": "2021-09-08T14:31:18.096Z"
   },
   {
    "duration": 50,
    "start_time": "2021-09-08T14:31:18.553Z"
   },
   {
    "duration": 12,
    "start_time": "2021-09-08T14:31:18.784Z"
   },
   {
    "duration": 10,
    "start_time": "2021-09-08T14:31:18.992Z"
   },
   {
    "duration": 11,
    "start_time": "2021-09-08T14:31:19.233Z"
   },
   {
    "duration": 30,
    "start_time": "2021-09-08T14:31:19.457Z"
   },
   {
    "duration": 7,
    "start_time": "2021-09-08T14:31:19.704Z"
   },
   {
    "duration": 8,
    "start_time": "2021-09-08T14:31:19.944Z"
   },
   {
    "duration": 7,
    "start_time": "2021-09-08T14:31:20.665Z"
   },
   {
    "duration": 19,
    "start_time": "2021-09-08T14:33:52.388Z"
   },
   {
    "duration": 5,
    "start_time": "2021-09-08T14:41:55.434Z"
   },
   {
    "duration": 25387,
    "start_time": "2021-09-08T14:41:56.177Z"
   },
   {
    "duration": 5,
    "start_time": "2021-09-08T14:44:09.586Z"
   },
   {
    "duration": 24289,
    "start_time": "2021-09-08T14:44:10.900Z"
   },
   {
    "duration": 21,
    "start_time": "2021-09-08T14:47:03.694Z"
   },
   {
    "duration": 5,
    "start_time": "2021-09-08T14:47:54.851Z"
   },
   {
    "duration": 23086,
    "start_time": "2021-09-08T14:47:55.547Z"
   },
   {
    "duration": 7,
    "start_time": "2021-09-08T15:05:26.308Z"
   },
   {
    "duration": 23580,
    "start_time": "2021-09-08T15:05:27.243Z"
   },
   {
    "duration": 1405,
    "start_time": "2021-09-09T11:17:56.303Z"
   },
   {
    "duration": 4,
    "start_time": "2021-09-09T11:17:57.710Z"
   },
   {
    "duration": 529,
    "start_time": "2021-09-09T11:17:57.717Z"
   },
   {
    "duration": 21,
    "start_time": "2021-09-09T11:17:58.250Z"
   },
   {
    "duration": 28,
    "start_time": "2021-09-09T11:17:58.273Z"
   },
   {
    "duration": 16,
    "start_time": "2021-09-09T11:17:58.303Z"
   },
   {
    "duration": 41,
    "start_time": "2021-09-09T11:17:58.321Z"
   },
   {
    "duration": 20,
    "start_time": "2021-09-09T11:17:58.365Z"
   },
   {
    "duration": 10,
    "start_time": "2021-09-09T11:17:58.461Z"
   },
   {
    "duration": 12,
    "start_time": "2021-09-09T11:17:59.082Z"
   },
   {
    "duration": 17,
    "start_time": "2021-09-09T11:17:59.293Z"
   },
   {
    "duration": 12,
    "start_time": "2021-09-09T11:17:59.498Z"
   },
   {
    "duration": 9,
    "start_time": "2021-09-09T11:17:59.700Z"
   },
   {
    "duration": 13,
    "start_time": "2021-09-09T11:18:00.110Z"
   },
   {
    "duration": 28,
    "start_time": "2021-09-09T11:18:00.315Z"
   },
   {
    "duration": 42,
    "start_time": "2021-09-09T11:18:00.507Z"
   },
   {
    "duration": 185,
    "start_time": "2021-09-09T11:18:00.930Z"
   },
   {
    "duration": 15,
    "start_time": "2021-09-09T11:18:01.340Z"
   },
   {
    "duration": 11,
    "start_time": "2021-09-09T11:18:01.771Z"
   },
   {
    "duration": 50,
    "start_time": "2021-09-09T11:18:02.194Z"
   },
   {
    "duration": 13,
    "start_time": "2021-09-09T11:18:02.427Z"
   },
   {
    "duration": 15,
    "start_time": "2021-09-09T11:18:02.866Z"
   },
   {
    "duration": 68,
    "start_time": "2021-09-09T11:18:03.316Z"
   },
   {
    "duration": 44,
    "start_time": "2021-09-09T11:18:03.525Z"
   },
   {
    "duration": 14,
    "start_time": "2021-09-09T11:18:03.986Z"
   },
   {
    "duration": 13,
    "start_time": "2021-09-09T11:18:05.098Z"
   },
   {
    "duration": 12,
    "start_time": "2021-09-09T11:18:05.539Z"
   },
   {
    "duration": 82,
    "start_time": "2021-09-09T11:18:06.227Z"
   },
   {
    "duration": 11,
    "start_time": "2021-09-09T11:18:06.882Z"
   },
   {
    "duration": 45,
    "start_time": "2021-09-09T11:18:07.115Z"
   },
   {
    "duration": 14,
    "start_time": "2021-09-09T11:18:07.563Z"
   },
   {
    "duration": 43,
    "start_time": "2021-09-09T11:18:07.803Z"
   },
   {
    "duration": 55,
    "start_time": "2021-09-09T11:18:08.291Z"
   },
   {
    "duration": 11,
    "start_time": "2021-09-09T11:18:08.532Z"
   },
   {
    "duration": 44,
    "start_time": "2021-09-09T11:18:08.763Z"
   },
   {
    "duration": 11,
    "start_time": "2021-09-09T11:18:09.003Z"
   },
   {
    "duration": 11,
    "start_time": "2021-09-09T11:18:09.244Z"
   },
   {
    "duration": 46,
    "start_time": "2021-09-09T11:18:09.475Z"
   },
   {
    "duration": 8,
    "start_time": "2021-09-09T11:18:10.218Z"
   },
   {
    "duration": 39188,
    "start_time": "2021-09-09T11:18:11.203Z"
   },
   {
    "duration": 5354,
    "start_time": "2021-09-09T11:19:18.769Z"
   },
   {
    "duration": 1782,
    "start_time": "2021-09-09T11:20:42.141Z"
   },
   {
    "duration": 8,
    "start_time": "2021-09-09T11:20:53.405Z"
   },
   {
    "duration": -22,
    "start_time": "2021-09-09T11:21:27.139Z"
   },
   {
    "duration": 8,
    "start_time": "2021-09-09T11:21:54.515Z"
   },
   {
    "duration": 39475,
    "start_time": "2021-09-09T11:32:58.990Z"
   },
   {
    "duration": 4,
    "start_time": "2021-09-09T11:41:23.033Z"
   },
   {
    "duration": 3,
    "start_time": "2021-09-09T11:41:23.226Z"
   },
   {
    "duration": 499,
    "start_time": "2021-09-09T11:41:23.424Z"
   },
   {
    "duration": 15,
    "start_time": "2021-09-09T11:41:23.925Z"
   },
   {
    "duration": 28,
    "start_time": "2021-09-09T11:41:24.048Z"
   },
   {
    "duration": 10,
    "start_time": "2021-09-09T11:41:24.260Z"
   },
   {
    "duration": 13,
    "start_time": "2021-09-09T11:41:24.663Z"
   },
   {
    "duration": 17,
    "start_time": "2021-09-09T11:41:24.880Z"
   },
   {
    "duration": 9,
    "start_time": "2021-09-09T11:41:25.089Z"
   },
   {
    "duration": 14,
    "start_time": "2021-09-09T11:41:25.728Z"
   },
   {
    "duration": 22,
    "start_time": "2021-09-09T11:41:25.935Z"
   },
   {
    "duration": 21,
    "start_time": "2021-09-09T11:41:26.152Z"
   },
   {
    "duration": 8,
    "start_time": "2021-09-09T11:41:26.357Z"
   },
   {
    "duration": 12,
    "start_time": "2021-09-09T11:41:26.767Z"
   },
   {
    "duration": 26,
    "start_time": "2021-09-09T11:41:26.975Z"
   },
   {
    "duration": 40,
    "start_time": "2021-09-09T11:41:27.175Z"
   },
   {
    "duration": 180,
    "start_time": "2021-09-09T11:41:27.590Z"
   },
   {
    "duration": 13,
    "start_time": "2021-09-09T11:41:28.031Z"
   },
   {
    "duration": 13,
    "start_time": "2021-09-09T11:41:28.472Z"
   },
   {
    "duration": 56,
    "start_time": "2021-09-09T11:41:28.894Z"
   },
   {
    "duration": 15,
    "start_time": "2021-09-09T11:41:29.112Z"
   },
   {
    "duration": 14,
    "start_time": "2021-09-09T11:41:29.535Z"
   },
   {
    "duration": 73,
    "start_time": "2021-09-09T11:41:29.952Z"
   },
   {
    "duration": 45,
    "start_time": "2021-09-09T11:41:30.184Z"
   },
   {
    "duration": 14,
    "start_time": "2021-09-09T11:41:30.615Z"
   },
   {
    "duration": 13,
    "start_time": "2021-09-09T11:41:31.737Z"
   },
   {
    "duration": 10,
    "start_time": "2021-09-09T11:41:32.175Z"
   },
   {
    "duration": 77,
    "start_time": "2021-09-09T11:41:32.841Z"
   },
   {
    "duration": 12,
    "start_time": "2021-09-09T11:41:33.471Z"
   },
   {
    "duration": 46,
    "start_time": "2021-09-09T11:41:33.687Z"
   },
   {
    "duration": 13,
    "start_time": "2021-09-09T11:41:34.110Z"
   },
   {
    "duration": 45,
    "start_time": "2021-09-09T11:41:34.336Z"
   },
   {
    "duration": 55,
    "start_time": "2021-09-09T11:41:34.767Z"
   },
   {
    "duration": 9,
    "start_time": "2021-09-09T11:41:34.984Z"
   },
   {
    "duration": 46,
    "start_time": "2021-09-09T11:41:35.199Z"
   },
   {
    "duration": 11,
    "start_time": "2021-09-09T11:41:35.423Z"
   },
   {
    "duration": 11,
    "start_time": "2021-09-09T11:41:35.679Z"
   },
   {
    "duration": 32,
    "start_time": "2021-09-09T11:41:36.311Z"
   },
   {
    "duration": 7,
    "start_time": "2021-09-09T11:41:37.327Z"
   },
   {
    "duration": 8,
    "start_time": "2021-09-09T11:41:38.192Z"
   },
   {
    "duration": 41798,
    "start_time": "2021-09-09T11:41:38.830Z"
   },
   {
    "duration": 8,
    "start_time": "2021-09-09T11:44:31.954Z"
   },
   {
    "duration": 8,
    "start_time": "2021-09-09T11:44:33.177Z"
   },
   {
    "duration": 49265,
    "start_time": "2021-09-09T11:44:33.833Z"
   },
   {
    "duration": 99,
    "start_time": "2021-09-09T11:45:52.912Z"
   },
   {
    "duration": 8,
    "start_time": "2021-09-09T11:45:53.185Z"
   },
   {
    "duration": 8,
    "start_time": "2021-09-09T11:46:04.369Z"
   },
   {
    "duration": 8,
    "start_time": "2021-09-09T11:46:05.807Z"
   },
   {
    "duration": -28,
    "start_time": "2021-09-09T11:46:54.246Z"
   },
   {
    "duration": -33,
    "start_time": "2021-09-09T11:46:54.252Z"
   },
   {
    "duration": -38,
    "start_time": "2021-09-09T11:46:54.259Z"
   },
   {
    "duration": 8,
    "start_time": "2021-09-09T11:47:02.101Z"
   },
   {
    "duration": 8,
    "start_time": "2021-09-09T11:47:02.880Z"
   },
   {
    "duration": 49759,
    "start_time": "2021-09-09T11:47:03.792Z"
   },
   {
    "duration": -22,
    "start_time": "2021-09-09T11:47:53.576Z"
   },
   {
    "duration": 653,
    "start_time": "2021-09-09T11:47:53.932Z"
   },
   {
    "duration": 8,
    "start_time": "2021-09-09T11:48:00.841Z"
   },
   {
    "duration": 9,
    "start_time": "2021-09-09T11:48:20.770Z"
   },
   {
    "duration": 8,
    "start_time": "2021-09-09T11:48:21.784Z"
   },
   {
    "duration": 627,
    "start_time": "2021-09-09T11:48:22.733Z"
   },
   {
    "duration": 9,
    "start_time": "2021-09-09T11:48:52.794Z"
   },
   {
    "duration": 8,
    "start_time": "2021-09-09T11:48:53.751Z"
   },
   {
    "duration": 9,
    "start_time": "2021-09-09T11:49:24.559Z"
   },
   {
    "duration": 20,
    "start_time": "2021-09-09T11:49:24.571Z"
   },
   {
    "duration": 29490,
    "start_time": "2021-09-09T11:49:24.594Z"
   },
   {
    "duration": 11,
    "start_time": "2021-09-09T11:49:58.315Z"
   },
   {
    "duration": 23704,
    "start_time": "2021-09-09T11:49:59.082Z"
   },
   {
    "duration": 32,
    "start_time": "2021-09-09T11:50:24.826Z"
   },
   {
    "duration": 316,
    "start_time": "2021-09-09T11:50:38.185Z"
   },
   {
    "duration": 292,
    "start_time": "2021-09-09T11:50:52.850Z"
   },
   {
    "duration": 30,
    "start_time": "2021-09-09T11:50:59.657Z"
   },
   {
    "duration": 18,
    "start_time": "2021-09-09T11:58:47.080Z"
   },
   {
    "duration": 10,
    "start_time": "2021-09-09T12:02:52.632Z"
   },
   {
    "duration": 9,
    "start_time": "2021-09-09T12:03:11.425Z"
   },
   {
    "duration": 9,
    "start_time": "2021-09-09T12:03:27.393Z"
   },
   {
    "duration": 9,
    "start_time": "2021-09-09T12:03:53.681Z"
   },
   {
    "duration": 9,
    "start_time": "2021-09-09T12:05:20.753Z"
   },
   {
    "duration": 9,
    "start_time": "2021-09-09T12:08:20.775Z"
   },
   {
    "duration": 8,
    "start_time": "2021-09-09T12:08:21.256Z"
   },
   {
    "duration": 8,
    "start_time": "2021-09-09T12:08:22.113Z"
   },
   {
    "duration": 9,
    "start_time": "2021-09-09T12:08:23.872Z"
   },
   {
    "duration": 12,
    "start_time": "2021-09-09T12:08:40.424Z"
   },
   {
    "duration": 9,
    "start_time": "2021-09-09T12:09:00.129Z"
   },
   {
    "duration": 8,
    "start_time": "2021-09-09T12:11:35.244Z"
   },
   {
    "duration": 9,
    "start_time": "2021-09-09T12:16:48.577Z"
   },
   {
    "duration": 9,
    "start_time": "2021-09-09T12:16:49.353Z"
   },
   {
    "duration": 9,
    "start_time": "2021-09-09T12:18:46.457Z"
   },
   {
    "duration": 9,
    "start_time": "2021-09-09T12:18:47.072Z"
   },
   {
    "duration": 9,
    "start_time": "2021-09-09T12:18:48.153Z"
   },
   {
    "duration": 9,
    "start_time": "2021-09-09T12:18:48.420Z"
   },
   {
    "duration": 8,
    "start_time": "2021-09-09T12:18:48.961Z"
   },
   {
    "duration": 9,
    "start_time": "2021-09-09T12:18:51.632Z"
   },
   {
    "duration": 9,
    "start_time": "2021-09-09T12:18:51.993Z"
   },
   {
    "duration": 10,
    "start_time": "2021-09-09T12:18:52.512Z"
   },
   {
    "duration": 12,
    "start_time": "2021-09-09T12:19:23.898Z"
   },
   {
    "duration": 10,
    "start_time": "2021-09-09T12:19:28.465Z"
   },
   {
    "duration": 9,
    "start_time": "2021-09-09T12:21:31.520Z"
   },
   {
    "duration": 11,
    "start_time": "2021-09-09T12:21:31.729Z"
   },
   {
    "duration": 11,
    "start_time": "2021-09-09T12:21:31.953Z"
   },
   {
    "duration": 11,
    "start_time": "2021-09-09T12:21:32.209Z"
   },
   {
    "duration": 10,
    "start_time": "2021-09-09T12:21:33.025Z"
   },
   {
    "duration": 9,
    "start_time": "2021-09-09T12:21:33.425Z"
   },
   {
    "duration": 9,
    "start_time": "2021-09-09T12:21:34.353Z"
   },
   {
    "duration": 9,
    "start_time": "2021-09-09T12:21:34.704Z"
   },
   {
    "duration": 13,
    "start_time": "2021-09-09T12:21:35.138Z"
   },
   {
    "duration": 8,
    "start_time": "2021-09-09T12:21:38.489Z"
   },
   {
    "duration": 9,
    "start_time": "2021-09-09T12:21:38.713Z"
   },
   {
    "duration": 10,
    "start_time": "2021-09-09T12:21:39.259Z"
   },
   {
    "duration": 1082,
    "start_time": "2021-09-09T12:42:25.826Z"
   },
   {
    "duration": 18,
    "start_time": "2021-09-09T12:42:35.748Z"
   },
   {
    "duration": 11,
    "start_time": "2021-09-09T12:42:49.587Z"
   },
   {
    "duration": 945,
    "start_time": "2021-09-09T12:43:01.121Z"
   },
   {
    "duration": 11,
    "start_time": "2021-09-09T12:43:04.228Z"
   },
   {
    "duration": 101,
    "start_time": "2021-09-09T12:43:57.050Z"
   },
   {
    "duration": 13,
    "start_time": "2021-09-09T12:44:03.795Z"
   },
   {
    "duration": 12,
    "start_time": "2021-09-09T12:44:42.042Z"
   },
   {
    "duration": 12,
    "start_time": "2021-09-09T12:45:10.025Z"
   },
   {
    "duration": 13,
    "start_time": "2021-09-09T12:46:12.552Z"
   },
   {
    "duration": 12,
    "start_time": "2021-09-09T12:46:13.048Z"
   },
   {
    "duration": 11,
    "start_time": "2021-09-09T12:46:13.561Z"
   },
   {
    "duration": 12,
    "start_time": "2021-09-09T12:46:14.100Z"
   },
   {
    "duration": 12,
    "start_time": "2021-09-09T13:05:37.593Z"
   },
   {
    "duration": 13,
    "start_time": "2021-09-09T13:05:41.233Z"
   },
   {
    "duration": 11,
    "start_time": "2021-09-09T13:13:12.299Z"
   },
   {
    "duration": 12,
    "start_time": "2021-09-09T13:13:17.572Z"
   },
   {
    "duration": 13,
    "start_time": "2021-09-09T13:18:00.402Z"
   },
   {
    "duration": 20,
    "start_time": "2021-09-09T13:21:00.163Z"
   },
   {
    "duration": 13,
    "start_time": "2021-09-09T13:21:06.009Z"
   },
   {
    "duration": 25,
    "start_time": "2021-09-09T13:22:28.084Z"
   },
   {
    "duration": 22,
    "start_time": "2021-09-09T13:22:34.500Z"
   },
   {
    "duration": 12,
    "start_time": "2021-09-09T13:22:42.030Z"
   },
   {
    "duration": 22,
    "start_time": "2021-09-09T13:22:45.364Z"
   },
   {
    "duration": 13,
    "start_time": "2021-09-09T13:22:45.810Z"
   },
   {
    "duration": 1179,
    "start_time": "2021-09-09T13:33:02.058Z"
   },
   {
    "duration": 301,
    "start_time": "2021-09-09T13:33:30.371Z"
   },
   {
    "duration": 334,
    "start_time": "2021-09-09T13:35:12.258Z"
   },
   {
    "duration": 227,
    "start_time": "2021-09-09T13:35:33.207Z"
   },
   {
    "duration": 248,
    "start_time": "2021-09-09T13:36:23.291Z"
   },
   {
    "duration": 335,
    "start_time": "2021-09-09T13:36:59.130Z"
   },
   {
    "duration": 244,
    "start_time": "2021-09-09T13:38:06.354Z"
   },
   {
    "duration": 229,
    "start_time": "2021-09-09T13:38:17.947Z"
   },
   {
    "duration": 1930,
    "start_time": "2021-09-09T13:48:03.039Z"
   },
   {
    "duration": 214,
    "start_time": "2021-09-09T13:48:13.091Z"
   },
   {
    "duration": 297,
    "start_time": "2021-09-09T13:48:47.499Z"
   },
   {
    "duration": 319,
    "start_time": "2021-09-09T13:49:20.046Z"
   },
   {
    "duration": 241,
    "start_time": "2021-09-09T13:49:42.291Z"
   },
   {
    "duration": 332,
    "start_time": "2021-09-09T13:49:50.132Z"
   },
   {
    "duration": 113,
    "start_time": "2021-09-09T13:52:14.418Z"
   },
   {
    "duration": 13,
    "start_time": "2021-09-09T13:52:44.458Z"
   },
   {
    "duration": 131,
    "start_time": "2021-09-09T13:52:45.605Z"
   },
   {
    "duration": 8,
    "start_time": "2021-09-09T13:52:59.738Z"
   },
   {
    "duration": 113,
    "start_time": "2021-09-09T13:53:30.218Z"
   },
   {
    "duration": 432,
    "start_time": "2021-09-09T13:53:53.465Z"
   },
   {
    "duration": 459,
    "start_time": "2021-09-09T13:54:57.178Z"
   },
   {
    "duration": 597,
    "start_time": "2021-09-09T13:55:27.015Z"
   },
   {
    "duration": 454,
    "start_time": "2021-09-09T13:55:31.921Z"
   },
   {
    "duration": 42,
    "start_time": "2021-09-09T13:55:55.579Z"
   },
   {
    "duration": 13,
    "start_time": "2021-09-09T13:56:12.081Z"
   },
   {
    "duration": 12,
    "start_time": "2021-09-09T13:56:18.094Z"
   },
   {
    "duration": 319,
    "start_time": "2021-09-09T13:59:05.106Z"
   },
   {
    "duration": 309,
    "start_time": "2021-09-09T13:59:12.587Z"
   },
   {
    "duration": 22,
    "start_time": "2021-09-09T13:59:32.914Z"
   },
   {
    "duration": 21,
    "start_time": "2021-09-09T14:00:15.308Z"
   },
   {
    "duration": 22,
    "start_time": "2021-09-09T14:00:18.784Z"
   },
   {
    "duration": 23,
    "start_time": "2021-09-09T14:05:00.683Z"
   },
   {
    "duration": -8,
    "start_time": "2021-09-09T14:19:31.395Z"
   },
   {
    "duration": 12,
    "start_time": "2021-09-09T14:19:34.145Z"
   },
   {
    "duration": 482,
    "start_time": "2021-09-09T14:19:39.098Z"
   },
   {
    "duration": 7,
    "start_time": "2021-09-09T14:20:06.891Z"
   },
   {
    "duration": 295,
    "start_time": "2021-09-09T14:20:10.537Z"
   },
   {
    "duration": 284,
    "start_time": "2021-09-09T14:20:21.026Z"
   },
   {
    "duration": 466,
    "start_time": "2021-09-09T14:21:46.569Z"
   },
   {
    "duration": 274,
    "start_time": "2021-09-09T14:22:07.323Z"
   },
   {
    "duration": 1460,
    "start_time": "2021-09-09T14:22:28.970Z"
   },
   {
    "duration": 320,
    "start_time": "2021-09-09T14:22:36.851Z"
   },
   {
    "duration": 10,
    "start_time": "2021-09-09T14:23:04.074Z"
   },
   {
    "duration": 12,
    "start_time": "2021-09-09T14:23:24.458Z"
   },
   {
    "duration": 256,
    "start_time": "2021-09-09T14:23:37.155Z"
   },
   {
    "duration": 351,
    "start_time": "2021-09-09T14:23:57.746Z"
   },
   {
    "duration": 390,
    "start_time": "2021-09-09T14:24:47.316Z"
   },
   {
    "duration": 464,
    "start_time": "2021-09-09T14:24:53.651Z"
   },
   {
    "duration": 344,
    "start_time": "2021-09-09T14:25:01.570Z"
   },
   {
    "duration": 316,
    "start_time": "2021-09-09T14:25:33.690Z"
   },
   {
    "duration": 96,
    "start_time": "2021-09-09T14:25:43.883Z"
   },
   {
    "duration": 107,
    "start_time": "2021-09-09T14:25:46.961Z"
   },
   {
    "duration": 89,
    "start_time": "2021-09-09T14:25:49.740Z"
   },
   {
    "duration": 319,
    "start_time": "2021-09-09T14:25:59.226Z"
   },
   {
    "duration": 334,
    "start_time": "2021-09-09T14:26:05.466Z"
   },
   {
    "duration": 15,
    "start_time": "2021-09-09T14:29:00.611Z"
   },
   {
    "duration": 331,
    "start_time": "2021-09-09T14:29:06.714Z"
   },
   {
    "duration": 292,
    "start_time": "2021-09-09T14:29:33.282Z"
   },
   {
    "duration": 324,
    "start_time": "2021-09-09T14:29:37.410Z"
   },
   {
    "duration": 343,
    "start_time": "2021-09-09T14:30:04.411Z"
   },
   {
    "duration": 275,
    "start_time": "2021-09-09T14:30:37.194Z"
   },
   {
    "duration": 287,
    "start_time": "2021-09-09T14:31:13.475Z"
   },
   {
    "duration": 1271,
    "start_time": "2021-09-09T14:33:07.620Z"
   },
   {
    "duration": 33,
    "start_time": "2021-09-09T14:33:23.338Z"
   },
   {
    "duration": 392,
    "start_time": "2021-09-09T14:33:51.571Z"
   },
   {
    "duration": 400,
    "start_time": "2021-09-09T14:33:59.370Z"
   },
   {
    "duration": 29,
    "start_time": "2021-09-09T14:35:08.635Z"
   },
   {
    "duration": 828,
    "start_time": "2021-09-09T14:35:22.004Z"
   },
   {
    "duration": 1892,
    "start_time": "2021-09-09T14:35:28.398Z"
   },
   {
    "duration": 1863,
    "start_time": "2021-09-09T14:35:43.222Z"
   },
   {
    "duration": 336,
    "start_time": "2021-09-09T14:36:31.243Z"
   },
   {
    "duration": 626,
    "start_time": "2021-09-09T14:37:16.242Z"
   },
   {
    "duration": 283,
    "start_time": "2021-09-09T14:37:23.044Z"
   },
   {
    "duration": 400,
    "start_time": "2021-09-09T14:38:18.846Z"
   },
   {
    "duration": 339,
    "start_time": "2021-09-09T14:39:16.822Z"
   },
   {
    "duration": 280,
    "start_time": "2021-09-09T14:39:22.482Z"
   },
   {
    "duration": 287,
    "start_time": "2021-09-09T14:39:27.003Z"
   },
   {
    "duration": 342,
    "start_time": "2021-09-09T14:40:08.652Z"
   },
   {
    "duration": 287,
    "start_time": "2021-09-09T14:41:00.870Z"
   },
   {
    "duration": 289,
    "start_time": "2021-09-09T14:41:04.394Z"
   },
   {
    "duration": 91,
    "start_time": "2021-09-09T14:41:38.638Z"
   },
   {
    "duration": 349,
    "start_time": "2021-09-09T14:41:42.394Z"
   },
   {
    "duration": 354,
    "start_time": "2021-09-09T14:42:24.970Z"
   },
   {
    "duration": 322,
    "start_time": "2021-09-09T14:42:25.327Z"
   },
   {
    "duration": 328,
    "start_time": "2021-09-09T14:42:25.655Z"
   },
   {
    "duration": 369,
    "start_time": "2021-09-09T14:42:25.986Z"
   },
   {
    "duration": 316,
    "start_time": "2021-09-09T14:42:26.357Z"
   },
   {
    "duration": 295,
    "start_time": "2021-09-09T14:42:29.114Z"
   },
   {
    "duration": 477,
    "start_time": "2021-09-09T14:43:46.122Z"
   },
   {
    "duration": 339,
    "start_time": "2021-09-09T14:43:52.291Z"
   },
   {
    "duration": 31,
    "start_time": "2021-09-09T14:52:56.403Z"
   },
   {
    "duration": 44,
    "start_time": "2021-09-09T14:54:29.835Z"
   },
   {
    "duration": 19,
    "start_time": "2021-09-09T14:55:17.587Z"
   },
   {
    "duration": 316,
    "start_time": "2021-09-09T14:57:30.382Z"
   },
   {
    "duration": 306,
    "start_time": "2021-09-09T14:58:00.213Z"
   },
   {
    "duration": 366,
    "start_time": "2021-09-09T14:58:10.954Z"
   },
   {
    "duration": 26,
    "start_time": "2021-09-09T14:58:24.188Z"
   },
   {
    "duration": 8,
    "start_time": "2021-09-09T14:59:29.604Z"
   },
   {
    "duration": 126,
    "start_time": "2021-09-09T14:59:39.938Z"
   },
   {
    "duration": 13,
    "start_time": "2021-09-09T14:59:42.835Z"
   },
   {
    "duration": 103,
    "start_time": "2021-09-09T14:59:48.050Z"
   },
   {
    "duration": 13,
    "start_time": "2021-09-09T14:59:50.218Z"
   },
   {
    "duration": 19,
    "start_time": "2021-09-09T14:59:51.738Z"
   },
   {
    "duration": 13,
    "start_time": "2021-09-09T14:59:52.274Z"
   },
   {
    "duration": 9,
    "start_time": "2021-09-09T14:59:53.077Z"
   },
   {
    "duration": 13,
    "start_time": "2021-09-09T14:59:53.626Z"
   },
   {
    "duration": 35,
    "start_time": "2021-09-09T14:59:56.139Z"
   },
   {
    "duration": 278,
    "start_time": "2021-09-09T15:05:40.443Z"
   },
   {
    "duration": 16987,
    "start_time": "2021-09-09T15:05:45.686Z"
   },
   {
    "duration": 661,
    "start_time": "2021-09-09T15:06:16.251Z"
   },
   {
    "duration": 981,
    "start_time": "2021-09-09T15:06:57.259Z"
   },
   {
    "duration": 378,
    "start_time": "2021-09-09T15:07:33.331Z"
   },
   {
    "duration": 687,
    "start_time": "2021-09-09T15:08:16.259Z"
   },
   {
    "duration": 364,
    "start_time": "2021-09-09T15:08:35.309Z"
   },
   {
    "duration": 379,
    "start_time": "2021-09-09T15:09:27.899Z"
   },
   {
    "duration": 339,
    "start_time": "2021-09-09T15:09:45.572Z"
   },
   {
    "duration": 352,
    "start_time": "2021-09-09T15:10:19.179Z"
   },
   {
    "duration": 363,
    "start_time": "2021-09-09T15:10:29.491Z"
   },
   {
    "duration": 420,
    "start_time": "2021-09-09T15:10:55.963Z"
   },
   {
    "duration": 388,
    "start_time": "2021-09-09T15:12:44.948Z"
   },
   {
    "duration": 720,
    "start_time": "2021-09-09T15:12:50.142Z"
   },
   {
    "duration": 386,
    "start_time": "2021-09-09T15:12:57.244Z"
   },
   {
    "duration": 390,
    "start_time": "2021-09-09T15:13:01.468Z"
   },
   {
    "duration": 358,
    "start_time": "2021-09-09T15:14:26.404Z"
   },
   {
    "duration": 8,
    "start_time": "2021-09-09T15:15:18.428Z"
   },
   {
    "duration": 7,
    "start_time": "2021-09-09T15:15:54.323Z"
   },
   {
    "duration": 684,
    "start_time": "2021-09-09T15:17:36.836Z"
   },
   {
    "duration": 358,
    "start_time": "2021-09-09T15:17:58.462Z"
   },
   {
    "duration": 850,
    "start_time": "2021-09-09T15:18:40.470Z"
   },
   {
    "duration": 356,
    "start_time": "2021-09-09T15:18:46.556Z"
   },
   {
    "duration": 1016,
    "start_time": "2021-09-10T09:16:49.294Z"
   },
   {
    "duration": 3,
    "start_time": "2021-09-10T09:16:50.312Z"
   },
   {
    "duration": 429,
    "start_time": "2021-09-10T09:16:50.318Z"
   },
   {
    "duration": 17,
    "start_time": "2021-09-10T09:16:50.749Z"
   },
   {
    "duration": 28,
    "start_time": "2021-09-10T09:16:50.768Z"
   },
   {
    "duration": 21,
    "start_time": "2021-09-10T09:16:50.797Z"
   },
   {
    "duration": 10,
    "start_time": "2021-09-10T09:16:50.920Z"
   },
   {
    "duration": 11,
    "start_time": "2021-09-10T09:16:51.141Z"
   },
   {
    "duration": 7,
    "start_time": "2021-09-10T09:16:51.375Z"
   },
   {
    "duration": 9,
    "start_time": "2021-09-10T09:16:52.005Z"
   },
   {
    "duration": 13,
    "start_time": "2021-09-10T09:16:52.215Z"
   },
   {
    "duration": 9,
    "start_time": "2021-09-10T09:16:52.439Z"
   },
   {
    "duration": 6,
    "start_time": "2021-09-10T09:16:52.655Z"
   },
   {
    "duration": 9,
    "start_time": "2021-09-10T09:16:53.053Z"
   },
   {
    "duration": 21,
    "start_time": "2021-09-10T09:16:53.259Z"
   },
   {
    "duration": 32,
    "start_time": "2021-09-10T09:16:53.460Z"
   },
   {
    "duration": 137,
    "start_time": "2021-09-10T09:16:53.882Z"
   },
   {
    "duration": 9,
    "start_time": "2021-09-10T09:16:54.305Z"
   },
   {
    "duration": 9,
    "start_time": "2021-09-10T09:16:54.723Z"
   },
   {
    "duration": 39,
    "start_time": "2021-09-10T09:16:55.138Z"
   },
   {
    "duration": 9,
    "start_time": "2021-09-10T09:16:55.356Z"
   },
   {
    "duration": 9,
    "start_time": "2021-09-10T09:16:55.793Z"
   },
   {
    "duration": 54,
    "start_time": "2021-09-10T09:16:56.243Z"
   },
   {
    "duration": 31,
    "start_time": "2021-09-10T09:16:56.474Z"
   },
   {
    "duration": 10,
    "start_time": "2021-09-10T09:16:56.940Z"
   },
   {
    "duration": 10,
    "start_time": "2021-09-10T09:16:58.106Z"
   },
   {
    "duration": 8,
    "start_time": "2021-09-10T09:16:58.537Z"
   },
   {
    "duration": 56,
    "start_time": "2021-09-10T09:16:59.389Z"
   },
   {
    "duration": 9,
    "start_time": "2021-09-10T09:17:00.068Z"
   },
   {
    "duration": 33,
    "start_time": "2021-09-10T09:17:00.308Z"
   },
   {
    "duration": 10,
    "start_time": "2021-09-10T09:17:00.748Z"
   },
   {
    "duration": 34,
    "start_time": "2021-09-10T09:17:00.987Z"
   },
   {
    "duration": 36,
    "start_time": "2021-09-10T09:17:01.427Z"
   },
   {
    "duration": 8,
    "start_time": "2021-09-10T09:17:01.649Z"
   },
   {
    "duration": 29,
    "start_time": "2021-09-10T09:17:01.883Z"
   },
   {
    "duration": 7,
    "start_time": "2021-09-10T09:17:02.123Z"
   },
   {
    "duration": 8,
    "start_time": "2021-09-10T09:17:02.349Z"
   },
   {
    "duration": 20,
    "start_time": "2021-09-10T09:17:02.582Z"
   },
   {
    "duration": 6,
    "start_time": "2021-09-10T09:17:03.523Z"
   },
   {
    "duration": 14726,
    "start_time": "2021-09-10T09:17:03.762Z"
   },
   {
    "duration": 13,
    "start_time": "2021-09-10T09:17:18.490Z"
   },
   {
    "duration": 17,
    "start_time": "2021-09-10T09:17:18.505Z"
   },
   {
    "duration": 26,
    "start_time": "2021-09-10T09:17:18.524Z"
   },
   {
    "duration": 6,
    "start_time": "2021-09-10T09:17:18.551Z"
   },
   {
    "duration": 255,
    "start_time": "2021-09-10T09:17:18.558Z"
   },
   {
    "duration": 243,
    "start_time": "2021-09-10T09:17:18.814Z"
   },
   {
    "duration": 243,
    "start_time": "2021-09-10T09:17:19.060Z"
   },
   {
    "duration": 239,
    "start_time": "2021-09-10T09:17:19.305Z"
   },
   {
    "duration": 13,
    "start_time": "2021-09-10T09:17:19.546Z"
   },
   {
    "duration": 15,
    "start_time": "2021-09-10T09:17:19.561Z"
   },
   {
    "duration": 16,
    "start_time": "2021-09-10T09:17:19.577Z"
   },
   {
    "duration": 8,
    "start_time": "2021-09-10T09:17:19.595Z"
   },
   {
    "duration": 259,
    "start_time": "2021-09-10T09:17:19.604Z"
   },
   {
    "duration": 202,
    "start_time": "2021-09-10T09:17:19.865Z"
   },
   {
    "duration": 219,
    "start_time": "2021-09-10T09:17:20.069Z"
   },
   {
    "duration": 238,
    "start_time": "2021-09-10T09:17:20.290Z"
   },
   {
    "duration": 259,
    "start_time": "2021-09-10T09:17:20.530Z"
   },
   {
    "duration": 200,
    "start_time": "2021-09-10T09:17:20.790Z"
   },
   {
    "duration": 376,
    "start_time": "2021-09-10T09:17:20.992Z"
   },
   {
    "duration": -176,
    "start_time": "2021-09-10T09:17:21.546Z"
   },
   {
    "duration": -183,
    "start_time": "2021-09-10T09:17:21.554Z"
   },
   {
    "duration": -187,
    "start_time": "2021-09-10T09:17:21.559Z"
   },
   {
    "duration": -197,
    "start_time": "2021-09-10T09:17:21.570Z"
   },
   {
    "duration": -201,
    "start_time": "2021-09-10T09:17:21.575Z"
   },
   {
    "duration": -208,
    "start_time": "2021-09-10T09:17:21.583Z"
   },
   {
    "duration": 226,
    "start_time": "2021-09-10T09:19:26.926Z"
   },
   {
    "duration": 191,
    "start_time": "2021-09-10T09:27:48.474Z"
   },
   {
    "duration": 182,
    "start_time": "2021-09-10T09:29:02.793Z"
   },
   {
    "duration": 535,
    "start_time": "2021-09-10T09:29:10.578Z"
   },
   {
    "duration": 173,
    "start_time": "2021-09-10T09:29:19.394Z"
   },
   {
    "duration": 201,
    "start_time": "2021-09-10T09:29:28.042Z"
   },
   {
    "duration": 220,
    "start_time": "2021-09-10T09:29:51.411Z"
   },
   {
    "duration": 223,
    "start_time": "2021-09-10T09:30:47.835Z"
   },
   {
    "duration": 226,
    "start_time": "2021-09-10T09:32:29.330Z"
   },
   {
    "duration": 313,
    "start_time": "2021-09-10T09:32:34.354Z"
   },
   {
    "duration": 234,
    "start_time": "2021-09-10T09:33:49.937Z"
   },
   {
    "duration": 219,
    "start_time": "2021-09-10T09:33:57.393Z"
   },
   {
    "duration": 245,
    "start_time": "2021-09-10T09:40:18.930Z"
   },
   {
    "duration": 348,
    "start_time": "2021-09-10T09:40:53.337Z"
   },
   {
    "duration": 240,
    "start_time": "2021-09-10T09:41:13.354Z"
   },
   {
    "duration": 259,
    "start_time": "2021-09-10T09:41:23.809Z"
   },
   {
    "duration": 254,
    "start_time": "2021-09-10T09:42:53.001Z"
   },
   {
    "duration": 252,
    "start_time": "2021-09-10T09:49:56.307Z"
   },
   {
    "duration": 280,
    "start_time": "2021-09-10T09:50:50.058Z"
   },
   {
    "duration": 257,
    "start_time": "2021-09-10T09:50:52.665Z"
   },
   {
    "duration": 337,
    "start_time": "2021-09-10T09:51:24.945Z"
   },
   {
    "duration": 256,
    "start_time": "2021-09-10T09:51:52.060Z"
   },
   {
    "duration": 18,
    "start_time": "2021-09-10T09:52:35.146Z"
   },
   {
    "duration": 259,
    "start_time": "2021-09-10T09:56:35.506Z"
   },
   {
    "duration": 242,
    "start_time": "2021-09-10T09:56:36.289Z"
   },
   {
    "duration": 238,
    "start_time": "2021-09-10T09:56:36.778Z"
   },
   {
    "duration": 249,
    "start_time": "2021-09-10T09:56:37.406Z"
   },
   {
    "duration": 229,
    "start_time": "2021-09-10T09:57:05.154Z"
   },
   {
    "duration": 214,
    "start_time": "2021-09-10T09:57:05.929Z"
   },
   {
    "duration": 394,
    "start_time": "2021-09-10T10:00:22.820Z"
   },
   {
    "duration": 302,
    "start_time": "2021-09-10T10:00:43.657Z"
   },
   {
    "duration": 259,
    "start_time": "2021-09-10T10:01:13.619Z"
   },
   {
    "duration": 254,
    "start_time": "2021-09-10T10:01:20.107Z"
   },
   {
    "duration": 14,
    "start_time": "2021-09-10T10:02:31.887Z"
   },
   {
    "duration": 4,
    "start_time": "2021-09-10T10:02:44.229Z"
   },
   {
    "duration": 14,
    "start_time": "2021-09-10T10:02:48.028Z"
   },
   {
    "duration": 101,
    "start_time": "2021-09-10T10:03:52.187Z"
   },
   {
    "duration": -19,
    "start_time": "2021-09-10T10:11:54.659Z"
   },
   {
    "duration": 7925,
    "start_time": "2021-09-10T10:12:00.585Z"
   },
   {
    "duration": 10,
    "start_time": "2021-09-10T10:12:16.776Z"
   },
   {
    "duration": 114,
    "start_time": "2021-09-10T10:12:56.210Z"
   },
   {
    "duration": 124,
    "start_time": "2021-09-10T10:13:06.227Z"
   },
   {
    "duration": 12,
    "start_time": "2021-09-10T10:13:25.212Z"
   },
   {
    "duration": 112,
    "start_time": "2021-09-10T10:13:41.783Z"
   },
   {
    "duration": 10,
    "start_time": "2021-09-10T10:14:03.194Z"
   },
   {
    "duration": 9,
    "start_time": "2021-09-10T10:19:31.452Z"
   },
   {
    "duration": 10,
    "start_time": "2021-09-10T10:21:30.317Z"
   },
   {
    "duration": 32,
    "start_time": "2021-09-10T10:23:28.341Z"
   },
   {
    "duration": 10,
    "start_time": "2021-09-10T10:24:42.739Z"
   },
   {
    "duration": 87,
    "start_time": "2021-09-10T10:27:43.036Z"
   },
   {
    "duration": 11,
    "start_time": "2021-09-10T11:17:18.036Z"
   },
   {
    "duration": 10,
    "start_time": "2021-09-10T11:17:41.610Z"
   },
   {
    "duration": 3,
    "start_time": "2021-09-10T11:19:07.284Z"
   },
   {
    "duration": 2,
    "start_time": "2021-09-10T11:19:07.496Z"
   },
   {
    "duration": 417,
    "start_time": "2021-09-10T11:19:07.712Z"
   },
   {
    "duration": 12,
    "start_time": "2021-09-10T11:19:08.149Z"
   },
   {
    "duration": 18,
    "start_time": "2021-09-10T11:19:08.361Z"
   },
   {
    "duration": 7,
    "start_time": "2021-09-10T11:19:08.556Z"
   },
   {
    "duration": 12,
    "start_time": "2021-09-10T11:19:08.984Z"
   },
   {
    "duration": 13,
    "start_time": "2021-09-10T11:19:09.185Z"
   },
   {
    "duration": 7,
    "start_time": "2021-09-10T11:19:09.409Z"
   },
   {
    "duration": 10,
    "start_time": "2021-09-10T11:19:10.064Z"
   },
   {
    "duration": 9,
    "start_time": "2021-09-10T11:19:10.277Z"
   },
   {
    "duration": 9,
    "start_time": "2021-09-10T11:19:10.485Z"
   },
   {
    "duration": 6,
    "start_time": "2021-09-10T11:19:10.729Z"
   },
   {
    "duration": 9,
    "start_time": "2021-09-10T11:19:11.168Z"
   },
   {
    "duration": 22,
    "start_time": "2021-09-10T11:19:11.380Z"
   },
   {
    "duration": 31,
    "start_time": "2021-09-10T11:19:11.584Z"
   },
   {
    "duration": 128,
    "start_time": "2021-09-10T11:19:12.033Z"
   },
   {
    "duration": 9,
    "start_time": "2021-09-10T11:19:12.487Z"
   },
   {
    "duration": 8,
    "start_time": "2021-09-10T11:19:12.928Z"
   },
   {
    "duration": 38,
    "start_time": "2021-09-10T11:19:13.395Z"
   },
   {
    "duration": 9,
    "start_time": "2021-09-10T11:19:13.616Z"
   },
   {
    "duration": 9,
    "start_time": "2021-09-10T11:19:14.041Z"
   },
   {
    "duration": 52,
    "start_time": "2021-09-10T11:19:14.512Z"
   },
   {
    "duration": 33,
    "start_time": "2021-09-10T11:19:14.737Z"
   },
   {
    "duration": 10,
    "start_time": "2021-09-10T11:19:15.200Z"
   },
   {
    "duration": 9,
    "start_time": "2021-09-10T11:19:16.361Z"
   },
   {
    "duration": 9,
    "start_time": "2021-09-10T11:19:16.831Z"
   },
   {
    "duration": 59,
    "start_time": "2021-09-10T11:19:17.760Z"
   },
   {
    "duration": 8,
    "start_time": "2021-09-10T11:19:18.452Z"
   },
   {
    "duration": 36,
    "start_time": "2021-09-10T11:19:18.694Z"
   },
   {
    "duration": 10,
    "start_time": "2021-09-10T11:19:19.144Z"
   },
   {
    "duration": 33,
    "start_time": "2021-09-10T11:19:19.376Z"
   },
   {
    "duration": 38,
    "start_time": "2021-09-10T11:19:19.851Z"
   },
   {
    "duration": 7,
    "start_time": "2021-09-10T11:19:20.088Z"
   },
   {
    "duration": 31,
    "start_time": "2021-09-10T11:19:20.333Z"
   },
   {
    "duration": 8,
    "start_time": "2021-09-10T11:19:20.575Z"
   },
   {
    "duration": 8,
    "start_time": "2021-09-10T11:19:20.816Z"
   },
   {
    "duration": 22,
    "start_time": "2021-09-10T11:19:21.041Z"
   },
   {
    "duration": 6,
    "start_time": "2021-09-10T11:19:22.029Z"
   },
   {
    "duration": 14335,
    "start_time": "2021-09-10T11:19:22.264Z"
   },
   {
    "duration": 13,
    "start_time": "2021-09-10T11:19:36.601Z"
   },
   {
    "duration": 41,
    "start_time": "2021-09-10T11:19:36.616Z"
   },
   {
    "duration": 13,
    "start_time": "2021-09-10T11:19:36.659Z"
   },
   {
    "duration": 15,
    "start_time": "2021-09-10T11:19:36.674Z"
   },
   {
    "duration": 6,
    "start_time": "2021-09-10T11:19:36.691Z"
   },
   {
    "duration": 288,
    "start_time": "2021-09-10T11:19:36.699Z"
   },
   {
    "duration": 253,
    "start_time": "2021-09-10T11:19:36.990Z"
   },
   {
    "duration": 8,
    "start_time": "2021-09-10T11:19:37.245Z"
   },
   {
    "duration": 89,
    "start_time": "2021-09-10T11:19:37.255Z"
   },
   {
    "duration": -74,
    "start_time": "2021-09-10T11:19:37.420Z"
   },
   {
    "duration": -83,
    "start_time": "2021-09-10T11:19:37.430Z"
   },
   {
    "duration": -89,
    "start_time": "2021-09-10T11:19:37.437Z"
   },
   {
    "duration": -95,
    "start_time": "2021-09-10T11:19:37.444Z"
   },
   {
    "duration": -102,
    "start_time": "2021-09-10T11:19:37.451Z"
   },
   {
    "duration": -108,
    "start_time": "2021-09-10T11:19:37.458Z"
   },
   {
    "duration": -115,
    "start_time": "2021-09-10T11:19:37.466Z"
   },
   {
    "duration": -120,
    "start_time": "2021-09-10T11:19:37.472Z"
   },
   {
    "duration": -127,
    "start_time": "2021-09-10T11:19:37.481Z"
   },
   {
    "duration": -133,
    "start_time": "2021-09-10T11:19:37.488Z"
   },
   {
    "duration": -138,
    "start_time": "2021-09-10T11:19:37.494Z"
   },
   {
    "duration": 252,
    "start_time": "2021-09-10T11:19:54.420Z"
   },
   {
    "duration": 10,
    "start_time": "2021-09-10T11:19:55.279Z"
   },
   {
    "duration": 10,
    "start_time": "2021-09-10T11:19:55.731Z"
   },
   {
    "duration": 234,
    "start_time": "2021-09-10T11:19:56.161Z"
   },
   {
    "duration": 223,
    "start_time": "2021-09-10T11:19:56.789Z"
   },
   {
    "duration": 16,
    "start_time": "2021-09-10T11:19:57.914Z"
   },
   {
    "duration": 16,
    "start_time": "2021-09-10T11:19:58.559Z"
   },
   {
    "duration": 17,
    "start_time": "2021-09-10T11:19:59.001Z"
   },
   {
    "duration": 10,
    "start_time": "2021-09-10T11:19:59.216Z"
   },
   {
    "duration": 14,
    "start_time": "2021-09-10T11:20:01.656Z"
   },
   {
    "duration": 10,
    "start_time": "2021-09-10T11:20:03.363Z"
   },
   {
    "duration": 93,
    "start_time": "2021-09-10T11:24:21.003Z"
   },
   {
    "duration": 638,
    "start_time": "2021-09-10T11:25:03.526Z"
   },
   {
    "duration": 146,
    "start_time": "2021-09-10T11:25:19.604Z"
   },
   {
    "duration": 141,
    "start_time": "2021-09-10T11:25:33.386Z"
   },
   {
    "duration": 225,
    "start_time": "2021-09-10T11:26:07.826Z"
   },
   {
    "duration": 141,
    "start_time": "2021-09-10T11:26:20.617Z"
   },
   {
    "duration": 140,
    "start_time": "2021-09-10T11:26:29.334Z"
   },
   {
    "duration": 10,
    "start_time": "2021-09-10T11:28:21.914Z"
   },
   {
    "duration": 26,
    "start_time": "2021-09-10T11:28:31.298Z"
   },
   {
    "duration": 13,
    "start_time": "2021-09-10T11:30:08.073Z"
   },
   {
    "duration": 10,
    "start_time": "2021-09-10T11:30:35.906Z"
   },
   {
    "duration": 20,
    "start_time": "2021-09-10T11:30:42.665Z"
   },
   {
    "duration": 12,
    "start_time": "2021-09-10T11:31:15.981Z"
   },
   {
    "duration": 27,
    "start_time": "2021-09-10T11:31:24.177Z"
   },
   {
    "duration": 330,
    "start_time": "2021-09-10T11:39:56.034Z"
   },
   {
    "duration": 36,
    "start_time": "2021-09-10T11:40:00.097Z"
   },
   {
    "duration": 15,
    "start_time": "2021-09-10T11:40:19.183Z"
   },
   {
    "duration": 269,
    "start_time": "2021-09-10T11:41:57.144Z"
   },
   {
    "duration": 24,
    "start_time": "2021-09-10T11:42:05.986Z"
   },
   {
    "duration": 6439,
    "start_time": "2021-09-10T11:43:22.667Z"
   },
   {
    "duration": 6087,
    "start_time": "2021-09-10T11:43:48.417Z"
   },
   {
    "duration": 17,
    "start_time": "2021-09-10T11:44:13.028Z"
   },
   {
    "duration": 138,
    "start_time": "2021-09-10T11:44:38.770Z"
   },
   {
    "duration": 18,
    "start_time": "2021-09-10T11:44:47.810Z"
   },
   {
    "duration": 777,
    "start_time": "2021-09-10T11:45:05.019Z"
   },
   {
    "duration": 6790,
    "start_time": "2021-09-10T11:45:26.663Z"
   },
   {
    "duration": 307,
    "start_time": "2021-09-10T11:45:43.410Z"
   },
   {
    "duration": 1260,
    "start_time": "2021-09-11T08:34:09.725Z"
   },
   {
    "duration": 3,
    "start_time": "2021-09-11T08:34:10.987Z"
   },
   {
    "duration": 436,
    "start_time": "2021-09-11T08:34:10.992Z"
   },
   {
    "duration": 19,
    "start_time": "2021-09-11T08:34:11.430Z"
   },
   {
    "duration": 20,
    "start_time": "2021-09-11T08:34:11.452Z"
   },
   {
    "duration": 8,
    "start_time": "2021-09-11T08:34:11.473Z"
   },
   {
    "duration": 11,
    "start_time": "2021-09-11T08:34:11.483Z"
   },
   {
    "duration": 45,
    "start_time": "2021-09-11T08:34:11.496Z"
   },
   {
    "duration": 7,
    "start_time": "2021-09-11T08:34:11.544Z"
   },
   {
    "duration": 13,
    "start_time": "2021-09-11T08:34:11.552Z"
   },
   {
    "duration": 12,
    "start_time": "2021-09-11T08:34:11.567Z"
   },
   {
    "duration": 8,
    "start_time": "2021-09-11T08:34:11.581Z"
   },
   {
    "duration": 9,
    "start_time": "2021-09-11T08:34:11.591Z"
   },
   {
    "duration": 46,
    "start_time": "2021-09-11T08:34:11.601Z"
   },
   {
    "duration": 23,
    "start_time": "2021-09-11T08:34:11.649Z"
   },
   {
    "duration": 30,
    "start_time": "2021-09-11T08:34:11.674Z"
   },
   {
    "duration": 157,
    "start_time": "2021-09-11T08:34:11.706Z"
   },
   {
    "duration": 9,
    "start_time": "2021-09-11T08:34:11.865Z"
   },
   {
    "duration": 11,
    "start_time": "2021-09-11T08:34:11.876Z"
   },
   {
    "duration": 60,
    "start_time": "2021-09-11T08:34:11.889Z"
   },
   {
    "duration": 9,
    "start_time": "2021-09-11T08:34:11.951Z"
   },
   {
    "duration": 12,
    "start_time": "2021-09-11T08:34:11.961Z"
   },
   {
    "duration": 76,
    "start_time": "2021-09-11T08:34:11.977Z"
   },
   {
    "duration": 32,
    "start_time": "2021-09-11T08:34:12.055Z"
   },
   {
    "duration": 9,
    "start_time": "2021-09-11T08:34:12.089Z"
   },
   {
    "duration": 11,
    "start_time": "2021-09-11T08:34:12.100Z"
   },
   {
    "duration": 34,
    "start_time": "2021-09-11T08:34:12.113Z"
   },
   {
    "duration": 60,
    "start_time": "2021-09-11T08:34:12.149Z"
   },
   {
    "duration": 30,
    "start_time": "2021-09-11T08:34:12.211Z"
   },
   {
    "duration": 35,
    "start_time": "2021-09-11T08:34:12.244Z"
   },
   {
    "duration": 11,
    "start_time": "2021-09-11T08:34:12.281Z"
   },
   {
    "duration": 66,
    "start_time": "2021-09-11T08:34:12.295Z"
   },
   {
    "duration": 34,
    "start_time": "2021-09-11T08:34:12.363Z"
   },
   {
    "duration": 8,
    "start_time": "2021-09-11T08:34:12.399Z"
   },
   {
    "duration": 54,
    "start_time": "2021-09-11T08:34:12.409Z"
   },
   {
    "duration": 7,
    "start_time": "2021-09-11T08:34:12.465Z"
   },
   {
    "duration": 12,
    "start_time": "2021-09-11T08:34:12.473Z"
   },
   {
    "duration": 5,
    "start_time": "2021-09-11T08:34:12.487Z"
   },
   {
    "duration": 14414,
    "start_time": "2021-09-11T08:34:12.494Z"
   },
   {
    "duration": 12,
    "start_time": "2021-09-11T08:34:26.910Z"
   },
   {
    "duration": 45,
    "start_time": "2021-09-11T08:34:26.924Z"
   },
   {
    "duration": 13,
    "start_time": "2021-09-11T08:34:26.970Z"
   },
   {
    "duration": 29,
    "start_time": "2021-09-11T08:34:26.985Z"
   },
   {
    "duration": 34,
    "start_time": "2021-09-11T08:34:27.015Z"
   },
   {
    "duration": 16,
    "start_time": "2021-09-11T08:34:27.051Z"
   },
   {
    "duration": 271,
    "start_time": "2021-09-11T08:34:27.069Z"
   },
   {
    "duration": 272,
    "start_time": "2021-09-11T08:34:27.342Z"
   },
   {
    "duration": 10,
    "start_time": "2021-09-11T08:34:27.616Z"
   },
   {
    "duration": 265,
    "start_time": "2021-09-11T08:34:27.627Z"
   },
   {
    "duration": 9,
    "start_time": "2021-09-11T08:34:27.894Z"
   },
   {
    "duration": 9,
    "start_time": "2021-09-11T08:34:27.905Z"
   },
   {
    "duration": 261,
    "start_time": "2021-09-11T08:34:27.916Z"
   },
   {
    "duration": 225,
    "start_time": "2021-09-11T08:34:28.179Z"
   },
   {
    "duration": 15,
    "start_time": "2021-09-11T08:34:28.405Z"
   },
   {
    "duration": 93,
    "start_time": "2021-09-11T08:34:28.422Z"
   },
   {
    "duration": 25,
    "start_time": "2021-09-11T08:34:28.517Z"
   },
   {
    "duration": 18,
    "start_time": "2021-09-11T08:34:28.544Z"
   },
   {
    "duration": 11,
    "start_time": "2021-09-11T08:34:28.563Z"
   },
   {
    "duration": 10,
    "start_time": "2021-09-11T08:34:28.576Z"
   },
   {
    "duration": 22,
    "start_time": "2021-09-11T08:36:19.762Z"
   },
   {
    "duration": 7,
    "start_time": "2021-09-11T08:39:19.825Z"
   },
   {
    "duration": 9,
    "start_time": "2021-09-11T08:39:51.205Z"
   },
   {
    "duration": 25,
    "start_time": "2021-09-11T08:41:17.762Z"
   },
   {
    "duration": 8,
    "start_time": "2021-09-11T08:41:43.799Z"
   },
   {
    "duration": 25,
    "start_time": "2021-09-11T08:42:08.261Z"
   },
   {
    "duration": 7,
    "start_time": "2021-09-11T08:42:41.876Z"
   },
   {
    "duration": 7,
    "start_time": "2021-09-11T08:43:18.004Z"
   },
   {
    "duration": 8,
    "start_time": "2021-09-11T08:43:20.743Z"
   },
   {
    "duration": 4,
    "start_time": "2021-09-11T08:43:38.371Z"
   },
   {
    "duration": 8,
    "start_time": "2021-09-11T08:44:16.551Z"
   },
   {
    "duration": 30,
    "start_time": "2021-09-11T08:55:38.411Z"
   },
   {
    "duration": 784,
    "start_time": "2021-09-11T08:55:58.654Z"
   },
   {
    "duration": 1440,
    "start_time": "2021-09-11T10:01:09.160Z"
   },
   {
    "duration": 4,
    "start_time": "2021-09-11T10:01:10.602Z"
   },
   {
    "duration": 549,
    "start_time": "2021-09-11T10:01:10.616Z"
   },
   {
    "duration": 21,
    "start_time": "2021-09-11T10:01:11.168Z"
   },
   {
    "duration": 48,
    "start_time": "2021-09-11T10:01:11.192Z"
   },
   {
    "duration": 10,
    "start_time": "2021-09-11T10:01:11.242Z"
   },
   {
    "duration": 13,
    "start_time": "2021-09-11T10:01:11.254Z"
   },
   {
    "duration": 47,
    "start_time": "2021-09-11T10:01:11.271Z"
   },
   {
    "duration": 9,
    "start_time": "2021-09-11T10:01:11.320Z"
   },
   {
    "duration": 13,
    "start_time": "2021-09-11T10:01:11.854Z"
   },
   {
    "duration": 17,
    "start_time": "2021-09-11T10:01:12.071Z"
   },
   {
    "duration": 12,
    "start_time": "2021-09-11T10:01:12.295Z"
   },
   {
    "duration": 8,
    "start_time": "2021-09-11T10:01:12.486Z"
   },
   {
    "duration": 13,
    "start_time": "2021-09-11T10:01:12.887Z"
   },
   {
    "duration": 28,
    "start_time": "2021-09-11T10:01:13.095Z"
   },
   {
    "duration": 40,
    "start_time": "2021-09-11T10:01:13.304Z"
   },
   {
    "duration": 178,
    "start_time": "2021-09-11T10:01:13.718Z"
   },
   {
    "duration": 12,
    "start_time": "2021-09-11T10:01:14.151Z"
   },
   {
    "duration": 10,
    "start_time": "2021-09-11T10:01:14.575Z"
   },
   {
    "duration": 51,
    "start_time": "2021-09-11T10:01:15.030Z"
   },
   {
    "duration": 12,
    "start_time": "2021-09-11T10:01:15.238Z"
   },
   {
    "duration": 14,
    "start_time": "2021-09-11T10:01:15.670Z"
   },
   {
    "duration": 77,
    "start_time": "2021-09-11T10:01:16.102Z"
   },
   {
    "duration": 43,
    "start_time": "2021-09-11T10:01:16.335Z"
   },
   {
    "duration": 12,
    "start_time": "2021-09-11T10:01:17.223Z"
   },
   {
    "duration": 12,
    "start_time": "2021-09-11T10:01:18.310Z"
   },
   {
    "duration": 11,
    "start_time": "2021-09-11T10:01:18.758Z"
   },
   {
    "duration": 69,
    "start_time": "2021-09-11T10:01:19.623Z"
   },
   {
    "duration": 11,
    "start_time": "2021-09-11T10:01:20.279Z"
   },
   {
    "duration": 45,
    "start_time": "2021-09-11T10:01:20.502Z"
   },
   {
    "duration": 14,
    "start_time": "2021-09-11T10:01:20.942Z"
   },
   {
    "duration": 44,
    "start_time": "2021-09-11T10:01:21.159Z"
   },
   {
    "duration": 51,
    "start_time": "2021-09-11T10:01:21.815Z"
   },
   {
    "duration": 11,
    "start_time": "2021-09-11T10:01:22.254Z"
   },
   {
    "duration": 46,
    "start_time": "2021-09-11T10:01:22.487Z"
   },
   {
    "duration": 11,
    "start_time": "2021-09-11T10:01:22.719Z"
   },
   {
    "duration": 11,
    "start_time": "2021-09-11T10:01:22.926Z"
   },
   {
    "duration": 9,
    "start_time": "2021-09-11T10:01:23.847Z"
   },
   {
    "duration": 24345,
    "start_time": "2021-09-11T10:01:24.334Z"
   },
   {
    "duration": 20,
    "start_time": "2021-09-11T10:01:48.682Z"
   },
   {
    "duration": 58,
    "start_time": "2021-09-11T10:01:48.705Z"
   },
   {
    "duration": 20,
    "start_time": "2021-09-11T10:01:48.766Z"
   },
   {
    "duration": 42,
    "start_time": "2021-09-11T10:01:48.817Z"
   },
   {
    "duration": 26,
    "start_time": "2021-09-11T10:01:48.862Z"
   },
   {
    "duration": 29,
    "start_time": "2021-09-11T10:01:48.890Z"
   },
   {
    "duration": 434,
    "start_time": "2021-09-11T10:01:48.922Z"
   },
   {
    "duration": 505,
    "start_time": "2021-09-11T10:01:49.359Z"
   },
   {
    "duration": 13,
    "start_time": "2021-09-11T10:01:49.866Z"
   },
   {
    "duration": 404,
    "start_time": "2021-09-11T10:01:49.881Z"
   },
   {
    "duration": 29,
    "start_time": "2021-09-11T10:01:50.288Z"
   },
   {
    "duration": 11,
    "start_time": "2021-09-11T10:01:50.320Z"
   },
   {
    "duration": 370,
    "start_time": "2021-09-11T10:01:50.334Z"
   },
   {
    "duration": 342,
    "start_time": "2021-09-11T10:01:50.706Z"
   },
   {
    "duration": 21,
    "start_time": "2021-09-11T10:01:51.050Z"
   },
   {
    "duration": 102,
    "start_time": "2021-09-11T10:01:51.073Z"
   },
   {
    "duration": 40,
    "start_time": "2021-09-11T10:01:51.177Z"
   },
   {
    "duration": 9,
    "start_time": "2021-09-11T10:01:51.219Z"
   },
   {
    "duration": 13,
    "start_time": "2021-09-11T10:01:51.230Z"
   },
   {
    "duration": 12,
    "start_time": "2021-09-11T10:01:51.246Z"
   },
   {
    "duration": 710,
    "start_time": "2021-09-11T10:12:10.785Z"
   }
  ],
  "kernelspec": {
   "display_name": "Python 3",
   "language": "python",
   "name": "python3"
  },
  "language_info": {
   "codemirror_mode": {
    "name": "ipython",
    "version": 3
   },
   "file_extension": ".py",
   "mimetype": "text/x-python",
   "name": "python",
   "nbconvert_exporter": "python",
   "pygments_lexer": "ipython3",
   "version": "3.8.8"
  },
  "toc": {
   "base_numbering": 1,
   "nav_menu": {},
   "number_sections": true,
   "sideBar": true,
   "skip_h1_title": true,
   "title_cell": "Table of Contents",
   "title_sidebar": "Contents",
   "toc_cell": false,
   "toc_position": {},
   "toc_section_display": true,
   "toc_window_display": false
  }
 },
 "nbformat": 4,
 "nbformat_minor": 2
}
