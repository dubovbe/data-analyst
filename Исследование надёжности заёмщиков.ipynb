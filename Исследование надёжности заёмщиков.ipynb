{
 "cells": [
  {
   "cell_type": "markdown",
   "metadata": {},
   "source": [
    "# Исследование надёжности заёмщиков\n",
    "\n",
    "Заказчик — кредитный отдел банка. Нужно разобраться, влияет ли семейное положение и количество детей клиента на факт погашения кредита в срок. Входные данные от банка — статистика о платёжеспособности клиентов.\n",
    "\n",
    "Результаты исследования будут учтены при построении модели **кредитного скоринга** — специальной системы, которая оценивает способность потенциального заёмщика вернуть кредит банку."
   ]
  },
  {
   "cell_type": "markdown",
   "metadata": {},
   "source": [
    "## Шаг 1. Откройте файл с данными и изучите общую информацию"
   ]
  },
  {
   "cell_type": "code",
   "execution_count": 538,
   "metadata": {},
   "outputs": [],
   "source": [
    "import pandas as pd\n",
    "from pymystem3 import Mystem\n",
    "from collections import Counter"
   ]
  },
  {
   "cell_type": "code",
   "execution_count": 539,
   "metadata": {
    "scrolled": true
   },
   "outputs": [
    {
     "data": {
      "text/html": [
       "<div>\n",
       "<style scoped>\n",
       "    .dataframe tbody tr th:only-of-type {\n",
       "        vertical-align: middle;\n",
       "    }\n",
       "\n",
       "    .dataframe tbody tr th {\n",
       "        vertical-align: top;\n",
       "    }\n",
       "\n",
       "    .dataframe thead th {\n",
       "        text-align: right;\n",
       "    }\n",
       "</style>\n",
       "<table border=\"1\" class=\"dataframe\">\n",
       "  <thead>\n",
       "    <tr style=\"text-align: right;\">\n",
       "      <th></th>\n",
       "      <th>children</th>\n",
       "      <th>days_employed</th>\n",
       "      <th>dob_years</th>\n",
       "      <th>education</th>\n",
       "      <th>education_id</th>\n",
       "      <th>family_status</th>\n",
       "      <th>family_status_id</th>\n",
       "      <th>gender</th>\n",
       "      <th>income_type</th>\n",
       "      <th>debt</th>\n",
       "      <th>total_income</th>\n",
       "      <th>purpose</th>\n",
       "    </tr>\n",
       "  </thead>\n",
       "  <tbody>\n",
       "    <tr>\n",
       "      <td>0</td>\n",
       "      <td>1</td>\n",
       "      <td>-8437.673028</td>\n",
       "      <td>42</td>\n",
       "      <td>высшее</td>\n",
       "      <td>0</td>\n",
       "      <td>женат / замужем</td>\n",
       "      <td>0</td>\n",
       "      <td>F</td>\n",
       "      <td>сотрудник</td>\n",
       "      <td>0</td>\n",
       "      <td>253875.639453</td>\n",
       "      <td>покупка жилья</td>\n",
       "    </tr>\n",
       "    <tr>\n",
       "      <td>1</td>\n",
       "      <td>1</td>\n",
       "      <td>-4024.803754</td>\n",
       "      <td>36</td>\n",
       "      <td>среднее</td>\n",
       "      <td>1</td>\n",
       "      <td>женат / замужем</td>\n",
       "      <td>0</td>\n",
       "      <td>F</td>\n",
       "      <td>сотрудник</td>\n",
       "      <td>0</td>\n",
       "      <td>112080.014102</td>\n",
       "      <td>приобретение автомобиля</td>\n",
       "    </tr>\n",
       "    <tr>\n",
       "      <td>2</td>\n",
       "      <td>0</td>\n",
       "      <td>-5623.422610</td>\n",
       "      <td>33</td>\n",
       "      <td>Среднее</td>\n",
       "      <td>1</td>\n",
       "      <td>женат / замужем</td>\n",
       "      <td>0</td>\n",
       "      <td>M</td>\n",
       "      <td>сотрудник</td>\n",
       "      <td>0</td>\n",
       "      <td>145885.952297</td>\n",
       "      <td>покупка жилья</td>\n",
       "    </tr>\n",
       "    <tr>\n",
       "      <td>3</td>\n",
       "      <td>3</td>\n",
       "      <td>-4124.747207</td>\n",
       "      <td>32</td>\n",
       "      <td>среднее</td>\n",
       "      <td>1</td>\n",
       "      <td>женат / замужем</td>\n",
       "      <td>0</td>\n",
       "      <td>M</td>\n",
       "      <td>сотрудник</td>\n",
       "      <td>0</td>\n",
       "      <td>267628.550329</td>\n",
       "      <td>дополнительное образование</td>\n",
       "    </tr>\n",
       "    <tr>\n",
       "      <td>4</td>\n",
       "      <td>0</td>\n",
       "      <td>340266.072047</td>\n",
       "      <td>53</td>\n",
       "      <td>среднее</td>\n",
       "      <td>1</td>\n",
       "      <td>гражданский брак</td>\n",
       "      <td>1</td>\n",
       "      <td>F</td>\n",
       "      <td>пенсионер</td>\n",
       "      <td>0</td>\n",
       "      <td>158616.077870</td>\n",
       "      <td>сыграть свадьбу</td>\n",
       "    </tr>\n",
       "    <tr>\n",
       "      <td>5</td>\n",
       "      <td>0</td>\n",
       "      <td>-926.185831</td>\n",
       "      <td>27</td>\n",
       "      <td>высшее</td>\n",
       "      <td>0</td>\n",
       "      <td>гражданский брак</td>\n",
       "      <td>1</td>\n",
       "      <td>M</td>\n",
       "      <td>компаньон</td>\n",
       "      <td>0</td>\n",
       "      <td>255763.565419</td>\n",
       "      <td>покупка жилья</td>\n",
       "    </tr>\n",
       "    <tr>\n",
       "      <td>6</td>\n",
       "      <td>0</td>\n",
       "      <td>-2879.202052</td>\n",
       "      <td>43</td>\n",
       "      <td>высшее</td>\n",
       "      <td>0</td>\n",
       "      <td>женат / замужем</td>\n",
       "      <td>0</td>\n",
       "      <td>F</td>\n",
       "      <td>компаньон</td>\n",
       "      <td>0</td>\n",
       "      <td>240525.971920</td>\n",
       "      <td>операции с жильем</td>\n",
       "    </tr>\n",
       "    <tr>\n",
       "      <td>7</td>\n",
       "      <td>0</td>\n",
       "      <td>-152.779569</td>\n",
       "      <td>50</td>\n",
       "      <td>СРЕДНЕЕ</td>\n",
       "      <td>1</td>\n",
       "      <td>женат / замужем</td>\n",
       "      <td>0</td>\n",
       "      <td>M</td>\n",
       "      <td>сотрудник</td>\n",
       "      <td>0</td>\n",
       "      <td>135823.934197</td>\n",
       "      <td>образование</td>\n",
       "    </tr>\n",
       "    <tr>\n",
       "      <td>8</td>\n",
       "      <td>2</td>\n",
       "      <td>-6929.865299</td>\n",
       "      <td>35</td>\n",
       "      <td>ВЫСШЕЕ</td>\n",
       "      <td>0</td>\n",
       "      <td>гражданский брак</td>\n",
       "      <td>1</td>\n",
       "      <td>F</td>\n",
       "      <td>сотрудник</td>\n",
       "      <td>0</td>\n",
       "      <td>95856.832424</td>\n",
       "      <td>на проведение свадьбы</td>\n",
       "    </tr>\n",
       "    <tr>\n",
       "      <td>9</td>\n",
       "      <td>0</td>\n",
       "      <td>-2188.756445</td>\n",
       "      <td>41</td>\n",
       "      <td>среднее</td>\n",
       "      <td>1</td>\n",
       "      <td>женат / замужем</td>\n",
       "      <td>0</td>\n",
       "      <td>M</td>\n",
       "      <td>сотрудник</td>\n",
       "      <td>0</td>\n",
       "      <td>144425.938277</td>\n",
       "      <td>покупка жилья для семьи</td>\n",
       "    </tr>\n",
       "  </tbody>\n",
       "</table>\n",
       "</div>"
      ],
      "text/plain": [
       "   children  days_employed  dob_years education  education_id  \\\n",
       "0         1   -8437.673028         42    высшее             0   \n",
       "1         1   -4024.803754         36   среднее             1   \n",
       "2         0   -5623.422610         33   Среднее             1   \n",
       "3         3   -4124.747207         32   среднее             1   \n",
       "4         0  340266.072047         53   среднее             1   \n",
       "5         0    -926.185831         27    высшее             0   \n",
       "6         0   -2879.202052         43    высшее             0   \n",
       "7         0    -152.779569         50   СРЕДНЕЕ             1   \n",
       "8         2   -6929.865299         35    ВЫСШЕЕ             0   \n",
       "9         0   -2188.756445         41   среднее             1   \n",
       "\n",
       "      family_status  family_status_id gender income_type  debt   total_income  \\\n",
       "0   женат / замужем                 0      F   сотрудник     0  253875.639453   \n",
       "1   женат / замужем                 0      F   сотрудник     0  112080.014102   \n",
       "2   женат / замужем                 0      M   сотрудник     0  145885.952297   \n",
       "3   женат / замужем                 0      M   сотрудник     0  267628.550329   \n",
       "4  гражданский брак                 1      F   пенсионер     0  158616.077870   \n",
       "5  гражданский брак                 1      M   компаньон     0  255763.565419   \n",
       "6   женат / замужем                 0      F   компаньон     0  240525.971920   \n",
       "7   женат / замужем                 0      M   сотрудник     0  135823.934197   \n",
       "8  гражданский брак                 1      F   сотрудник     0   95856.832424   \n",
       "9   женат / замужем                 0      M   сотрудник     0  144425.938277   \n",
       "\n",
       "                      purpose  \n",
       "0               покупка жилья  \n",
       "1     приобретение автомобиля  \n",
       "2               покупка жилья  \n",
       "3  дополнительное образование  \n",
       "4             сыграть свадьбу  \n",
       "5               покупка жилья  \n",
       "6           операции с жильем  \n",
       "7                 образование  \n",
       "8       на проведение свадьбы  \n",
       "9     покупка жилья для семьи  "
      ]
     },
     "execution_count": 539,
     "metadata": {},
     "output_type": "execute_result"
    }
   ],
   "source": [
    "df = pd.read_csv('/datasets/data.csv')\n",
    "df.head(10)"
   ]
  },
  {
   "cell_type": "code",
   "execution_count": 540,
   "metadata": {},
   "outputs": [
    {
     "data": {
      "text/html": [
       "<div>\n",
       "<style scoped>\n",
       "    .dataframe tbody tr th:only-of-type {\n",
       "        vertical-align: middle;\n",
       "    }\n",
       "\n",
       "    .dataframe tbody tr th {\n",
       "        vertical-align: top;\n",
       "    }\n",
       "\n",
       "    .dataframe thead th {\n",
       "        text-align: right;\n",
       "    }\n",
       "</style>\n",
       "<table border=\"1\" class=\"dataframe\">\n",
       "  <thead>\n",
       "    <tr style=\"text-align: right;\">\n",
       "      <th></th>\n",
       "      <th>children</th>\n",
       "      <th>days_employed</th>\n",
       "      <th>dob_years</th>\n",
       "      <th>education</th>\n",
       "      <th>education_id</th>\n",
       "      <th>family_status</th>\n",
       "      <th>family_status_id</th>\n",
       "      <th>gender</th>\n",
       "      <th>income_type</th>\n",
       "      <th>debt</th>\n",
       "      <th>total_income</th>\n",
       "      <th>purpose</th>\n",
       "    </tr>\n",
       "  </thead>\n",
       "  <tbody>\n",
       "    <tr>\n",
       "      <td>15157</td>\n",
       "      <td>1</td>\n",
       "      <td>-94.985702</td>\n",
       "      <td>47</td>\n",
       "      <td>среднее</td>\n",
       "      <td>1</td>\n",
       "      <td>женат / замужем</td>\n",
       "      <td>0</td>\n",
       "      <td>M</td>\n",
       "      <td>сотрудник</td>\n",
       "      <td>0</td>\n",
       "      <td>218320.752233</td>\n",
       "      <td>покупка недвижимости</td>\n",
       "    </tr>\n",
       "    <tr>\n",
       "      <td>16598</td>\n",
       "      <td>1</td>\n",
       "      <td>-3194.405293</td>\n",
       "      <td>34</td>\n",
       "      <td>высшее</td>\n",
       "      <td>0</td>\n",
       "      <td>в разводе</td>\n",
       "      <td>3</td>\n",
       "      <td>M</td>\n",
       "      <td>сотрудник</td>\n",
       "      <td>0</td>\n",
       "      <td>120044.814363</td>\n",
       "      <td>недвижимость</td>\n",
       "    </tr>\n",
       "    <tr>\n",
       "      <td>6947</td>\n",
       "      <td>0</td>\n",
       "      <td>-557.141552</td>\n",
       "      <td>39</td>\n",
       "      <td>среднее</td>\n",
       "      <td>1</td>\n",
       "      <td>Не женат / не замужем</td>\n",
       "      <td>4</td>\n",
       "      <td>F</td>\n",
       "      <td>сотрудник</td>\n",
       "      <td>0</td>\n",
       "      <td>56713.891275</td>\n",
       "      <td>недвижимость</td>\n",
       "    </tr>\n",
       "    <tr>\n",
       "      <td>1545</td>\n",
       "      <td>1</td>\n",
       "      <td>-901.467430</td>\n",
       "      <td>28</td>\n",
       "      <td>среднее</td>\n",
       "      <td>1</td>\n",
       "      <td>женат / замужем</td>\n",
       "      <td>0</td>\n",
       "      <td>M</td>\n",
       "      <td>сотрудник</td>\n",
       "      <td>0</td>\n",
       "      <td>103335.397996</td>\n",
       "      <td>заняться высшим образованием</td>\n",
       "    </tr>\n",
       "    <tr>\n",
       "      <td>3640</td>\n",
       "      <td>0</td>\n",
       "      <td>365664.390203</td>\n",
       "      <td>62</td>\n",
       "      <td>СРЕДНЕЕ</td>\n",
       "      <td>1</td>\n",
       "      <td>женат / замужем</td>\n",
       "      <td>0</td>\n",
       "      <td>M</td>\n",
       "      <td>пенсионер</td>\n",
       "      <td>0</td>\n",
       "      <td>364627.859998</td>\n",
       "      <td>сделка с подержанным автомобилем</td>\n",
       "    </tr>\n",
       "    <tr>\n",
       "      <td>18093</td>\n",
       "      <td>0</td>\n",
       "      <td>364183.024720</td>\n",
       "      <td>64</td>\n",
       "      <td>среднее</td>\n",
       "      <td>1</td>\n",
       "      <td>Не женат / не замужем</td>\n",
       "      <td>4</td>\n",
       "      <td>F</td>\n",
       "      <td>пенсионер</td>\n",
       "      <td>0</td>\n",
       "      <td>71498.487486</td>\n",
       "      <td>высшее образование</td>\n",
       "    </tr>\n",
       "    <tr>\n",
       "      <td>18430</td>\n",
       "      <td>1</td>\n",
       "      <td>-590.552843</td>\n",
       "      <td>32</td>\n",
       "      <td>неоконченное высшее</td>\n",
       "      <td>2</td>\n",
       "      <td>женат / замужем</td>\n",
       "      <td>0</td>\n",
       "      <td>F</td>\n",
       "      <td>компаньон</td>\n",
       "      <td>0</td>\n",
       "      <td>381383.996341</td>\n",
       "      <td>свой автомобиль</td>\n",
       "    </tr>\n",
       "    <tr>\n",
       "      <td>12750</td>\n",
       "      <td>0</td>\n",
       "      <td>-3564.768651</td>\n",
       "      <td>35</td>\n",
       "      <td>высшее</td>\n",
       "      <td>0</td>\n",
       "      <td>гражданский брак</td>\n",
       "      <td>1</td>\n",
       "      <td>F</td>\n",
       "      <td>сотрудник</td>\n",
       "      <td>0</td>\n",
       "      <td>374147.363604</td>\n",
       "      <td>сыграть свадьбу</td>\n",
       "    </tr>\n",
       "    <tr>\n",
       "      <td>10048</td>\n",
       "      <td>0</td>\n",
       "      <td>-8876.745097</td>\n",
       "      <td>43</td>\n",
       "      <td>ВЫСШЕЕ</td>\n",
       "      <td>0</td>\n",
       "      <td>женат / замужем</td>\n",
       "      <td>0</td>\n",
       "      <td>F</td>\n",
       "      <td>сотрудник</td>\n",
       "      <td>0</td>\n",
       "      <td>191108.362861</td>\n",
       "      <td>получение высшего образования</td>\n",
       "    </tr>\n",
       "    <tr>\n",
       "      <td>6418</td>\n",
       "      <td>0</td>\n",
       "      <td>364246.541992</td>\n",
       "      <td>53</td>\n",
       "      <td>среднее</td>\n",
       "      <td>1</td>\n",
       "      <td>женат / замужем</td>\n",
       "      <td>0</td>\n",
       "      <td>F</td>\n",
       "      <td>пенсионер</td>\n",
       "      <td>0</td>\n",
       "      <td>98114.342256</td>\n",
       "      <td>покупка коммерческой недвижимости</td>\n",
       "    </tr>\n",
       "  </tbody>\n",
       "</table>\n",
       "</div>"
      ],
      "text/plain": [
       "       children  days_employed  dob_years            education  education_id  \\\n",
       "15157         1     -94.985702         47              среднее             1   \n",
       "16598         1   -3194.405293         34               высшее             0   \n",
       "6947          0    -557.141552         39              среднее             1   \n",
       "1545          1    -901.467430         28              среднее             1   \n",
       "3640          0  365664.390203         62              СРЕДНЕЕ             1   \n",
       "18093         0  364183.024720         64              среднее             1   \n",
       "18430         1    -590.552843         32  неоконченное высшее             2   \n",
       "12750         0   -3564.768651         35               высшее             0   \n",
       "10048         0   -8876.745097         43               ВЫСШЕЕ             0   \n",
       "6418          0  364246.541992         53              среднее             1   \n",
       "\n",
       "               family_status  family_status_id gender income_type  debt  \\\n",
       "15157        женат / замужем                 0      M   сотрудник     0   \n",
       "16598              в разводе                 3      M   сотрудник     0   \n",
       "6947   Не женат / не замужем                 4      F   сотрудник     0   \n",
       "1545         женат / замужем                 0      M   сотрудник     0   \n",
       "3640         женат / замужем                 0      M   пенсионер     0   \n",
       "18093  Не женат / не замужем                 4      F   пенсионер     0   \n",
       "18430        женат / замужем                 0      F   компаньон     0   \n",
       "12750       гражданский брак                 1      F   сотрудник     0   \n",
       "10048        женат / замужем                 0      F   сотрудник     0   \n",
       "6418         женат / замужем                 0      F   пенсионер     0   \n",
       "\n",
       "        total_income                            purpose  \n",
       "15157  218320.752233               покупка недвижимости  \n",
       "16598  120044.814363                       недвижимость  \n",
       "6947    56713.891275                       недвижимость  \n",
       "1545   103335.397996       заняться высшим образованием  \n",
       "3640   364627.859998   сделка с подержанным автомобилем  \n",
       "18093   71498.487486                 высшее образование  \n",
       "18430  381383.996341                    свой автомобиль  \n",
       "12750  374147.363604                    сыграть свадьбу  \n",
       "10048  191108.362861      получение высшего образования  \n",
       "6418    98114.342256  покупка коммерческой недвижимости  "
      ]
     },
     "execution_count": 540,
     "metadata": {},
     "output_type": "execute_result"
    }
   ],
   "source": [
    "df.sample(10)"
   ]
  },
  {
   "cell_type": "code",
   "execution_count": 541,
   "metadata": {},
   "outputs": [
    {
     "data": {
      "text/html": [
       "<div>\n",
       "<style scoped>\n",
       "    .dataframe tbody tr th:only-of-type {\n",
       "        vertical-align: middle;\n",
       "    }\n",
       "\n",
       "    .dataframe tbody tr th {\n",
       "        vertical-align: top;\n",
       "    }\n",
       "\n",
       "    .dataframe thead th {\n",
       "        text-align: right;\n",
       "    }\n",
       "</style>\n",
       "<table border=\"1\" class=\"dataframe\">\n",
       "  <thead>\n",
       "    <tr style=\"text-align: right;\">\n",
       "      <th></th>\n",
       "      <th>children</th>\n",
       "      <th>days_employed</th>\n",
       "      <th>dob_years</th>\n",
       "      <th>education</th>\n",
       "      <th>education_id</th>\n",
       "      <th>family_status</th>\n",
       "      <th>family_status_id</th>\n",
       "      <th>gender</th>\n",
       "      <th>income_type</th>\n",
       "      <th>debt</th>\n",
       "      <th>total_income</th>\n",
       "      <th>purpose</th>\n",
       "    </tr>\n",
       "  </thead>\n",
       "  <tbody>\n",
       "    <tr>\n",
       "      <td>21515</td>\n",
       "      <td>1</td>\n",
       "      <td>-467.685130</td>\n",
       "      <td>28</td>\n",
       "      <td>среднее</td>\n",
       "      <td>1</td>\n",
       "      <td>женат / замужем</td>\n",
       "      <td>0</td>\n",
       "      <td>F</td>\n",
       "      <td>сотрудник</td>\n",
       "      <td>1</td>\n",
       "      <td>109486.327999</td>\n",
       "      <td>заняться образованием</td>\n",
       "    </tr>\n",
       "    <tr>\n",
       "      <td>21516</td>\n",
       "      <td>0</td>\n",
       "      <td>-914.391429</td>\n",
       "      <td>42</td>\n",
       "      <td>высшее</td>\n",
       "      <td>0</td>\n",
       "      <td>женат / замужем</td>\n",
       "      <td>0</td>\n",
       "      <td>F</td>\n",
       "      <td>компаньон</td>\n",
       "      <td>0</td>\n",
       "      <td>322807.776603</td>\n",
       "      <td>покупка своего жилья</td>\n",
       "    </tr>\n",
       "    <tr>\n",
       "      <td>21517</td>\n",
       "      <td>0</td>\n",
       "      <td>-404.679034</td>\n",
       "      <td>42</td>\n",
       "      <td>высшее</td>\n",
       "      <td>0</td>\n",
       "      <td>гражданский брак</td>\n",
       "      <td>1</td>\n",
       "      <td>F</td>\n",
       "      <td>компаньон</td>\n",
       "      <td>0</td>\n",
       "      <td>178059.553491</td>\n",
       "      <td>на покупку своего автомобиля</td>\n",
       "    </tr>\n",
       "    <tr>\n",
       "      <td>21518</td>\n",
       "      <td>0</td>\n",
       "      <td>373995.710838</td>\n",
       "      <td>59</td>\n",
       "      <td>СРЕДНЕЕ</td>\n",
       "      <td>1</td>\n",
       "      <td>женат / замужем</td>\n",
       "      <td>0</td>\n",
       "      <td>F</td>\n",
       "      <td>пенсионер</td>\n",
       "      <td>0</td>\n",
       "      <td>153864.650328</td>\n",
       "      <td>сделка с автомобилем</td>\n",
       "    </tr>\n",
       "    <tr>\n",
       "      <td>21519</td>\n",
       "      <td>1</td>\n",
       "      <td>-2351.431934</td>\n",
       "      <td>37</td>\n",
       "      <td>ученая степень</td>\n",
       "      <td>4</td>\n",
       "      <td>в разводе</td>\n",
       "      <td>3</td>\n",
       "      <td>M</td>\n",
       "      <td>сотрудник</td>\n",
       "      <td>0</td>\n",
       "      <td>115949.039788</td>\n",
       "      <td>покупка коммерческой недвижимости</td>\n",
       "    </tr>\n",
       "    <tr>\n",
       "      <td>21520</td>\n",
       "      <td>1</td>\n",
       "      <td>-4529.316663</td>\n",
       "      <td>43</td>\n",
       "      <td>среднее</td>\n",
       "      <td>1</td>\n",
       "      <td>гражданский брак</td>\n",
       "      <td>1</td>\n",
       "      <td>F</td>\n",
       "      <td>компаньон</td>\n",
       "      <td>0</td>\n",
       "      <td>224791.862382</td>\n",
       "      <td>операции с жильем</td>\n",
       "    </tr>\n",
       "    <tr>\n",
       "      <td>21521</td>\n",
       "      <td>0</td>\n",
       "      <td>343937.404131</td>\n",
       "      <td>67</td>\n",
       "      <td>среднее</td>\n",
       "      <td>1</td>\n",
       "      <td>женат / замужем</td>\n",
       "      <td>0</td>\n",
       "      <td>F</td>\n",
       "      <td>пенсионер</td>\n",
       "      <td>0</td>\n",
       "      <td>155999.806512</td>\n",
       "      <td>сделка с автомобилем</td>\n",
       "    </tr>\n",
       "    <tr>\n",
       "      <td>21522</td>\n",
       "      <td>1</td>\n",
       "      <td>-2113.346888</td>\n",
       "      <td>38</td>\n",
       "      <td>среднее</td>\n",
       "      <td>1</td>\n",
       "      <td>гражданский брак</td>\n",
       "      <td>1</td>\n",
       "      <td>M</td>\n",
       "      <td>сотрудник</td>\n",
       "      <td>1</td>\n",
       "      <td>89672.561153</td>\n",
       "      <td>недвижимость</td>\n",
       "    </tr>\n",
       "    <tr>\n",
       "      <td>21523</td>\n",
       "      <td>3</td>\n",
       "      <td>-3112.481705</td>\n",
       "      <td>38</td>\n",
       "      <td>среднее</td>\n",
       "      <td>1</td>\n",
       "      <td>женат / замужем</td>\n",
       "      <td>0</td>\n",
       "      <td>M</td>\n",
       "      <td>сотрудник</td>\n",
       "      <td>1</td>\n",
       "      <td>244093.050500</td>\n",
       "      <td>на покупку своего автомобиля</td>\n",
       "    </tr>\n",
       "    <tr>\n",
       "      <td>21524</td>\n",
       "      <td>2</td>\n",
       "      <td>-1984.507589</td>\n",
       "      <td>40</td>\n",
       "      <td>среднее</td>\n",
       "      <td>1</td>\n",
       "      <td>женат / замужем</td>\n",
       "      <td>0</td>\n",
       "      <td>F</td>\n",
       "      <td>сотрудник</td>\n",
       "      <td>0</td>\n",
       "      <td>82047.418899</td>\n",
       "      <td>на покупку автомобиля</td>\n",
       "    </tr>\n",
       "  </tbody>\n",
       "</table>\n",
       "</div>"
      ],
      "text/plain": [
       "       children  days_employed  dob_years       education  education_id  \\\n",
       "21515         1    -467.685130         28         среднее             1   \n",
       "21516         0    -914.391429         42          высшее             0   \n",
       "21517         0    -404.679034         42          высшее             0   \n",
       "21518         0  373995.710838         59         СРЕДНЕЕ             1   \n",
       "21519         1   -2351.431934         37  ученая степень             4   \n",
       "21520         1   -4529.316663         43         среднее             1   \n",
       "21521         0  343937.404131         67         среднее             1   \n",
       "21522         1   -2113.346888         38         среднее             1   \n",
       "21523         3   -3112.481705         38         среднее             1   \n",
       "21524         2   -1984.507589         40         среднее             1   \n",
       "\n",
       "          family_status  family_status_id gender income_type  debt  \\\n",
       "21515   женат / замужем                 0      F   сотрудник     1   \n",
       "21516   женат / замужем                 0      F   компаньон     0   \n",
       "21517  гражданский брак                 1      F   компаньон     0   \n",
       "21518   женат / замужем                 0      F   пенсионер     0   \n",
       "21519         в разводе                 3      M   сотрудник     0   \n",
       "21520  гражданский брак                 1      F   компаньон     0   \n",
       "21521   женат / замужем                 0      F   пенсионер     0   \n",
       "21522  гражданский брак                 1      M   сотрудник     1   \n",
       "21523   женат / замужем                 0      M   сотрудник     1   \n",
       "21524   женат / замужем                 0      F   сотрудник     0   \n",
       "\n",
       "        total_income                            purpose  \n",
       "21515  109486.327999              заняться образованием  \n",
       "21516  322807.776603               покупка своего жилья  \n",
       "21517  178059.553491       на покупку своего автомобиля  \n",
       "21518  153864.650328               сделка с автомобилем  \n",
       "21519  115949.039788  покупка коммерческой недвижимости  \n",
       "21520  224791.862382                  операции с жильем  \n",
       "21521  155999.806512               сделка с автомобилем  \n",
       "21522   89672.561153                       недвижимость  \n",
       "21523  244093.050500       на покупку своего автомобиля  \n",
       "21524   82047.418899              на покупку автомобиля  "
      ]
     },
     "execution_count": 541,
     "metadata": {},
     "output_type": "execute_result"
    }
   ],
   "source": [
    "df.tail(10)"
   ]
  },
  {
   "cell_type": "code",
   "execution_count": 542,
   "metadata": {
    "scrolled": true
   },
   "outputs": [
    {
     "name": "stdout",
     "output_type": "stream",
     "text": [
      "<class 'pandas.core.frame.DataFrame'>\n",
      "RangeIndex: 21525 entries, 0 to 21524\n",
      "Data columns (total 12 columns):\n",
      "children            21525 non-null int64\n",
      "days_employed       19351 non-null float64\n",
      "dob_years           21525 non-null int64\n",
      "education           21525 non-null object\n",
      "education_id        21525 non-null int64\n",
      "family_status       21525 non-null object\n",
      "family_status_id    21525 non-null int64\n",
      "gender              21525 non-null object\n",
      "income_type         21525 non-null object\n",
      "debt                21525 non-null int64\n",
      "total_income        19351 non-null float64\n",
      "purpose             21525 non-null object\n",
      "dtypes: float64(2), int64(5), object(5)\n",
      "memory usage: 2.0+ MB\n"
     ]
    }
   ],
   "source": [
    "df.info()"
   ]
  },
  {
   "cell_type": "code",
   "execution_count": 543,
   "metadata": {},
   "outputs": [
    {
     "data": {
      "text/html": [
       "<div>\n",
       "<style scoped>\n",
       "    .dataframe tbody tr th:only-of-type {\n",
       "        vertical-align: middle;\n",
       "    }\n",
       "\n",
       "    .dataframe tbody tr th {\n",
       "        vertical-align: top;\n",
       "    }\n",
       "\n",
       "    .dataframe thead th {\n",
       "        text-align: right;\n",
       "    }\n",
       "</style>\n",
       "<table border=\"1\" class=\"dataframe\">\n",
       "  <thead>\n",
       "    <tr style=\"text-align: right;\">\n",
       "      <th></th>\n",
       "      <th>count</th>\n",
       "      <th>mean</th>\n",
       "      <th>std</th>\n",
       "      <th>min</th>\n",
       "      <th>25%</th>\n",
       "      <th>50%</th>\n",
       "      <th>75%</th>\n",
       "      <th>max</th>\n",
       "    </tr>\n",
       "  </thead>\n",
       "  <tbody>\n",
       "    <tr>\n",
       "      <td>children</td>\n",
       "      <td>21525.0</td>\n",
       "      <td>0.538908</td>\n",
       "      <td>1.381587</td>\n",
       "      <td>-1.000000</td>\n",
       "      <td>0.000000</td>\n",
       "      <td>0.000000</td>\n",
       "      <td>1.000000</td>\n",
       "      <td>2.000000e+01</td>\n",
       "    </tr>\n",
       "    <tr>\n",
       "      <td>days_employed</td>\n",
       "      <td>19351.0</td>\n",
       "      <td>63046.497661</td>\n",
       "      <td>140827.311974</td>\n",
       "      <td>-18388.949901</td>\n",
       "      <td>-2747.423625</td>\n",
       "      <td>-1203.369529</td>\n",
       "      <td>-291.095954</td>\n",
       "      <td>4.017554e+05</td>\n",
       "    </tr>\n",
       "    <tr>\n",
       "      <td>dob_years</td>\n",
       "      <td>21525.0</td>\n",
       "      <td>43.293380</td>\n",
       "      <td>12.574584</td>\n",
       "      <td>0.000000</td>\n",
       "      <td>33.000000</td>\n",
       "      <td>42.000000</td>\n",
       "      <td>53.000000</td>\n",
       "      <td>7.500000e+01</td>\n",
       "    </tr>\n",
       "    <tr>\n",
       "      <td>education_id</td>\n",
       "      <td>21525.0</td>\n",
       "      <td>0.817236</td>\n",
       "      <td>0.548138</td>\n",
       "      <td>0.000000</td>\n",
       "      <td>1.000000</td>\n",
       "      <td>1.000000</td>\n",
       "      <td>1.000000</td>\n",
       "      <td>4.000000e+00</td>\n",
       "    </tr>\n",
       "    <tr>\n",
       "      <td>family_status_id</td>\n",
       "      <td>21525.0</td>\n",
       "      <td>0.972544</td>\n",
       "      <td>1.420324</td>\n",
       "      <td>0.000000</td>\n",
       "      <td>0.000000</td>\n",
       "      <td>0.000000</td>\n",
       "      <td>1.000000</td>\n",
       "      <td>4.000000e+00</td>\n",
       "    </tr>\n",
       "    <tr>\n",
       "      <td>debt</td>\n",
       "      <td>21525.0</td>\n",
       "      <td>0.080883</td>\n",
       "      <td>0.272661</td>\n",
       "      <td>0.000000</td>\n",
       "      <td>0.000000</td>\n",
       "      <td>0.000000</td>\n",
       "      <td>0.000000</td>\n",
       "      <td>1.000000e+00</td>\n",
       "    </tr>\n",
       "    <tr>\n",
       "      <td>total_income</td>\n",
       "      <td>19351.0</td>\n",
       "      <td>167422.302208</td>\n",
       "      <td>102971.566448</td>\n",
       "      <td>20667.263793</td>\n",
       "      <td>103053.152913</td>\n",
       "      <td>145017.937533</td>\n",
       "      <td>203435.067663</td>\n",
       "      <td>2.265604e+06</td>\n",
       "    </tr>\n",
       "  </tbody>\n",
       "</table>\n",
       "</div>"
      ],
      "text/plain": [
       "                    count           mean            std           min  \\\n",
       "children          21525.0       0.538908       1.381587     -1.000000   \n",
       "days_employed     19351.0   63046.497661  140827.311974 -18388.949901   \n",
       "dob_years         21525.0      43.293380      12.574584      0.000000   \n",
       "education_id      21525.0       0.817236       0.548138      0.000000   \n",
       "family_status_id  21525.0       0.972544       1.420324      0.000000   \n",
       "debt              21525.0       0.080883       0.272661      0.000000   \n",
       "total_income      19351.0  167422.302208  102971.566448  20667.263793   \n",
       "\n",
       "                            25%            50%            75%           max  \n",
       "children               0.000000       0.000000       1.000000  2.000000e+01  \n",
       "days_employed      -2747.423625   -1203.369529    -291.095954  4.017554e+05  \n",
       "dob_years             33.000000      42.000000      53.000000  7.500000e+01  \n",
       "education_id           1.000000       1.000000       1.000000  4.000000e+00  \n",
       "family_status_id       0.000000       0.000000       1.000000  4.000000e+00  \n",
       "debt                   0.000000       0.000000       0.000000  1.000000e+00  \n",
       "total_income      103053.152913  145017.937533  203435.067663  2.265604e+06  "
      ]
     },
     "execution_count": 543,
     "metadata": {},
     "output_type": "execute_result"
    }
   ],
   "source": [
    "df.describe().T"
   ]
  },
  {
   "cell_type": "markdown",
   "metadata": {},
   "source": [
    "**Вывод**"
   ]
  },
  {
   "cell_type": "markdown",
   "metadata": {},
   "source": [
    "1. Исходные данные имеют пропуски.\n",
    "2. Замечены некорректные (отрицательные) данные в трудовом стаже.\n",
    "3. Замечен разный стиль указания образования клиента.\n",
    "4. Анамольные (единичные) значения в типах занятости клиентов. Значения в этом столбце не отражают сути его названия. Как я понимаю, тип занятости это полная/частичная \n",
    "5. Значения education_id, family_status_id на первый взгляд кажутся не иформативными. Правильные значения в education и family_status будут в полной мере заменять их.\n",
    "6. Ежемесячный доход указал в float64. Слишком много значений после запятой, такая точность не требуется.\n",
    "7. В целях получения кредита преобладает свадьба -> покупка жилья."
   ]
  },
  {
   "cell_type": "markdown",
   "metadata": {},
   "source": [
    "## Шаг 2. Предобработка данных"
   ]
  },
  {
   "cell_type": "markdown",
   "metadata": {},
   "source": [
    "### Обработка пропусков"
   ]
  },
  {
   "cell_type": "code",
   "execution_count": 544,
   "metadata": {
    "scrolled": true
   },
   "outputs": [
    {
     "data": {
      "text/plain": [
       "сотрудник          1105\n",
       "компаньон           508\n",
       "пенсионер           413\n",
       "госслужащий         147\n",
       "предприниматель       1\n",
       "Name: income_type, dtype: int64"
      ]
     },
     "execution_count": 544,
     "metadata": {},
     "output_type": "execute_result"
    }
   ],
   "source": [
    "df.loc[(df['days_employed'].isna()) & (df['total_income'].isna())]['income_type'].value_counts()"
   ]
  },
  {
   "cell_type": "markdown",
   "metadata": {},
   "source": [
    "Большое кол-во сотрудников не имеют трудовой стаж в днях. Заполнять пропуски средними значениями на данном этапе нет смысла, т.к. присутствуют много отрицательных значений и такие варинта когда стаж работника большое его возраста."
   ]
  },
  {
   "cell_type": "markdown",
   "metadata": {},
   "source": [
    "2.1.1 Заполнение пропусков в df['days_employed'] (общий трудовой стаж в днях) "
   ]
  },
  {
   "cell_type": "code",
   "execution_count": 545,
   "metadata": {},
   "outputs": [
    {
     "data": {
      "text/html": [
       "<div>\n",
       "<style scoped>\n",
       "    .dataframe tbody tr th:only-of-type {\n",
       "        vertical-align: middle;\n",
       "    }\n",
       "\n",
       "    .dataframe tbody tr th {\n",
       "        vertical-align: top;\n",
       "    }\n",
       "\n",
       "    .dataframe thead th {\n",
       "        text-align: right;\n",
       "    }\n",
       "</style>\n",
       "<table border=\"1\" class=\"dataframe\">\n",
       "  <thead>\n",
       "    <tr style=\"text-align: right;\">\n",
       "      <th></th>\n",
       "      <th>children</th>\n",
       "      <th>days_employed</th>\n",
       "      <th>dob_years</th>\n",
       "      <th>education</th>\n",
       "      <th>education_id</th>\n",
       "      <th>family_status</th>\n",
       "      <th>family_status_id</th>\n",
       "      <th>gender</th>\n",
       "      <th>income_type</th>\n",
       "      <th>debt</th>\n",
       "      <th>total_income</th>\n",
       "      <th>purpose</th>\n",
       "    </tr>\n",
       "  </thead>\n",
       "  <tbody>\n",
       "    <tr>\n",
       "      <td>99</td>\n",
       "      <td>0</td>\n",
       "      <td>346541.618895</td>\n",
       "      <td>0</td>\n",
       "      <td>Среднее</td>\n",
       "      <td>1</td>\n",
       "      <td>женат / замужем</td>\n",
       "      <td>0</td>\n",
       "      <td>F</td>\n",
       "      <td>пенсионер</td>\n",
       "      <td>0</td>\n",
       "      <td>71291.522491</td>\n",
       "      <td>автомобиль</td>\n",
       "    </tr>\n",
       "    <tr>\n",
       "      <td>149</td>\n",
       "      <td>0</td>\n",
       "      <td>-2664.273168</td>\n",
       "      <td>0</td>\n",
       "      <td>среднее</td>\n",
       "      <td>1</td>\n",
       "      <td>в разводе</td>\n",
       "      <td>3</td>\n",
       "      <td>F</td>\n",
       "      <td>сотрудник</td>\n",
       "      <td>0</td>\n",
       "      <td>70176.435951</td>\n",
       "      <td>операции с жильем</td>\n",
       "    </tr>\n",
       "    <tr>\n",
       "      <td>270</td>\n",
       "      <td>3</td>\n",
       "      <td>-1872.663186</td>\n",
       "      <td>0</td>\n",
       "      <td>среднее</td>\n",
       "      <td>1</td>\n",
       "      <td>женат / замужем</td>\n",
       "      <td>0</td>\n",
       "      <td>F</td>\n",
       "      <td>сотрудник</td>\n",
       "      <td>0</td>\n",
       "      <td>102166.458894</td>\n",
       "      <td>ремонт жилью</td>\n",
       "    </tr>\n",
       "    <tr>\n",
       "      <td>578</td>\n",
       "      <td>0</td>\n",
       "      <td>397856.565013</td>\n",
       "      <td>0</td>\n",
       "      <td>среднее</td>\n",
       "      <td>1</td>\n",
       "      <td>женат / замужем</td>\n",
       "      <td>0</td>\n",
       "      <td>F</td>\n",
       "      <td>пенсионер</td>\n",
       "      <td>0</td>\n",
       "      <td>97620.687042</td>\n",
       "      <td>строительство собственной недвижимости</td>\n",
       "    </tr>\n",
       "    <tr>\n",
       "      <td>1040</td>\n",
       "      <td>0</td>\n",
       "      <td>-1158.029561</td>\n",
       "      <td>0</td>\n",
       "      <td>высшее</td>\n",
       "      <td>0</td>\n",
       "      <td>в разводе</td>\n",
       "      <td>3</td>\n",
       "      <td>F</td>\n",
       "      <td>компаньон</td>\n",
       "      <td>0</td>\n",
       "      <td>303994.134987</td>\n",
       "      <td>свой автомобиль</td>\n",
       "    </tr>\n",
       "    <tr>\n",
       "      <td>...</td>\n",
       "      <td>...</td>\n",
       "      <td>...</td>\n",
       "      <td>...</td>\n",
       "      <td>...</td>\n",
       "      <td>...</td>\n",
       "      <td>...</td>\n",
       "      <td>...</td>\n",
       "      <td>...</td>\n",
       "      <td>...</td>\n",
       "      <td>...</td>\n",
       "      <td>...</td>\n",
       "      <td>...</td>\n",
       "    </tr>\n",
       "    <tr>\n",
       "      <td>19829</td>\n",
       "      <td>0</td>\n",
       "      <td>NaN</td>\n",
       "      <td>0</td>\n",
       "      <td>среднее</td>\n",
       "      <td>1</td>\n",
       "      <td>женат / замужем</td>\n",
       "      <td>0</td>\n",
       "      <td>F</td>\n",
       "      <td>сотрудник</td>\n",
       "      <td>0</td>\n",
       "      <td>NaN</td>\n",
       "      <td>жилье</td>\n",
       "    </tr>\n",
       "    <tr>\n",
       "      <td>20462</td>\n",
       "      <td>0</td>\n",
       "      <td>338734.868540</td>\n",
       "      <td>0</td>\n",
       "      <td>среднее</td>\n",
       "      <td>1</td>\n",
       "      <td>женат / замужем</td>\n",
       "      <td>0</td>\n",
       "      <td>F</td>\n",
       "      <td>пенсионер</td>\n",
       "      <td>0</td>\n",
       "      <td>259193.920299</td>\n",
       "      <td>покупка своего жилья</td>\n",
       "    </tr>\n",
       "    <tr>\n",
       "      <td>20577</td>\n",
       "      <td>0</td>\n",
       "      <td>331741.271455</td>\n",
       "      <td>0</td>\n",
       "      <td>среднее</td>\n",
       "      <td>1</td>\n",
       "      <td>Не женат / не замужем</td>\n",
       "      <td>4</td>\n",
       "      <td>F</td>\n",
       "      <td>пенсионер</td>\n",
       "      <td>0</td>\n",
       "      <td>129788.762899</td>\n",
       "      <td>недвижимость</td>\n",
       "    </tr>\n",
       "    <tr>\n",
       "      <td>21179</td>\n",
       "      <td>2</td>\n",
       "      <td>-108.967042</td>\n",
       "      <td>0</td>\n",
       "      <td>высшее</td>\n",
       "      <td>0</td>\n",
       "      <td>женат / замужем</td>\n",
       "      <td>0</td>\n",
       "      <td>M</td>\n",
       "      <td>компаньон</td>\n",
       "      <td>0</td>\n",
       "      <td>240702.007382</td>\n",
       "      <td>строительство жилой недвижимости</td>\n",
       "    </tr>\n",
       "    <tr>\n",
       "      <td>21313</td>\n",
       "      <td>0</td>\n",
       "      <td>-1268.487728</td>\n",
       "      <td>0</td>\n",
       "      <td>среднее</td>\n",
       "      <td>1</td>\n",
       "      <td>Не женат / не замужем</td>\n",
       "      <td>4</td>\n",
       "      <td>M</td>\n",
       "      <td>сотрудник</td>\n",
       "      <td>0</td>\n",
       "      <td>152419.184851</td>\n",
       "      <td>операции с жильем</td>\n",
       "    </tr>\n",
       "  </tbody>\n",
       "</table>\n",
       "<p>101 rows × 12 columns</p>\n",
       "</div>"
      ],
      "text/plain": [
       "       children  days_employed  dob_years education  education_id  \\\n",
       "99            0  346541.618895          0   Среднее             1   \n",
       "149           0   -2664.273168          0   среднее             1   \n",
       "270           3   -1872.663186          0   среднее             1   \n",
       "578           0  397856.565013          0   среднее             1   \n",
       "1040          0   -1158.029561          0    высшее             0   \n",
       "...         ...            ...        ...       ...           ...   \n",
       "19829         0            NaN          0   среднее             1   \n",
       "20462         0  338734.868540          0   среднее             1   \n",
       "20577         0  331741.271455          0   среднее             1   \n",
       "21179         2    -108.967042          0    высшее             0   \n",
       "21313         0   -1268.487728          0   среднее             1   \n",
       "\n",
       "               family_status  family_status_id gender income_type  debt  \\\n",
       "99           женат / замужем                 0      F   пенсионер     0   \n",
       "149                в разводе                 3      F   сотрудник     0   \n",
       "270          женат / замужем                 0      F   сотрудник     0   \n",
       "578          женат / замужем                 0      F   пенсионер     0   \n",
       "1040               в разводе                 3      F   компаньон     0   \n",
       "...                      ...               ...    ...         ...   ...   \n",
       "19829        женат / замужем                 0      F   сотрудник     0   \n",
       "20462        женат / замужем                 0      F   пенсионер     0   \n",
       "20577  Не женат / не замужем                 4      F   пенсионер     0   \n",
       "21179        женат / замужем                 0      M   компаньон     0   \n",
       "21313  Не женат / не замужем                 4      M   сотрудник     0   \n",
       "\n",
       "        total_income                                 purpose  \n",
       "99      71291.522491                              автомобиль  \n",
       "149     70176.435951                       операции с жильем  \n",
       "270    102166.458894                            ремонт жилью  \n",
       "578     97620.687042  строительство собственной недвижимости  \n",
       "1040   303994.134987                         свой автомобиль  \n",
       "...              ...                                     ...  \n",
       "19829            NaN                                   жилье  \n",
       "20462  259193.920299                    покупка своего жилья  \n",
       "20577  129788.762899                            недвижимость  \n",
       "21179  240702.007382        строительство жилой недвижимости  \n",
       "21313  152419.184851                       операции с жильем  \n",
       "\n",
       "[101 rows x 12 columns]"
      ]
     },
     "execution_count": 545,
     "metadata": {},
     "output_type": "execute_result"
    }
   ],
   "source": [
    "df.loc[df['dob_years'] == 0]"
   ]
  },
  {
   "cell_type": "code",
   "execution_count": 546,
   "metadata": {},
   "outputs": [],
   "source": [
    "df.loc[df['dob_years'] == 0, 'dob_years'] = df['dob_years'].mean().astype(int)"
   ]
  },
  {
   "cell_type": "code",
   "execution_count": 547,
   "metadata": {},
   "outputs": [
    {
     "data": {
      "text/html": [
       "<div>\n",
       "<style scoped>\n",
       "    .dataframe tbody tr th:only-of-type {\n",
       "        vertical-align: middle;\n",
       "    }\n",
       "\n",
       "    .dataframe tbody tr th {\n",
       "        vertical-align: top;\n",
       "    }\n",
       "\n",
       "    .dataframe thead th {\n",
       "        text-align: right;\n",
       "    }\n",
       "</style>\n",
       "<table border=\"1\" class=\"dataframe\">\n",
       "  <thead>\n",
       "    <tr style=\"text-align: right;\">\n",
       "      <th></th>\n",
       "      <th>children</th>\n",
       "      <th>days_employed</th>\n",
       "      <th>dob_years</th>\n",
       "      <th>education</th>\n",
       "      <th>education_id</th>\n",
       "      <th>family_status</th>\n",
       "      <th>family_status_id</th>\n",
       "      <th>gender</th>\n",
       "      <th>income_type</th>\n",
       "      <th>debt</th>\n",
       "      <th>total_income</th>\n",
       "      <th>purpose</th>\n",
       "    </tr>\n",
       "  </thead>\n",
       "  <tbody>\n",
       "  </tbody>\n",
       "</table>\n",
       "</div>"
      ],
      "text/plain": [
       "Empty DataFrame\n",
       "Columns: [children, days_employed, dob_years, education, education_id, family_status, family_status_id, gender, income_type, debt, total_income, purpose]\n",
       "Index: []"
      ]
     },
     "execution_count": 547,
     "metadata": {},
     "output_type": "execute_result"
    }
   ],
   "source": [
    "df.loc[df['dob_years'] == 0]"
   ]
  },
  {
   "cell_type": "code",
   "execution_count": 548,
   "metadata": {},
   "outputs": [],
   "source": [
    "def employed_coef(row):\n",
    "    if row['days_employed'] != 0:\n",
    "        return abs(row['days_employed']/(365*row['dob_years']))\n",
    "    return 0"
   ]
  },
  {
   "cell_type": "code",
   "execution_count": 549,
   "metadata": {},
   "outputs": [],
   "source": [
    "df['employed_coef'] = df.apply(employed_coef, axis=1)"
   ]
  },
  {
   "cell_type": "code",
   "execution_count": 550,
   "metadata": {
    "scrolled": true
   },
   "outputs": [
    {
     "data": {
      "text/html": [
       "<div>\n",
       "<style scoped>\n",
       "    .dataframe tbody tr th:only-of-type {\n",
       "        vertical-align: middle;\n",
       "    }\n",
       "\n",
       "    .dataframe tbody tr th {\n",
       "        vertical-align: top;\n",
       "    }\n",
       "\n",
       "    .dataframe thead th {\n",
       "        text-align: right;\n",
       "    }\n",
       "</style>\n",
       "<table border=\"1\" class=\"dataframe\">\n",
       "  <thead>\n",
       "    <tr style=\"text-align: right;\">\n",
       "      <th></th>\n",
       "      <th>children</th>\n",
       "      <th>days_employed</th>\n",
       "      <th>dob_years</th>\n",
       "      <th>education</th>\n",
       "      <th>education_id</th>\n",
       "      <th>family_status</th>\n",
       "      <th>family_status_id</th>\n",
       "      <th>gender</th>\n",
       "      <th>income_type</th>\n",
       "      <th>debt</th>\n",
       "      <th>total_income</th>\n",
       "      <th>purpose</th>\n",
       "      <th>employed_coef</th>\n",
       "    </tr>\n",
       "  </thead>\n",
       "  <tbody>\n",
       "    <tr>\n",
       "      <td>0</td>\n",
       "      <td>1</td>\n",
       "      <td>-8437.673028</td>\n",
       "      <td>42</td>\n",
       "      <td>высшее</td>\n",
       "      <td>0</td>\n",
       "      <td>женат / замужем</td>\n",
       "      <td>0</td>\n",
       "      <td>F</td>\n",
       "      <td>сотрудник</td>\n",
       "      <td>0</td>\n",
       "      <td>253875.639453</td>\n",
       "      <td>покупка жилья</td>\n",
       "      <td>0.550403</td>\n",
       "    </tr>\n",
       "    <tr>\n",
       "      <td>1</td>\n",
       "      <td>1</td>\n",
       "      <td>-4024.803754</td>\n",
       "      <td>36</td>\n",
       "      <td>среднее</td>\n",
       "      <td>1</td>\n",
       "      <td>женат / замужем</td>\n",
       "      <td>0</td>\n",
       "      <td>F</td>\n",
       "      <td>сотрудник</td>\n",
       "      <td>0</td>\n",
       "      <td>112080.014102</td>\n",
       "      <td>приобретение автомобиля</td>\n",
       "      <td>0.306302</td>\n",
       "    </tr>\n",
       "    <tr>\n",
       "      <td>2</td>\n",
       "      <td>0</td>\n",
       "      <td>-5623.422610</td>\n",
       "      <td>33</td>\n",
       "      <td>Среднее</td>\n",
       "      <td>1</td>\n",
       "      <td>женат / замужем</td>\n",
       "      <td>0</td>\n",
       "      <td>M</td>\n",
       "      <td>сотрудник</td>\n",
       "      <td>0</td>\n",
       "      <td>145885.952297</td>\n",
       "      <td>покупка жилья</td>\n",
       "      <td>0.466868</td>\n",
       "    </tr>\n",
       "    <tr>\n",
       "      <td>3</td>\n",
       "      <td>3</td>\n",
       "      <td>-4124.747207</td>\n",
       "      <td>32</td>\n",
       "      <td>среднее</td>\n",
       "      <td>1</td>\n",
       "      <td>женат / замужем</td>\n",
       "      <td>0</td>\n",
       "      <td>M</td>\n",
       "      <td>сотрудник</td>\n",
       "      <td>0</td>\n",
       "      <td>267628.550329</td>\n",
       "      <td>дополнительное образование</td>\n",
       "      <td>0.353146</td>\n",
       "    </tr>\n",
       "    <tr>\n",
       "      <td>4</td>\n",
       "      <td>0</td>\n",
       "      <td>340266.072047</td>\n",
       "      <td>53</td>\n",
       "      <td>среднее</td>\n",
       "      <td>1</td>\n",
       "      <td>гражданский брак</td>\n",
       "      <td>1</td>\n",
       "      <td>F</td>\n",
       "      <td>пенсионер</td>\n",
       "      <td>0</td>\n",
       "      <td>158616.077870</td>\n",
       "      <td>сыграть свадьбу</td>\n",
       "      <td>17.589355</td>\n",
       "    </tr>\n",
       "    <tr>\n",
       "      <td>5</td>\n",
       "      <td>0</td>\n",
       "      <td>-926.185831</td>\n",
       "      <td>27</td>\n",
       "      <td>высшее</td>\n",
       "      <td>0</td>\n",
       "      <td>гражданский брак</td>\n",
       "      <td>1</td>\n",
       "      <td>M</td>\n",
       "      <td>компаньон</td>\n",
       "      <td>0</td>\n",
       "      <td>255763.565419</td>\n",
       "      <td>покупка жилья</td>\n",
       "      <td>0.093981</td>\n",
       "    </tr>\n",
       "    <tr>\n",
       "      <td>6</td>\n",
       "      <td>0</td>\n",
       "      <td>-2879.202052</td>\n",
       "      <td>43</td>\n",
       "      <td>высшее</td>\n",
       "      <td>0</td>\n",
       "      <td>женат / замужем</td>\n",
       "      <td>0</td>\n",
       "      <td>F</td>\n",
       "      <td>компаньон</td>\n",
       "      <td>0</td>\n",
       "      <td>240525.971920</td>\n",
       "      <td>операции с жильем</td>\n",
       "      <td>0.183447</td>\n",
       "    </tr>\n",
       "    <tr>\n",
       "      <td>7</td>\n",
       "      <td>0</td>\n",
       "      <td>-152.779569</td>\n",
       "      <td>50</td>\n",
       "      <td>СРЕДНЕЕ</td>\n",
       "      <td>1</td>\n",
       "      <td>женат / замужем</td>\n",
       "      <td>0</td>\n",
       "      <td>M</td>\n",
       "      <td>сотрудник</td>\n",
       "      <td>0</td>\n",
       "      <td>135823.934197</td>\n",
       "      <td>образование</td>\n",
       "      <td>0.008371</td>\n",
       "    </tr>\n",
       "    <tr>\n",
       "      <td>8</td>\n",
       "      <td>2</td>\n",
       "      <td>-6929.865299</td>\n",
       "      <td>35</td>\n",
       "      <td>ВЫСШЕЕ</td>\n",
       "      <td>0</td>\n",
       "      <td>гражданский брак</td>\n",
       "      <td>1</td>\n",
       "      <td>F</td>\n",
       "      <td>сотрудник</td>\n",
       "      <td>0</td>\n",
       "      <td>95856.832424</td>\n",
       "      <td>на проведение свадьбы</td>\n",
       "      <td>0.542455</td>\n",
       "    </tr>\n",
       "    <tr>\n",
       "      <td>9</td>\n",
       "      <td>0</td>\n",
       "      <td>-2188.756445</td>\n",
       "      <td>41</td>\n",
       "      <td>среднее</td>\n",
       "      <td>1</td>\n",
       "      <td>женат / замужем</td>\n",
       "      <td>0</td>\n",
       "      <td>M</td>\n",
       "      <td>сотрудник</td>\n",
       "      <td>0</td>\n",
       "      <td>144425.938277</td>\n",
       "      <td>покупка жилья для семьи</td>\n",
       "      <td>0.146258</td>\n",
       "    </tr>\n",
       "  </tbody>\n",
       "</table>\n",
       "</div>"
      ],
      "text/plain": [
       "   children  days_employed  dob_years education  education_id  \\\n",
       "0         1   -8437.673028         42    высшее             0   \n",
       "1         1   -4024.803754         36   среднее             1   \n",
       "2         0   -5623.422610         33   Среднее             1   \n",
       "3         3   -4124.747207         32   среднее             1   \n",
       "4         0  340266.072047         53   среднее             1   \n",
       "5         0    -926.185831         27    высшее             0   \n",
       "6         0   -2879.202052         43    высшее             0   \n",
       "7         0    -152.779569         50   СРЕДНЕЕ             1   \n",
       "8         2   -6929.865299         35    ВЫСШЕЕ             0   \n",
       "9         0   -2188.756445         41   среднее             1   \n",
       "\n",
       "      family_status  family_status_id gender income_type  debt   total_income  \\\n",
       "0   женат / замужем                 0      F   сотрудник     0  253875.639453   \n",
       "1   женат / замужем                 0      F   сотрудник     0  112080.014102   \n",
       "2   женат / замужем                 0      M   сотрудник     0  145885.952297   \n",
       "3   женат / замужем                 0      M   сотрудник     0  267628.550329   \n",
       "4  гражданский брак                 1      F   пенсионер     0  158616.077870   \n",
       "5  гражданский брак                 1      M   компаньон     0  255763.565419   \n",
       "6   женат / замужем                 0      F   компаньон     0  240525.971920   \n",
       "7   женат / замужем                 0      M   сотрудник     0  135823.934197   \n",
       "8  гражданский брак                 1      F   сотрудник     0   95856.832424   \n",
       "9   женат / замужем                 0      M   сотрудник     0  144425.938277   \n",
       "\n",
       "                      purpose  employed_coef  \n",
       "0               покупка жилья       0.550403  \n",
       "1     приобретение автомобиля       0.306302  \n",
       "2               покупка жилья       0.466868  \n",
       "3  дополнительное образование       0.353146  \n",
       "4             сыграть свадьбу      17.589355  \n",
       "5               покупка жилья       0.093981  \n",
       "6           операции с жильем       0.183447  \n",
       "7                 образование       0.008371  \n",
       "8       на проведение свадьбы       0.542455  \n",
       "9     покупка жилья для семьи       0.146258  "
      ]
     },
     "execution_count": 550,
     "metadata": {},
     "output_type": "execute_result"
    }
   ],
   "source": [
    "df.head(10)"
   ]
  },
  {
   "cell_type": "code",
   "execution_count": 551,
   "metadata": {},
   "outputs": [
    {
     "data": {
      "text/plain": [
       "3445"
      ]
     },
     "execution_count": 551,
     "metadata": {},
     "output_type": "execute_result"
    }
   ],
   "source": [
    "df.loc[df['employed_coef'] > 1]['employed_coef'].count()"
   ]
  },
  {
   "cell_type": "code",
   "execution_count": 552,
   "metadata": {},
   "outputs": [
    {
     "data": {
      "text/plain": [
       "0.15780152801718478"
      ]
     },
     "execution_count": 552,
     "metadata": {},
     "output_type": "execute_result"
    }
   ],
   "source": [
    "employed_coef = df.loc[df['employed_coef'] < 1]['employed_coef'].mean()\n",
    "employed_coef"
   ]
  },
  {
   "cell_type": "code",
   "execution_count": 553,
   "metadata": {},
   "outputs": [],
   "source": [
    "df['days_employed'] = df['days_employed'].fillna(df['dob_years']*365*employed_coef)"
   ]
  },
  {
   "cell_type": "code",
   "execution_count": 554,
   "metadata": {},
   "outputs": [
    {
     "data": {
      "text/plain": [
       "145017.93753253992"
      ]
     },
     "execution_count": 554,
     "metadata": {},
     "output_type": "execute_result"
    }
   ],
   "source": [
    "average_income = df['total_income'].median()\n",
    "average_income"
   ]
  },
  {
   "cell_type": "code",
   "execution_count": 555,
   "metadata": {},
   "outputs": [],
   "source": [
    "df['total_income'] = df['total_income'].fillna(average_income)"
   ]
  },
  {
   "cell_type": "code",
   "execution_count": 556,
   "metadata": {},
   "outputs": [],
   "source": [
    "df['employed_coef'] = df['employed_coef'].fillna(df['days_employed']/(365*df['dob_years']))"
   ]
  },
  {
   "cell_type": "code",
   "execution_count": 557,
   "metadata": {},
   "outputs": [
    {
     "data": {
      "text/html": [
       "<div>\n",
       "<style scoped>\n",
       "    .dataframe tbody tr th:only-of-type {\n",
       "        vertical-align: middle;\n",
       "    }\n",
       "\n",
       "    .dataframe tbody tr th {\n",
       "        vertical-align: top;\n",
       "    }\n",
       "\n",
       "    .dataframe thead th {\n",
       "        text-align: right;\n",
       "    }\n",
       "</style>\n",
       "<table border=\"1\" class=\"dataframe\">\n",
       "  <thead>\n",
       "    <tr style=\"text-align: right;\">\n",
       "      <th></th>\n",
       "      <th>children</th>\n",
       "      <th>days_employed</th>\n",
       "      <th>dob_years</th>\n",
       "      <th>education</th>\n",
       "      <th>education_id</th>\n",
       "      <th>family_status</th>\n",
       "      <th>family_status_id</th>\n",
       "      <th>gender</th>\n",
       "      <th>income_type</th>\n",
       "      <th>debt</th>\n",
       "      <th>total_income</th>\n",
       "      <th>purpose</th>\n",
       "      <th>employed_coef</th>\n",
       "    </tr>\n",
       "  </thead>\n",
       "  <tbody>\n",
       "    <tr>\n",
       "      <td>0</td>\n",
       "      <td>1</td>\n",
       "      <td>-8437.673028</td>\n",
       "      <td>42</td>\n",
       "      <td>высшее</td>\n",
       "      <td>0</td>\n",
       "      <td>женат / замужем</td>\n",
       "      <td>0</td>\n",
       "      <td>F</td>\n",
       "      <td>сотрудник</td>\n",
       "      <td>0</td>\n",
       "      <td>253875.639453</td>\n",
       "      <td>покупка жилья</td>\n",
       "      <td>0.550403</td>\n",
       "    </tr>\n",
       "    <tr>\n",
       "      <td>1</td>\n",
       "      <td>1</td>\n",
       "      <td>-4024.803754</td>\n",
       "      <td>36</td>\n",
       "      <td>среднее</td>\n",
       "      <td>1</td>\n",
       "      <td>женат / замужем</td>\n",
       "      <td>0</td>\n",
       "      <td>F</td>\n",
       "      <td>сотрудник</td>\n",
       "      <td>0</td>\n",
       "      <td>112080.014102</td>\n",
       "      <td>приобретение автомобиля</td>\n",
       "      <td>0.306302</td>\n",
       "    </tr>\n",
       "    <tr>\n",
       "      <td>2</td>\n",
       "      <td>0</td>\n",
       "      <td>-5623.422610</td>\n",
       "      <td>33</td>\n",
       "      <td>Среднее</td>\n",
       "      <td>1</td>\n",
       "      <td>женат / замужем</td>\n",
       "      <td>0</td>\n",
       "      <td>M</td>\n",
       "      <td>сотрудник</td>\n",
       "      <td>0</td>\n",
       "      <td>145885.952297</td>\n",
       "      <td>покупка жилья</td>\n",
       "      <td>0.466868</td>\n",
       "    </tr>\n",
       "    <tr>\n",
       "      <td>3</td>\n",
       "      <td>3</td>\n",
       "      <td>-4124.747207</td>\n",
       "      <td>32</td>\n",
       "      <td>среднее</td>\n",
       "      <td>1</td>\n",
       "      <td>женат / замужем</td>\n",
       "      <td>0</td>\n",
       "      <td>M</td>\n",
       "      <td>сотрудник</td>\n",
       "      <td>0</td>\n",
       "      <td>267628.550329</td>\n",
       "      <td>дополнительное образование</td>\n",
       "      <td>0.353146</td>\n",
       "    </tr>\n",
       "    <tr>\n",
       "      <td>4</td>\n",
       "      <td>0</td>\n",
       "      <td>340266.072047</td>\n",
       "      <td>53</td>\n",
       "      <td>среднее</td>\n",
       "      <td>1</td>\n",
       "      <td>гражданский брак</td>\n",
       "      <td>1</td>\n",
       "      <td>F</td>\n",
       "      <td>пенсионер</td>\n",
       "      <td>0</td>\n",
       "      <td>158616.077870</td>\n",
       "      <td>сыграть свадьбу</td>\n",
       "      <td>17.589355</td>\n",
       "    </tr>\n",
       "    <tr>\n",
       "      <td>5</td>\n",
       "      <td>0</td>\n",
       "      <td>-926.185831</td>\n",
       "      <td>27</td>\n",
       "      <td>высшее</td>\n",
       "      <td>0</td>\n",
       "      <td>гражданский брак</td>\n",
       "      <td>1</td>\n",
       "      <td>M</td>\n",
       "      <td>компаньон</td>\n",
       "      <td>0</td>\n",
       "      <td>255763.565419</td>\n",
       "      <td>покупка жилья</td>\n",
       "      <td>0.093981</td>\n",
       "    </tr>\n",
       "    <tr>\n",
       "      <td>6</td>\n",
       "      <td>0</td>\n",
       "      <td>-2879.202052</td>\n",
       "      <td>43</td>\n",
       "      <td>высшее</td>\n",
       "      <td>0</td>\n",
       "      <td>женат / замужем</td>\n",
       "      <td>0</td>\n",
       "      <td>F</td>\n",
       "      <td>компаньон</td>\n",
       "      <td>0</td>\n",
       "      <td>240525.971920</td>\n",
       "      <td>операции с жильем</td>\n",
       "      <td>0.183447</td>\n",
       "    </tr>\n",
       "    <tr>\n",
       "      <td>7</td>\n",
       "      <td>0</td>\n",
       "      <td>-152.779569</td>\n",
       "      <td>50</td>\n",
       "      <td>СРЕДНЕЕ</td>\n",
       "      <td>1</td>\n",
       "      <td>женат / замужем</td>\n",
       "      <td>0</td>\n",
       "      <td>M</td>\n",
       "      <td>сотрудник</td>\n",
       "      <td>0</td>\n",
       "      <td>135823.934197</td>\n",
       "      <td>образование</td>\n",
       "      <td>0.008371</td>\n",
       "    </tr>\n",
       "    <tr>\n",
       "      <td>8</td>\n",
       "      <td>2</td>\n",
       "      <td>-6929.865299</td>\n",
       "      <td>35</td>\n",
       "      <td>ВЫСШЕЕ</td>\n",
       "      <td>0</td>\n",
       "      <td>гражданский брак</td>\n",
       "      <td>1</td>\n",
       "      <td>F</td>\n",
       "      <td>сотрудник</td>\n",
       "      <td>0</td>\n",
       "      <td>95856.832424</td>\n",
       "      <td>на проведение свадьбы</td>\n",
       "      <td>0.542455</td>\n",
       "    </tr>\n",
       "    <tr>\n",
       "      <td>9</td>\n",
       "      <td>0</td>\n",
       "      <td>-2188.756445</td>\n",
       "      <td>41</td>\n",
       "      <td>среднее</td>\n",
       "      <td>1</td>\n",
       "      <td>женат / замужем</td>\n",
       "      <td>0</td>\n",
       "      <td>M</td>\n",
       "      <td>сотрудник</td>\n",
       "      <td>0</td>\n",
       "      <td>144425.938277</td>\n",
       "      <td>покупка жилья для семьи</td>\n",
       "      <td>0.146258</td>\n",
       "    </tr>\n",
       "    <tr>\n",
       "      <td>10</td>\n",
       "      <td>2</td>\n",
       "      <td>-4171.483647</td>\n",
       "      <td>36</td>\n",
       "      <td>высшее</td>\n",
       "      <td>0</td>\n",
       "      <td>женат / замужем</td>\n",
       "      <td>0</td>\n",
       "      <td>M</td>\n",
       "      <td>компаньон</td>\n",
       "      <td>0</td>\n",
       "      <td>113943.491460</td>\n",
       "      <td>покупка недвижимости</td>\n",
       "      <td>0.317465</td>\n",
       "    </tr>\n",
       "    <tr>\n",
       "      <td>11</td>\n",
       "      <td>0</td>\n",
       "      <td>-792.701887</td>\n",
       "      <td>40</td>\n",
       "      <td>среднее</td>\n",
       "      <td>1</td>\n",
       "      <td>женат / замужем</td>\n",
       "      <td>0</td>\n",
       "      <td>F</td>\n",
       "      <td>сотрудник</td>\n",
       "      <td>0</td>\n",
       "      <td>77069.234271</td>\n",
       "      <td>покупка коммерческой недвижимости</td>\n",
       "      <td>0.054295</td>\n",
       "    </tr>\n",
       "    <tr>\n",
       "      <td>12</td>\n",
       "      <td>0</td>\n",
       "      <td>3743.841252</td>\n",
       "      <td>65</td>\n",
       "      <td>среднее</td>\n",
       "      <td>1</td>\n",
       "      <td>гражданский брак</td>\n",
       "      <td>1</td>\n",
       "      <td>M</td>\n",
       "      <td>пенсионер</td>\n",
       "      <td>0</td>\n",
       "      <td>145017.937533</td>\n",
       "      <td>сыграть свадьбу</td>\n",
       "      <td>0.157802</td>\n",
       "    </tr>\n",
       "    <tr>\n",
       "      <td>13</td>\n",
       "      <td>0</td>\n",
       "      <td>-1846.641941</td>\n",
       "      <td>54</td>\n",
       "      <td>неоконченное высшее</td>\n",
       "      <td>2</td>\n",
       "      <td>женат / замужем</td>\n",
       "      <td>0</td>\n",
       "      <td>F</td>\n",
       "      <td>сотрудник</td>\n",
       "      <td>0</td>\n",
       "      <td>130458.228857</td>\n",
       "      <td>приобретение автомобиля</td>\n",
       "      <td>0.093691</td>\n",
       "    </tr>\n",
       "    <tr>\n",
       "      <td>14</td>\n",
       "      <td>0</td>\n",
       "      <td>-1844.956182</td>\n",
       "      <td>56</td>\n",
       "      <td>высшее</td>\n",
       "      <td>0</td>\n",
       "      <td>гражданский брак</td>\n",
       "      <td>1</td>\n",
       "      <td>F</td>\n",
       "      <td>компаньон</td>\n",
       "      <td>1</td>\n",
       "      <td>165127.911772</td>\n",
       "      <td>покупка жилой недвижимости</td>\n",
       "      <td>0.090262</td>\n",
       "    </tr>\n",
       "    <tr>\n",
       "      <td>15</td>\n",
       "      <td>1</td>\n",
       "      <td>-972.364419</td>\n",
       "      <td>26</td>\n",
       "      <td>среднее</td>\n",
       "      <td>1</td>\n",
       "      <td>женат / замужем</td>\n",
       "      <td>0</td>\n",
       "      <td>F</td>\n",
       "      <td>сотрудник</td>\n",
       "      <td>0</td>\n",
       "      <td>116820.904450</td>\n",
       "      <td>строительство собственной недвижимости</td>\n",
       "      <td>0.102462</td>\n",
       "    </tr>\n",
       "    <tr>\n",
       "      <td>16</td>\n",
       "      <td>0</td>\n",
       "      <td>-1719.934226</td>\n",
       "      <td>35</td>\n",
       "      <td>среднее</td>\n",
       "      <td>1</td>\n",
       "      <td>женат / замужем</td>\n",
       "      <td>0</td>\n",
       "      <td>F</td>\n",
       "      <td>сотрудник</td>\n",
       "      <td>0</td>\n",
       "      <td>289202.704229</td>\n",
       "      <td>недвижимость</td>\n",
       "      <td>0.134633</td>\n",
       "    </tr>\n",
       "    <tr>\n",
       "      <td>17</td>\n",
       "      <td>0</td>\n",
       "      <td>-2369.999720</td>\n",
       "      <td>33</td>\n",
       "      <td>высшее</td>\n",
       "      <td>0</td>\n",
       "      <td>гражданский брак</td>\n",
       "      <td>1</td>\n",
       "      <td>M</td>\n",
       "      <td>сотрудник</td>\n",
       "      <td>0</td>\n",
       "      <td>90410.586745</td>\n",
       "      <td>строительство недвижимости</td>\n",
       "      <td>0.196762</td>\n",
       "    </tr>\n",
       "    <tr>\n",
       "      <td>18</td>\n",
       "      <td>0</td>\n",
       "      <td>400281.136913</td>\n",
       "      <td>53</td>\n",
       "      <td>среднее</td>\n",
       "      <td>1</td>\n",
       "      <td>вдовец / вдова</td>\n",
       "      <td>2</td>\n",
       "      <td>F</td>\n",
       "      <td>пенсионер</td>\n",
       "      <td>0</td>\n",
       "      <td>56823.777243</td>\n",
       "      <td>на покупку подержанного автомобиля</td>\n",
       "      <td>20.691710</td>\n",
       "    </tr>\n",
       "    <tr>\n",
       "      <td>19</td>\n",
       "      <td>0</td>\n",
       "      <td>-10038.818549</td>\n",
       "      <td>48</td>\n",
       "      <td>СРЕДНЕЕ</td>\n",
       "      <td>1</td>\n",
       "      <td>в разводе</td>\n",
       "      <td>3</td>\n",
       "      <td>F</td>\n",
       "      <td>сотрудник</td>\n",
       "      <td>0</td>\n",
       "      <td>242831.107982</td>\n",
       "      <td>на покупку своего автомобиля</td>\n",
       "      <td>0.572992</td>\n",
       "    </tr>\n",
       "  </tbody>\n",
       "</table>\n",
       "</div>"
      ],
      "text/plain": [
       "    children  days_employed  dob_years            education  education_id  \\\n",
       "0          1   -8437.673028         42               высшее             0   \n",
       "1          1   -4024.803754         36              среднее             1   \n",
       "2          0   -5623.422610         33              Среднее             1   \n",
       "3          3   -4124.747207         32              среднее             1   \n",
       "4          0  340266.072047         53              среднее             1   \n",
       "5          0    -926.185831         27               высшее             0   \n",
       "6          0   -2879.202052         43               высшее             0   \n",
       "7          0    -152.779569         50              СРЕДНЕЕ             1   \n",
       "8          2   -6929.865299         35               ВЫСШЕЕ             0   \n",
       "9          0   -2188.756445         41              среднее             1   \n",
       "10         2   -4171.483647         36               высшее             0   \n",
       "11         0    -792.701887         40              среднее             1   \n",
       "12         0    3743.841252         65              среднее             1   \n",
       "13         0   -1846.641941         54  неоконченное высшее             2   \n",
       "14         0   -1844.956182         56               высшее             0   \n",
       "15         1    -972.364419         26              среднее             1   \n",
       "16         0   -1719.934226         35              среднее             1   \n",
       "17         0   -2369.999720         33               высшее             0   \n",
       "18         0  400281.136913         53              среднее             1   \n",
       "19         0  -10038.818549         48              СРЕДНЕЕ             1   \n",
       "\n",
       "       family_status  family_status_id gender income_type  debt  \\\n",
       "0    женат / замужем                 0      F   сотрудник     0   \n",
       "1    женат / замужем                 0      F   сотрудник     0   \n",
       "2    женат / замужем                 0      M   сотрудник     0   \n",
       "3    женат / замужем                 0      M   сотрудник     0   \n",
       "4   гражданский брак                 1      F   пенсионер     0   \n",
       "5   гражданский брак                 1      M   компаньон     0   \n",
       "6    женат / замужем                 0      F   компаньон     0   \n",
       "7    женат / замужем                 0      M   сотрудник     0   \n",
       "8   гражданский брак                 1      F   сотрудник     0   \n",
       "9    женат / замужем                 0      M   сотрудник     0   \n",
       "10   женат / замужем                 0      M   компаньон     0   \n",
       "11   женат / замужем                 0      F   сотрудник     0   \n",
       "12  гражданский брак                 1      M   пенсионер     0   \n",
       "13   женат / замужем                 0      F   сотрудник     0   \n",
       "14  гражданский брак                 1      F   компаньон     1   \n",
       "15   женат / замужем                 0      F   сотрудник     0   \n",
       "16   женат / замужем                 0      F   сотрудник     0   \n",
       "17  гражданский брак                 1      M   сотрудник     0   \n",
       "18    вдовец / вдова                 2      F   пенсионер     0   \n",
       "19         в разводе                 3      F   сотрудник     0   \n",
       "\n",
       "     total_income                                 purpose  employed_coef  \n",
       "0   253875.639453                           покупка жилья       0.550403  \n",
       "1   112080.014102                 приобретение автомобиля       0.306302  \n",
       "2   145885.952297                           покупка жилья       0.466868  \n",
       "3   267628.550329              дополнительное образование       0.353146  \n",
       "4   158616.077870                         сыграть свадьбу      17.589355  \n",
       "5   255763.565419                           покупка жилья       0.093981  \n",
       "6   240525.971920                       операции с жильем       0.183447  \n",
       "7   135823.934197                             образование       0.008371  \n",
       "8    95856.832424                   на проведение свадьбы       0.542455  \n",
       "9   144425.938277                 покупка жилья для семьи       0.146258  \n",
       "10  113943.491460                    покупка недвижимости       0.317465  \n",
       "11   77069.234271       покупка коммерческой недвижимости       0.054295  \n",
       "12  145017.937533                         сыграть свадьбу       0.157802  \n",
       "13  130458.228857                 приобретение автомобиля       0.093691  \n",
       "14  165127.911772              покупка жилой недвижимости       0.090262  \n",
       "15  116820.904450  строительство собственной недвижимости       0.102462  \n",
       "16  289202.704229                            недвижимость       0.134633  \n",
       "17   90410.586745              строительство недвижимости       0.196762  \n",
       "18   56823.777243      на покупку подержанного автомобиля      20.691710  \n",
       "19  242831.107982            на покупку своего автомобиля       0.572992  "
      ]
     },
     "execution_count": 557,
     "metadata": {},
     "output_type": "execute_result"
    }
   ],
   "source": [
    "df.head(20)"
   ]
  },
  {
   "cell_type": "code",
   "execution_count": 558,
   "metadata": {
    "scrolled": true
   },
   "outputs": [
    {
     "name": "stdout",
     "output_type": "stream",
     "text": [
      "<class 'pandas.core.frame.DataFrame'>\n",
      "RangeIndex: 21525 entries, 0 to 21524\n",
      "Data columns (total 13 columns):\n",
      "children            21525 non-null int64\n",
      "days_employed       21525 non-null float64\n",
      "dob_years           21525 non-null int64\n",
      "education           21525 non-null object\n",
      "education_id        21525 non-null int64\n",
      "family_status       21525 non-null object\n",
      "family_status_id    21525 non-null int64\n",
      "gender              21525 non-null object\n",
      "income_type         21525 non-null object\n",
      "debt                21525 non-null int64\n",
      "total_income        21525 non-null float64\n",
      "purpose             21525 non-null object\n",
      "employed_coef       21525 non-null float64\n",
      "dtypes: float64(3), int64(5), object(5)\n",
      "memory usage: 2.1+ MB\n"
     ]
    }
   ],
   "source": [
    "df.info()"
   ]
  },
  {
   "cell_type": "code",
   "execution_count": 559,
   "metadata": {},
   "outputs": [
    {
     "data": {
      "text/html": [
       "<div>\n",
       "<style scoped>\n",
       "    .dataframe tbody tr th:only-of-type {\n",
       "        vertical-align: middle;\n",
       "    }\n",
       "\n",
       "    .dataframe tbody tr th {\n",
       "        vertical-align: top;\n",
       "    }\n",
       "\n",
       "    .dataframe thead th {\n",
       "        text-align: right;\n",
       "    }\n",
       "</style>\n",
       "<table border=\"1\" class=\"dataframe\">\n",
       "  <thead>\n",
       "    <tr style=\"text-align: right;\">\n",
       "      <th></th>\n",
       "      <th>count</th>\n",
       "      <th>mean</th>\n",
       "      <th>std</th>\n",
       "      <th>min</th>\n",
       "      <th>25%</th>\n",
       "      <th>50%</th>\n",
       "      <th>75%</th>\n",
       "      <th>max</th>\n",
       "    </tr>\n",
       "  </thead>\n",
       "  <tbody>\n",
       "    <tr>\n",
       "      <td>children</td>\n",
       "      <td>21525.0</td>\n",
       "      <td>0.538908</td>\n",
       "      <td>1.381587</td>\n",
       "      <td>-1.000000</td>\n",
       "      <td>0.000000</td>\n",
       "      <td>0.000000</td>\n",
       "      <td>1.000000</td>\n",
       "      <td>2.000000e+01</td>\n",
       "    </tr>\n",
       "    <tr>\n",
       "      <td>days_employed</td>\n",
       "      <td>21525.0</td>\n",
       "      <td>56933.845163</td>\n",
       "      <td>134765.896436</td>\n",
       "      <td>-18388.949901</td>\n",
       "      <td>-2518.168900</td>\n",
       "      <td>-982.531720</td>\n",
       "      <td>1612.731616</td>\n",
       "      <td>4.017554e+05</td>\n",
       "    </tr>\n",
       "    <tr>\n",
       "      <td>dob_years</td>\n",
       "      <td>21525.0</td>\n",
       "      <td>43.495145</td>\n",
       "      <td>12.218213</td>\n",
       "      <td>19.000000</td>\n",
       "      <td>34.000000</td>\n",
       "      <td>43.000000</td>\n",
       "      <td>53.000000</td>\n",
       "      <td>7.500000e+01</td>\n",
       "    </tr>\n",
       "    <tr>\n",
       "      <td>education_id</td>\n",
       "      <td>21525.0</td>\n",
       "      <td>0.817236</td>\n",
       "      <td>0.548138</td>\n",
       "      <td>0.000000</td>\n",
       "      <td>1.000000</td>\n",
       "      <td>1.000000</td>\n",
       "      <td>1.000000</td>\n",
       "      <td>4.000000e+00</td>\n",
       "    </tr>\n",
       "    <tr>\n",
       "      <td>family_status_id</td>\n",
       "      <td>21525.0</td>\n",
       "      <td>0.972544</td>\n",
       "      <td>1.420324</td>\n",
       "      <td>0.000000</td>\n",
       "      <td>0.000000</td>\n",
       "      <td>0.000000</td>\n",
       "      <td>1.000000</td>\n",
       "      <td>4.000000e+00</td>\n",
       "    </tr>\n",
       "    <tr>\n",
       "      <td>debt</td>\n",
       "      <td>21525.0</td>\n",
       "      <td>0.080883</td>\n",
       "      <td>0.272661</td>\n",
       "      <td>0.000000</td>\n",
       "      <td>0.000000</td>\n",
       "      <td>0.000000</td>\n",
       "      <td>0.000000</td>\n",
       "      <td>1.000000e+00</td>\n",
       "    </tr>\n",
       "    <tr>\n",
       "      <td>total_income</td>\n",
       "      <td>21525.0</td>\n",
       "      <td>165159.487397</td>\n",
       "      <td>97866.068069</td>\n",
       "      <td>20667.263793</td>\n",
       "      <td>107798.172619</td>\n",
       "      <td>145017.937533</td>\n",
       "      <td>195543.620942</td>\n",
       "      <td>2.265604e+06</td>\n",
       "    </tr>\n",
       "    <tr>\n",
       "      <td>employed_coef</td>\n",
       "      <td>21525.0</td>\n",
       "      <td>2.867256</td>\n",
       "      <td>6.285852</td>\n",
       "      <td>0.001760</td>\n",
       "      <td>0.076351</td>\n",
       "      <td>0.157802</td>\n",
       "      <td>0.319510</td>\n",
       "      <td>4.168920e+01</td>\n",
       "    </tr>\n",
       "  </tbody>\n",
       "</table>\n",
       "</div>"
      ],
      "text/plain": [
       "                    count           mean            std           min  \\\n",
       "children          21525.0       0.538908       1.381587     -1.000000   \n",
       "days_employed     21525.0   56933.845163  134765.896436 -18388.949901   \n",
       "dob_years         21525.0      43.495145      12.218213     19.000000   \n",
       "education_id      21525.0       0.817236       0.548138      0.000000   \n",
       "family_status_id  21525.0       0.972544       1.420324      0.000000   \n",
       "debt              21525.0       0.080883       0.272661      0.000000   \n",
       "total_income      21525.0  165159.487397   97866.068069  20667.263793   \n",
       "employed_coef     21525.0       2.867256       6.285852      0.001760   \n",
       "\n",
       "                            25%            50%            75%           max  \n",
       "children               0.000000       0.000000       1.000000  2.000000e+01  \n",
       "days_employed      -2518.168900    -982.531720    1612.731616  4.017554e+05  \n",
       "dob_years             34.000000      43.000000      53.000000  7.500000e+01  \n",
       "education_id           1.000000       1.000000       1.000000  4.000000e+00  \n",
       "family_status_id       0.000000       0.000000       1.000000  4.000000e+00  \n",
       "debt                   0.000000       0.000000       0.000000  1.000000e+00  \n",
       "total_income      107798.172619  145017.937533  195543.620942  2.265604e+06  \n",
       "employed_coef          0.076351       0.157802       0.319510  4.168920e+01  "
      ]
     },
     "execution_count": 559,
     "metadata": {},
     "output_type": "execute_result"
    }
   ],
   "source": [
    "df.describe().T"
   ]
  },
  {
   "cell_type": "markdown",
   "metadata": {},
   "source": [
    "**Вывод**"
   ]
  },
  {
   "cell_type": "markdown",
   "metadata": {},
   "source": [
    "Все пропуски в исходной таблице были связанны с количественными данными: доход и трудовой стаж клиентов. Такие пропуски могут появиться в случае отсутсвия у клиента официального места работы. Был сделан вывод, что у всех клиентов не имеющих трудового стажа, заменить пропуски на нулевые значения. Сделано это и потому что в этом столбце явные проблемы с данными (много отрицательных значений, есть случаи в которых стаж превышает возраст клиента) и применять средние значения не корректно. Пропуски в месечной доходности заменены на средние доходности по таблице."
   ]
  },
  {
   "cell_type": "markdown",
   "metadata": {},
   "source": [
    "### Обработка дубликатов"
   ]
  },
  {
   "cell_type": "markdown",
   "metadata": {},
   "source": [
    "2.2.0 Замена вещественного типа данных на целочисленный"
   ]
  },
  {
   "cell_type": "code",
   "execution_count": 560,
   "metadata": {},
   "outputs": [],
   "source": [
    "df = df.astype({'days_employed': 'int32', 'total_income': 'int32', 'children': 'int8', 'dob_years': 'int8',\n",
    "           'education_id': 'int8', 'family_status_id': 'int8', 'employed_coef': 'float16', 'debt': 'int8'})"
   ]
  },
  {
   "cell_type": "code",
   "execution_count": 561,
   "metadata": {},
   "outputs": [
    {
     "name": "stdout",
     "output_type": "stream",
     "text": [
      "<class 'pandas.core.frame.DataFrame'>\n",
      "RangeIndex: 21525 entries, 0 to 21524\n",
      "Data columns (total 13 columns):\n",
      "children            21525 non-null int8\n",
      "days_employed       21525 non-null int32\n",
      "dob_years           21525 non-null int8\n",
      "education           21525 non-null object\n",
      "education_id        21525 non-null int8\n",
      "family_status       21525 non-null object\n",
      "family_status_id    21525 non-null int8\n",
      "gender              21525 non-null object\n",
      "income_type         21525 non-null object\n",
      "debt                21525 non-null int8\n",
      "total_income        21525 non-null int32\n",
      "purpose             21525 non-null object\n",
      "employed_coef       21525 non-null float16\n",
      "dtypes: float16(1), int32(2), int8(5), object(5)\n",
      "memory usage: 1.1+ MB\n"
     ]
    }
   ],
   "source": [
    "df.info()"
   ]
  },
  {
   "cell_type": "markdown",
   "metadata": {},
   "source": [
    "Исправление отрицательных значений в days_employed (общий трудовой стаж в днях) путем взятия его по модулю"
   ]
  },
  {
   "cell_type": "code",
   "execution_count": 562,
   "metadata": {},
   "outputs": [
    {
     "data": {
      "text/html": [
       "<div>\n",
       "<style scoped>\n",
       "    .dataframe tbody tr th:only-of-type {\n",
       "        vertical-align: middle;\n",
       "    }\n",
       "\n",
       "    .dataframe tbody tr th {\n",
       "        vertical-align: top;\n",
       "    }\n",
       "\n",
       "    .dataframe thead th {\n",
       "        text-align: right;\n",
       "    }\n",
       "</style>\n",
       "<table border=\"1\" class=\"dataframe\">\n",
       "  <thead>\n",
       "    <tr style=\"text-align: right;\">\n",
       "      <th></th>\n",
       "      <th>children</th>\n",
       "      <th>days_employed</th>\n",
       "      <th>dob_years</th>\n",
       "      <th>education</th>\n",
       "      <th>education_id</th>\n",
       "      <th>family_status</th>\n",
       "      <th>family_status_id</th>\n",
       "      <th>gender</th>\n",
       "      <th>income_type</th>\n",
       "      <th>debt</th>\n",
       "      <th>total_income</th>\n",
       "      <th>purpose</th>\n",
       "      <th>employed_coef</th>\n",
       "    </tr>\n",
       "  </thead>\n",
       "  <tbody>\n",
       "    <tr>\n",
       "      <td>632</td>\n",
       "      <td>0</td>\n",
       "      <td>-3733</td>\n",
       "      <td>39</td>\n",
       "      <td>среднее</td>\n",
       "      <td>1</td>\n",
       "      <td>женат / замужем</td>\n",
       "      <td>0</td>\n",
       "      <td>M</td>\n",
       "      <td>компаньон</td>\n",
       "      <td>0</td>\n",
       "      <td>188899</td>\n",
       "      <td>покупка жилья для сдачи</td>\n",
       "      <td>0.262207</td>\n",
       "    </tr>\n",
       "    <tr>\n",
       "      <td>19310</td>\n",
       "      <td>3</td>\n",
       "      <td>-1029</td>\n",
       "      <td>32</td>\n",
       "      <td>высшее</td>\n",
       "      <td>0</td>\n",
       "      <td>гражданский брак</td>\n",
       "      <td>1</td>\n",
       "      <td>F</td>\n",
       "      <td>компаньон</td>\n",
       "      <td>0</td>\n",
       "      <td>155791</td>\n",
       "      <td>на проведение свадьбы</td>\n",
       "      <td>0.088135</td>\n",
       "    </tr>\n",
       "    <tr>\n",
       "      <td>20260</td>\n",
       "      <td>0</td>\n",
       "      <td>-221</td>\n",
       "      <td>44</td>\n",
       "      <td>среднее</td>\n",
       "      <td>1</td>\n",
       "      <td>женат / замужем</td>\n",
       "      <td>0</td>\n",
       "      <td>F</td>\n",
       "      <td>госслужащий</td>\n",
       "      <td>0</td>\n",
       "      <td>187570</td>\n",
       "      <td>строительство недвижимости</td>\n",
       "      <td>0.013794</td>\n",
       "    </tr>\n",
       "    <tr>\n",
       "      <td>19205</td>\n",
       "      <td>2</td>\n",
       "      <td>-3517</td>\n",
       "      <td>32</td>\n",
       "      <td>СРЕДНЕЕ</td>\n",
       "      <td>1</td>\n",
       "      <td>женат / замужем</td>\n",
       "      <td>0</td>\n",
       "      <td>F</td>\n",
       "      <td>сотрудник</td>\n",
       "      <td>0</td>\n",
       "      <td>82428</td>\n",
       "      <td>покупка жилья</td>\n",
       "      <td>0.301025</td>\n",
       "    </tr>\n",
       "    <tr>\n",
       "      <td>12953</td>\n",
       "      <td>1</td>\n",
       "      <td>346331</td>\n",
       "      <td>59</td>\n",
       "      <td>среднее</td>\n",
       "      <td>1</td>\n",
       "      <td>женат / замужем</td>\n",
       "      <td>0</td>\n",
       "      <td>F</td>\n",
       "      <td>пенсионер</td>\n",
       "      <td>0</td>\n",
       "      <td>153731</td>\n",
       "      <td>строительство жилой недвижимости</td>\n",
       "      <td>16.078125</td>\n",
       "    </tr>\n",
       "    <tr>\n",
       "      <td>9558</td>\n",
       "      <td>2</td>\n",
       "      <td>2188</td>\n",
       "      <td>38</td>\n",
       "      <td>среднее</td>\n",
       "      <td>1</td>\n",
       "      <td>женат / замужем</td>\n",
       "      <td>0</td>\n",
       "      <td>M</td>\n",
       "      <td>компаньон</td>\n",
       "      <td>0</td>\n",
       "      <td>145017</td>\n",
       "      <td>строительство собственной недвижимости</td>\n",
       "      <td>0.157837</td>\n",
       "    </tr>\n",
       "    <tr>\n",
       "      <td>13701</td>\n",
       "      <td>0</td>\n",
       "      <td>-429</td>\n",
       "      <td>51</td>\n",
       "      <td>высшее</td>\n",
       "      <td>0</td>\n",
       "      <td>женат / замужем</td>\n",
       "      <td>0</td>\n",
       "      <td>F</td>\n",
       "      <td>компаньон</td>\n",
       "      <td>0</td>\n",
       "      <td>195993</td>\n",
       "      <td>операции со своей недвижимостью</td>\n",
       "      <td>0.023071</td>\n",
       "    </tr>\n",
       "    <tr>\n",
       "      <td>262</td>\n",
       "      <td>0</td>\n",
       "      <td>-1617</td>\n",
       "      <td>44</td>\n",
       "      <td>среднее</td>\n",
       "      <td>1</td>\n",
       "      <td>женат / замужем</td>\n",
       "      <td>0</td>\n",
       "      <td>F</td>\n",
       "      <td>сотрудник</td>\n",
       "      <td>0</td>\n",
       "      <td>168586</td>\n",
       "      <td>покупка недвижимости</td>\n",
       "      <td>0.100708</td>\n",
       "    </tr>\n",
       "    <tr>\n",
       "      <td>12266</td>\n",
       "      <td>1</td>\n",
       "      <td>1497</td>\n",
       "      <td>26</td>\n",
       "      <td>среднее</td>\n",
       "      <td>1</td>\n",
       "      <td>женат / замужем</td>\n",
       "      <td>0</td>\n",
       "      <td>M</td>\n",
       "      <td>сотрудник</td>\n",
       "      <td>0</td>\n",
       "      <td>145017</td>\n",
       "      <td>покупка жилья для семьи</td>\n",
       "      <td>0.157837</td>\n",
       "    </tr>\n",
       "    <tr>\n",
       "      <td>16311</td>\n",
       "      <td>0</td>\n",
       "      <td>-1456</td>\n",
       "      <td>26</td>\n",
       "      <td>неоконченное высшее</td>\n",
       "      <td>2</td>\n",
       "      <td>Не женат / не замужем</td>\n",
       "      <td>4</td>\n",
       "      <td>M</td>\n",
       "      <td>компаньон</td>\n",
       "      <td>0</td>\n",
       "      <td>185945</td>\n",
       "      <td>покупка коммерческой недвижимости</td>\n",
       "      <td>0.153442</td>\n",
       "    </tr>\n",
       "    <tr>\n",
       "      <td>4646</td>\n",
       "      <td>0</td>\n",
       "      <td>348402</td>\n",
       "      <td>62</td>\n",
       "      <td>среднее</td>\n",
       "      <td>1</td>\n",
       "      <td>Не женат / не замужем</td>\n",
       "      <td>4</td>\n",
       "      <td>F</td>\n",
       "      <td>пенсионер</td>\n",
       "      <td>1</td>\n",
       "      <td>65162</td>\n",
       "      <td>профильное образование</td>\n",
       "      <td>15.398438</td>\n",
       "    </tr>\n",
       "    <tr>\n",
       "      <td>1048</td>\n",
       "      <td>2</td>\n",
       "      <td>-847</td>\n",
       "      <td>40</td>\n",
       "      <td>высшее</td>\n",
       "      <td>0</td>\n",
       "      <td>вдовец / вдова</td>\n",
       "      <td>2</td>\n",
       "      <td>F</td>\n",
       "      <td>компаньон</td>\n",
       "      <td>0</td>\n",
       "      <td>144010</td>\n",
       "      <td>покупка жилой недвижимости</td>\n",
       "      <td>0.058014</td>\n",
       "    </tr>\n",
       "    <tr>\n",
       "      <td>16851</td>\n",
       "      <td>3</td>\n",
       "      <td>-2873</td>\n",
       "      <td>35</td>\n",
       "      <td>среднее</td>\n",
       "      <td>1</td>\n",
       "      <td>женат / замужем</td>\n",
       "      <td>0</td>\n",
       "      <td>F</td>\n",
       "      <td>компаньон</td>\n",
       "      <td>0</td>\n",
       "      <td>208764</td>\n",
       "      <td>операции со своей недвижимостью</td>\n",
       "      <td>0.224854</td>\n",
       "    </tr>\n",
       "    <tr>\n",
       "      <td>16437</td>\n",
       "      <td>0</td>\n",
       "      <td>2246</td>\n",
       "      <td>39</td>\n",
       "      <td>среднее</td>\n",
       "      <td>1</td>\n",
       "      <td>Не женат / не замужем</td>\n",
       "      <td>4</td>\n",
       "      <td>F</td>\n",
       "      <td>компаньон</td>\n",
       "      <td>0</td>\n",
       "      <td>145017</td>\n",
       "      <td>операции со своей недвижимостью</td>\n",
       "      <td>0.157837</td>\n",
       "    </tr>\n",
       "    <tr>\n",
       "      <td>3004</td>\n",
       "      <td>0</td>\n",
       "      <td>392631</td>\n",
       "      <td>65</td>\n",
       "      <td>высшее</td>\n",
       "      <td>0</td>\n",
       "      <td>женат / замужем</td>\n",
       "      <td>0</td>\n",
       "      <td>F</td>\n",
       "      <td>пенсионер</td>\n",
       "      <td>0</td>\n",
       "      <td>62362</td>\n",
       "      <td>высшее образование</td>\n",
       "      <td>16.546875</td>\n",
       "    </tr>\n",
       "    <tr>\n",
       "      <td>5810</td>\n",
       "      <td>2</td>\n",
       "      <td>2246</td>\n",
       "      <td>39</td>\n",
       "      <td>среднее</td>\n",
       "      <td>1</td>\n",
       "      <td>женат / замужем</td>\n",
       "      <td>0</td>\n",
       "      <td>M</td>\n",
       "      <td>сотрудник</td>\n",
       "      <td>0</td>\n",
       "      <td>145017</td>\n",
       "      <td>покупка жилья для семьи</td>\n",
       "      <td>0.157837</td>\n",
       "    </tr>\n",
       "    <tr>\n",
       "      <td>5753</td>\n",
       "      <td>2</td>\n",
       "      <td>-1210</td>\n",
       "      <td>30</td>\n",
       "      <td>среднее</td>\n",
       "      <td>1</td>\n",
       "      <td>гражданский брак</td>\n",
       "      <td>1</td>\n",
       "      <td>F</td>\n",
       "      <td>компаньон</td>\n",
       "      <td>0</td>\n",
       "      <td>90366</td>\n",
       "      <td>свадьба</td>\n",
       "      <td>0.110535</td>\n",
       "    </tr>\n",
       "    <tr>\n",
       "      <td>20379</td>\n",
       "      <td>0</td>\n",
       "      <td>356817</td>\n",
       "      <td>67</td>\n",
       "      <td>среднее</td>\n",
       "      <td>1</td>\n",
       "      <td>Не женат / не замужем</td>\n",
       "      <td>4</td>\n",
       "      <td>F</td>\n",
       "      <td>пенсионер</td>\n",
       "      <td>0</td>\n",
       "      <td>43153</td>\n",
       "      <td>покупка жилья для сдачи</td>\n",
       "      <td>14.593750</td>\n",
       "    </tr>\n",
       "    <tr>\n",
       "      <td>10453</td>\n",
       "      <td>0</td>\n",
       "      <td>-1997</td>\n",
       "      <td>33</td>\n",
       "      <td>высшее</td>\n",
       "      <td>0</td>\n",
       "      <td>Не женат / не замужем</td>\n",
       "      <td>4</td>\n",
       "      <td>M</td>\n",
       "      <td>сотрудник</td>\n",
       "      <td>0</td>\n",
       "      <td>196652</td>\n",
       "      <td>ремонт жилью</td>\n",
       "      <td>0.165771</td>\n",
       "    </tr>\n",
       "    <tr>\n",
       "      <td>13842</td>\n",
       "      <td>1</td>\n",
       "      <td>-2481</td>\n",
       "      <td>28</td>\n",
       "      <td>среднее</td>\n",
       "      <td>1</td>\n",
       "      <td>Не женат / не замужем</td>\n",
       "      <td>4</td>\n",
       "      <td>M</td>\n",
       "      <td>компаньон</td>\n",
       "      <td>0</td>\n",
       "      <td>199250</td>\n",
       "      <td>покупка жилья для сдачи</td>\n",
       "      <td>0.242798</td>\n",
       "    </tr>\n",
       "    <tr>\n",
       "      <td>13935</td>\n",
       "      <td>0</td>\n",
       "      <td>-1442</td>\n",
       "      <td>53</td>\n",
       "      <td>среднее</td>\n",
       "      <td>1</td>\n",
       "      <td>Не женат / не замужем</td>\n",
       "      <td>4</td>\n",
       "      <td>F</td>\n",
       "      <td>сотрудник</td>\n",
       "      <td>0</td>\n",
       "      <td>109378</td>\n",
       "      <td>сделка с подержанным автомобилем</td>\n",
       "      <td>0.074585</td>\n",
       "    </tr>\n",
       "    <tr>\n",
       "      <td>2681</td>\n",
       "      <td>0</td>\n",
       "      <td>389359</td>\n",
       "      <td>66</td>\n",
       "      <td>среднее</td>\n",
       "      <td>1</td>\n",
       "      <td>вдовец / вдова</td>\n",
       "      <td>2</td>\n",
       "      <td>F</td>\n",
       "      <td>пенсионер</td>\n",
       "      <td>0</td>\n",
       "      <td>69823</td>\n",
       "      <td>покупка жилья</td>\n",
       "      <td>16.156250</td>\n",
       "    </tr>\n",
       "    <tr>\n",
       "      <td>869</td>\n",
       "      <td>0</td>\n",
       "      <td>-6031</td>\n",
       "      <td>41</td>\n",
       "      <td>среднее</td>\n",
       "      <td>1</td>\n",
       "      <td>женат / замужем</td>\n",
       "      <td>0</td>\n",
       "      <td>M</td>\n",
       "      <td>сотрудник</td>\n",
       "      <td>0</td>\n",
       "      <td>254680</td>\n",
       "      <td>высшее образование</td>\n",
       "      <td>0.403076</td>\n",
       "    </tr>\n",
       "    <tr>\n",
       "      <td>20788</td>\n",
       "      <td>0</td>\n",
       "      <td>-5170</td>\n",
       "      <td>40</td>\n",
       "      <td>высшее</td>\n",
       "      <td>0</td>\n",
       "      <td>в разводе</td>\n",
       "      <td>3</td>\n",
       "      <td>M</td>\n",
       "      <td>сотрудник</td>\n",
       "      <td>0</td>\n",
       "      <td>286665</td>\n",
       "      <td>операции с жильем</td>\n",
       "      <td>0.354248</td>\n",
       "    </tr>\n",
       "    <tr>\n",
       "      <td>9151</td>\n",
       "      <td>0</td>\n",
       "      <td>-1551</td>\n",
       "      <td>43</td>\n",
       "      <td>высшее</td>\n",
       "      <td>0</td>\n",
       "      <td>Не женат / не замужем</td>\n",
       "      <td>4</td>\n",
       "      <td>F</td>\n",
       "      <td>сотрудник</td>\n",
       "      <td>0</td>\n",
       "      <td>209621</td>\n",
       "      <td>получение высшего образования</td>\n",
       "      <td>0.098816</td>\n",
       "    </tr>\n",
       "    <tr>\n",
       "      <td>20456</td>\n",
       "      <td>0</td>\n",
       "      <td>3110</td>\n",
       "      <td>54</td>\n",
       "      <td>среднее</td>\n",
       "      <td>1</td>\n",
       "      <td>гражданский брак</td>\n",
       "      <td>1</td>\n",
       "      <td>F</td>\n",
       "      <td>сотрудник</td>\n",
       "      <td>1</td>\n",
       "      <td>145017</td>\n",
       "      <td>автомобиль</td>\n",
       "      <td>0.157837</td>\n",
       "    </tr>\n",
       "    <tr>\n",
       "      <td>17488</td>\n",
       "      <td>1</td>\n",
       "      <td>-3317</td>\n",
       "      <td>41</td>\n",
       "      <td>среднее</td>\n",
       "      <td>1</td>\n",
       "      <td>в разводе</td>\n",
       "      <td>3</td>\n",
       "      <td>F</td>\n",
       "      <td>сотрудник</td>\n",
       "      <td>0</td>\n",
       "      <td>375778</td>\n",
       "      <td>получение высшего образования</td>\n",
       "      <td>0.221680</td>\n",
       "    </tr>\n",
       "    <tr>\n",
       "      <td>12290</td>\n",
       "      <td>0</td>\n",
       "      <td>-3383</td>\n",
       "      <td>38</td>\n",
       "      <td>среднее</td>\n",
       "      <td>1</td>\n",
       "      <td>Не женат / не замужем</td>\n",
       "      <td>4</td>\n",
       "      <td>F</td>\n",
       "      <td>сотрудник</td>\n",
       "      <td>0</td>\n",
       "      <td>121433</td>\n",
       "      <td>покупка недвижимости</td>\n",
       "      <td>0.243896</td>\n",
       "    </tr>\n",
       "    <tr>\n",
       "      <td>10225</td>\n",
       "      <td>1</td>\n",
       "      <td>-2002</td>\n",
       "      <td>31</td>\n",
       "      <td>среднее</td>\n",
       "      <td>1</td>\n",
       "      <td>женат / замужем</td>\n",
       "      <td>0</td>\n",
       "      <td>F</td>\n",
       "      <td>госслужащий</td>\n",
       "      <td>0</td>\n",
       "      <td>77478</td>\n",
       "      <td>операции с коммерческой недвижимостью</td>\n",
       "      <td>0.177002</td>\n",
       "    </tr>\n",
       "    <tr>\n",
       "      <td>2339</td>\n",
       "      <td>0</td>\n",
       "      <td>3916</td>\n",
       "      <td>68</td>\n",
       "      <td>среднее</td>\n",
       "      <td>1</td>\n",
       "      <td>Не женат / не замужем</td>\n",
       "      <td>4</td>\n",
       "      <td>F</td>\n",
       "      <td>пенсионер</td>\n",
       "      <td>0</td>\n",
       "      <td>145017</td>\n",
       "      <td>на покупку подержанного автомобиля</td>\n",
       "      <td>0.157837</td>\n",
       "    </tr>\n",
       "    <tr>\n",
       "      <td>13595</td>\n",
       "      <td>1</td>\n",
       "      <td>-1280</td>\n",
       "      <td>35</td>\n",
       "      <td>высшее</td>\n",
       "      <td>0</td>\n",
       "      <td>женат / замужем</td>\n",
       "      <td>0</td>\n",
       "      <td>F</td>\n",
       "      <td>компаньон</td>\n",
       "      <td>0</td>\n",
       "      <td>178732</td>\n",
       "      <td>высшее образование</td>\n",
       "      <td>0.100220</td>\n",
       "    </tr>\n",
       "    <tr>\n",
       "      <td>7808</td>\n",
       "      <td>0</td>\n",
       "      <td>3283</td>\n",
       "      <td>57</td>\n",
       "      <td>среднее</td>\n",
       "      <td>1</td>\n",
       "      <td>гражданский брак</td>\n",
       "      <td>1</td>\n",
       "      <td>F</td>\n",
       "      <td>пенсионер</td>\n",
       "      <td>0</td>\n",
       "      <td>145017</td>\n",
       "      <td>на проведение свадьбы</td>\n",
       "      <td>0.157837</td>\n",
       "    </tr>\n",
       "    <tr>\n",
       "      <td>21122</td>\n",
       "      <td>0</td>\n",
       "      <td>-2798</td>\n",
       "      <td>43</td>\n",
       "      <td>высшее</td>\n",
       "      <td>0</td>\n",
       "      <td>женат / замужем</td>\n",
       "      <td>0</td>\n",
       "      <td>F</td>\n",
       "      <td>компаньон</td>\n",
       "      <td>0</td>\n",
       "      <td>499924</td>\n",
       "      <td>операции с коммерческой недвижимостью</td>\n",
       "      <td>0.178345</td>\n",
       "    </tr>\n",
       "    <tr>\n",
       "      <td>5775</td>\n",
       "      <td>1</td>\n",
       "      <td>-2283</td>\n",
       "      <td>45</td>\n",
       "      <td>высшее</td>\n",
       "      <td>0</td>\n",
       "      <td>женат / замужем</td>\n",
       "      <td>0</td>\n",
       "      <td>M</td>\n",
       "      <td>компаньон</td>\n",
       "      <td>0</td>\n",
       "      <td>237406</td>\n",
       "      <td>на покупку автомобиля</td>\n",
       "      <td>0.139038</td>\n",
       "    </tr>\n",
       "    <tr>\n",
       "      <td>3446</td>\n",
       "      <td>0</td>\n",
       "      <td>357134</td>\n",
       "      <td>57</td>\n",
       "      <td>среднее</td>\n",
       "      <td>1</td>\n",
       "      <td>женат / замужем</td>\n",
       "      <td>0</td>\n",
       "      <td>F</td>\n",
       "      <td>пенсионер</td>\n",
       "      <td>0</td>\n",
       "      <td>119609</td>\n",
       "      <td>покупка жилья для семьи</td>\n",
       "      <td>17.171875</td>\n",
       "    </tr>\n",
       "    <tr>\n",
       "      <td>17855</td>\n",
       "      <td>1</td>\n",
       "      <td>-2471</td>\n",
       "      <td>44</td>\n",
       "      <td>среднее</td>\n",
       "      <td>1</td>\n",
       "      <td>женат / замужем</td>\n",
       "      <td>0</td>\n",
       "      <td>F</td>\n",
       "      <td>сотрудник</td>\n",
       "      <td>0</td>\n",
       "      <td>103573</td>\n",
       "      <td>операции с недвижимостью</td>\n",
       "      <td>0.153931</td>\n",
       "    </tr>\n",
       "    <tr>\n",
       "      <td>6426</td>\n",
       "      <td>0</td>\n",
       "      <td>-877</td>\n",
       "      <td>33</td>\n",
       "      <td>среднее</td>\n",
       "      <td>1</td>\n",
       "      <td>женат / замужем</td>\n",
       "      <td>0</td>\n",
       "      <td>F</td>\n",
       "      <td>сотрудник</td>\n",
       "      <td>0</td>\n",
       "      <td>50840</td>\n",
       "      <td>получение образования</td>\n",
       "      <td>0.072876</td>\n",
       "    </tr>\n",
       "    <tr>\n",
       "      <td>17959</td>\n",
       "      <td>0</td>\n",
       "      <td>344954</td>\n",
       "      <td>55</td>\n",
       "      <td>среднее</td>\n",
       "      <td>1</td>\n",
       "      <td>вдовец / вдова</td>\n",
       "      <td>2</td>\n",
       "      <td>F</td>\n",
       "      <td>пенсионер</td>\n",
       "      <td>0</td>\n",
       "      <td>100688</td>\n",
       "      <td>автомобили</td>\n",
       "      <td>17.187500</td>\n",
       "    </tr>\n",
       "    <tr>\n",
       "      <td>11929</td>\n",
       "      <td>1</td>\n",
       "      <td>1382</td>\n",
       "      <td>24</td>\n",
       "      <td>среднее</td>\n",
       "      <td>1</td>\n",
       "      <td>женат / замужем</td>\n",
       "      <td>0</td>\n",
       "      <td>F</td>\n",
       "      <td>компаньон</td>\n",
       "      <td>0</td>\n",
       "      <td>145017</td>\n",
       "      <td>операции с жильем</td>\n",
       "      <td>0.157837</td>\n",
       "    </tr>\n",
       "    <tr>\n",
       "      <td>8904</td>\n",
       "      <td>0</td>\n",
       "      <td>396697</td>\n",
       "      <td>54</td>\n",
       "      <td>среднее</td>\n",
       "      <td>1</td>\n",
       "      <td>женат / замужем</td>\n",
       "      <td>0</td>\n",
       "      <td>F</td>\n",
       "      <td>пенсионер</td>\n",
       "      <td>0</td>\n",
       "      <td>110839</td>\n",
       "      <td>ремонт жилью</td>\n",
       "      <td>20.125000</td>\n",
       "    </tr>\n",
       "    <tr>\n",
       "      <td>16887</td>\n",
       "      <td>0</td>\n",
       "      <td>-2002</td>\n",
       "      <td>54</td>\n",
       "      <td>среднее</td>\n",
       "      <td>1</td>\n",
       "      <td>гражданский брак</td>\n",
       "      <td>1</td>\n",
       "      <td>F</td>\n",
       "      <td>сотрудник</td>\n",
       "      <td>0</td>\n",
       "      <td>144949</td>\n",
       "      <td>свадьба</td>\n",
       "      <td>0.101624</td>\n",
       "    </tr>\n",
       "    <tr>\n",
       "      <td>18771</td>\n",
       "      <td>0</td>\n",
       "      <td>-1815</td>\n",
       "      <td>27</td>\n",
       "      <td>среднее</td>\n",
       "      <td>1</td>\n",
       "      <td>Не женат / не замужем</td>\n",
       "      <td>4</td>\n",
       "      <td>F</td>\n",
       "      <td>сотрудник</td>\n",
       "      <td>0</td>\n",
       "      <td>63008</td>\n",
       "      <td>покупка своего жилья</td>\n",
       "      <td>0.184204</td>\n",
       "    </tr>\n",
       "    <tr>\n",
       "      <td>7634</td>\n",
       "      <td>0</td>\n",
       "      <td>395146</td>\n",
       "      <td>59</td>\n",
       "      <td>Среднее</td>\n",
       "      <td>1</td>\n",
       "      <td>женат / замужем</td>\n",
       "      <td>0</td>\n",
       "      <td>M</td>\n",
       "      <td>пенсионер</td>\n",
       "      <td>0</td>\n",
       "      <td>146656</td>\n",
       "      <td>покупка жилья</td>\n",
       "      <td>18.343750</td>\n",
       "    </tr>\n",
       "    <tr>\n",
       "      <td>8335</td>\n",
       "      <td>0</td>\n",
       "      <td>-1177</td>\n",
       "      <td>43</td>\n",
       "      <td>Среднее</td>\n",
       "      <td>1</td>\n",
       "      <td>Не женат / не замужем</td>\n",
       "      <td>4</td>\n",
       "      <td>F</td>\n",
       "      <td>сотрудник</td>\n",
       "      <td>0</td>\n",
       "      <td>95303</td>\n",
       "      <td>строительство жилой недвижимости</td>\n",
       "      <td>0.075012</td>\n",
       "    </tr>\n",
       "    <tr>\n",
       "      <td>8393</td>\n",
       "      <td>0</td>\n",
       "      <td>-591</td>\n",
       "      <td>28</td>\n",
       "      <td>среднее</td>\n",
       "      <td>1</td>\n",
       "      <td>гражданский брак</td>\n",
       "      <td>1</td>\n",
       "      <td>M</td>\n",
       "      <td>сотрудник</td>\n",
       "      <td>0</td>\n",
       "      <td>152462</td>\n",
       "      <td>на проведение свадьбы</td>\n",
       "      <td>0.057922</td>\n",
       "    </tr>\n",
       "    <tr>\n",
       "      <td>6881</td>\n",
       "      <td>0</td>\n",
       "      <td>-829</td>\n",
       "      <td>28</td>\n",
       "      <td>среднее</td>\n",
       "      <td>1</td>\n",
       "      <td>Не женат / не замужем</td>\n",
       "      <td>4</td>\n",
       "      <td>M</td>\n",
       "      <td>сотрудник</td>\n",
       "      <td>1</td>\n",
       "      <td>106568</td>\n",
       "      <td>высшее образование</td>\n",
       "      <td>0.081177</td>\n",
       "    </tr>\n",
       "    <tr>\n",
       "      <td>20223</td>\n",
       "      <td>0</td>\n",
       "      <td>-662</td>\n",
       "      <td>40</td>\n",
       "      <td>среднее</td>\n",
       "      <td>1</td>\n",
       "      <td>Не женат / не замужем</td>\n",
       "      <td>4</td>\n",
       "      <td>M</td>\n",
       "      <td>сотрудник</td>\n",
       "      <td>0</td>\n",
       "      <td>107714</td>\n",
       "      <td>покупка своего жилья</td>\n",
       "      <td>0.045349</td>\n",
       "    </tr>\n",
       "    <tr>\n",
       "      <td>18407</td>\n",
       "      <td>0</td>\n",
       "      <td>-2866</td>\n",
       "      <td>30</td>\n",
       "      <td>среднее</td>\n",
       "      <td>1</td>\n",
       "      <td>гражданский брак</td>\n",
       "      <td>1</td>\n",
       "      <td>M</td>\n",
       "      <td>сотрудник</td>\n",
       "      <td>1</td>\n",
       "      <td>99040</td>\n",
       "      <td>высшее образование</td>\n",
       "      <td>0.261719</td>\n",
       "    </tr>\n",
       "    <tr>\n",
       "      <td>12180</td>\n",
       "      <td>0</td>\n",
       "      <td>391116</td>\n",
       "      <td>57</td>\n",
       "      <td>среднее</td>\n",
       "      <td>1</td>\n",
       "      <td>гражданский брак</td>\n",
       "      <td>1</td>\n",
       "      <td>F</td>\n",
       "      <td>пенсионер</td>\n",
       "      <td>0</td>\n",
       "      <td>266504</td>\n",
       "      <td>сыграть свадьбу</td>\n",
       "      <td>18.796875</td>\n",
       "    </tr>\n",
       "    <tr>\n",
       "      <td>2950</td>\n",
       "      <td>0</td>\n",
       "      <td>383857</td>\n",
       "      <td>71</td>\n",
       "      <td>среднее</td>\n",
       "      <td>1</td>\n",
       "      <td>гражданский брак</td>\n",
       "      <td>1</td>\n",
       "      <td>F</td>\n",
       "      <td>пенсионер</td>\n",
       "      <td>0</td>\n",
       "      <td>148285</td>\n",
       "      <td>сыграть свадьбу</td>\n",
       "      <td>14.812500</td>\n",
       "    </tr>\n",
       "  </tbody>\n",
       "</table>\n",
       "</div>"
      ],
      "text/plain": [
       "       children  days_employed  dob_years            education  education_id  \\\n",
       "632           0          -3733         39              среднее             1   \n",
       "19310         3          -1029         32               высшее             0   \n",
       "20260         0           -221         44              среднее             1   \n",
       "19205         2          -3517         32              СРЕДНЕЕ             1   \n",
       "12953         1         346331         59              среднее             1   \n",
       "9558          2           2188         38              среднее             1   \n",
       "13701         0           -429         51               высшее             0   \n",
       "262           0          -1617         44              среднее             1   \n",
       "12266         1           1497         26              среднее             1   \n",
       "16311         0          -1456         26  неоконченное высшее             2   \n",
       "4646          0         348402         62              среднее             1   \n",
       "1048          2           -847         40               высшее             0   \n",
       "16851         3          -2873         35              среднее             1   \n",
       "16437         0           2246         39              среднее             1   \n",
       "3004          0         392631         65               высшее             0   \n",
       "5810          2           2246         39              среднее             1   \n",
       "5753          2          -1210         30              среднее             1   \n",
       "20379         0         356817         67              среднее             1   \n",
       "10453         0          -1997         33               высшее             0   \n",
       "13842         1          -2481         28              среднее             1   \n",
       "13935         0          -1442         53              среднее             1   \n",
       "2681          0         389359         66              среднее             1   \n",
       "869           0          -6031         41              среднее             1   \n",
       "20788         0          -5170         40               высшее             0   \n",
       "9151          0          -1551         43               высшее             0   \n",
       "20456         0           3110         54              среднее             1   \n",
       "17488         1          -3317         41              среднее             1   \n",
       "12290         0          -3383         38              среднее             1   \n",
       "10225         1          -2002         31              среднее             1   \n",
       "2339          0           3916         68              среднее             1   \n",
       "13595         1          -1280         35               высшее             0   \n",
       "7808          0           3283         57              среднее             1   \n",
       "21122         0          -2798         43               высшее             0   \n",
       "5775          1          -2283         45               высшее             0   \n",
       "3446          0         357134         57              среднее             1   \n",
       "17855         1          -2471         44              среднее             1   \n",
       "6426          0           -877         33              среднее             1   \n",
       "17959         0         344954         55              среднее             1   \n",
       "11929         1           1382         24              среднее             1   \n",
       "8904          0         396697         54              среднее             1   \n",
       "16887         0          -2002         54              среднее             1   \n",
       "18771         0          -1815         27              среднее             1   \n",
       "7634          0         395146         59              Среднее             1   \n",
       "8335          0          -1177         43              Среднее             1   \n",
       "8393          0           -591         28              среднее             1   \n",
       "6881          0           -829         28              среднее             1   \n",
       "20223         0           -662         40              среднее             1   \n",
       "18407         0          -2866         30              среднее             1   \n",
       "12180         0         391116         57              среднее             1   \n",
       "2950          0         383857         71              среднее             1   \n",
       "\n",
       "               family_status  family_status_id gender  income_type  debt  \\\n",
       "632          женат / замужем                 0      M    компаньон     0   \n",
       "19310       гражданский брак                 1      F    компаньон     0   \n",
       "20260        женат / замужем                 0      F  госслужащий     0   \n",
       "19205        женат / замужем                 0      F    сотрудник     0   \n",
       "12953        женат / замужем                 0      F    пенсионер     0   \n",
       "9558         женат / замужем                 0      M    компаньон     0   \n",
       "13701        женат / замужем                 0      F    компаньон     0   \n",
       "262          женат / замужем                 0      F    сотрудник     0   \n",
       "12266        женат / замужем                 0      M    сотрудник     0   \n",
       "16311  Не женат / не замужем                 4      M    компаньон     0   \n",
       "4646   Не женат / не замужем                 4      F    пенсионер     1   \n",
       "1048          вдовец / вдова                 2      F    компаньон     0   \n",
       "16851        женат / замужем                 0      F    компаньон     0   \n",
       "16437  Не женат / не замужем                 4      F    компаньон     0   \n",
       "3004         женат / замужем                 0      F    пенсионер     0   \n",
       "5810         женат / замужем                 0      M    сотрудник     0   \n",
       "5753        гражданский брак                 1      F    компаньон     0   \n",
       "20379  Не женат / не замужем                 4      F    пенсионер     0   \n",
       "10453  Не женат / не замужем                 4      M    сотрудник     0   \n",
       "13842  Не женат / не замужем                 4      M    компаньон     0   \n",
       "13935  Не женат / не замужем                 4      F    сотрудник     0   \n",
       "2681          вдовец / вдова                 2      F    пенсионер     0   \n",
       "869          женат / замужем                 0      M    сотрудник     0   \n",
       "20788              в разводе                 3      M    сотрудник     0   \n",
       "9151   Не женат / не замужем                 4      F    сотрудник     0   \n",
       "20456       гражданский брак                 1      F    сотрудник     1   \n",
       "17488              в разводе                 3      F    сотрудник     0   \n",
       "12290  Не женат / не замужем                 4      F    сотрудник     0   \n",
       "10225        женат / замужем                 0      F  госслужащий     0   \n",
       "2339   Не женат / не замужем                 4      F    пенсионер     0   \n",
       "13595        женат / замужем                 0      F    компаньон     0   \n",
       "7808        гражданский брак                 1      F    пенсионер     0   \n",
       "21122        женат / замужем                 0      F    компаньон     0   \n",
       "5775         женат / замужем                 0      M    компаньон     0   \n",
       "3446         женат / замужем                 0      F    пенсионер     0   \n",
       "17855        женат / замужем                 0      F    сотрудник     0   \n",
       "6426         женат / замужем                 0      F    сотрудник     0   \n",
       "17959         вдовец / вдова                 2      F    пенсионер     0   \n",
       "11929        женат / замужем                 0      F    компаньон     0   \n",
       "8904         женат / замужем                 0      F    пенсионер     0   \n",
       "16887       гражданский брак                 1      F    сотрудник     0   \n",
       "18771  Не женат / не замужем                 4      F    сотрудник     0   \n",
       "7634         женат / замужем                 0      M    пенсионер     0   \n",
       "8335   Не женат / не замужем                 4      F    сотрудник     0   \n",
       "8393        гражданский брак                 1      M    сотрудник     0   \n",
       "6881   Не женат / не замужем                 4      M    сотрудник     1   \n",
       "20223  Не женат / не замужем                 4      M    сотрудник     0   \n",
       "18407       гражданский брак                 1      M    сотрудник     1   \n",
       "12180       гражданский брак                 1      F    пенсионер     0   \n",
       "2950        гражданский брак                 1      F    пенсионер     0   \n",
       "\n",
       "       total_income                                 purpose  employed_coef  \n",
       "632          188899                 покупка жилья для сдачи       0.262207  \n",
       "19310        155791                   на проведение свадьбы       0.088135  \n",
       "20260        187570              строительство недвижимости       0.013794  \n",
       "19205         82428                           покупка жилья       0.301025  \n",
       "12953        153731        строительство жилой недвижимости      16.078125  \n",
       "9558         145017  строительство собственной недвижимости       0.157837  \n",
       "13701        195993         операции со своей недвижимостью       0.023071  \n",
       "262          168586                    покупка недвижимости       0.100708  \n",
       "12266        145017                 покупка жилья для семьи       0.157837  \n",
       "16311        185945       покупка коммерческой недвижимости       0.153442  \n",
       "4646          65162                  профильное образование      15.398438  \n",
       "1048         144010              покупка жилой недвижимости       0.058014  \n",
       "16851        208764         операции со своей недвижимостью       0.224854  \n",
       "16437        145017         операции со своей недвижимостью       0.157837  \n",
       "3004          62362                      высшее образование      16.546875  \n",
       "5810         145017                 покупка жилья для семьи       0.157837  \n",
       "5753          90366                                 свадьба       0.110535  \n",
       "20379         43153                 покупка жилья для сдачи      14.593750  \n",
       "10453        196652                            ремонт жилью       0.165771  \n",
       "13842        199250                 покупка жилья для сдачи       0.242798  \n",
       "13935        109378        сделка с подержанным автомобилем       0.074585  \n",
       "2681          69823                           покупка жилья      16.156250  \n",
       "869          254680                      высшее образование       0.403076  \n",
       "20788        286665                       операции с жильем       0.354248  \n",
       "9151         209621           получение высшего образования       0.098816  \n",
       "20456        145017                              автомобиль       0.157837  \n",
       "17488        375778           получение высшего образования       0.221680  \n",
       "12290        121433                    покупка недвижимости       0.243896  \n",
       "10225         77478   операции с коммерческой недвижимостью       0.177002  \n",
       "2339         145017      на покупку подержанного автомобиля       0.157837  \n",
       "13595        178732                      высшее образование       0.100220  \n",
       "7808         145017                   на проведение свадьбы       0.157837  \n",
       "21122        499924   операции с коммерческой недвижимостью       0.178345  \n",
       "5775         237406                   на покупку автомобиля       0.139038  \n",
       "3446         119609                 покупка жилья для семьи      17.171875  \n",
       "17855        103573                операции с недвижимостью       0.153931  \n",
       "6426          50840                   получение образования       0.072876  \n",
       "17959        100688                              автомобили      17.187500  \n",
       "11929        145017                       операции с жильем       0.157837  \n",
       "8904         110839                            ремонт жилью      20.125000  \n",
       "16887        144949                                 свадьба       0.101624  \n",
       "18771         63008                    покупка своего жилья       0.184204  \n",
       "7634         146656                           покупка жилья      18.343750  \n",
       "8335          95303        строительство жилой недвижимости       0.075012  \n",
       "8393         152462                   на проведение свадьбы       0.057922  \n",
       "6881         106568                      высшее образование       0.081177  \n",
       "20223        107714                    покупка своего жилья       0.045349  \n",
       "18407         99040                      высшее образование       0.261719  \n",
       "12180        266504                         сыграть свадьбу      18.796875  \n",
       "2950         148285                         сыграть свадьбу      14.812500  "
      ]
     },
     "execution_count": 562,
     "metadata": {},
     "output_type": "execute_result"
    }
   ],
   "source": [
    "df.sample(50)"
   ]
  },
  {
   "cell_type": "markdown",
   "metadata": {},
   "source": [
    "Почему возникли такие данные в этом столбце? Возможно из-за неправильного алгоритма расчета. К примеру были перепутаны местами дата начала и дата окончания работы."
   ]
  },
  {
   "cell_type": "code",
   "execution_count": 563,
   "metadata": {},
   "outputs": [],
   "source": [
    "def to_days(row):\n",
    "    day_emplyed = row['days_employed']\n",
    "    employed_coef = row['employed_coef']\n",
    "    if day_emplyed < 0:\n",
    "        day_emplyed = abs(day_emplyed)\n",
    "    if employed_coef > 1:\n",
    "        return day_emplyed/24\n",
    "    return day_emplyed"
   ]
  },
  {
   "cell_type": "code",
   "execution_count": 564,
   "metadata": {
    "scrolled": true
   },
   "outputs": [],
   "source": [
    "df['days_employed'] = df.apply(to_days, axis=1)"
   ]
  },
  {
   "cell_type": "code",
   "execution_count": 565,
   "metadata": {},
   "outputs": [],
   "source": [
    "df = df.astype({'days_employed': 'int16'})"
   ]
  },
  {
   "cell_type": "code",
   "execution_count": 566,
   "metadata": {},
   "outputs": [],
   "source": [
    "df['children'] = df['children'].abs()"
   ]
  },
  {
   "cell_type": "code",
   "execution_count": 567,
   "metadata": {
    "scrolled": true
   },
   "outputs": [
    {
     "data": {
      "text/plain": [
       "0     14149\n",
       "1      4865\n",
       "2      2055\n",
       "3       330\n",
       "20       76\n",
       "4        41\n",
       "5         9\n",
       "Name: children, dtype: int64"
      ]
     },
     "execution_count": 567,
     "metadata": {},
     "output_type": "execute_result"
    }
   ],
   "source": [
    "df['children'].value_counts()"
   ]
  },
  {
   "cell_type": "markdown",
   "metadata": {},
   "source": [
    "Аномалия в кол-ве детей (20). Возможно удалить эти записи или предположить что это ошибочная запись числа два. Ниже будет добавлен обобщенный индикатор для этого параментра."
   ]
  },
  {
   "cell_type": "code",
   "execution_count": 568,
   "metadata": {
    "scrolled": true
   },
   "outputs": [
    {
     "data": {
      "text/html": [
       "<div>\n",
       "<style scoped>\n",
       "    .dataframe tbody tr th:only-of-type {\n",
       "        vertical-align: middle;\n",
       "    }\n",
       "\n",
       "    .dataframe tbody tr th {\n",
       "        vertical-align: top;\n",
       "    }\n",
       "\n",
       "    .dataframe thead th {\n",
       "        text-align: right;\n",
       "    }\n",
       "</style>\n",
       "<table border=\"1\" class=\"dataframe\">\n",
       "  <thead>\n",
       "    <tr style=\"text-align: right;\">\n",
       "      <th></th>\n",
       "      <th>children</th>\n",
       "      <th>days_employed</th>\n",
       "      <th>dob_years</th>\n",
       "      <th>education</th>\n",
       "      <th>education_id</th>\n",
       "      <th>family_status</th>\n",
       "      <th>family_status_id</th>\n",
       "      <th>gender</th>\n",
       "      <th>income_type</th>\n",
       "      <th>debt</th>\n",
       "      <th>total_income</th>\n",
       "      <th>purpose</th>\n",
       "      <th>employed_coef</th>\n",
       "    </tr>\n",
       "  </thead>\n",
       "  <tbody>\n",
       "    <tr>\n",
       "      <td>0</td>\n",
       "      <td>1</td>\n",
       "      <td>8437</td>\n",
       "      <td>42</td>\n",
       "      <td>высшее</td>\n",
       "      <td>0</td>\n",
       "      <td>женат / замужем</td>\n",
       "      <td>0</td>\n",
       "      <td>F</td>\n",
       "      <td>сотрудник</td>\n",
       "      <td>0</td>\n",
       "      <td>253875</td>\n",
       "      <td>покупка жилья</td>\n",
       "      <td>0.550293</td>\n",
       "    </tr>\n",
       "    <tr>\n",
       "      <td>1</td>\n",
       "      <td>1</td>\n",
       "      <td>4024</td>\n",
       "      <td>36</td>\n",
       "      <td>среднее</td>\n",
       "      <td>1</td>\n",
       "      <td>женат / замужем</td>\n",
       "      <td>0</td>\n",
       "      <td>F</td>\n",
       "      <td>сотрудник</td>\n",
       "      <td>0</td>\n",
       "      <td>112080</td>\n",
       "      <td>приобретение автомобиля</td>\n",
       "      <td>0.306396</td>\n",
       "    </tr>\n",
       "    <tr>\n",
       "      <td>2</td>\n",
       "      <td>0</td>\n",
       "      <td>5623</td>\n",
       "      <td>33</td>\n",
       "      <td>Среднее</td>\n",
       "      <td>1</td>\n",
       "      <td>женат / замужем</td>\n",
       "      <td>0</td>\n",
       "      <td>M</td>\n",
       "      <td>сотрудник</td>\n",
       "      <td>0</td>\n",
       "      <td>145885</td>\n",
       "      <td>покупка жилья</td>\n",
       "      <td>0.466797</td>\n",
       "    </tr>\n",
       "    <tr>\n",
       "      <td>3</td>\n",
       "      <td>3</td>\n",
       "      <td>4124</td>\n",
       "      <td>32</td>\n",
       "      <td>среднее</td>\n",
       "      <td>1</td>\n",
       "      <td>женат / замужем</td>\n",
       "      <td>0</td>\n",
       "      <td>M</td>\n",
       "      <td>сотрудник</td>\n",
       "      <td>0</td>\n",
       "      <td>267628</td>\n",
       "      <td>дополнительное образование</td>\n",
       "      <td>0.353027</td>\n",
       "    </tr>\n",
       "    <tr>\n",
       "      <td>4</td>\n",
       "      <td>0</td>\n",
       "      <td>14177</td>\n",
       "      <td>53</td>\n",
       "      <td>среднее</td>\n",
       "      <td>1</td>\n",
       "      <td>гражданский брак</td>\n",
       "      <td>1</td>\n",
       "      <td>F</td>\n",
       "      <td>пенсионер</td>\n",
       "      <td>0</td>\n",
       "      <td>158616</td>\n",
       "      <td>сыграть свадьбу</td>\n",
       "      <td>17.593750</td>\n",
       "    </tr>\n",
       "    <tr>\n",
       "      <td>5</td>\n",
       "      <td>0</td>\n",
       "      <td>926</td>\n",
       "      <td>27</td>\n",
       "      <td>высшее</td>\n",
       "      <td>0</td>\n",
       "      <td>гражданский брак</td>\n",
       "      <td>1</td>\n",
       "      <td>M</td>\n",
       "      <td>компаньон</td>\n",
       "      <td>0</td>\n",
       "      <td>255763</td>\n",
       "      <td>покупка жилья</td>\n",
       "      <td>0.093994</td>\n",
       "    </tr>\n",
       "    <tr>\n",
       "      <td>6</td>\n",
       "      <td>0</td>\n",
       "      <td>2879</td>\n",
       "      <td>43</td>\n",
       "      <td>высшее</td>\n",
       "      <td>0</td>\n",
       "      <td>женат / замужем</td>\n",
       "      <td>0</td>\n",
       "      <td>F</td>\n",
       "      <td>компаньон</td>\n",
       "      <td>0</td>\n",
       "      <td>240525</td>\n",
       "      <td>операции с жильем</td>\n",
       "      <td>0.183472</td>\n",
       "    </tr>\n",
       "    <tr>\n",
       "      <td>7</td>\n",
       "      <td>0</td>\n",
       "      <td>152</td>\n",
       "      <td>50</td>\n",
       "      <td>СРЕДНЕЕ</td>\n",
       "      <td>1</td>\n",
       "      <td>женат / замужем</td>\n",
       "      <td>0</td>\n",
       "      <td>M</td>\n",
       "      <td>сотрудник</td>\n",
       "      <td>0</td>\n",
       "      <td>135823</td>\n",
       "      <td>образование</td>\n",
       "      <td>0.008369</td>\n",
       "    </tr>\n",
       "    <tr>\n",
       "      <td>8</td>\n",
       "      <td>2</td>\n",
       "      <td>6929</td>\n",
       "      <td>35</td>\n",
       "      <td>ВЫСШЕЕ</td>\n",
       "      <td>0</td>\n",
       "      <td>гражданский брак</td>\n",
       "      <td>1</td>\n",
       "      <td>F</td>\n",
       "      <td>сотрудник</td>\n",
       "      <td>0</td>\n",
       "      <td>95856</td>\n",
       "      <td>на проведение свадьбы</td>\n",
       "      <td>0.542480</td>\n",
       "    </tr>\n",
       "    <tr>\n",
       "      <td>9</td>\n",
       "      <td>0</td>\n",
       "      <td>2188</td>\n",
       "      <td>41</td>\n",
       "      <td>среднее</td>\n",
       "      <td>1</td>\n",
       "      <td>женат / замужем</td>\n",
       "      <td>0</td>\n",
       "      <td>M</td>\n",
       "      <td>сотрудник</td>\n",
       "      <td>0</td>\n",
       "      <td>144425</td>\n",
       "      <td>покупка жилья для семьи</td>\n",
       "      <td>0.146240</td>\n",
       "    </tr>\n",
       "  </tbody>\n",
       "</table>\n",
       "</div>"
      ],
      "text/plain": [
       "   children  days_employed  dob_years education  education_id  \\\n",
       "0         1           8437         42    высшее             0   \n",
       "1         1           4024         36   среднее             1   \n",
       "2         0           5623         33   Среднее             1   \n",
       "3         3           4124         32   среднее             1   \n",
       "4         0          14177         53   среднее             1   \n",
       "5         0            926         27    высшее             0   \n",
       "6         0           2879         43    высшее             0   \n",
       "7         0            152         50   СРЕДНЕЕ             1   \n",
       "8         2           6929         35    ВЫСШЕЕ             0   \n",
       "9         0           2188         41   среднее             1   \n",
       "\n",
       "      family_status  family_status_id gender income_type  debt  total_income  \\\n",
       "0   женат / замужем                 0      F   сотрудник     0        253875   \n",
       "1   женат / замужем                 0      F   сотрудник     0        112080   \n",
       "2   женат / замужем                 0      M   сотрудник     0        145885   \n",
       "3   женат / замужем                 0      M   сотрудник     0        267628   \n",
       "4  гражданский брак                 1      F   пенсионер     0        158616   \n",
       "5  гражданский брак                 1      M   компаньон     0        255763   \n",
       "6   женат / замужем                 0      F   компаньон     0        240525   \n",
       "7   женат / замужем                 0      M   сотрудник     0        135823   \n",
       "8  гражданский брак                 1      F   сотрудник     0         95856   \n",
       "9   женат / замужем                 0      M   сотрудник     0        144425   \n",
       "\n",
       "                      purpose  employed_coef  \n",
       "0               покупка жилья       0.550293  \n",
       "1     приобретение автомобиля       0.306396  \n",
       "2               покупка жилья       0.466797  \n",
       "3  дополнительное образование       0.353027  \n",
       "4             сыграть свадьбу      17.593750  \n",
       "5               покупка жилья       0.093994  \n",
       "6           операции с жильем       0.183472  \n",
       "7                 образование       0.008369  \n",
       "8       на проведение свадьбы       0.542480  \n",
       "9     покупка жилья для семьи       0.146240  "
      ]
     },
     "execution_count": 568,
     "metadata": {},
     "output_type": "execute_result"
    }
   ],
   "source": [
    "df.head(10)"
   ]
  },
  {
   "cell_type": "markdown",
   "metadata": {},
   "source": [
    "2.2.1 Поиск дубликатов"
   ]
  },
  {
   "cell_type": "code",
   "execution_count": 569,
   "metadata": {},
   "outputs": [
    {
     "data": {
      "text/plain": [
       "среднее                13750\n",
       "высшее                  4718\n",
       "СРЕДНЕЕ                  772\n",
       "Среднее                  711\n",
       "неоконченное высшее      668\n",
       "ВЫСШЕЕ                   274\n",
       "Высшее                   268\n",
       "начальное                250\n",
       "Неоконченное высшее       47\n",
       "НЕОКОНЧЕННОЕ ВЫСШЕЕ       29\n",
       "НАЧАЛЬНОЕ                 17\n",
       "Начальное                 15\n",
       "ученая степень             4\n",
       "УЧЕНАЯ СТЕПЕНЬ             1\n",
       "Ученая степень             1\n",
       "Name: education, dtype: int64"
      ]
     },
     "execution_count": 569,
     "metadata": {},
     "output_type": "execute_result"
    }
   ],
   "source": [
    "df['education'].value_counts()"
   ]
  },
  {
   "cell_type": "markdown",
   "metadata": {},
   "source": [
    "В столбце \"уровень образования клиента\" много дубликтов из за разного регистра, которые нужно исправить. Такое возможно возникало из за разных стандартов заполнения данных в разных филиалах банка. Возможно это было не жестко регламентировано для сотрудника, который заполнял данных о клиенте."
   ]
  },
  {
   "cell_type": "code",
   "execution_count": 570,
   "metadata": {},
   "outputs": [],
   "source": [
    "df['education'] = df['education'].str.lower()"
   ]
  },
  {
   "cell_type": "code",
   "execution_count": 571,
   "metadata": {},
   "outputs": [
    {
     "data": {
      "text/plain": [
       "среднее                15233\n",
       "высшее                  5260\n",
       "неоконченное высшее      744\n",
       "начальное                282\n",
       "ученая степень             6\n",
       "Name: education, dtype: int64"
      ]
     },
     "execution_count": 571,
     "metadata": {},
     "output_type": "execute_result"
    }
   ],
   "source": [
    "df['education'].value_counts()"
   ]
  },
  {
   "cell_type": "markdown",
   "metadata": {},
   "source": [
    "Дубликаты в уровне образования устранены"
   ]
  },
  {
   "cell_type": "code",
   "execution_count": 572,
   "metadata": {},
   "outputs": [
    {
     "data": {
      "text/plain": [
       "женат / замужем          12380\n",
       "гражданский брак          4177\n",
       "Не женат / не замужем     2813\n",
       "в разводе                 1195\n",
       "вдовец / вдова             960\n",
       "Name: family_status, dtype: int64"
      ]
     },
     "execution_count": 572,
     "metadata": {},
     "output_type": "execute_result"
    }
   ],
   "source": [
    "df['family_status'].value_counts()"
   ]
  },
  {
   "cell_type": "code",
   "execution_count": 573,
   "metadata": {},
   "outputs": [],
   "source": [
    "df['family_status'] = df['family_status'].str.lower()"
   ]
  },
  {
   "cell_type": "code",
   "execution_count": 574,
   "metadata": {},
   "outputs": [
    {
     "data": {
      "text/plain": [
       "женат / замужем          12380\n",
       "гражданский брак          4177\n",
       "не женат / не замужем     2813\n",
       "в разводе                 1195\n",
       "вдовец / вдова             960\n",
       "Name: family_status, dtype: int64"
      ]
     },
     "execution_count": 574,
     "metadata": {},
     "output_type": "execute_result"
    }
   ],
   "source": [
    "df['family_status'].value_counts()"
   ]
  },
  {
   "cell_type": "markdown",
   "metadata": {},
   "source": [
    "Устранил разный регистр. В этом столбце дубликаты не обнаружены."
   ]
  },
  {
   "cell_type": "code",
   "execution_count": 575,
   "metadata": {},
   "outputs": [
    {
     "data": {
      "text/plain": [
       "сотрудник          11119\n",
       "компаньон           5085\n",
       "пенсионер           3856\n",
       "госслужащий         1459\n",
       "предприниматель        2\n",
       "безработный            2\n",
       "студент                1\n",
       "в декрете              1\n",
       "Name: income_type, dtype: int64"
      ]
     },
     "execution_count": 575,
     "metadata": {},
     "output_type": "execute_result"
    }
   ],
   "source": [
    "df['income_type'].value_counts()"
   ]
  },
  {
   "cell_type": "markdown",
   "metadata": {},
   "source": [
    "В столбце \"тип занятости\" (income_type) очень узкие категории клиентов в которых мало данных. Ими можно пожертвовать и удалить ради более чистых данных.\n",
    "Почему?\n",
    "Их общее кол-во сильно меньше 1% от всех данных таблицы."
   ]
  },
  {
   "cell_type": "code",
   "execution_count": 576,
   "metadata": {},
   "outputs": [],
   "source": [
    "df.drop([*(df[df['income_type'] == 'предприниматель'].index.to_list()), \n",
    "         *(df[df['income_type'] == 'безработный'].index.to_list()), \n",
    "         *(df[df['income_type'] == 'студент'].index.to_list()), \n",
    "         *(df[df['income_type'] == 'в декрете'].index.to_list())], inplace=True)"
   ]
  },
  {
   "cell_type": "code",
   "execution_count": 577,
   "metadata": {},
   "outputs": [
    {
     "data": {
      "text/plain": [
       "сотрудник      11119\n",
       "компаньон       5085\n",
       "пенсионер       3856\n",
       "госслужащий     1459\n",
       "Name: income_type, dtype: int64"
      ]
     },
     "execution_count": 577,
     "metadata": {},
     "output_type": "execute_result"
    }
   ],
   "source": [
    "df['income_type'].value_counts()"
   ]
  },
  {
   "cell_type": "code",
   "execution_count": 578,
   "metadata": {},
   "outputs": [
    {
     "data": {
      "text/plain": [
       "сотрудник      11119\n",
       "компаньон       5085\n",
       "пенсионер       3856\n",
       "госслужащий     1459\n",
       "Name: income_type, dtype: int64"
      ]
     },
     "execution_count": 578,
     "metadata": {},
     "output_type": "execute_result"
    }
   ],
   "source": [
    "df['income_type'].value_counts()"
   ]
  },
  {
   "cell_type": "code",
   "execution_count": 579,
   "metadata": {},
   "outputs": [
    {
     "data": {
      "text/html": [
       "<div>\n",
       "<style scoped>\n",
       "    .dataframe tbody tr th:only-of-type {\n",
       "        vertical-align: middle;\n",
       "    }\n",
       "\n",
       "    .dataframe tbody tr th {\n",
       "        vertical-align: top;\n",
       "    }\n",
       "\n",
       "    .dataframe thead th {\n",
       "        text-align: right;\n",
       "    }\n",
       "</style>\n",
       "<table border=\"1\" class=\"dataframe\">\n",
       "  <thead>\n",
       "    <tr style=\"text-align: right;\">\n",
       "      <th></th>\n",
       "      <th>children</th>\n",
       "      <th>days_employed</th>\n",
       "      <th>dob_years</th>\n",
       "      <th>education</th>\n",
       "      <th>education_id</th>\n",
       "      <th>family_status</th>\n",
       "      <th>family_status_id</th>\n",
       "      <th>gender</th>\n",
       "      <th>income_type</th>\n",
       "      <th>debt</th>\n",
       "      <th>total_income</th>\n",
       "      <th>purpose</th>\n",
       "      <th>employed_coef</th>\n",
       "    </tr>\n",
       "  </thead>\n",
       "  <tbody>\n",
       "    <tr>\n",
       "      <td>0</td>\n",
       "      <td>1</td>\n",
       "      <td>8437</td>\n",
       "      <td>42</td>\n",
       "      <td>высшее</td>\n",
       "      <td>0</td>\n",
       "      <td>женат / замужем</td>\n",
       "      <td>0</td>\n",
       "      <td>F</td>\n",
       "      <td>сотрудник</td>\n",
       "      <td>0</td>\n",
       "      <td>253875</td>\n",
       "      <td>покупка жилья</td>\n",
       "      <td>0.550293</td>\n",
       "    </tr>\n",
       "    <tr>\n",
       "      <td>1</td>\n",
       "      <td>1</td>\n",
       "      <td>4024</td>\n",
       "      <td>36</td>\n",
       "      <td>среднее</td>\n",
       "      <td>1</td>\n",
       "      <td>женат / замужем</td>\n",
       "      <td>0</td>\n",
       "      <td>F</td>\n",
       "      <td>сотрудник</td>\n",
       "      <td>0</td>\n",
       "      <td>112080</td>\n",
       "      <td>приобретение автомобиля</td>\n",
       "      <td>0.306396</td>\n",
       "    </tr>\n",
       "    <tr>\n",
       "      <td>2</td>\n",
       "      <td>0</td>\n",
       "      <td>5623</td>\n",
       "      <td>33</td>\n",
       "      <td>среднее</td>\n",
       "      <td>1</td>\n",
       "      <td>женат / замужем</td>\n",
       "      <td>0</td>\n",
       "      <td>M</td>\n",
       "      <td>сотрудник</td>\n",
       "      <td>0</td>\n",
       "      <td>145885</td>\n",
       "      <td>покупка жилья</td>\n",
       "      <td>0.466797</td>\n",
       "    </tr>\n",
       "    <tr>\n",
       "      <td>3</td>\n",
       "      <td>3</td>\n",
       "      <td>4124</td>\n",
       "      <td>32</td>\n",
       "      <td>среднее</td>\n",
       "      <td>1</td>\n",
       "      <td>женат / замужем</td>\n",
       "      <td>0</td>\n",
       "      <td>M</td>\n",
       "      <td>сотрудник</td>\n",
       "      <td>0</td>\n",
       "      <td>267628</td>\n",
       "      <td>дополнительное образование</td>\n",
       "      <td>0.353027</td>\n",
       "    </tr>\n",
       "    <tr>\n",
       "      <td>4</td>\n",
       "      <td>0</td>\n",
       "      <td>14177</td>\n",
       "      <td>53</td>\n",
       "      <td>среднее</td>\n",
       "      <td>1</td>\n",
       "      <td>гражданский брак</td>\n",
       "      <td>1</td>\n",
       "      <td>F</td>\n",
       "      <td>пенсионер</td>\n",
       "      <td>0</td>\n",
       "      <td>158616</td>\n",
       "      <td>сыграть свадьбу</td>\n",
       "      <td>17.593750</td>\n",
       "    </tr>\n",
       "    <tr>\n",
       "      <td>5</td>\n",
       "      <td>0</td>\n",
       "      <td>926</td>\n",
       "      <td>27</td>\n",
       "      <td>высшее</td>\n",
       "      <td>0</td>\n",
       "      <td>гражданский брак</td>\n",
       "      <td>1</td>\n",
       "      <td>M</td>\n",
       "      <td>компаньон</td>\n",
       "      <td>0</td>\n",
       "      <td>255763</td>\n",
       "      <td>покупка жилья</td>\n",
       "      <td>0.093994</td>\n",
       "    </tr>\n",
       "    <tr>\n",
       "      <td>6</td>\n",
       "      <td>0</td>\n",
       "      <td>2879</td>\n",
       "      <td>43</td>\n",
       "      <td>высшее</td>\n",
       "      <td>0</td>\n",
       "      <td>женат / замужем</td>\n",
       "      <td>0</td>\n",
       "      <td>F</td>\n",
       "      <td>компаньон</td>\n",
       "      <td>0</td>\n",
       "      <td>240525</td>\n",
       "      <td>операции с жильем</td>\n",
       "      <td>0.183472</td>\n",
       "    </tr>\n",
       "    <tr>\n",
       "      <td>7</td>\n",
       "      <td>0</td>\n",
       "      <td>152</td>\n",
       "      <td>50</td>\n",
       "      <td>среднее</td>\n",
       "      <td>1</td>\n",
       "      <td>женат / замужем</td>\n",
       "      <td>0</td>\n",
       "      <td>M</td>\n",
       "      <td>сотрудник</td>\n",
       "      <td>0</td>\n",
       "      <td>135823</td>\n",
       "      <td>образование</td>\n",
       "      <td>0.008369</td>\n",
       "    </tr>\n",
       "    <tr>\n",
       "      <td>8</td>\n",
       "      <td>2</td>\n",
       "      <td>6929</td>\n",
       "      <td>35</td>\n",
       "      <td>высшее</td>\n",
       "      <td>0</td>\n",
       "      <td>гражданский брак</td>\n",
       "      <td>1</td>\n",
       "      <td>F</td>\n",
       "      <td>сотрудник</td>\n",
       "      <td>0</td>\n",
       "      <td>95856</td>\n",
       "      <td>на проведение свадьбы</td>\n",
       "      <td>0.542480</td>\n",
       "    </tr>\n",
       "    <tr>\n",
       "      <td>9</td>\n",
       "      <td>0</td>\n",
       "      <td>2188</td>\n",
       "      <td>41</td>\n",
       "      <td>среднее</td>\n",
       "      <td>1</td>\n",
       "      <td>женат / замужем</td>\n",
       "      <td>0</td>\n",
       "      <td>M</td>\n",
       "      <td>сотрудник</td>\n",
       "      <td>0</td>\n",
       "      <td>144425</td>\n",
       "      <td>покупка жилья для семьи</td>\n",
       "      <td>0.146240</td>\n",
       "    </tr>\n",
       "  </tbody>\n",
       "</table>\n",
       "</div>"
      ],
      "text/plain": [
       "   children  days_employed  dob_years education  education_id  \\\n",
       "0         1           8437         42    высшее             0   \n",
       "1         1           4024         36   среднее             1   \n",
       "2         0           5623         33   среднее             1   \n",
       "3         3           4124         32   среднее             1   \n",
       "4         0          14177         53   среднее             1   \n",
       "5         0            926         27    высшее             0   \n",
       "6         0           2879         43    высшее             0   \n",
       "7         0            152         50   среднее             1   \n",
       "8         2           6929         35    высшее             0   \n",
       "9         0           2188         41   среднее             1   \n",
       "\n",
       "      family_status  family_status_id gender income_type  debt  total_income  \\\n",
       "0   женат / замужем                 0      F   сотрудник     0        253875   \n",
       "1   женат / замужем                 0      F   сотрудник     0        112080   \n",
       "2   женат / замужем                 0      M   сотрудник     0        145885   \n",
       "3   женат / замужем                 0      M   сотрудник     0        267628   \n",
       "4  гражданский брак                 1      F   пенсионер     0        158616   \n",
       "5  гражданский брак                 1      M   компаньон     0        255763   \n",
       "6   женат / замужем                 0      F   компаньон     0        240525   \n",
       "7   женат / замужем                 0      M   сотрудник     0        135823   \n",
       "8  гражданский брак                 1      F   сотрудник     0         95856   \n",
       "9   женат / замужем                 0      M   сотрудник     0        144425   \n",
       "\n",
       "                      purpose  employed_coef  \n",
       "0               покупка жилья       0.550293  \n",
       "1     приобретение автомобиля       0.306396  \n",
       "2               покупка жилья       0.466797  \n",
       "3  дополнительное образование       0.353027  \n",
       "4             сыграть свадьбу      17.593750  \n",
       "5               покупка жилья       0.093994  \n",
       "6           операции с жильем       0.183472  \n",
       "7                 образование       0.008369  \n",
       "8       на проведение свадьбы       0.542480  \n",
       "9     покупка жилья для семьи       0.146240  "
      ]
     },
     "execution_count": 579,
     "metadata": {},
     "output_type": "execute_result"
    }
   ],
   "source": [
    "df.head(10)"
   ]
  },
  {
   "cell_type": "markdown",
   "metadata": {},
   "source": [
    "**Вывод**"
   ]
  },
  {
   "cell_type": "markdown",
   "metadata": {},
   "source": [
    "Была проведена оценка каждого столбца с данными методом value_counts(). Были выявлены дубликаты и предприняты меры по их устранению.\n",
    "\n",
    "1. Большенство дубликатов в данных связано в заполнении данных разным регистром. Это легко исправляется приведением всех записей к общему виду.\n",
    "2. В столбце df['income_type'] было несколько узких категорий и 1=2 записями в них. Таким кол-вом данных можно пожертвовать безболезненно для частоты анализа."
   ]
  },
  {
   "cell_type": "markdown",
   "metadata": {},
   "source": [
    "### Лемматизация"
   ]
  },
  {
   "cell_type": "code",
   "execution_count": 580,
   "metadata": {
    "scrolled": true
   },
   "outputs": [
    {
     "data": {
      "text/html": [
       "<div>\n",
       "<style scoped>\n",
       "    .dataframe tbody tr th:only-of-type {\n",
       "        vertical-align: middle;\n",
       "    }\n",
       "\n",
       "    .dataframe tbody tr th {\n",
       "        vertical-align: top;\n",
       "    }\n",
       "\n",
       "    .dataframe thead th {\n",
       "        text-align: right;\n",
       "    }\n",
       "</style>\n",
       "<table border=\"1\" class=\"dataframe\">\n",
       "  <thead>\n",
       "    <tr style=\"text-align: right;\">\n",
       "      <th></th>\n",
       "      <th>children</th>\n",
       "      <th>days_employed</th>\n",
       "      <th>dob_years</th>\n",
       "      <th>education</th>\n",
       "      <th>education_id</th>\n",
       "      <th>family_status</th>\n",
       "      <th>family_status_id</th>\n",
       "      <th>gender</th>\n",
       "      <th>income_type</th>\n",
       "      <th>debt</th>\n",
       "      <th>total_income</th>\n",
       "      <th>purpose</th>\n",
       "      <th>employed_coef</th>\n",
       "      <th>purpose_lemmatized</th>\n",
       "    </tr>\n",
       "  </thead>\n",
       "  <tbody>\n",
       "    <tr>\n",
       "      <td>0</td>\n",
       "      <td>1</td>\n",
       "      <td>8437</td>\n",
       "      <td>42</td>\n",
       "      <td>высшее</td>\n",
       "      <td>0</td>\n",
       "      <td>женат / замужем</td>\n",
       "      <td>0</td>\n",
       "      <td>F</td>\n",
       "      <td>сотрудник</td>\n",
       "      <td>0</td>\n",
       "      <td>253875</td>\n",
       "      <td>покупка жилья</td>\n",
       "      <td>0.550293</td>\n",
       "      <td>[покупка,  , жилье, \\n]</td>\n",
       "    </tr>\n",
       "    <tr>\n",
       "      <td>1</td>\n",
       "      <td>1</td>\n",
       "      <td>4024</td>\n",
       "      <td>36</td>\n",
       "      <td>среднее</td>\n",
       "      <td>1</td>\n",
       "      <td>женат / замужем</td>\n",
       "      <td>0</td>\n",
       "      <td>F</td>\n",
       "      <td>сотрудник</td>\n",
       "      <td>0</td>\n",
       "      <td>112080</td>\n",
       "      <td>приобретение автомобиля</td>\n",
       "      <td>0.306396</td>\n",
       "      <td>[приобретение,  , автомобиль, \\n]</td>\n",
       "    </tr>\n",
       "    <tr>\n",
       "      <td>2</td>\n",
       "      <td>0</td>\n",
       "      <td>5623</td>\n",
       "      <td>33</td>\n",
       "      <td>среднее</td>\n",
       "      <td>1</td>\n",
       "      <td>женат / замужем</td>\n",
       "      <td>0</td>\n",
       "      <td>M</td>\n",
       "      <td>сотрудник</td>\n",
       "      <td>0</td>\n",
       "      <td>145885</td>\n",
       "      <td>покупка жилья</td>\n",
       "      <td>0.466797</td>\n",
       "      <td>[покупка,  , жилье, \\n]</td>\n",
       "    </tr>\n",
       "    <tr>\n",
       "      <td>3</td>\n",
       "      <td>3</td>\n",
       "      <td>4124</td>\n",
       "      <td>32</td>\n",
       "      <td>среднее</td>\n",
       "      <td>1</td>\n",
       "      <td>женат / замужем</td>\n",
       "      <td>0</td>\n",
       "      <td>M</td>\n",
       "      <td>сотрудник</td>\n",
       "      <td>0</td>\n",
       "      <td>267628</td>\n",
       "      <td>дополнительное образование</td>\n",
       "      <td>0.353027</td>\n",
       "      <td>[дополнительный,  , образование, \\n]</td>\n",
       "    </tr>\n",
       "    <tr>\n",
       "      <td>4</td>\n",
       "      <td>0</td>\n",
       "      <td>14177</td>\n",
       "      <td>53</td>\n",
       "      <td>среднее</td>\n",
       "      <td>1</td>\n",
       "      <td>гражданский брак</td>\n",
       "      <td>1</td>\n",
       "      <td>F</td>\n",
       "      <td>пенсионер</td>\n",
       "      <td>0</td>\n",
       "      <td>158616</td>\n",
       "      <td>сыграть свадьбу</td>\n",
       "      <td>17.593750</td>\n",
       "      <td>[сыграть,  , свадьба, \\n]</td>\n",
       "    </tr>\n",
       "    <tr>\n",
       "      <td>...</td>\n",
       "      <td>...</td>\n",
       "      <td>...</td>\n",
       "      <td>...</td>\n",
       "      <td>...</td>\n",
       "      <td>...</td>\n",
       "      <td>...</td>\n",
       "      <td>...</td>\n",
       "      <td>...</td>\n",
       "      <td>...</td>\n",
       "      <td>...</td>\n",
       "      <td>...</td>\n",
       "      <td>...</td>\n",
       "      <td>...</td>\n",
       "      <td>...</td>\n",
       "    </tr>\n",
       "    <tr>\n",
       "      <td>21520</td>\n",
       "      <td>1</td>\n",
       "      <td>4529</td>\n",
       "      <td>43</td>\n",
       "      <td>среднее</td>\n",
       "      <td>1</td>\n",
       "      <td>гражданский брак</td>\n",
       "      <td>1</td>\n",
       "      <td>F</td>\n",
       "      <td>компаньон</td>\n",
       "      <td>0</td>\n",
       "      <td>224791</td>\n",
       "      <td>операции с жильем</td>\n",
       "      <td>0.288574</td>\n",
       "      <td>[операция,  , с,  , жилье, \\n]</td>\n",
       "    </tr>\n",
       "    <tr>\n",
       "      <td>21521</td>\n",
       "      <td>0</td>\n",
       "      <td>14330</td>\n",
       "      <td>67</td>\n",
       "      <td>среднее</td>\n",
       "      <td>1</td>\n",
       "      <td>женат / замужем</td>\n",
       "      <td>0</td>\n",
       "      <td>F</td>\n",
       "      <td>пенсионер</td>\n",
       "      <td>0</td>\n",
       "      <td>155999</td>\n",
       "      <td>сделка с автомобилем</td>\n",
       "      <td>14.062500</td>\n",
       "      <td>[сделка,  , с,  , автомобиль, \\n]</td>\n",
       "    </tr>\n",
       "    <tr>\n",
       "      <td>21522</td>\n",
       "      <td>1</td>\n",
       "      <td>2113</td>\n",
       "      <td>38</td>\n",
       "      <td>среднее</td>\n",
       "      <td>1</td>\n",
       "      <td>гражданский брак</td>\n",
       "      <td>1</td>\n",
       "      <td>M</td>\n",
       "      <td>сотрудник</td>\n",
       "      <td>1</td>\n",
       "      <td>89672</td>\n",
       "      <td>недвижимость</td>\n",
       "      <td>0.152344</td>\n",
       "      <td>[недвижимость, \\n]</td>\n",
       "    </tr>\n",
       "    <tr>\n",
       "      <td>21523</td>\n",
       "      <td>3</td>\n",
       "      <td>3112</td>\n",
       "      <td>38</td>\n",
       "      <td>среднее</td>\n",
       "      <td>1</td>\n",
       "      <td>женат / замужем</td>\n",
       "      <td>0</td>\n",
       "      <td>M</td>\n",
       "      <td>сотрудник</td>\n",
       "      <td>1</td>\n",
       "      <td>244093</td>\n",
       "      <td>на покупку своего автомобиля</td>\n",
       "      <td>0.224365</td>\n",
       "      <td>[на,  , покупка,  , свой,  , автомобиль, \\n]</td>\n",
       "    </tr>\n",
       "    <tr>\n",
       "      <td>21524</td>\n",
       "      <td>2</td>\n",
       "      <td>1984</td>\n",
       "      <td>40</td>\n",
       "      <td>среднее</td>\n",
       "      <td>1</td>\n",
       "      <td>женат / замужем</td>\n",
       "      <td>0</td>\n",
       "      <td>F</td>\n",
       "      <td>сотрудник</td>\n",
       "      <td>0</td>\n",
       "      <td>82047</td>\n",
       "      <td>на покупку автомобиля</td>\n",
       "      <td>0.135864</td>\n",
       "      <td>[на,  , покупка,  , автомобиль, \\n]</td>\n",
       "    </tr>\n",
       "  </tbody>\n",
       "</table>\n",
       "<p>21519 rows × 14 columns</p>\n",
       "</div>"
      ],
      "text/plain": [
       "       children  days_employed  dob_years education  education_id  \\\n",
       "0             1           8437         42    высшее             0   \n",
       "1             1           4024         36   среднее             1   \n",
       "2             0           5623         33   среднее             1   \n",
       "3             3           4124         32   среднее             1   \n",
       "4             0          14177         53   среднее             1   \n",
       "...         ...            ...        ...       ...           ...   \n",
       "21520         1           4529         43   среднее             1   \n",
       "21521         0          14330         67   среднее             1   \n",
       "21522         1           2113         38   среднее             1   \n",
       "21523         3           3112         38   среднее             1   \n",
       "21524         2           1984         40   среднее             1   \n",
       "\n",
       "          family_status  family_status_id gender income_type  debt  \\\n",
       "0       женат / замужем                 0      F   сотрудник     0   \n",
       "1       женат / замужем                 0      F   сотрудник     0   \n",
       "2       женат / замужем                 0      M   сотрудник     0   \n",
       "3       женат / замужем                 0      M   сотрудник     0   \n",
       "4      гражданский брак                 1      F   пенсионер     0   \n",
       "...                 ...               ...    ...         ...   ...   \n",
       "21520  гражданский брак                 1      F   компаньон     0   \n",
       "21521   женат / замужем                 0      F   пенсионер     0   \n",
       "21522  гражданский брак                 1      M   сотрудник     1   \n",
       "21523   женат / замужем                 0      M   сотрудник     1   \n",
       "21524   женат / замужем                 0      F   сотрудник     0   \n",
       "\n",
       "       total_income                       purpose  employed_coef  \\\n",
       "0            253875                 покупка жилья       0.550293   \n",
       "1            112080       приобретение автомобиля       0.306396   \n",
       "2            145885                 покупка жилья       0.466797   \n",
       "3            267628    дополнительное образование       0.353027   \n",
       "4            158616               сыграть свадьбу      17.593750   \n",
       "...             ...                           ...            ...   \n",
       "21520        224791             операции с жильем       0.288574   \n",
       "21521        155999          сделка с автомобилем      14.062500   \n",
       "21522         89672                  недвижимость       0.152344   \n",
       "21523        244093  на покупку своего автомобиля       0.224365   \n",
       "21524         82047         на покупку автомобиля       0.135864   \n",
       "\n",
       "                                 purpose_lemmatized  \n",
       "0                           [покупка,  , жилье, \\n]  \n",
       "1                 [приобретение,  , автомобиль, \\n]  \n",
       "2                           [покупка,  , жилье, \\n]  \n",
       "3              [дополнительный,  , образование, \\n]  \n",
       "4                         [сыграть,  , свадьба, \\n]  \n",
       "...                                             ...  \n",
       "21520                [операция,  , с,  , жилье, \\n]  \n",
       "21521             [сделка,  , с,  , автомобиль, \\n]  \n",
       "21522                            [недвижимость, \\n]  \n",
       "21523  [на,  , покупка,  , свой,  , автомобиль, \\n]  \n",
       "21524           [на,  , покупка,  , автомобиль, \\n]  \n",
       "\n",
       "[21519 rows x 14 columns]"
      ]
     },
     "execution_count": 580,
     "metadata": {},
     "output_type": "execute_result"
    }
   ],
   "source": [
    "m = Mystem() \n",
    "\n",
    "def lemmatize_text(text):\n",
    "    return m.lemmatize(text)\n",
    "\n",
    "df['purpose_lemmatized'] = df['purpose'].apply(lemmatize_text)\n",
    "df"
   ]
  },
  {
   "cell_type": "code",
   "execution_count": 581,
   "metadata": {},
   "outputs": [
    {
     "data": {
      "text/plain": [
       "Counter({'покупка': 5910,\n",
       "         'жилье': 4471,\n",
       "         'приобретение': 462,\n",
       "         'автомобиль': 4314,\n",
       "         'дополнительный': 909,\n",
       "         'образование': 4022,\n",
       "         'сыграть': 774,\n",
       "         'свадьба': 2347,\n",
       "         'операция': 2610,\n",
       "         'с': 2924,\n",
       "         'на': 2232,\n",
       "         'проведение': 776,\n",
       "         'для': 1293,\n",
       "         'семья': 641,\n",
       "         'недвижимость': 6365,\n",
       "         'коммерческий': 1315,\n",
       "         'жилой': 1232,\n",
       "         'строительство': 1880,\n",
       "         'собственный': 634,\n",
       "         'подержать': 479,\n",
       "         'свой': 2235,\n",
       "         'со': 630,\n",
       "         'заниматься': 908,\n",
       "         'сделка': 944,\n",
       "         'подержанный': 489,\n",
       "         'получение': 1316,\n",
       "         'высокий': 1375,\n",
       "         'профильный': 436,\n",
       "         'сдача': 652,\n",
       "         'ремонт': 611})"
      ]
     },
     "execution_count": 581,
     "metadata": {},
     "output_type": "execute_result"
    }
   ],
   "source": [
    "def counter_data_lemmas(col):\n",
    "    list_data = []\n",
    "    for c in col:\n",
    "        for word in c:\n",
    "            if word not in [' ', '\\n']:\n",
    "                list_data.append(word)\n",
    "    return list_data\n",
    "\n",
    "Counter(counter_data_lemmas(df['purpose_lemmatized']))"
   ]
  },
  {
   "cell_type": "markdown",
   "metadata": {},
   "source": [
    "**Вывод**"
   ]
  },
  {
   "cell_type": "markdown",
   "metadata": {},
   "source": [
    "Была проведена лемматизация целей кредита у клиентов с помощью инструментов библиотеки pymystem3. В процессе изучения результатов были обнаружены частые повторения пустых строк и символов переноса строки. Такие данные были изключениы из итогового подсчета лемм.\n",
    "Было обнаружено, что самыми популярными целями взятия кредитов у клиентов является недвижимость."
   ]
  },
  {
   "cell_type": "markdown",
   "metadata": {},
   "source": [
    "### Категоризация данных"
   ]
  },
  {
   "cell_type": "code",
   "execution_count": 582,
   "metadata": {
    "scrolled": true
   },
   "outputs": [
    {
     "data": {
      "text/html": [
       "<div>\n",
       "<style scoped>\n",
       "    .dataframe tbody tr th:only-of-type {\n",
       "        vertical-align: middle;\n",
       "    }\n",
       "\n",
       "    .dataframe tbody tr th {\n",
       "        vertical-align: top;\n",
       "    }\n",
       "\n",
       "    .dataframe thead th {\n",
       "        text-align: right;\n",
       "    }\n",
       "</style>\n",
       "<table border=\"1\" class=\"dataframe\">\n",
       "  <thead>\n",
       "    <tr style=\"text-align: right;\">\n",
       "      <th></th>\n",
       "      <th>children</th>\n",
       "      <th>days_employed</th>\n",
       "      <th>dob_years</th>\n",
       "      <th>education</th>\n",
       "      <th>education_id</th>\n",
       "      <th>family_status</th>\n",
       "      <th>family_status_id</th>\n",
       "      <th>gender</th>\n",
       "      <th>income_type</th>\n",
       "      <th>debt</th>\n",
       "      <th>total_income</th>\n",
       "      <th>purpose</th>\n",
       "      <th>employed_coef</th>\n",
       "      <th>purpose_lemmatized</th>\n",
       "    </tr>\n",
       "  </thead>\n",
       "  <tbody>\n",
       "    <tr>\n",
       "      <td>0</td>\n",
       "      <td>1</td>\n",
       "      <td>8437</td>\n",
       "      <td>42</td>\n",
       "      <td>высшее</td>\n",
       "      <td>0</td>\n",
       "      <td>женат / замужем</td>\n",
       "      <td>0</td>\n",
       "      <td>F</td>\n",
       "      <td>сотрудник</td>\n",
       "      <td>0</td>\n",
       "      <td>253875</td>\n",
       "      <td>покупка жилья</td>\n",
       "      <td>0.550293</td>\n",
       "      <td>[покупка,  , жилье, \\n]</td>\n",
       "    </tr>\n",
       "    <tr>\n",
       "      <td>1</td>\n",
       "      <td>1</td>\n",
       "      <td>4024</td>\n",
       "      <td>36</td>\n",
       "      <td>среднее</td>\n",
       "      <td>1</td>\n",
       "      <td>женат / замужем</td>\n",
       "      <td>0</td>\n",
       "      <td>F</td>\n",
       "      <td>сотрудник</td>\n",
       "      <td>0</td>\n",
       "      <td>112080</td>\n",
       "      <td>приобретение автомобиля</td>\n",
       "      <td>0.306396</td>\n",
       "      <td>[приобретение,  , автомобиль, \\n]</td>\n",
       "    </tr>\n",
       "    <tr>\n",
       "      <td>2</td>\n",
       "      <td>0</td>\n",
       "      <td>5623</td>\n",
       "      <td>33</td>\n",
       "      <td>среднее</td>\n",
       "      <td>1</td>\n",
       "      <td>женат / замужем</td>\n",
       "      <td>0</td>\n",
       "      <td>M</td>\n",
       "      <td>сотрудник</td>\n",
       "      <td>0</td>\n",
       "      <td>145885</td>\n",
       "      <td>покупка жилья</td>\n",
       "      <td>0.466797</td>\n",
       "      <td>[покупка,  , жилье, \\n]</td>\n",
       "    </tr>\n",
       "    <tr>\n",
       "      <td>3</td>\n",
       "      <td>3</td>\n",
       "      <td>4124</td>\n",
       "      <td>32</td>\n",
       "      <td>среднее</td>\n",
       "      <td>1</td>\n",
       "      <td>женат / замужем</td>\n",
       "      <td>0</td>\n",
       "      <td>M</td>\n",
       "      <td>сотрудник</td>\n",
       "      <td>0</td>\n",
       "      <td>267628</td>\n",
       "      <td>дополнительное образование</td>\n",
       "      <td>0.353027</td>\n",
       "      <td>[дополнительный,  , образование, \\n]</td>\n",
       "    </tr>\n",
       "    <tr>\n",
       "      <td>4</td>\n",
       "      <td>0</td>\n",
       "      <td>14177</td>\n",
       "      <td>53</td>\n",
       "      <td>среднее</td>\n",
       "      <td>1</td>\n",
       "      <td>гражданский брак</td>\n",
       "      <td>1</td>\n",
       "      <td>F</td>\n",
       "      <td>пенсионер</td>\n",
       "      <td>0</td>\n",
       "      <td>158616</td>\n",
       "      <td>сыграть свадьбу</td>\n",
       "      <td>17.593750</td>\n",
       "      <td>[сыграть,  , свадьба, \\n]</td>\n",
       "    </tr>\n",
       "    <tr>\n",
       "      <td>5</td>\n",
       "      <td>0</td>\n",
       "      <td>926</td>\n",
       "      <td>27</td>\n",
       "      <td>высшее</td>\n",
       "      <td>0</td>\n",
       "      <td>гражданский брак</td>\n",
       "      <td>1</td>\n",
       "      <td>M</td>\n",
       "      <td>компаньон</td>\n",
       "      <td>0</td>\n",
       "      <td>255763</td>\n",
       "      <td>покупка жилья</td>\n",
       "      <td>0.093994</td>\n",
       "      <td>[покупка,  , жилье, \\n]</td>\n",
       "    </tr>\n",
       "    <tr>\n",
       "      <td>6</td>\n",
       "      <td>0</td>\n",
       "      <td>2879</td>\n",
       "      <td>43</td>\n",
       "      <td>высшее</td>\n",
       "      <td>0</td>\n",
       "      <td>женат / замужем</td>\n",
       "      <td>0</td>\n",
       "      <td>F</td>\n",
       "      <td>компаньон</td>\n",
       "      <td>0</td>\n",
       "      <td>240525</td>\n",
       "      <td>операции с жильем</td>\n",
       "      <td>0.183472</td>\n",
       "      <td>[операция,  , с,  , жилье, \\n]</td>\n",
       "    </tr>\n",
       "    <tr>\n",
       "      <td>7</td>\n",
       "      <td>0</td>\n",
       "      <td>152</td>\n",
       "      <td>50</td>\n",
       "      <td>среднее</td>\n",
       "      <td>1</td>\n",
       "      <td>женат / замужем</td>\n",
       "      <td>0</td>\n",
       "      <td>M</td>\n",
       "      <td>сотрудник</td>\n",
       "      <td>0</td>\n",
       "      <td>135823</td>\n",
       "      <td>образование</td>\n",
       "      <td>0.008369</td>\n",
       "      <td>[образование, \\n]</td>\n",
       "    </tr>\n",
       "    <tr>\n",
       "      <td>8</td>\n",
       "      <td>2</td>\n",
       "      <td>6929</td>\n",
       "      <td>35</td>\n",
       "      <td>высшее</td>\n",
       "      <td>0</td>\n",
       "      <td>гражданский брак</td>\n",
       "      <td>1</td>\n",
       "      <td>F</td>\n",
       "      <td>сотрудник</td>\n",
       "      <td>0</td>\n",
       "      <td>95856</td>\n",
       "      <td>на проведение свадьбы</td>\n",
       "      <td>0.542480</td>\n",
       "      <td>[на,  , проведение,  , свадьба, \\n]</td>\n",
       "    </tr>\n",
       "    <tr>\n",
       "      <td>9</td>\n",
       "      <td>0</td>\n",
       "      <td>2188</td>\n",
       "      <td>41</td>\n",
       "      <td>среднее</td>\n",
       "      <td>1</td>\n",
       "      <td>женат / замужем</td>\n",
       "      <td>0</td>\n",
       "      <td>M</td>\n",
       "      <td>сотрудник</td>\n",
       "      <td>0</td>\n",
       "      <td>144425</td>\n",
       "      <td>покупка жилья для семьи</td>\n",
       "      <td>0.146240</td>\n",
       "      <td>[покупка,  , жилье,  , для,  , семья, \\n]</td>\n",
       "    </tr>\n",
       "  </tbody>\n",
       "</table>\n",
       "</div>"
      ],
      "text/plain": [
       "   children  days_employed  dob_years education  education_id  \\\n",
       "0         1           8437         42    высшее             0   \n",
       "1         1           4024         36   среднее             1   \n",
       "2         0           5623         33   среднее             1   \n",
       "3         3           4124         32   среднее             1   \n",
       "4         0          14177         53   среднее             1   \n",
       "5         0            926         27    высшее             0   \n",
       "6         0           2879         43    высшее             0   \n",
       "7         0            152         50   среднее             1   \n",
       "8         2           6929         35    высшее             0   \n",
       "9         0           2188         41   среднее             1   \n",
       "\n",
       "      family_status  family_status_id gender income_type  debt  total_income  \\\n",
       "0   женат / замужем                 0      F   сотрудник     0        253875   \n",
       "1   женат / замужем                 0      F   сотрудник     0        112080   \n",
       "2   женат / замужем                 0      M   сотрудник     0        145885   \n",
       "3   женат / замужем                 0      M   сотрудник     0        267628   \n",
       "4  гражданский брак                 1      F   пенсионер     0        158616   \n",
       "5  гражданский брак                 1      M   компаньон     0        255763   \n",
       "6   женат / замужем                 0      F   компаньон     0        240525   \n",
       "7   женат / замужем                 0      M   сотрудник     0        135823   \n",
       "8  гражданский брак                 1      F   сотрудник     0         95856   \n",
       "9   женат / замужем                 0      M   сотрудник     0        144425   \n",
       "\n",
       "                      purpose  employed_coef  \\\n",
       "0               покупка жилья       0.550293   \n",
       "1     приобретение автомобиля       0.306396   \n",
       "2               покупка жилья       0.466797   \n",
       "3  дополнительное образование       0.353027   \n",
       "4             сыграть свадьбу      17.593750   \n",
       "5               покупка жилья       0.093994   \n",
       "6           операции с жильем       0.183472   \n",
       "7                 образование       0.008369   \n",
       "8       на проведение свадьбы       0.542480   \n",
       "9     покупка жилья для семьи       0.146240   \n",
       "\n",
       "                          purpose_lemmatized  \n",
       "0                    [покупка,  , жилье, \\n]  \n",
       "1          [приобретение,  , автомобиль, \\n]  \n",
       "2                    [покупка,  , жилье, \\n]  \n",
       "3       [дополнительный,  , образование, \\n]  \n",
       "4                  [сыграть,  , свадьба, \\n]  \n",
       "5                    [покупка,  , жилье, \\n]  \n",
       "6             [операция,  , с,  , жилье, \\n]  \n",
       "7                          [образование, \\n]  \n",
       "8        [на,  , проведение,  , свадьба, \\n]  \n",
       "9  [покупка,  , жилье,  , для,  , семья, \\n]  "
      ]
     },
     "execution_count": 582,
     "metadata": {},
     "output_type": "execute_result"
    }
   ],
   "source": [
    "df.head(10)"
   ]
  },
  {
   "cell_type": "markdown",
   "metadata": {},
   "source": [
    "Создадим сводную таблицу, которое покажет влияние семейного положения на на факт погашения кредита в срок:"
   ]
  },
  {
   "cell_type": "markdown",
   "metadata": {},
   "source": [
    "Обобщенная функция создания сводных таблиц по названию столбца:"
   ]
  },
  {
   "cell_type": "code",
   "execution_count": 583,
   "metadata": {},
   "outputs": [
    {
     "data": {
      "text/plain": [
       "0    11448\n",
       "1      929\n",
       "Name: debt, dtype: int64"
      ]
     },
     "execution_count": 583,
     "metadata": {},
     "output_type": "execute_result"
    }
   ],
   "source": [
    "df[df['family_status'] == 'женат / замужем']['debt'].value_counts()"
   ]
  },
  {
   "cell_type": "code",
   "execution_count": 584,
   "metadata": {},
   "outputs": [],
   "source": [
    "def calc_debt_pct_by_title(title):\n",
    "    pct_data = []\n",
    "    title_list = df[title].unique()\n",
    "    for t in title_list:\n",
    "        frame = df[(df[title] == t)]['debt'].value_counts()\n",
    "        pct = frame.loc[0] / (frame.loc[0] + frame.loc[1]) * 100\n",
    "        pct_data.append(pct)\n",
    "    data_frame = pd.DataFrame({title: title_list.tolist(), 'pct': pct_data})\n",
    "    return data_frame"
   ]
  },
  {
   "cell_type": "markdown",
   "metadata": {},
   "source": [
    "Сводная таблица по семейному статусу:"
   ]
  },
  {
   "cell_type": "code",
   "execution_count": 585,
   "metadata": {
    "scrolled": true
   },
   "outputs": [
    {
     "data": {
      "text/html": [
       "<div>\n",
       "<style scoped>\n",
       "    .dataframe tbody tr th:only-of-type {\n",
       "        vertical-align: middle;\n",
       "    }\n",
       "\n",
       "    .dataframe tbody tr th {\n",
       "        vertical-align: top;\n",
       "    }\n",
       "\n",
       "    .dataframe thead th {\n",
       "        text-align: right;\n",
       "    }\n",
       "</style>\n",
       "<table border=\"1\" class=\"dataframe\">\n",
       "  <thead>\n",
       "    <tr style=\"text-align: right;\">\n",
       "      <th></th>\n",
       "      <th>family_status</th>\n",
       "      <th>pct</th>\n",
       "    </tr>\n",
       "  </thead>\n",
       "  <tbody>\n",
       "    <tr>\n",
       "      <td>2</td>\n",
       "      <td>вдовец / вдова</td>\n",
       "      <td>93.437500</td>\n",
       "    </tr>\n",
       "    <tr>\n",
       "      <td>3</td>\n",
       "      <td>в разводе</td>\n",
       "      <td>92.887029</td>\n",
       "    </tr>\n",
       "    <tr>\n",
       "      <td>0</td>\n",
       "      <td>женат / замужем</td>\n",
       "      <td>92.494142</td>\n",
       "    </tr>\n",
       "    <tr>\n",
       "      <td>1</td>\n",
       "      <td>гражданский брак</td>\n",
       "      <td>90.706587</td>\n",
       "    </tr>\n",
       "    <tr>\n",
       "      <td>4</td>\n",
       "      <td>не женат / не замужем</td>\n",
       "      <td>90.256046</td>\n",
       "    </tr>\n",
       "  </tbody>\n",
       "</table>\n",
       "</div>"
      ],
      "text/plain": [
       "           family_status        pct\n",
       "2         вдовец / вдова  93.437500\n",
       "3              в разводе  92.887029\n",
       "0        женат / замужем  92.494142\n",
       "1       гражданский брак  90.706587\n",
       "4  не женат / не замужем  90.256046"
      ]
     },
     "execution_count": 585,
     "metadata": {},
     "output_type": "execute_result"
    }
   ],
   "source": [
    "family_status = calc_debt_pct_by_title('family_status')\n",
    "family_status.sort_values(by='pct', ascending=False)"
   ]
  },
  {
   "cell_type": "markdown",
   "metadata": {},
   "source": [
    "Обобщенная категоризация по кол-ву детей:"
   ]
  },
  {
   "cell_type": "code",
   "execution_count": 586,
   "metadata": {},
   "outputs": [],
   "source": [
    "def is_children(row):\n",
    "    if row['children'] > 2:\n",
    "        return 'более 2-х детей'\n",
    "    if row['children'] > 0:\n",
    "        return '1-2 ребенка'\n",
    "    return 'нет детей'"
   ]
  },
  {
   "cell_type": "code",
   "execution_count": 587,
   "metadata": {},
   "outputs": [],
   "source": [
    "df['is_children'] = df.apply(is_children, axis=1)"
   ]
  },
  {
   "cell_type": "code",
   "execution_count": 588,
   "metadata": {
    "scrolled": false
   },
   "outputs": [
    {
     "data": {
      "text/html": [
       "<div>\n",
       "<style scoped>\n",
       "    .dataframe tbody tr th:only-of-type {\n",
       "        vertical-align: middle;\n",
       "    }\n",
       "\n",
       "    .dataframe tbody tr th {\n",
       "        vertical-align: top;\n",
       "    }\n",
       "\n",
       "    .dataframe thead th {\n",
       "        text-align: right;\n",
       "    }\n",
       "</style>\n",
       "<table border=\"1\" class=\"dataframe\">\n",
       "  <thead>\n",
       "    <tr style=\"text-align: right;\">\n",
       "      <th></th>\n",
       "      <th>is_children</th>\n",
       "      <th>pct</th>\n",
       "    </tr>\n",
       "  </thead>\n",
       "  <tbody>\n",
       "    <tr>\n",
       "      <td>1</td>\n",
       "      <td>нет детей</td>\n",
       "      <td>92.484977</td>\n",
       "    </tr>\n",
       "    <tr>\n",
       "      <td>2</td>\n",
       "      <td>более 2-х детей</td>\n",
       "      <td>91.447368</td>\n",
       "    </tr>\n",
       "    <tr>\n",
       "      <td>0</td>\n",
       "      <td>1-2 ребенка</td>\n",
       "      <td>90.792136</td>\n",
       "    </tr>\n",
       "  </tbody>\n",
       "</table>\n",
       "</div>"
      ],
      "text/plain": [
       "       is_children        pct\n",
       "1        нет детей  92.484977\n",
       "2  более 2-х детей  91.447368\n",
       "0      1-2 ребенка  90.792136"
      ]
     },
     "execution_count": 588,
     "metadata": {},
     "output_type": "execute_result"
    }
   ],
   "source": [
    "children_status = calc_debt_pct_by_title('is_children')\n",
    "children_status.sort_values(by='pct', ascending=False)"
   ]
  },
  {
   "cell_type": "markdown",
   "metadata": {},
   "source": [
    "Обобщенная категоризация по ежемесячному доходу:"
   ]
  },
  {
   "cell_type": "code",
   "execution_count": 589,
   "metadata": {},
   "outputs": [],
   "source": [
    "def income_lvl(row):\n",
    "    if row['total_income'] >= 300000:\n",
    "        return 'более 300 тыс. руб.'\n",
    "    if 299999 > row['total_income'] >= 200000:\n",
    "        return 'от 200 до 300 тыс. руб'\n",
    "    if 199999 > row['total_income'] >= 100000:\n",
    "        return 'от 100 до 200 тыс. руб'\n",
    "    return 'менее 100 тыс.руб'"
   ]
  },
  {
   "cell_type": "code",
   "execution_count": 590,
   "metadata": {},
   "outputs": [],
   "source": [
    "df['income_lvl'] = df.apply(income_lvl, axis=1)"
   ]
  },
  {
   "cell_type": "code",
   "execution_count": 591,
   "metadata": {
    "scrolled": false
   },
   "outputs": [
    {
     "data": {
      "text/plain": [
       "от 100 до 200 тыс. руб    11995\n",
       "менее 100 тыс.руб          4460\n",
       "от 200 до 300 тыс. руб     3583\n",
       "более 300 тыс. руб.        1481\n",
       "Name: income_lvl, dtype: int64"
      ]
     },
     "execution_count": 591,
     "metadata": {},
     "output_type": "execute_result"
    }
   ],
   "source": [
    "df['income_lvl'].value_counts()"
   ]
  },
  {
   "cell_type": "markdown",
   "metadata": {},
   "source": [
    "Сводная таблица:"
   ]
  },
  {
   "cell_type": "code",
   "execution_count": 592,
   "metadata": {
    "scrolled": true
   },
   "outputs": [
    {
     "data": {
      "text/html": [
       "<div>\n",
       "<style scoped>\n",
       "    .dataframe tbody tr th:only-of-type {\n",
       "        vertical-align: middle;\n",
       "    }\n",
       "\n",
       "    .dataframe tbody tr th {\n",
       "        vertical-align: top;\n",
       "    }\n",
       "\n",
       "    .dataframe thead th {\n",
       "        text-align: right;\n",
       "    }\n",
       "</style>\n",
       "<table border=\"1\" class=\"dataframe\">\n",
       "  <thead>\n",
       "    <tr style=\"text-align: right;\">\n",
       "      <th></th>\n",
       "      <th>income_lvl</th>\n",
       "      <th>pct</th>\n",
       "    </tr>\n",
       "  </thead>\n",
       "  <tbody>\n",
       "    <tr>\n",
       "      <td>0</td>\n",
       "      <td>от 200 до 300 тыс. руб</td>\n",
       "      <td>92.966788</td>\n",
       "    </tr>\n",
       "    <tr>\n",
       "      <td>3</td>\n",
       "      <td>более 300 тыс. руб.</td>\n",
       "      <td>92.842674</td>\n",
       "    </tr>\n",
       "    <tr>\n",
       "      <td>2</td>\n",
       "      <td>менее 100 тыс.руб</td>\n",
       "      <td>92.107623</td>\n",
       "    </tr>\n",
       "    <tr>\n",
       "      <td>1</td>\n",
       "      <td>от 100 до 200 тыс. руб</td>\n",
       "      <td>91.421426</td>\n",
       "    </tr>\n",
       "  </tbody>\n",
       "</table>\n",
       "</div>"
      ],
      "text/plain": [
       "               income_lvl        pct\n",
       "0  от 200 до 300 тыс. руб  92.966788\n",
       "3     более 300 тыс. руб.  92.842674\n",
       "2       менее 100 тыс.руб  92.107623\n",
       "1  от 100 до 200 тыс. руб  91.421426"
      ]
     },
     "execution_count": 592,
     "metadata": {},
     "output_type": "execute_result"
    }
   ],
   "source": [
    "income_status = calc_debt_pct_by_title('income_lvl')\n",
    "income_status.sort_values(by='pct', ascending=False)"
   ]
  },
  {
   "cell_type": "code",
   "execution_count": 593,
   "metadata": {},
   "outputs": [
    {
     "data": {
      "text/html": [
       "<div>\n",
       "<style scoped>\n",
       "    .dataframe tbody tr th:only-of-type {\n",
       "        vertical-align: middle;\n",
       "    }\n",
       "\n",
       "    .dataframe tbody tr th {\n",
       "        vertical-align: top;\n",
       "    }\n",
       "\n",
       "    .dataframe thead th {\n",
       "        text-align: right;\n",
       "    }\n",
       "</style>\n",
       "<table border=\"1\" class=\"dataframe\">\n",
       "  <thead>\n",
       "    <tr style=\"text-align: right;\">\n",
       "      <th></th>\n",
       "      <th>children</th>\n",
       "      <th>days_employed</th>\n",
       "      <th>dob_years</th>\n",
       "      <th>education</th>\n",
       "      <th>education_id</th>\n",
       "      <th>family_status</th>\n",
       "      <th>family_status_id</th>\n",
       "      <th>gender</th>\n",
       "      <th>income_type</th>\n",
       "      <th>debt</th>\n",
       "      <th>total_income</th>\n",
       "      <th>purpose</th>\n",
       "      <th>employed_coef</th>\n",
       "      <th>purpose_lemmatized</th>\n",
       "      <th>is_children</th>\n",
       "      <th>income_lvl</th>\n",
       "    </tr>\n",
       "  </thead>\n",
       "  <tbody>\n",
       "    <tr>\n",
       "      <td>0</td>\n",
       "      <td>1</td>\n",
       "      <td>8437</td>\n",
       "      <td>42</td>\n",
       "      <td>высшее</td>\n",
       "      <td>0</td>\n",
       "      <td>женат / замужем</td>\n",
       "      <td>0</td>\n",
       "      <td>F</td>\n",
       "      <td>сотрудник</td>\n",
       "      <td>0</td>\n",
       "      <td>253875</td>\n",
       "      <td>покупка жилья</td>\n",
       "      <td>0.550293</td>\n",
       "      <td>[покупка,  , жилье, \\n]</td>\n",
       "      <td>1-2 ребенка</td>\n",
       "      <td>от 200 до 300 тыс. руб</td>\n",
       "    </tr>\n",
       "    <tr>\n",
       "      <td>1</td>\n",
       "      <td>1</td>\n",
       "      <td>4024</td>\n",
       "      <td>36</td>\n",
       "      <td>среднее</td>\n",
       "      <td>1</td>\n",
       "      <td>женат / замужем</td>\n",
       "      <td>0</td>\n",
       "      <td>F</td>\n",
       "      <td>сотрудник</td>\n",
       "      <td>0</td>\n",
       "      <td>112080</td>\n",
       "      <td>приобретение автомобиля</td>\n",
       "      <td>0.306396</td>\n",
       "      <td>[приобретение,  , автомобиль, \\n]</td>\n",
       "      <td>1-2 ребенка</td>\n",
       "      <td>от 100 до 200 тыс. руб</td>\n",
       "    </tr>\n",
       "    <tr>\n",
       "      <td>2</td>\n",
       "      <td>0</td>\n",
       "      <td>5623</td>\n",
       "      <td>33</td>\n",
       "      <td>среднее</td>\n",
       "      <td>1</td>\n",
       "      <td>женат / замужем</td>\n",
       "      <td>0</td>\n",
       "      <td>M</td>\n",
       "      <td>сотрудник</td>\n",
       "      <td>0</td>\n",
       "      <td>145885</td>\n",
       "      <td>покупка жилья</td>\n",
       "      <td>0.466797</td>\n",
       "      <td>[покупка,  , жилье, \\n]</td>\n",
       "      <td>нет детей</td>\n",
       "      <td>от 100 до 200 тыс. руб</td>\n",
       "    </tr>\n",
       "    <tr>\n",
       "      <td>3</td>\n",
       "      <td>3</td>\n",
       "      <td>4124</td>\n",
       "      <td>32</td>\n",
       "      <td>среднее</td>\n",
       "      <td>1</td>\n",
       "      <td>женат / замужем</td>\n",
       "      <td>0</td>\n",
       "      <td>M</td>\n",
       "      <td>сотрудник</td>\n",
       "      <td>0</td>\n",
       "      <td>267628</td>\n",
       "      <td>дополнительное образование</td>\n",
       "      <td>0.353027</td>\n",
       "      <td>[дополнительный,  , образование, \\n]</td>\n",
       "      <td>более 2-х детей</td>\n",
       "      <td>от 200 до 300 тыс. руб</td>\n",
       "    </tr>\n",
       "    <tr>\n",
       "      <td>4</td>\n",
       "      <td>0</td>\n",
       "      <td>14177</td>\n",
       "      <td>53</td>\n",
       "      <td>среднее</td>\n",
       "      <td>1</td>\n",
       "      <td>гражданский брак</td>\n",
       "      <td>1</td>\n",
       "      <td>F</td>\n",
       "      <td>пенсионер</td>\n",
       "      <td>0</td>\n",
       "      <td>158616</td>\n",
       "      <td>сыграть свадьбу</td>\n",
       "      <td>17.593750</td>\n",
       "      <td>[сыграть,  , свадьба, \\n]</td>\n",
       "      <td>нет детей</td>\n",
       "      <td>от 100 до 200 тыс. руб</td>\n",
       "    </tr>\n",
       "  </tbody>\n",
       "</table>\n",
       "</div>"
      ],
      "text/plain": [
       "   children  days_employed  dob_years education  education_id  \\\n",
       "0         1           8437         42    высшее             0   \n",
       "1         1           4024         36   среднее             1   \n",
       "2         0           5623         33   среднее             1   \n",
       "3         3           4124         32   среднее             1   \n",
       "4         0          14177         53   среднее             1   \n",
       "\n",
       "      family_status  family_status_id gender income_type  debt  total_income  \\\n",
       "0   женат / замужем                 0      F   сотрудник     0        253875   \n",
       "1   женат / замужем                 0      F   сотрудник     0        112080   \n",
       "2   женат / замужем                 0      M   сотрудник     0        145885   \n",
       "3   женат / замужем                 0      M   сотрудник     0        267628   \n",
       "4  гражданский брак                 1      F   пенсионер     0        158616   \n",
       "\n",
       "                      purpose  employed_coef  \\\n",
       "0               покупка жилья       0.550293   \n",
       "1     приобретение автомобиля       0.306396   \n",
       "2               покупка жилья       0.466797   \n",
       "3  дополнительное образование       0.353027   \n",
       "4             сыграть свадьбу      17.593750   \n",
       "\n",
       "                     purpose_lemmatized      is_children  \\\n",
       "0               [покупка,  , жилье, \\n]      1-2 ребенка   \n",
       "1     [приобретение,  , автомобиль, \\n]      1-2 ребенка   \n",
       "2               [покупка,  , жилье, \\n]        нет детей   \n",
       "3  [дополнительный,  , образование, \\n]  более 2-х детей   \n",
       "4             [сыграть,  , свадьба, \\n]        нет детей   \n",
       "\n",
       "               income_lvl  \n",
       "0  от 200 до 300 тыс. руб  \n",
       "1  от 100 до 200 тыс. руб  \n",
       "2  от 100 до 200 тыс. руб  \n",
       "3  от 200 до 300 тыс. руб  \n",
       "4  от 100 до 200 тыс. руб  "
      ]
     },
     "execution_count": 593,
     "metadata": {},
     "output_type": "execute_result"
    }
   ],
   "source": [
    "df.head()"
   ]
  },
  {
   "cell_type": "code",
   "execution_count": 594,
   "metadata": {},
   "outputs": [],
   "source": [
    "def credit_type(row):\n",
    "    for r in row['purpose_lemmatized']:\n",
    "        if r in ['жилье', 'недвижимость', 'строительство']:\n",
    "            return 'недвижимость'\n",
    "        elif r == 'авто':\n",
    "            return 'авто'\n",
    "        elif r == 'образование':\n",
    "            return 'образование'\n",
    "        elif r == 'свадьба':\n",
    "            return 'свадьба'\n",
    "    return 'другое'"
   ]
  },
  {
   "cell_type": "code",
   "execution_count": 595,
   "metadata": {},
   "outputs": [],
   "source": [
    "df['credit_type'] = df.apply(credit_type, axis=1)"
   ]
  },
  {
   "cell_type": "code",
   "execution_count": 596,
   "metadata": {},
   "outputs": [
    {
     "data": {
      "text/plain": [
       "недвижимость    10836\n",
       "другое           4314\n",
       "образование      4022\n",
       "свадьба          2347\n",
       "Name: credit_type, dtype: int64"
      ]
     },
     "execution_count": 596,
     "metadata": {},
     "output_type": "execute_result"
    }
   ],
   "source": [
    "df['credit_type'].value_counts()"
   ]
  },
  {
   "cell_type": "code",
   "execution_count": 597,
   "metadata": {},
   "outputs": [
    {
     "data": {
      "text/html": [
       "<div>\n",
       "<style scoped>\n",
       "    .dataframe tbody tr th:only-of-type {\n",
       "        vertical-align: middle;\n",
       "    }\n",
       "\n",
       "    .dataframe tbody tr th {\n",
       "        vertical-align: top;\n",
       "    }\n",
       "\n",
       "    .dataframe thead th {\n",
       "        text-align: right;\n",
       "    }\n",
       "</style>\n",
       "<table border=\"1\" class=\"dataframe\">\n",
       "  <thead>\n",
       "    <tr style=\"text-align: right;\">\n",
       "      <th></th>\n",
       "      <th>credit_type</th>\n",
       "      <th>pct</th>\n",
       "    </tr>\n",
       "  </thead>\n",
       "  <tbody>\n",
       "    <tr>\n",
       "      <td>0</td>\n",
       "      <td>недвижимость</td>\n",
       "      <td>92.792543</td>\n",
       "    </tr>\n",
       "    <tr>\n",
       "      <td>3</td>\n",
       "      <td>свадьба</td>\n",
       "      <td>92.074989</td>\n",
       "    </tr>\n",
       "    <tr>\n",
       "      <td>2</td>\n",
       "      <td>образование</td>\n",
       "      <td>90.800597</td>\n",
       "    </tr>\n",
       "    <tr>\n",
       "      <td>1</td>\n",
       "      <td>другое</td>\n",
       "      <td>90.681502</td>\n",
       "    </tr>\n",
       "  </tbody>\n",
       "</table>\n",
       "</div>"
      ],
      "text/plain": [
       "    credit_type        pct\n",
       "0  недвижимость  92.792543\n",
       "3       свадьба  92.074989\n",
       "2   образование  90.800597\n",
       "1        другое  90.681502"
      ]
     },
     "execution_count": 597,
     "metadata": {},
     "output_type": "execute_result"
    }
   ],
   "source": [
    "credit_type_status = calc_debt_pct_by_title('credit_type')\n",
    "credit_type_status.sort_values(by='pct', ascending=False)"
   ]
  },
  {
   "cell_type": "markdown",
   "metadata": {},
   "source": [
    "**Вывод**"
   ]
  },
  {
   "cell_type": "markdown",
   "metadata": {},
   "source": []
  },
  {
   "cell_type": "markdown",
   "metadata": {},
   "source": [
    "## Шаг 3. Ответьте на вопросы"
   ]
  },
  {
   "cell_type": "markdown",
   "metadata": {},
   "source": [
    "- Есть ли зависимость между наличием детей и возвратом кредита в срок?"
   ]
  },
  {
   "cell_type": "code",
   "execution_count": 598,
   "metadata": {},
   "outputs": [
    {
     "data": {
      "text/html": [
       "<div>\n",
       "<style scoped>\n",
       "    .dataframe tbody tr th:only-of-type {\n",
       "        vertical-align: middle;\n",
       "    }\n",
       "\n",
       "    .dataframe tbody tr th {\n",
       "        vertical-align: top;\n",
       "    }\n",
       "\n",
       "    .dataframe thead th {\n",
       "        text-align: right;\n",
       "    }\n",
       "</style>\n",
       "<table border=\"1\" class=\"dataframe\">\n",
       "  <thead>\n",
       "    <tr style=\"text-align: right;\">\n",
       "      <th></th>\n",
       "      <th>is_children</th>\n",
       "      <th>pct</th>\n",
       "    </tr>\n",
       "  </thead>\n",
       "  <tbody>\n",
       "    <tr>\n",
       "      <td>1</td>\n",
       "      <td>нет детей</td>\n",
       "      <td>92.484977</td>\n",
       "    </tr>\n",
       "    <tr>\n",
       "      <td>2</td>\n",
       "      <td>более 2-х детей</td>\n",
       "      <td>91.447368</td>\n",
       "    </tr>\n",
       "    <tr>\n",
       "      <td>0</td>\n",
       "      <td>1-2 ребенка</td>\n",
       "      <td>90.792136</td>\n",
       "    </tr>\n",
       "  </tbody>\n",
       "</table>\n",
       "</div>"
      ],
      "text/plain": [
       "       is_children        pct\n",
       "1        нет детей  92.484977\n",
       "2  более 2-х детей  91.447368\n",
       "0      1-2 ребенка  90.792136"
      ]
     },
     "execution_count": 598,
     "metadata": {},
     "output_type": "execute_result"
    }
   ],
   "source": [
    "children_status.sort_values(by='pct', ascending=False)"
   ]
  },
  {
   "cell_type": "markdown",
   "metadata": {},
   "source": [
    "**Вывод**"
   ]
  },
  {
   "cell_type": "markdown",
   "metadata": {},
   "source": [
    "В самом распространенном случае (1-2 ребенка) процент возврата кредитов самый маленький. Отсутствие детей благоприятно влияет на возвраты кредитов."
   ]
  },
  {
   "cell_type": "markdown",
   "metadata": {},
   "source": [
    "- Есть ли зависимость между семейным положением и возвратом кредита в срок?"
   ]
  },
  {
   "cell_type": "code",
   "execution_count": 599,
   "metadata": {},
   "outputs": [
    {
     "data": {
      "text/html": [
       "<div>\n",
       "<style scoped>\n",
       "    .dataframe tbody tr th:only-of-type {\n",
       "        vertical-align: middle;\n",
       "    }\n",
       "\n",
       "    .dataframe tbody tr th {\n",
       "        vertical-align: top;\n",
       "    }\n",
       "\n",
       "    .dataframe thead th {\n",
       "        text-align: right;\n",
       "    }\n",
       "</style>\n",
       "<table border=\"1\" class=\"dataframe\">\n",
       "  <thead>\n",
       "    <tr style=\"text-align: right;\">\n",
       "      <th></th>\n",
       "      <th>family_status</th>\n",
       "      <th>pct</th>\n",
       "    </tr>\n",
       "  </thead>\n",
       "  <tbody>\n",
       "    <tr>\n",
       "      <td>2</td>\n",
       "      <td>вдовец / вдова</td>\n",
       "      <td>93.437500</td>\n",
       "    </tr>\n",
       "    <tr>\n",
       "      <td>3</td>\n",
       "      <td>в разводе</td>\n",
       "      <td>92.887029</td>\n",
       "    </tr>\n",
       "    <tr>\n",
       "      <td>0</td>\n",
       "      <td>женат / замужем</td>\n",
       "      <td>92.494142</td>\n",
       "    </tr>\n",
       "    <tr>\n",
       "      <td>1</td>\n",
       "      <td>гражданский брак</td>\n",
       "      <td>90.706587</td>\n",
       "    </tr>\n",
       "    <tr>\n",
       "      <td>4</td>\n",
       "      <td>не женат / не замужем</td>\n",
       "      <td>90.256046</td>\n",
       "    </tr>\n",
       "  </tbody>\n",
       "</table>\n",
       "</div>"
      ],
      "text/plain": [
       "           family_status        pct\n",
       "2         вдовец / вдова  93.437500\n",
       "3              в разводе  92.887029\n",
       "0        женат / замужем  92.494142\n",
       "1       гражданский брак  90.706587\n",
       "4  не женат / не замужем  90.256046"
      ]
     },
     "execution_count": 599,
     "metadata": {},
     "output_type": "execute_result"
    }
   ],
   "source": [
    "family_status.sort_values(by='pct', ascending=False)"
   ]
  },
  {
   "cell_type": "markdown",
   "metadata": {},
   "source": [
    "**Вывод**"
   ]
  },
  {
   "cell_type": "markdown",
   "metadata": {},
   "source": [
    "Не женат / не замужем можно рассматривать как самую низкоответсвенную категорию из всех. Соответственно процент возврата займов в этой категории самый низкий, что логично."
   ]
  },
  {
   "cell_type": "markdown",
   "metadata": {},
   "source": [
    "- Есть ли зависимость между уровнем дохода и возвратом кредита в срок?"
   ]
  },
  {
   "cell_type": "code",
   "execution_count": 600,
   "metadata": {},
   "outputs": [
    {
     "data": {
      "text/html": [
       "<div>\n",
       "<style scoped>\n",
       "    .dataframe tbody tr th:only-of-type {\n",
       "        vertical-align: middle;\n",
       "    }\n",
       "\n",
       "    .dataframe tbody tr th {\n",
       "        vertical-align: top;\n",
       "    }\n",
       "\n",
       "    .dataframe thead th {\n",
       "        text-align: right;\n",
       "    }\n",
       "</style>\n",
       "<table border=\"1\" class=\"dataframe\">\n",
       "  <thead>\n",
       "    <tr style=\"text-align: right;\">\n",
       "      <th></th>\n",
       "      <th>income_lvl</th>\n",
       "      <th>pct</th>\n",
       "    </tr>\n",
       "  </thead>\n",
       "  <tbody>\n",
       "    <tr>\n",
       "      <td>0</td>\n",
       "      <td>от 200 до 300 тыс. руб</td>\n",
       "      <td>92.966788</td>\n",
       "    </tr>\n",
       "    <tr>\n",
       "      <td>3</td>\n",
       "      <td>более 300 тыс. руб.</td>\n",
       "      <td>92.842674</td>\n",
       "    </tr>\n",
       "    <tr>\n",
       "      <td>2</td>\n",
       "      <td>менее 100 тыс.руб</td>\n",
       "      <td>92.107623</td>\n",
       "    </tr>\n",
       "    <tr>\n",
       "      <td>1</td>\n",
       "      <td>от 100 до 200 тыс. руб</td>\n",
       "      <td>91.421426</td>\n",
       "    </tr>\n",
       "  </tbody>\n",
       "</table>\n",
       "</div>"
      ],
      "text/plain": [
       "               income_lvl        pct\n",
       "0  от 200 до 300 тыс. руб  92.966788\n",
       "3     более 300 тыс. руб.  92.842674\n",
       "2       менее 100 тыс.руб  92.107623\n",
       "1  от 100 до 200 тыс. руб  91.421426"
      ]
     },
     "execution_count": 600,
     "metadata": {},
     "output_type": "execute_result"
    }
   ],
   "source": [
    "income_status.sort_values(by='pct', ascending=False)"
   ]
  },
  {
   "cell_type": "markdown",
   "metadata": {},
   "source": [
    "**Вывод**"
   ]
  },
  {
   "cell_type": "markdown",
   "metadata": {},
   "source": [
    "Уровень дохода слабо влияет на процент возврата кредитов. Более высокий доход не равен более благоприятному проценту возврата."
   ]
  },
  {
   "cell_type": "markdown",
   "metadata": {},
   "source": [
    "- Как разные цели кредита влияют на его возврат в срок?"
   ]
  },
  {
   "cell_type": "code",
   "execution_count": 601,
   "metadata": {},
   "outputs": [
    {
     "data": {
      "text/html": [
       "<div>\n",
       "<style scoped>\n",
       "    .dataframe tbody tr th:only-of-type {\n",
       "        vertical-align: middle;\n",
       "    }\n",
       "\n",
       "    .dataframe tbody tr th {\n",
       "        vertical-align: top;\n",
       "    }\n",
       "\n",
       "    .dataframe thead th {\n",
       "        text-align: right;\n",
       "    }\n",
       "</style>\n",
       "<table border=\"1\" class=\"dataframe\">\n",
       "  <thead>\n",
       "    <tr style=\"text-align: right;\">\n",
       "      <th></th>\n",
       "      <th>credit_type</th>\n",
       "      <th>pct</th>\n",
       "    </tr>\n",
       "  </thead>\n",
       "  <tbody>\n",
       "    <tr>\n",
       "      <td>0</td>\n",
       "      <td>недвижимость</td>\n",
       "      <td>92.792543</td>\n",
       "    </tr>\n",
       "    <tr>\n",
       "      <td>3</td>\n",
       "      <td>свадьба</td>\n",
       "      <td>92.074989</td>\n",
       "    </tr>\n",
       "    <tr>\n",
       "      <td>2</td>\n",
       "      <td>образование</td>\n",
       "      <td>90.800597</td>\n",
       "    </tr>\n",
       "    <tr>\n",
       "      <td>1</td>\n",
       "      <td>другое</td>\n",
       "      <td>90.681502</td>\n",
       "    </tr>\n",
       "  </tbody>\n",
       "</table>\n",
       "</div>"
      ],
      "text/plain": [
       "    credit_type        pct\n",
       "0  недвижимость  92.792543\n",
       "3       свадьба  92.074989\n",
       "2   образование  90.800597\n",
       "1        другое  90.681502"
      ]
     },
     "execution_count": 601,
     "metadata": {},
     "output_type": "execute_result"
    }
   ],
   "source": [
    "credit_type_status = calc_debt_pct_by_title('credit_type')\n",
    "credit_type_status.sort_values(by='pct', ascending=False)"
   ]
  },
  {
   "cell_type": "markdown",
   "metadata": {},
   "source": [
    "**Вывод**"
   ]
  },
  {
   "cell_type": "markdown",
   "metadata": {},
   "source": [
    "У недвижимости значиетельно лучше процент возвратов кредитов, нежели у образования и прочих целей"
   ]
  },
  {
   "cell_type": "markdown",
   "metadata": {},
   "source": [
    "## Шаг 4. Общий вывод"
   ]
  },
  {
   "cell_type": "markdown",
   "metadata": {},
   "source": [
    "В ходе ииследования предоставленной мне базы клиентов банка, мною были сделаны следщие выводы:\n",
    "\n",
    "В реальных данных очень часто встечаются значения, которые не отражают действительность, так называемые артефакты. Их поиск, обнаружение и исправления важны не только для анализа полученых данных, но и для предупреждения будущих неправильных исследований. От выбора правильного способа устанения таких артефатов, зависит чистота и правильность итового анализа.\n",
    "\n",
    "Были сделанны нектороые преположения о влиянии ряда параметров клиента на его собосность возвращать кредитные задолжности в срок.\n",
    "\n",
    "- Можно сделать вывод что в худшем случае у каждого десятого клиент имеются проблемы с возвратом кредита в срок.\n",
    "- Есть ли зависимость между наличием детей и возвратом кредита в срок? Появление ребенка некативно влиияет на способность клиентов вовращать кредитные задолженности. падает с 92.48% до 90.79%. Такая статистика справедлива для клиентов, имеющих 1-2 ребенка в семье, что является наиболее частым случаем кол-ва детей. Но расет с появлением 3 и более ребенка до 91.44%.\n",
    "\n",
    "- Семейное положение также влияет на возможности клиентов возврата кредитов. У людей без официальной социальной ответсвенноти она ниже (не женат / не замужем:90.25%) в то время как (вдовец / вдова:93.43%). Клиенты во время и после официальных семейных взаимоотношений относятся к кредитным задолженностям более отвественно нежелю люди без отношений или живущих в гражанском браке.\n",
    "\n",
    "- Не было замечено сильной зависимости ежемесячного дохода от факта уплаты кредитов. Показатели колеблются от 91.42% до 92.96%. Возможно это связано с тем, что люди с большим достатком берут большие кредитные займы, и наоборот.\n",
    "\n",
    "- Что касается целей кредитов, самыми надежными, по возврату оказались кредиты на недвижимость\t92.79%, а самые неблагополучные - образование 90.80% \n",
    "\n",
    "Полученные выводы могут помочь банку в принятии решений о выдаче очередного кредита для клиента. Правильные решения повысят общий процент своевременных возвратов."
   ]
  },
  {
   "cell_type": "markdown",
   "metadata": {},
   "source": [
    "## Чек-лист готовности проекта\n",
    "\n",
    "Поставьте 'x' в выполненных пунктах. Далее нажмите Shift+Enter."
   ]
  },
  {
   "cell_type": "markdown",
   "metadata": {},
   "source": [
    "- [x]  открыт файл;\n",
    "- [x]  файл изучен;\n",
    "- [x]  определены пропущенные значения;\n",
    "- [x]  заполнены пропущенные значения;\n",
    "- [x]  есть пояснение, какие пропущенные значения обнаружены;\n",
    "- [x]  описаны возможные причины появления пропусков в данных;\n",
    "- [x]  объяснено, по какому принципу заполнены пропуски;\n",
    "- [x]  заменен вещественный тип данных на целочисленный;\n",
    "- [x]  есть пояснение, какой метод используется для изменения типа данных и почему;\n",
    "- [x]  удалены дубликаты;\n",
    "- [x]  есть пояснение, какой метод используется для поиска и удаления дубликатов;\n",
    "- [x]  описаны возможные причины появления дубликатов в данных;\n",
    "- [x]  выделены леммы в значениях столбца с целями получения кредита;\n",
    "- [x]  описан процесс лемматизации;\n",
    "- [x]  данные категоризированы;\n",
    "- [x]  есть объяснение принципа категоризации данных;\n",
    "- [x]  есть ответ на вопрос: \"Есть ли зависимость между наличием детей и возвратом кредита в срок?\";\n",
    "- [x]  есть ответ на вопрос: \"Есть ли зависимость между семейным положением и возвратом кредита в срок?\";\n",
    "- [x]  есть ответ на вопрос: \"Есть ли зависимость между уровнем дохода и возвратом кредита в срок?\";\n",
    "- [x]  есть ответ на вопрос: \"Как разные цели кредита влияют на его возврат в срок?\";\n",
    "- [x]  в каждом этапе есть выводы;\n",
    "- [x]  есть общий вывод."
   ]
  }
 ],
 "metadata": {
  "ExecuteTimeLog": [
   {
    "duration": 860,
    "start_time": "2021-08-03T12:47:29.611Z"
   },
   {
    "duration": 68,
    "start_time": "2021-08-03T12:48:27.075Z"
   },
   {
    "duration": 73,
    "start_time": "2021-08-03T12:49:54.463Z"
   },
   {
    "duration": 76,
    "start_time": "2021-08-03T12:50:14.146Z"
   },
   {
    "duration": 17,
    "start_time": "2021-08-03T12:50:38.608Z"
   },
   {
    "duration": 404,
    "start_time": "2021-08-03T12:53:47.546Z"
   },
   {
    "duration": 273,
    "start_time": "2021-08-03T12:53:58.023Z"
   },
   {
    "duration": 11,
    "start_time": "2021-08-03T12:54:05.695Z"
   },
   {
    "duration": 10,
    "start_time": "2021-08-03T12:57:27.871Z"
   },
   {
    "duration": 83,
    "start_time": "2021-08-03T12:58:26.530Z"
   },
   {
    "duration": 9,
    "start_time": "2021-08-03T12:59:43.040Z"
   },
   {
    "duration": 245,
    "start_time": "2021-08-04T09:06:06.147Z"
   },
   {
    "duration": 653,
    "start_time": "2021-08-04T09:06:22.874Z"
   },
   {
    "duration": 11,
    "start_time": "2021-08-04T09:06:23.528Z"
   },
   {
    "duration": 8,
    "start_time": "2021-08-04T09:06:23.821Z"
   },
   {
    "duration": 7,
    "start_time": "2021-08-04T09:06:24.414Z"
   },
   {
    "duration": 7,
    "start_time": "2021-08-04T09:06:24.886Z"
   },
   {
    "duration": 11,
    "start_time": "2021-08-04T09:06:28.228Z"
   },
   {
    "duration": 15,
    "start_time": "2021-08-04T09:09:54.562Z"
   },
   {
    "duration": 11,
    "start_time": "2021-08-04T09:10:25.848Z"
   },
   {
    "duration": 57,
    "start_time": "2021-08-04T09:13:56.639Z"
   },
   {
    "duration": 10,
    "start_time": "2021-08-04T09:13:57.045Z"
   },
   {
    "duration": 7,
    "start_time": "2021-08-04T09:13:57.668Z"
   },
   {
    "duration": 7,
    "start_time": "2021-08-04T09:13:58.140Z"
   },
   {
    "duration": 7,
    "start_time": "2021-08-04T09:14:06.174Z"
   },
   {
    "duration": 10,
    "start_time": "2021-08-04T09:14:06.973Z"
   },
   {
    "duration": 4588,
    "start_time": "2021-08-04T09:16:52.533Z"
   },
   {
    "duration": 4359,
    "start_time": "2021-08-04T09:17:25.214Z"
   },
   {
    "duration": 1514,
    "start_time": "2021-08-04T09:20:23.478Z"
   },
   {
    "duration": 4672,
    "start_time": "2021-08-04T09:20:36.333Z"
   },
   {
    "duration": 4570,
    "start_time": "2021-08-04T09:21:11.397Z"
   },
   {
    "duration": 10,
    "start_time": "2021-08-04T09:21:28.999Z"
   },
   {
    "duration": 4472,
    "start_time": "2021-08-04T09:21:30.245Z"
   },
   {
    "duration": 11,
    "start_time": "2021-08-04T09:23:45.341Z"
   },
   {
    "duration": 9,
    "start_time": "2021-08-04T09:24:41.775Z"
   },
   {
    "duration": 203,
    "start_time": "2021-08-04T09:25:04.542Z"
   },
   {
    "duration": 19,
    "start_time": "2021-08-04T09:25:18.511Z"
   },
   {
    "duration": 59,
    "start_time": "2021-08-04T09:26:30.919Z"
   },
   {
    "duration": 11,
    "start_time": "2021-08-04T09:26:31.245Z"
   },
   {
    "duration": 7,
    "start_time": "2021-08-04T09:26:31.532Z"
   },
   {
    "duration": 7,
    "start_time": "2021-08-04T09:26:31.957Z"
   },
   {
    "duration": 7,
    "start_time": "2021-08-04T09:26:33.765Z"
   },
   {
    "duration": 11,
    "start_time": "2021-08-04T09:26:37.755Z"
   },
   {
    "duration": 11,
    "start_time": "2021-08-04T09:26:42.140Z"
   },
   {
    "duration": 20,
    "start_time": "2021-08-04T09:26:52.549Z"
   },
   {
    "duration": 63,
    "start_time": "2021-08-04T09:27:40.390Z"
   },
   {
    "duration": 9,
    "start_time": "2021-08-04T09:27:57.263Z"
   },
   {
    "duration": 9,
    "start_time": "2021-08-04T09:28:03.293Z"
   },
   {
    "duration": 10,
    "start_time": "2021-08-04T09:30:20.189Z"
   },
   {
    "duration": 185,
    "start_time": "2021-08-04T09:30:53.893Z"
   },
   {
    "duration": 6,
    "start_time": "2021-08-04T09:31:04.612Z"
   },
   {
    "duration": 6,
    "start_time": "2021-08-04T09:31:10.409Z"
   },
   {
    "duration": 7,
    "start_time": "2021-08-04T09:31:13.676Z"
   },
   {
    "duration": 180,
    "start_time": "2021-08-04T09:31:44.870Z"
   },
   {
    "duration": 8,
    "start_time": "2021-08-04T09:31:53.254Z"
   },
   {
    "duration": 173,
    "start_time": "2021-08-04T09:33:45.741Z"
   },
   {
    "duration": 186,
    "start_time": "2021-08-04T09:34:04.991Z"
   },
   {
    "duration": 9,
    "start_time": "2021-08-04T09:34:12.564Z"
   },
   {
    "duration": 61,
    "start_time": "2021-08-04T09:34:31.216Z"
   },
   {
    "duration": 11,
    "start_time": "2021-08-04T09:34:31.766Z"
   },
   {
    "duration": 7,
    "start_time": "2021-08-04T09:34:39.941Z"
   },
   {
    "duration": 7,
    "start_time": "2021-08-04T09:34:40.134Z"
   },
   {
    "duration": 7,
    "start_time": "2021-08-04T09:34:40.324Z"
   },
   {
    "duration": 10,
    "start_time": "2021-08-04T09:34:42.196Z"
   },
   {
    "duration": 11,
    "start_time": "2021-08-04T09:34:45.228Z"
   },
   {
    "duration": 5,
    "start_time": "2021-08-04T09:35:00.836Z"
   },
   {
    "duration": 11,
    "start_time": "2021-08-04T09:35:02.859Z"
   },
   {
    "duration": 4,
    "start_time": "2021-08-04T09:35:03.342Z"
   },
   {
    "duration": 11,
    "start_time": "2021-08-04T09:35:07.613Z"
   },
   {
    "duration": 12,
    "start_time": "2021-08-04T09:35:08.853Z"
   },
   {
    "duration": 5,
    "start_time": "2021-08-04T09:35:09.524Z"
   },
   {
    "duration": 20,
    "start_time": "2021-08-04T09:35:19.277Z"
   },
   {
    "duration": 16,
    "start_time": "2021-08-04T09:40:01.824Z"
   },
   {
    "duration": 59,
    "start_time": "2021-08-04T09:40:20.360Z"
   },
   {
    "duration": 11,
    "start_time": "2021-08-04T09:40:20.540Z"
   },
   {
    "duration": 7,
    "start_time": "2021-08-04T09:40:21.084Z"
   },
   {
    "duration": 7,
    "start_time": "2021-08-04T09:40:21.332Z"
   },
   {
    "duration": 7,
    "start_time": "2021-08-04T09:40:22.205Z"
   },
   {
    "duration": 7,
    "start_time": "2021-08-04T09:55:00.873Z"
   },
   {
    "duration": 9,
    "start_time": "2021-08-04T10:32:09.536Z"
   },
   {
    "duration": 5,
    "start_time": "2021-08-04T10:33:07.854Z"
   },
   {
    "duration": 5,
    "start_time": "2021-08-04T10:33:18.733Z"
   },
   {
    "duration": 5,
    "start_time": "2021-08-04T10:33:37.213Z"
   },
   {
    "duration": 23,
    "start_time": "2021-08-04T10:34:20.197Z"
   },
   {
    "duration": 61,
    "start_time": "2021-08-04T10:34:56.209Z"
   },
   {
    "duration": 11,
    "start_time": "2021-08-04T10:34:56.396Z"
   },
   {
    "duration": 7,
    "start_time": "2021-08-04T10:34:56.590Z"
   },
   {
    "duration": 7,
    "start_time": "2021-08-04T10:34:56.773Z"
   },
   {
    "duration": 7,
    "start_time": "2021-08-04T10:34:56.981Z"
   },
   {
    "duration": 8,
    "start_time": "2021-08-04T10:34:57.180Z"
   },
   {
    "duration": 11,
    "start_time": "2021-08-04T10:34:59.028Z"
   },
   {
    "duration": 11,
    "start_time": "2021-08-04T10:34:59.668Z"
   },
   {
    "duration": 23,
    "start_time": "2021-08-04T10:35:01.150Z"
   },
   {
    "duration": 4406,
    "start_time": "2021-08-04T10:36:22.345Z"
   },
   {
    "duration": 188,
    "start_time": "2021-08-04T10:36:37.119Z"
   },
   {
    "duration": 22,
    "start_time": "2021-08-04T10:36:51.887Z"
   },
   {
    "duration": 25,
    "start_time": "2021-08-04T10:37:23.168Z"
   },
   {
    "duration": 22,
    "start_time": "2021-08-04T10:37:35.958Z"
   },
   {
    "duration": 9,
    "start_time": "2021-08-04T10:38:07.319Z"
   },
   {
    "duration": 7,
    "start_time": "2021-08-04T10:38:22.366Z"
   },
   {
    "duration": 176,
    "start_time": "2021-08-04T10:38:40.613Z"
   },
   {
    "duration": 11,
    "start_time": "2021-08-04T10:39:02.878Z"
   },
   {
    "duration": 11,
    "start_time": "2021-08-04T10:39:50.549Z"
   },
   {
    "duration": 4,
    "start_time": "2021-08-04T10:40:26.231Z"
   },
   {
    "duration": 20,
    "start_time": "2021-08-04T10:40:30.485Z"
   },
   {
    "duration": 490,
    "start_time": "2021-08-04T10:41:09.566Z"
   },
   {
    "duration": 198,
    "start_time": "2021-08-04T10:41:39.326Z"
   },
   {
    "duration": 180,
    "start_time": "2021-08-04T10:41:45.869Z"
   },
   {
    "duration": 8,
    "start_time": "2021-08-04T10:42:08.406Z"
   },
   {
    "duration": 177,
    "start_time": "2021-08-04T10:42:37.809Z"
   },
   {
    "duration": 8,
    "start_time": "2021-08-04T10:42:41.711Z"
   },
   {
    "duration": 22,
    "start_time": "2021-08-04T10:44:17.655Z"
   },
   {
    "duration": 25,
    "start_time": "2021-08-04T10:45:22.073Z"
   },
   {
    "duration": 11,
    "start_time": "2021-08-04T10:45:55.166Z"
   },
   {
    "duration": 10,
    "start_time": "2021-08-04T10:46:07.733Z"
   },
   {
    "duration": 8,
    "start_time": "2021-08-04T10:48:16.439Z"
   },
   {
    "duration": 8,
    "start_time": "2021-08-04T10:50:33.949Z"
   },
   {
    "duration": 8,
    "start_time": "2021-08-04T10:50:43.589Z"
   },
   {
    "duration": 10,
    "start_time": "2021-08-04T10:50:46.573Z"
   },
   {
    "duration": 60,
    "start_time": "2021-08-04T11:00:42.922Z"
   },
   {
    "duration": 11,
    "start_time": "2021-08-04T11:00:43.102Z"
   },
   {
    "duration": 7,
    "start_time": "2021-08-04T11:00:43.294Z"
   },
   {
    "duration": 7,
    "start_time": "2021-08-04T11:00:43.477Z"
   },
   {
    "duration": 7,
    "start_time": "2021-08-04T11:00:43.671Z"
   },
   {
    "duration": 7,
    "start_time": "2021-08-04T11:00:43.871Z"
   },
   {
    "duration": 11,
    "start_time": "2021-08-04T11:00:54.053Z"
   },
   {
    "duration": 59,
    "start_time": "2021-08-04T11:01:29.382Z"
   },
   {
    "duration": 16,
    "start_time": "2021-08-04T11:01:59.814Z"
   },
   {
    "duration": 10,
    "start_time": "2021-08-04T11:03:02.655Z"
   },
   {
    "duration": 10,
    "start_time": "2021-08-04T11:20:09.536Z"
   },
   {
    "duration": 82,
    "start_time": "2021-08-04T11:24:52.258Z"
   },
   {
    "duration": 61,
    "start_time": "2021-08-04T11:25:14.319Z"
   },
   {
    "duration": 83,
    "start_time": "2021-08-04T11:25:23.877Z"
   },
   {
    "duration": 25,
    "start_time": "2021-08-04T11:25:32.253Z"
   },
   {
    "duration": 9,
    "start_time": "2021-08-04T11:25:43.610Z"
   },
   {
    "duration": 8,
    "start_time": "2021-08-04T11:25:58.686Z"
   },
   {
    "duration": 8,
    "start_time": "2021-08-04T11:27:06.181Z"
   },
   {
    "duration": 7,
    "start_time": "2021-08-04T11:27:08.197Z"
   },
   {
    "duration": 8,
    "start_time": "2021-08-04T11:27:17.134Z"
   },
   {
    "duration": 11,
    "start_time": "2021-08-04T11:27:51.365Z"
   },
   {
    "duration": 12,
    "start_time": "2021-08-04T11:27:54.910Z"
   },
   {
    "duration": 10,
    "start_time": "2021-08-04T11:28:06.165Z"
   },
   {
    "duration": 9,
    "start_time": "2021-08-04T11:28:10.709Z"
   },
   {
    "duration": 8,
    "start_time": "2021-08-04T11:29:06.110Z"
   },
   {
    "duration": 8,
    "start_time": "2021-08-04T11:30:00.345Z"
   },
   {
    "duration": 6,
    "start_time": "2021-08-04T11:30:40.294Z"
   },
   {
    "duration": 8,
    "start_time": "2021-08-04T11:41:13.060Z"
   },
   {
    "duration": 16,
    "start_time": "2021-08-04T11:41:31.342Z"
   },
   {
    "duration": 23,
    "start_time": "2021-08-04T11:42:32.374Z"
   },
   {
    "duration": 10,
    "start_time": "2021-08-04T11:42:53.846Z"
   },
   {
    "duration": 66,
    "start_time": "2021-08-04T11:43:26.417Z"
   },
   {
    "duration": 11,
    "start_time": "2021-08-04T11:43:26.629Z"
   },
   {
    "duration": 8,
    "start_time": "2021-08-04T11:43:26.837Z"
   },
   {
    "duration": 9,
    "start_time": "2021-08-04T11:43:27.093Z"
   },
   {
    "duration": 7,
    "start_time": "2021-08-04T11:43:27.366Z"
   },
   {
    "duration": 8,
    "start_time": "2021-08-04T11:43:27.621Z"
   },
   {
    "duration": 8,
    "start_time": "2021-08-04T11:43:30.638Z"
   },
   {
    "duration": 11,
    "start_time": "2021-08-04T11:43:40.133Z"
   },
   {
    "duration": 56,
    "start_time": "2021-08-04T11:43:43.421Z"
   },
   {
    "duration": 9,
    "start_time": "2021-08-04T11:43:43.778Z"
   },
   {
    "duration": 8,
    "start_time": "2021-08-04T11:43:57.726Z"
   },
   {
    "duration": 8,
    "start_time": "2021-08-04T11:43:58.300Z"
   },
   {
    "duration": 8,
    "start_time": "2021-08-04T11:43:58.749Z"
   },
   {
    "duration": 7,
    "start_time": "2021-08-04T11:43:59.141Z"
   },
   {
    "duration": 57,
    "start_time": "2021-08-04T11:44:01.429Z"
   },
   {
    "duration": 7,
    "start_time": "2021-08-04T11:44:08.622Z"
   },
   {
    "duration": 17,
    "start_time": "2021-08-04T11:44:09.286Z"
   },
   {
    "duration": 12,
    "start_time": "2021-08-04T11:44:12.293Z"
   },
   {
    "duration": 8,
    "start_time": "2021-08-04T11:46:48.246Z"
   },
   {
    "duration": 15,
    "start_time": "2021-08-04T11:46:48.863Z"
   },
   {
    "duration": 9,
    "start_time": "2021-08-04T11:46:52.872Z"
   },
   {
    "duration": 8,
    "start_time": "2021-08-04T11:47:21.215Z"
   },
   {
    "duration": 7,
    "start_time": "2021-08-04T11:48:19.009Z"
   },
   {
    "duration": 16,
    "start_time": "2021-08-04T11:48:19.687Z"
   },
   {
    "duration": 10,
    "start_time": "2021-08-04T11:48:20.678Z"
   },
   {
    "duration": 60,
    "start_time": "2021-08-04T11:48:28.465Z"
   },
   {
    "duration": 10,
    "start_time": "2021-08-04T11:48:28.734Z"
   },
   {
    "duration": 7,
    "start_time": "2021-08-04T11:48:29.061Z"
   },
   {
    "duration": 7,
    "start_time": "2021-08-04T11:48:29.326Z"
   },
   {
    "duration": 7,
    "start_time": "2021-08-04T11:48:29.598Z"
   },
   {
    "duration": 7,
    "start_time": "2021-08-04T11:48:29.862Z"
   },
   {
    "duration": 9,
    "start_time": "2021-08-04T11:48:32.293Z"
   },
   {
    "duration": 60,
    "start_time": "2021-08-04T11:48:42.247Z"
   },
   {
    "duration": 10,
    "start_time": "2021-08-04T11:48:42.422Z"
   },
   {
    "duration": 8,
    "start_time": "2021-08-04T11:48:42.606Z"
   },
   {
    "duration": 7,
    "start_time": "2021-08-04T11:48:44.477Z"
   },
   {
    "duration": 8,
    "start_time": "2021-08-04T11:48:44.830Z"
   },
   {
    "duration": 8,
    "start_time": "2021-08-04T11:48:45.245Z"
   },
   {
    "duration": 9,
    "start_time": "2021-08-04T11:48:50.588Z"
   },
   {
    "duration": 13,
    "start_time": "2021-08-04T11:48:54.869Z"
   },
   {
    "duration": 8,
    "start_time": "2021-08-04T11:49:41.037Z"
   },
   {
    "duration": 8,
    "start_time": "2021-08-04T11:49:41.285Z"
   },
   {
    "duration": 9,
    "start_time": "2021-08-04T11:49:41.559Z"
   },
   {
    "duration": 7,
    "start_time": "2021-08-04T11:49:41.861Z"
   },
   {
    "duration": 7,
    "start_time": "2021-08-04T11:49:42.998Z"
   },
   {
    "duration": 16,
    "start_time": "2021-08-04T11:49:44.062Z"
   },
   {
    "duration": 10,
    "start_time": "2021-08-04T11:49:46.813Z"
   },
   {
    "duration": 7,
    "start_time": "2021-08-04T11:50:23.637Z"
   },
   {
    "duration": 12,
    "start_time": "2021-08-04T11:50:24.886Z"
   },
   {
    "duration": 16,
    "start_time": "2021-08-04T11:50:31.679Z"
   },
   {
    "duration": 11,
    "start_time": "2021-08-04T11:50:32.105Z"
   },
   {
    "duration": 9,
    "start_time": "2021-08-04T11:50:35.237Z"
   },
   {
    "duration": 7,
    "start_time": "2021-08-04T11:50:47.958Z"
   },
   {
    "duration": 83,
    "start_time": "2021-08-04T11:51:28.258Z"
   },
   {
    "duration": 10,
    "start_time": "2021-08-04T11:51:28.429Z"
   },
   {
    "duration": 11,
    "start_time": "2021-08-04T11:51:28.621Z"
   },
   {
    "duration": 11,
    "start_time": "2021-08-04T11:51:28.813Z"
   },
   {
    "duration": 10,
    "start_time": "2021-08-04T11:51:29.013Z"
   },
   {
    "duration": 8,
    "start_time": "2021-08-04T11:51:29.247Z"
   },
   {
    "duration": 9,
    "start_time": "2021-08-04T11:51:31.390Z"
   },
   {
    "duration": 11,
    "start_time": "2021-08-04T11:51:38.046Z"
   },
   {
    "duration": 9,
    "start_time": "2021-08-04T11:51:40.687Z"
   },
   {
    "duration": 7,
    "start_time": "2021-08-04T11:51:40.925Z"
   },
   {
    "duration": 8,
    "start_time": "2021-08-04T11:51:41.133Z"
   },
   {
    "duration": 8,
    "start_time": "2021-08-04T11:51:41.342Z"
   },
   {
    "duration": 6,
    "start_time": "2021-08-04T11:51:41.829Z"
   },
   {
    "duration": 16,
    "start_time": "2021-08-04T11:51:42.445Z"
   },
   {
    "duration": 11,
    "start_time": "2021-08-04T11:51:44.581Z"
   },
   {
    "duration": 8,
    "start_time": "2021-08-04T11:51:55.861Z"
   },
   {
    "duration": 21,
    "start_time": "2021-08-04T11:53:34.150Z"
   },
   {
    "duration": 86,
    "start_time": "2021-08-04T12:04:46.022Z"
   },
   {
    "duration": 12,
    "start_time": "2021-08-04T12:04:46.213Z"
   },
   {
    "duration": 12,
    "start_time": "2021-08-04T12:04:46.462Z"
   },
   {
    "duration": 8,
    "start_time": "2021-08-04T12:04:46.822Z"
   },
   {
    "duration": 9,
    "start_time": "2021-08-04T12:04:47.189Z"
   },
   {
    "duration": 10,
    "start_time": "2021-08-04T12:04:47.478Z"
   },
   {
    "duration": 9,
    "start_time": "2021-08-04T12:04:49.726Z"
   },
   {
    "duration": 12,
    "start_time": "2021-08-04T12:04:51.621Z"
   },
   {
    "duration": 11,
    "start_time": "2021-08-04T12:05:00.173Z"
   },
   {
    "duration": 9,
    "start_time": "2021-08-04T12:05:01.062Z"
   },
   {
    "duration": 9,
    "start_time": "2021-08-04T12:05:01.582Z"
   },
   {
    "duration": 9,
    "start_time": "2021-08-04T12:05:03.589Z"
   },
   {
    "duration": 8,
    "start_time": "2021-08-04T12:07:04.022Z"
   },
   {
    "duration": 9,
    "start_time": "2021-08-04T12:07:07.750Z"
   },
   {
    "duration": 21,
    "start_time": "2021-08-04T12:07:32.057Z"
   },
   {
    "duration": 25,
    "start_time": "2021-08-04T12:07:33.879Z"
   },
   {
    "duration": 80,
    "start_time": "2021-08-04T12:07:46.175Z"
   },
   {
    "duration": 12,
    "start_time": "2021-08-04T12:07:46.733Z"
   },
   {
    "duration": 8,
    "start_time": "2021-08-04T12:07:47.174Z"
   },
   {
    "duration": 8,
    "start_time": "2021-08-04T12:07:47.510Z"
   },
   {
    "duration": 11,
    "start_time": "2021-08-04T12:07:47.855Z"
   },
   {
    "duration": 9,
    "start_time": "2021-08-04T12:07:48.102Z"
   },
   {
    "duration": 9,
    "start_time": "2021-08-04T12:07:51.278Z"
   },
   {
    "duration": 12,
    "start_time": "2021-08-04T12:07:58.918Z"
   },
   {
    "duration": 10,
    "start_time": "2021-08-04T12:08:06.325Z"
   },
   {
    "duration": 10,
    "start_time": "2021-08-04T12:08:06.973Z"
   },
   {
    "duration": 10,
    "start_time": "2021-08-04T12:08:07.470Z"
   },
   {
    "duration": 10,
    "start_time": "2021-08-04T12:08:07.991Z"
   },
   {
    "duration": 10,
    "start_time": "2021-08-04T12:08:09.229Z"
   },
   {
    "duration": 24,
    "start_time": "2021-08-04T12:08:19.166Z"
   },
   {
    "duration": 16,
    "start_time": "2021-08-04T12:08:20.732Z"
   },
   {
    "duration": 10,
    "start_time": "2021-08-04T12:08:46.174Z"
   },
   {
    "duration": 9,
    "start_time": "2021-08-04T12:09:31.078Z"
   },
   {
    "duration": 10,
    "start_time": "2021-08-04T12:12:14.118Z"
   },
   {
    "duration": 10,
    "start_time": "2021-08-04T12:14:24.246Z"
   },
   {
    "duration": 10,
    "start_time": "2021-08-04T12:14:40.230Z"
   },
   {
    "duration": 10,
    "start_time": "2021-08-04T12:14:47.304Z"
   },
   {
    "duration": 9,
    "start_time": "2021-08-04T12:15:06.447Z"
   },
   {
    "duration": 9,
    "start_time": "2021-08-04T12:15:10.383Z"
   },
   {
    "duration": 9,
    "start_time": "2021-08-04T12:15:18.872Z"
   },
   {
    "duration": 11,
    "start_time": "2021-08-04T12:15:34.261Z"
   },
   {
    "duration": 15,
    "start_time": "2021-08-04T12:16:38.383Z"
   },
   {
    "duration": 10,
    "start_time": "2021-08-04T12:16:43.850Z"
   },
   {
    "duration": 22,
    "start_time": "2021-08-04T12:16:45.454Z"
   },
   {
    "duration": 13,
    "start_time": "2021-08-04T12:16:49.958Z"
   },
   {
    "duration": 16,
    "start_time": "2021-08-04T12:16:51.793Z"
   },
   {
    "duration": 9,
    "start_time": "2021-08-04T12:16:59.790Z"
   },
   {
    "duration": 10,
    "start_time": "2021-08-04T12:23:41.551Z"
   },
   {
    "duration": 60,
    "start_time": "2021-08-04T12:23:48.041Z"
   },
   {
    "duration": 10,
    "start_time": "2021-08-04T12:23:48.758Z"
   },
   {
    "duration": 8,
    "start_time": "2021-08-04T12:23:49.229Z"
   },
   {
    "duration": 7,
    "start_time": "2021-08-04T12:23:49.597Z"
   },
   {
    "duration": 9,
    "start_time": "2021-08-04T12:23:50.005Z"
   },
   {
    "duration": 7,
    "start_time": "2021-08-04T12:23:50.583Z"
   },
   {
    "duration": 9,
    "start_time": "2021-08-04T12:23:52.773Z"
   },
   {
    "duration": 12,
    "start_time": "2021-08-04T12:23:54.854Z"
   },
   {
    "duration": 8,
    "start_time": "2021-08-04T12:23:57.171Z"
   },
   {
    "duration": 8,
    "start_time": "2021-08-04T12:23:57.862Z"
   },
   {
    "duration": 8,
    "start_time": "2021-08-04T12:23:58.270Z"
   },
   {
    "duration": 7,
    "start_time": "2021-08-04T12:23:58.670Z"
   },
   {
    "duration": 7,
    "start_time": "2021-08-04T12:23:59.533Z"
   },
   {
    "duration": 16,
    "start_time": "2021-08-04T12:24:00.592Z"
   },
   {
    "duration": 9,
    "start_time": "2021-08-04T12:24:01.951Z"
   },
   {
    "duration": 17,
    "start_time": "2021-08-04T12:24:03.758Z"
   },
   {
    "duration": 11,
    "start_time": "2021-08-04T12:24:07.304Z"
   },
   {
    "duration": 10,
    "start_time": "2021-08-04T12:24:33.230Z"
   },
   {
    "duration": 11,
    "start_time": "2021-08-04T12:24:38.824Z"
   },
   {
    "duration": 15,
    "start_time": "2021-08-04T12:24:42.134Z"
   },
   {
    "duration": 10,
    "start_time": "2021-08-04T12:24:43.622Z"
   },
   {
    "duration": 8,
    "start_time": "2021-08-04T12:24:57.086Z"
   },
   {
    "duration": 14,
    "start_time": "2021-08-04T12:25:49.903Z"
   },
   {
    "duration": 9,
    "start_time": "2021-08-04T12:25:50.581Z"
   },
   {
    "duration": 10,
    "start_time": "2021-08-04T12:25:54.975Z"
   },
   {
    "duration": 59,
    "start_time": "2021-08-04T12:32:05.616Z"
   },
   {
    "duration": 12,
    "start_time": "2021-08-04T12:32:05.902Z"
   },
   {
    "duration": 7,
    "start_time": "2021-08-04T12:32:06.448Z"
   },
   {
    "duration": 7,
    "start_time": "2021-08-04T12:32:06.988Z"
   },
   {
    "duration": 7,
    "start_time": "2021-08-04T12:32:07.470Z"
   },
   {
    "duration": 8,
    "start_time": "2021-08-04T12:32:07.894Z"
   },
   {
    "duration": 9,
    "start_time": "2021-08-04T12:32:09.933Z"
   },
   {
    "duration": 11,
    "start_time": "2021-08-04T12:32:11.590Z"
   },
   {
    "duration": 9,
    "start_time": "2021-08-04T12:32:14.445Z"
   },
   {
    "duration": 8,
    "start_time": "2021-08-04T12:32:14.966Z"
   },
   {
    "duration": 8,
    "start_time": "2021-08-04T12:32:15.342Z"
   },
   {
    "duration": 8,
    "start_time": "2021-08-04T12:32:15.798Z"
   },
   {
    "duration": 6,
    "start_time": "2021-08-04T12:32:17.693Z"
   },
   {
    "duration": 7,
    "start_time": "2021-08-04T12:34:31.488Z"
   },
   {
    "duration": 62,
    "start_time": "2021-08-04T12:34:36.169Z"
   },
   {
    "duration": 11,
    "start_time": "2021-08-04T12:34:36.390Z"
   },
   {
    "duration": 8,
    "start_time": "2021-08-04T12:34:36.622Z"
   },
   {
    "duration": 8,
    "start_time": "2021-08-04T12:34:36.854Z"
   },
   {
    "duration": 7,
    "start_time": "2021-08-04T12:34:37.086Z"
   },
   {
    "duration": 8,
    "start_time": "2021-08-04T12:34:37.312Z"
   },
   {
    "duration": 8,
    "start_time": "2021-08-04T12:34:39.606Z"
   },
   {
    "duration": 11,
    "start_time": "2021-08-04T12:34:41.511Z"
   },
   {
    "duration": 19,
    "start_time": "2021-08-04T12:35:46.871Z"
   },
   {
    "duration": 9,
    "start_time": "2021-08-04T12:37:23.392Z"
   },
   {
    "duration": 7,
    "start_time": "2021-08-04T12:37:24.221Z"
   },
   {
    "duration": 14,
    "start_time": "2021-08-04T12:37:24.673Z"
   },
   {
    "duration": 10,
    "start_time": "2021-08-04T12:37:43.230Z"
   },
   {
    "duration": 10,
    "start_time": "2021-08-04T12:37:43.806Z"
   },
   {
    "duration": 8,
    "start_time": "2021-08-04T12:37:53.271Z"
   },
   {
    "duration": 20,
    "start_time": "2021-08-04T12:37:57.264Z"
   },
   {
    "duration": 9,
    "start_time": "2021-08-04T12:45:41.118Z"
   },
   {
    "duration": 8,
    "start_time": "2021-08-04T12:46:18.990Z"
   },
   {
    "duration": 7,
    "start_time": "2021-08-04T12:46:22.806Z"
   },
   {
    "duration": 14,
    "start_time": "2021-08-04T12:46:23.286Z"
   },
   {
    "duration": 61,
    "start_time": "2021-08-04T12:46:37.489Z"
   },
   {
    "duration": 11,
    "start_time": "2021-08-04T12:46:37.661Z"
   },
   {
    "duration": 8,
    "start_time": "2021-08-04T12:46:37.822Z"
   },
   {
    "duration": 8,
    "start_time": "2021-08-04T12:46:37.998Z"
   },
   {
    "duration": 8,
    "start_time": "2021-08-04T12:46:38.173Z"
   },
   {
    "duration": 13,
    "start_time": "2021-08-04T12:46:38.342Z"
   },
   {
    "duration": 9,
    "start_time": "2021-08-04T12:46:39.455Z"
   },
   {
    "duration": 12,
    "start_time": "2021-08-04T12:46:42.909Z"
   },
   {
    "duration": 8,
    "start_time": "2021-08-04T12:46:45.310Z"
   },
   {
    "duration": 8,
    "start_time": "2021-08-04T12:46:45.503Z"
   },
   {
    "duration": 8,
    "start_time": "2021-08-04T12:46:45.766Z"
   },
   {
    "duration": 7,
    "start_time": "2021-08-04T12:46:48.750Z"
   },
   {
    "duration": 8,
    "start_time": "2021-08-04T12:46:49.294Z"
   },
   {
    "duration": 9,
    "start_time": "2021-08-04T12:46:49.830Z"
   },
   {
    "duration": 195,
    "start_time": "2021-08-04T12:47:56.030Z"
   },
   {
    "duration": 9,
    "start_time": "2021-08-04T12:48:06.416Z"
   },
   {
    "duration": 22,
    "start_time": "2021-08-04T12:48:17.497Z"
   },
   {
    "duration": 7,
    "start_time": "2021-08-04T12:50:54.234Z"
   },
   {
    "duration": 7,
    "start_time": "2021-08-04T12:50:54.801Z"
   },
   {
    "duration": 6,
    "start_time": "2021-08-04T12:50:55.463Z"
   },
   {
    "duration": 60,
    "start_time": "2021-08-04T12:54:47.683Z"
   },
   {
    "duration": 11,
    "start_time": "2021-08-04T12:54:47.862Z"
   },
   {
    "duration": 8,
    "start_time": "2021-08-04T12:54:48.039Z"
   },
   {
    "duration": 8,
    "start_time": "2021-08-04T12:54:48.230Z"
   },
   {
    "duration": 7,
    "start_time": "2021-08-04T12:54:48.414Z"
   },
   {
    "duration": 7,
    "start_time": "2021-08-04T12:54:48.598Z"
   },
   {
    "duration": 9,
    "start_time": "2021-08-04T12:54:49.581Z"
   },
   {
    "duration": 11,
    "start_time": "2021-08-04T12:54:50.182Z"
   },
   {
    "duration": 9,
    "start_time": "2021-08-04T12:54:50.806Z"
   },
   {
    "duration": 8,
    "start_time": "2021-08-04T12:54:51.176Z"
   },
   {
    "duration": 8,
    "start_time": "2021-08-04T12:54:51.450Z"
   },
   {
    "duration": 7,
    "start_time": "2021-08-04T12:54:51.695Z"
   },
   {
    "duration": 7,
    "start_time": "2021-08-04T12:54:52.775Z"
   },
   {
    "duration": 7,
    "start_time": "2021-08-04T12:54:53.663Z"
   },
   {
    "duration": 2298,
    "start_time": "2021-08-04T12:54:54.640Z"
   },
   {
    "duration": 0,
    "start_time": "2021-08-04T12:54:56.940Z"
   },
   {
    "duration": 7,
    "start_time": "2021-08-04T12:55:12.208Z"
   },
   {
    "duration": 2346,
    "start_time": "2021-08-04T12:55:20.376Z"
   },
   {
    "duration": -2,
    "start_time": "2021-08-04T12:55:22.726Z"
   },
   {
    "duration": -7,
    "start_time": "2021-08-04T12:55:22.733Z"
   },
   {
    "duration": -9,
    "start_time": "2021-08-04T12:55:22.736Z"
   },
   {
    "duration": 62,
    "start_time": "2021-08-04T12:56:52.672Z"
   },
   {
    "duration": 11,
    "start_time": "2021-08-04T12:56:52.878Z"
   },
   {
    "duration": 7,
    "start_time": "2021-08-04T12:56:53.078Z"
   },
   {
    "duration": 10,
    "start_time": "2021-08-04T12:56:53.278Z"
   },
   {
    "duration": 8,
    "start_time": "2021-08-04T12:56:53.478Z"
   },
   {
    "duration": 8,
    "start_time": "2021-08-04T12:56:53.646Z"
   },
   {
    "duration": 8,
    "start_time": "2021-08-04T12:56:54.599Z"
   },
   {
    "duration": 12,
    "start_time": "2021-08-04T12:56:55.223Z"
   },
   {
    "duration": 8,
    "start_time": "2021-08-04T12:56:56.326Z"
   },
   {
    "duration": 8,
    "start_time": "2021-08-04T12:56:56.615Z"
   },
   {
    "duration": 8,
    "start_time": "2021-08-04T12:56:56.855Z"
   },
   {
    "duration": 8,
    "start_time": "2021-08-04T12:56:57.085Z"
   },
   {
    "duration": 7,
    "start_time": "2021-08-04T12:56:57.781Z"
   },
   {
    "duration": 8,
    "start_time": "2021-08-04T12:56:59.006Z"
   },
   {
    "duration": 8,
    "start_time": "2021-08-04T12:57:01.430Z"
   },
   {
    "duration": 7,
    "start_time": "2021-08-04T12:57:47.430Z"
   },
   {
    "duration": 7,
    "start_time": "2021-08-04T12:57:49.367Z"
   },
   {
    "duration": 23,
    "start_time": "2021-08-04T12:58:01.030Z"
   },
   {
    "duration": 63,
    "start_time": "2021-08-04T12:58:21.945Z"
   },
   {
    "duration": 12,
    "start_time": "2021-08-04T12:58:22.136Z"
   },
   {
    "duration": 8,
    "start_time": "2021-08-04T12:58:22.342Z"
   },
   {
    "duration": 7,
    "start_time": "2021-08-04T12:58:22.527Z"
   },
   {
    "duration": 8,
    "start_time": "2021-08-04T12:58:22.710Z"
   },
   {
    "duration": 7,
    "start_time": "2021-08-04T12:58:22.912Z"
   },
   {
    "duration": 8,
    "start_time": "2021-08-04T12:58:23.902Z"
   },
   {
    "duration": 13,
    "start_time": "2021-08-04T12:58:24.541Z"
   },
   {
    "duration": 9,
    "start_time": "2021-08-04T12:58:25.207Z"
   },
   {
    "duration": 8,
    "start_time": "2021-08-04T12:58:25.630Z"
   },
   {
    "duration": 9,
    "start_time": "2021-08-04T12:58:25.893Z"
   },
   {
    "duration": 8,
    "start_time": "2021-08-04T12:58:26.102Z"
   },
   {
    "duration": 7,
    "start_time": "2021-08-04T12:58:26.542Z"
   },
   {
    "duration": 8,
    "start_time": "2021-08-04T12:58:27.943Z"
   },
   {
    "duration": 7,
    "start_time": "2021-08-04T12:58:28.942Z"
   },
   {
    "duration": 7,
    "start_time": "2021-08-04T12:58:29.158Z"
   },
   {
    "duration": 7,
    "start_time": "2021-08-04T12:58:29.566Z"
   },
   {
    "duration": 6,
    "start_time": "2021-08-04T12:58:30.183Z"
   },
   {
    "duration": 5,
    "start_time": "2021-08-04T12:58:31.382Z"
   },
   {
    "duration": 11,
    "start_time": "2021-08-04T12:58:34.422Z"
   },
   {
    "duration": 61,
    "start_time": "2021-08-04T13:00:44.929Z"
   },
   {
    "duration": 11,
    "start_time": "2021-08-04T13:00:45.134Z"
   },
   {
    "duration": 8,
    "start_time": "2021-08-04T13:00:45.382Z"
   },
   {
    "duration": 7,
    "start_time": "2021-08-04T13:00:45.600Z"
   },
   {
    "duration": 7,
    "start_time": "2021-08-04T13:00:45.798Z"
   },
   {
    "duration": 8,
    "start_time": "2021-08-04T13:00:46.014Z"
   },
   {
    "duration": 8,
    "start_time": "2021-08-04T13:00:47.166Z"
   },
   {
    "duration": 11,
    "start_time": "2021-08-04T13:00:48.495Z"
   },
   {
    "duration": 8,
    "start_time": "2021-08-04T13:00:49.846Z"
   },
   {
    "duration": 8,
    "start_time": "2021-08-04T13:00:50.256Z"
   },
   {
    "duration": 8,
    "start_time": "2021-08-04T13:00:50.479Z"
   },
   {
    "duration": 8,
    "start_time": "2021-08-04T13:00:50.677Z"
   },
   {
    "duration": 7,
    "start_time": "2021-08-04T13:00:51.334Z"
   },
   {
    "duration": 8,
    "start_time": "2021-08-04T13:00:52.093Z"
   },
   {
    "duration": 59,
    "start_time": "2021-08-04T13:03:21.912Z"
   },
   {
    "duration": 5,
    "start_time": "2021-08-04T13:05:40.778Z"
   },
   {
    "duration": 10,
    "start_time": "2021-08-04T13:05:42.582Z"
   },
   {
    "duration": 58,
    "start_time": "2021-08-04T13:05:56.999Z"
   },
   {
    "duration": 10,
    "start_time": "2021-08-04T13:05:57.199Z"
   },
   {
    "duration": 7,
    "start_time": "2021-08-04T13:05:57.391Z"
   },
   {
    "duration": 7,
    "start_time": "2021-08-04T13:05:57.582Z"
   },
   {
    "duration": 7,
    "start_time": "2021-08-04T13:05:57.793Z"
   },
   {
    "duration": 7,
    "start_time": "2021-08-04T13:05:57.993Z"
   },
   {
    "duration": 8,
    "start_time": "2021-08-04T13:05:58.982Z"
   },
   {
    "duration": 12,
    "start_time": "2021-08-04T13:06:00.079Z"
   },
   {
    "duration": 8,
    "start_time": "2021-08-04T13:06:01.167Z"
   },
   {
    "duration": 8,
    "start_time": "2021-08-04T13:06:01.366Z"
   },
   {
    "duration": 8,
    "start_time": "2021-08-04T13:06:01.557Z"
   },
   {
    "duration": 8,
    "start_time": "2021-08-04T13:06:01.750Z"
   },
   {
    "duration": 8,
    "start_time": "2021-08-04T13:06:02.125Z"
   },
   {
    "duration": 10,
    "start_time": "2021-08-04T13:06:02.334Z"
   },
   {
    "duration": 8,
    "start_time": "2021-08-04T13:06:02.550Z"
   },
   {
    "duration": 7,
    "start_time": "2021-08-04T13:06:02.775Z"
   },
   {
    "duration": 8,
    "start_time": "2021-08-04T13:06:02.966Z"
   },
   {
    "duration": 6,
    "start_time": "2021-08-04T13:06:03.254Z"
   },
   {
    "duration": 4,
    "start_time": "2021-08-04T13:06:03.503Z"
   },
   {
    "duration": 11,
    "start_time": "2021-08-04T13:06:03.990Z"
   },
   {
    "duration": 6,
    "start_time": "2021-08-04T13:07:25.958Z"
   },
   {
    "duration": 11,
    "start_time": "2021-08-04T13:07:27.254Z"
   },
   {
    "duration": 7,
    "start_time": "2021-08-04T13:07:44.614Z"
   },
   {
    "duration": 11,
    "start_time": "2021-08-04T13:07:46.062Z"
   },
   {
    "duration": 8,
    "start_time": "2021-08-04T13:07:48.142Z"
   },
   {
    "duration": 7,
    "start_time": "2021-08-04T13:07:48.439Z"
   },
   {
    "duration": 8,
    "start_time": "2021-08-04T13:07:48.694Z"
   },
   {
    "duration": 7,
    "start_time": "2021-08-04T13:07:48.888Z"
   },
   {
    "duration": 7,
    "start_time": "2021-08-04T13:07:49.270Z"
   },
   {
    "duration": 9,
    "start_time": "2021-08-04T13:07:49.472Z"
   },
   {
    "duration": 8,
    "start_time": "2021-08-04T13:07:49.662Z"
   },
   {
    "duration": 8,
    "start_time": "2021-08-04T13:07:49.902Z"
   },
   {
    "duration": 8,
    "start_time": "2021-08-04T13:07:50.142Z"
   },
   {
    "duration": 6,
    "start_time": "2021-08-04T13:07:50.374Z"
   },
   {
    "duration": 6,
    "start_time": "2021-08-04T13:07:50.582Z"
   },
   {
    "duration": 10,
    "start_time": "2021-08-04T13:07:52.990Z"
   },
   {
    "duration": 181,
    "start_time": "2021-08-04T13:08:04.102Z"
   },
   {
    "duration": 10,
    "start_time": "2021-08-04T13:08:04.575Z"
   },
   {
    "duration": 4,
    "start_time": "2021-08-04T13:08:13.657Z"
   },
   {
    "duration": 12,
    "start_time": "2021-08-04T13:08:14.754Z"
   },
   {
    "duration": 61,
    "start_time": "2021-08-04T13:09:23.143Z"
   },
   {
    "duration": 12,
    "start_time": "2021-08-04T13:09:23.510Z"
   },
   {
    "duration": 8,
    "start_time": "2021-08-04T13:09:23.966Z"
   },
   {
    "duration": 8,
    "start_time": "2021-08-04T13:09:24.766Z"
   },
   {
    "duration": 8,
    "start_time": "2021-08-04T13:09:25.790Z"
   },
   {
    "duration": 8,
    "start_time": "2021-08-04T13:09:26.182Z"
   },
   {
    "duration": 9,
    "start_time": "2021-08-04T13:09:28.519Z"
   },
   {
    "duration": 8,
    "start_time": "2021-08-04T13:11:15.287Z"
   },
   {
    "duration": 11,
    "start_time": "2021-08-04T13:11:52.703Z"
   },
   {
    "duration": 694,
    "start_time": "2021-08-04T13:12:03.633Z"
   },
   {
    "duration": 11,
    "start_time": "2021-08-04T13:12:04.329Z"
   },
   {
    "duration": 6,
    "start_time": "2021-08-04T13:12:04.342Z"
   },
   {
    "duration": 8,
    "start_time": "2021-08-04T13:12:04.350Z"
   },
   {
    "duration": 8,
    "start_time": "2021-08-04T13:12:04.428Z"
   },
   {
    "duration": 7,
    "start_time": "2021-08-04T13:12:04.670Z"
   },
   {
    "duration": 10,
    "start_time": "2021-08-04T13:12:08.189Z"
   },
   {
    "duration": 12,
    "start_time": "2021-08-04T13:12:13.366Z"
   },
   {
    "duration": 5,
    "start_time": "2021-08-04T13:12:17.247Z"
   },
   {
    "duration": 7,
    "start_time": "2021-08-04T13:12:49.519Z"
   },
   {
    "duration": 14,
    "start_time": "2021-08-04T13:12:51.006Z"
   },
   {
    "duration": 16,
    "start_time": "2021-08-04T13:13:20.910Z"
   },
   {
    "duration": 5,
    "start_time": "2021-08-04T13:13:26.918Z"
   },
   {
    "duration": 11,
    "start_time": "2021-08-04T13:13:28.908Z"
   },
   {
    "duration": 12,
    "start_time": "2021-08-04T13:13:58.182Z"
   },
   {
    "duration": 59,
    "start_time": "2021-08-04T13:14:10.247Z"
   },
   {
    "duration": 12,
    "start_time": "2021-08-04T13:14:10.455Z"
   },
   {
    "duration": 7,
    "start_time": "2021-08-04T13:14:10.655Z"
   },
   {
    "duration": 7,
    "start_time": "2021-08-04T13:14:10.838Z"
   },
   {
    "duration": 8,
    "start_time": "2021-08-04T13:14:11.030Z"
   },
   {
    "duration": 7,
    "start_time": "2021-08-04T13:14:11.225Z"
   },
   {
    "duration": 9,
    "start_time": "2021-08-04T13:14:12.303Z"
   },
   {
    "duration": 12,
    "start_time": "2021-08-04T13:14:15.070Z"
   },
   {
    "duration": 6,
    "start_time": "2021-08-04T13:14:17.446Z"
   },
   {
    "duration": 8,
    "start_time": "2021-08-04T13:14:17.846Z"
   },
   {
    "duration": 10,
    "start_time": "2021-08-04T13:14:18.039Z"
   },
   {
    "duration": 8,
    "start_time": "2021-08-04T13:14:18.239Z"
   },
   {
    "duration": 7,
    "start_time": "2021-08-04T13:14:18.447Z"
   },
   {
    "duration": 7,
    "start_time": "2021-08-04T13:14:19.014Z"
   },
   {
    "duration": 11,
    "start_time": "2021-08-04T13:14:19.493Z"
   },
   {
    "duration": 8,
    "start_time": "2021-08-04T13:14:52.710Z"
   },
   {
    "duration": 8,
    "start_time": "2021-08-04T13:14:53.302Z"
   },
   {
    "duration": 8,
    "start_time": "2021-08-04T13:14:53.502Z"
   },
   {
    "duration": 3,
    "start_time": "2021-08-04T13:15:30.591Z"
   },
   {
    "duration": 9,
    "start_time": "2021-08-04T13:15:33.368Z"
   },
   {
    "duration": 8,
    "start_time": "2021-08-04T13:15:33.536Z"
   },
   {
    "duration": 9,
    "start_time": "2021-08-04T13:15:33.695Z"
   },
   {
    "duration": 8,
    "start_time": "2021-08-04T13:15:33.886Z"
   },
   {
    "duration": 6,
    "start_time": "2021-08-04T13:15:34.254Z"
   },
   {
    "duration": 10,
    "start_time": "2021-08-04T13:15:34.438Z"
   },
   {
    "duration": 69,
    "start_time": "2021-08-04T13:15:41.882Z"
   },
   {
    "duration": 10,
    "start_time": "2021-08-04T13:15:42.150Z"
   },
   {
    "duration": 8,
    "start_time": "2021-08-04T13:15:42.790Z"
   },
   {
    "duration": 8,
    "start_time": "2021-08-04T13:15:43.150Z"
   },
   {
    "duration": 9,
    "start_time": "2021-08-04T13:15:43.750Z"
   },
   {
    "duration": 8,
    "start_time": "2021-08-04T13:15:44.406Z"
   },
   {
    "duration": 8,
    "start_time": "2021-08-04T13:15:46.494Z"
   },
   {
    "duration": 12,
    "start_time": "2021-08-04T13:15:49.886Z"
   },
   {
    "duration": 5,
    "start_time": "2021-08-04T13:15:52.150Z"
   },
   {
    "duration": 4,
    "start_time": "2021-08-04T13:15:53.582Z"
   },
   {
    "duration": 9,
    "start_time": "2021-08-04T13:15:55.734Z"
   },
   {
    "duration": 8,
    "start_time": "2021-08-04T13:15:55.974Z"
   },
   {
    "duration": 8,
    "start_time": "2021-08-04T13:15:56.286Z"
   },
   {
    "duration": 7,
    "start_time": "2021-08-04T13:15:56.536Z"
   },
   {
    "duration": 8,
    "start_time": "2021-08-04T13:15:57.142Z"
   },
   {
    "duration": 11,
    "start_time": "2021-08-04T13:15:57.816Z"
   },
   {
    "duration": 4,
    "start_time": "2021-08-04T13:16:47.046Z"
   },
   {
    "duration": 6,
    "start_time": "2021-08-04T13:16:47.768Z"
   },
   {
    "duration": 4,
    "start_time": "2021-08-04T13:16:47.958Z"
   },
   {
    "duration": 8,
    "start_time": "2021-08-04T13:16:48.342Z"
   },
   {
    "duration": 7,
    "start_time": "2021-08-04T13:16:48.534Z"
   },
   {
    "duration": 8,
    "start_time": "2021-08-04T13:16:48.727Z"
   },
   {
    "duration": 7,
    "start_time": "2021-08-04T13:16:48.934Z"
   },
   {
    "duration": 7,
    "start_time": "2021-08-04T13:16:49.383Z"
   },
   {
    "duration": 12,
    "start_time": "2021-08-04T13:16:49.638Z"
   },
   {
    "duration": 11,
    "start_time": "2021-08-04T13:17:11.410Z"
   },
   {
    "duration": 13,
    "start_time": "2021-08-04T13:17:16.504Z"
   },
   {
    "duration": 11,
    "start_time": "2021-08-04T13:23:14.380Z"
   },
   {
    "duration": 4,
    "start_time": "2021-08-04T14:16:35.245Z"
   },
   {
    "duration": 4,
    "start_time": "2021-08-04T14:16:35.910Z"
   },
   {
    "duration": 12,
    "start_time": "2021-08-04T14:16:36.431Z"
   },
   {
    "duration": 4,
    "start_time": "2021-08-04T14:17:50.046Z"
   },
   {
    "duration": 11,
    "start_time": "2021-08-04T14:17:51.375Z"
   },
   {
    "duration": 20,
    "start_time": "2021-08-04T14:19:56.629Z"
   },
   {
    "duration": 7,
    "start_time": "2021-08-04T14:24:46.043Z"
   },
   {
    "duration": 7,
    "start_time": "2021-08-04T14:25:37.281Z"
   },
   {
    "duration": 7,
    "start_time": "2021-08-04T14:26:16.998Z"
   },
   {
    "duration": 8,
    "start_time": "2021-08-04T14:26:56.230Z"
   },
   {
    "duration": 7,
    "start_time": "2021-08-04T14:26:56.951Z"
   },
   {
    "duration": 8,
    "start_time": "2021-08-04T14:26:57.481Z"
   },
   {
    "duration": 13,
    "start_time": "2021-08-04T14:29:38.897Z"
   },
   {
    "duration": 9,
    "start_time": "2021-08-04T14:29:46.942Z"
   },
   {
    "duration": 13,
    "start_time": "2021-08-04T14:30:50.312Z"
   },
   {
    "duration": 9,
    "start_time": "2021-08-04T14:30:57.258Z"
   },
   {
    "duration": 215,
    "start_time": "2021-08-04T14:37:27.370Z"
   },
   {
    "duration": 178,
    "start_time": "2021-08-04T14:38:06.753Z"
   },
   {
    "duration": 6,
    "start_time": "2021-08-04T14:38:29.736Z"
   },
   {
    "duration": 6,
    "start_time": "2021-08-04T14:39:18.761Z"
   },
   {
    "duration": 6,
    "start_time": "2021-08-04T14:39:19.080Z"
   },
   {
    "duration": 6,
    "start_time": "2021-08-04T14:39:21.280Z"
   },
   {
    "duration": 7,
    "start_time": "2021-08-04T14:39:22.014Z"
   },
   {
    "duration": 20,
    "start_time": "2021-08-04T14:40:13.127Z"
   },
   {
    "duration": 7,
    "start_time": "2021-08-04T14:40:29.065Z"
   },
   {
    "duration": 7,
    "start_time": "2021-08-04T14:40:40.432Z"
   },
   {
    "duration": 8,
    "start_time": "2021-08-04T14:40:41.799Z"
   },
   {
    "duration": 6,
    "start_time": "2021-08-04T14:44:37.645Z"
   },
   {
    "duration": 6,
    "start_time": "2021-08-04T14:44:37.887Z"
   },
   {
    "duration": 6,
    "start_time": "2021-08-04T14:44:38.144Z"
   },
   {
    "duration": 62,
    "start_time": "2021-08-04T14:44:44.089Z"
   },
   {
    "duration": 12,
    "start_time": "2021-08-04T14:44:44.289Z"
   },
   {
    "duration": 11,
    "start_time": "2021-08-04T14:44:44.460Z"
   },
   {
    "duration": 8,
    "start_time": "2021-08-04T14:44:44.623Z"
   },
   {
    "duration": 8,
    "start_time": "2021-08-04T14:44:44.790Z"
   },
   {
    "duration": 8,
    "start_time": "2021-08-04T14:44:44.954Z"
   },
   {
    "duration": 9,
    "start_time": "2021-08-04T14:44:45.807Z"
   },
   {
    "duration": 4,
    "start_time": "2021-08-04T14:44:46.339Z"
   },
   {
    "duration": 6,
    "start_time": "2021-08-04T14:44:46.718Z"
   },
   {
    "duration": 4,
    "start_time": "2021-08-04T14:44:46.935Z"
   },
   {
    "duration": 8,
    "start_time": "2021-08-04T14:44:47.321Z"
   },
   {
    "duration": 7,
    "start_time": "2021-08-04T14:44:47.511Z"
   },
   {
    "duration": 8,
    "start_time": "2021-08-04T14:44:47.710Z"
   },
   {
    "duration": 8,
    "start_time": "2021-08-04T14:44:47.927Z"
   },
   {
    "duration": 7,
    "start_time": "2021-08-04T14:44:48.326Z"
   },
   {
    "duration": 11,
    "start_time": "2021-08-04T14:44:48.526Z"
   },
   {
    "duration": 4,
    "start_time": "2021-08-04T14:44:49.551Z"
   },
   {
    "duration": 4,
    "start_time": "2021-08-04T14:44:49.791Z"
   },
   {
    "duration": 4,
    "start_time": "2021-08-04T14:44:50.262Z"
   },
   {
    "duration": 11,
    "start_time": "2021-08-04T14:44:50.479Z"
   },
   {
    "duration": 11,
    "start_time": "2021-08-04T14:44:50.694Z"
   },
   {
    "duration": 7,
    "start_time": "2021-08-04T14:44:51.302Z"
   },
   {
    "duration": 11,
    "start_time": "2021-08-04T14:44:51.871Z"
   },
   {
    "duration": 8,
    "start_time": "2021-08-04T14:44:52.280Z"
   },
   {
    "duration": 8,
    "start_time": "2021-08-04T14:44:54.287Z"
   },
   {
    "duration": 13,
    "start_time": "2021-08-04T14:44:54.854Z"
   },
   {
    "duration": 9,
    "start_time": "2021-08-04T14:44:55.318Z"
   },
   {
    "duration": 10,
    "start_time": "2021-08-04T14:44:56.223Z"
   },
   {
    "duration": 8,
    "start_time": "2021-08-04T14:44:56.903Z"
   },
   {
    "duration": 9,
    "start_time": "2021-08-04T14:44:57.318Z"
   },
   {
    "duration": 8,
    "start_time": "2021-08-04T14:44:57.631Z"
   },
   {
    "duration": 8,
    "start_time": "2021-08-04T14:44:58.007Z"
   },
   {
    "duration": 7,
    "start_time": "2021-08-04T14:44:58.959Z"
   },
   {
    "duration": 7,
    "start_time": "2021-08-04T14:45:00.239Z"
   },
   {
    "duration": 14,
    "start_time": "2021-08-04T14:52:20.321Z"
   },
   {
    "duration": 331,
    "start_time": "2021-08-05T08:51:37.645Z"
   },
   {
    "duration": 810,
    "start_time": "2021-08-05T08:51:44.148Z"
   },
   {
    "duration": 15,
    "start_time": "2021-08-05T08:51:44.960Z"
   },
   {
    "duration": 12,
    "start_time": "2021-08-05T08:51:45.232Z"
   },
   {
    "duration": 5,
    "start_time": "2021-08-05T08:51:45.774Z"
   },
   {
    "duration": 8,
    "start_time": "2021-08-05T08:51:46.158Z"
   },
   {
    "duration": 5,
    "start_time": "2021-08-05T08:51:46.351Z"
   },
   {
    "duration": 12,
    "start_time": "2021-08-05T08:51:46.727Z"
   },
   {
    "duration": 11,
    "start_time": "2021-08-05T08:51:46.910Z"
   },
   {
    "duration": 11,
    "start_time": "2021-08-05T08:51:47.094Z"
   },
   {
    "duration": 11,
    "start_time": "2021-08-05T08:51:47.287Z"
   },
   {
    "duration": 10,
    "start_time": "2021-08-05T08:51:47.694Z"
   },
   {
    "duration": 15,
    "start_time": "2021-08-05T08:51:47.886Z"
   },
   {
    "duration": 6,
    "start_time": "2021-08-05T08:51:48.943Z"
   },
   {
    "duration": 5,
    "start_time": "2021-08-05T08:51:49.166Z"
   },
   {
    "duration": 4,
    "start_time": "2021-08-05T08:51:49.632Z"
   },
   {
    "duration": 18,
    "start_time": "2021-08-05T08:51:50.087Z"
   },
   {
    "duration": 16,
    "start_time": "2021-08-05T08:51:50.342Z"
   },
   {
    "duration": 10,
    "start_time": "2021-08-05T08:51:51.199Z"
   },
   {
    "duration": 16,
    "start_time": "2021-08-05T08:51:51.934Z"
   },
   {
    "duration": 11,
    "start_time": "2021-08-05T08:51:52.351Z"
   },
   {
    "duration": 9,
    "start_time": "2021-08-05T08:51:53.103Z"
   },
   {
    "duration": 17,
    "start_time": "2021-08-05T08:51:53.446Z"
   },
   {
    "duration": 11,
    "start_time": "2021-08-05T08:51:53.774Z"
   },
   {
    "duration": 9,
    "start_time": "2021-08-05T08:51:54.519Z"
   },
   {
    "duration": 8,
    "start_time": "2021-08-05T08:51:55.238Z"
   },
   {
    "duration": 8,
    "start_time": "2021-08-05T08:51:55.566Z"
   },
   {
    "duration": 9,
    "start_time": "2021-08-05T08:51:55.878Z"
   },
   {
    "duration": 8,
    "start_time": "2021-08-05T08:51:56.113Z"
   },
   {
    "duration": 8,
    "start_time": "2021-08-05T08:51:56.366Z"
   },
   {
    "duration": 10,
    "start_time": "2021-08-05T08:51:56.816Z"
   },
   {
    "duration": 23,
    "start_time": "2021-08-05T08:51:57.471Z"
   },
   {
    "duration": 361,
    "start_time": "2021-08-05T08:51:59.710Z"
   },
   {
    "duration": 876,
    "start_time": "2021-08-05T08:53:18.199Z"
   },
   {
    "duration": 897,
    "start_time": "2021-08-05T08:53:25.176Z"
   },
   {
    "duration": 64958,
    "start_time": "2021-08-05T09:00:08.404Z"
   },
   {
    "duration": 4945,
    "start_time": "2021-08-05T09:08:00.100Z"
   },
   {
    "duration": 348,
    "start_time": "2021-08-05T09:13:13.802Z"
   },
   {
    "duration": 93,
    "start_time": "2021-08-05T09:13:34.825Z"
   },
   {
    "duration": 284,
    "start_time": "2021-08-05T09:13:42.519Z"
   },
   {
    "duration": 5,
    "start_time": "2021-08-05T09:15:06.794Z"
   },
   {
    "duration": 273,
    "start_time": "2021-08-05T09:16:08.431Z"
   },
   {
    "duration": 6,
    "start_time": "2021-08-05T09:18:16.600Z"
   },
   {
    "duration": 305,
    "start_time": "2021-08-05T09:24:39.723Z"
   },
   {
    "duration": 29,
    "start_time": "2021-08-05T09:25:12.745Z"
   },
   {
    "duration": 41,
    "start_time": "2021-08-05T09:26:32.912Z"
   },
   {
    "duration": 99,
    "start_time": "2021-08-05T09:26:45.696Z"
   },
   {
    "duration": 45,
    "start_time": "2021-08-05T09:26:54.879Z"
   },
   {
    "duration": 31,
    "start_time": "2021-08-05T09:26:58.263Z"
   },
   {
    "duration": 39,
    "start_time": "2021-08-05T09:27:21.001Z"
   },
   {
    "duration": 33,
    "start_time": "2021-08-05T09:27:33.121Z"
   },
   {
    "duration": 25,
    "start_time": "2021-08-05T11:12:45.711Z"
   },
   {
    "duration": 23,
    "start_time": "2021-08-05T11:13:04.067Z"
   },
   {
    "duration": 286,
    "start_time": "2021-08-05T11:13:35.697Z"
   },
   {
    "duration": 11,
    "start_time": "2021-08-05T11:13:55.063Z"
   },
   {
    "duration": 7,
    "start_time": "2021-08-05T11:14:28.337Z"
   },
   {
    "duration": 11,
    "start_time": "2021-08-05T11:14:35.161Z"
   },
   {
    "duration": 8,
    "start_time": "2021-08-05T11:35:32.678Z"
   },
   {
    "duration": 8,
    "start_time": "2021-08-05T11:36:07.651Z"
   },
   {
    "duration": 12,
    "start_time": "2021-08-05T11:36:35.978Z"
   },
   {
    "duration": 8,
    "start_time": "2021-08-05T11:36:47.129Z"
   },
   {
    "duration": 9,
    "start_time": "2021-08-05T11:37:13.657Z"
   },
   {
    "duration": 7507,
    "start_time": "2021-08-05T11:37:30.460Z"
   },
   {
    "duration": 10,
    "start_time": "2021-08-05T11:37:41.097Z"
   },
   {
    "duration": 10,
    "start_time": "2021-08-05T11:37:51.977Z"
   },
   {
    "duration": 11,
    "start_time": "2021-08-05T11:38:01.617Z"
   },
   {
    "duration": 11,
    "start_time": "2021-08-05T11:38:37.450Z"
   },
   {
    "duration": 9,
    "start_time": "2021-08-05T11:38:51.961Z"
   },
   {
    "duration": 11,
    "start_time": "2021-08-05T11:39:00.118Z"
   },
   {
    "duration": 8,
    "start_time": "2021-08-05T11:39:10.865Z"
   },
   {
    "duration": 4,
    "start_time": "2021-08-05T11:39:58.324Z"
   },
   {
    "duration": 5,
    "start_time": "2021-08-05T11:39:58.592Z"
   },
   {
    "duration": 79,
    "start_time": "2021-08-05T11:40:02.131Z"
   },
   {
    "duration": 15,
    "start_time": "2021-08-05T11:40:02.312Z"
   },
   {
    "duration": 11,
    "start_time": "2021-08-05T11:40:03.144Z"
   },
   {
    "duration": 5,
    "start_time": "2021-08-05T11:40:03.688Z"
   },
   {
    "duration": 7,
    "start_time": "2021-08-05T11:40:04.044Z"
   },
   {
    "duration": 5,
    "start_time": "2021-08-05T11:40:04.218Z"
   },
   {
    "duration": 10,
    "start_time": "2021-08-05T11:40:04.576Z"
   },
   {
    "duration": 11,
    "start_time": "2021-08-05T11:40:04.760Z"
   },
   {
    "duration": 11,
    "start_time": "2021-08-05T11:40:04.960Z"
   },
   {
    "duration": 11,
    "start_time": "2021-08-05T11:40:05.160Z"
   },
   {
    "duration": 11,
    "start_time": "2021-08-05T11:40:05.568Z"
   },
   {
    "duration": 15,
    "start_time": "2021-08-05T11:40:05.793Z"
   },
   {
    "duration": 5,
    "start_time": "2021-08-05T11:40:07.736Z"
   },
   {
    "duration": 5,
    "start_time": "2021-08-05T11:40:08.216Z"
   },
   {
    "duration": 5,
    "start_time": "2021-08-05T11:40:11.752Z"
   },
   {
    "duration": 5,
    "start_time": "2021-08-05T11:40:31.450Z"
   },
   {
    "duration": 8,
    "start_time": "2021-08-05T11:40:49.776Z"
   },
   {
    "duration": 117,
    "start_time": "2021-08-05T11:41:49.233Z"
   },
   {
    "duration": 310,
    "start_time": "2021-08-05T11:42:39.178Z"
   },
   {
    "duration": 317,
    "start_time": "2021-08-05T11:42:51.204Z"
   },
   {
    "duration": 5245,
    "start_time": "2021-08-05T11:43:49.770Z"
   },
   {
    "duration": 41,
    "start_time": "2021-08-05T11:44:12.145Z"
   },
   {
    "duration": 364,
    "start_time": "2021-08-05T11:44:30.965Z"
   },
   {
    "duration": 2119,
    "start_time": "2021-08-05T11:44:34.314Z"
   },
   {
    "duration": 29,
    "start_time": "2021-08-05T11:44:40.618Z"
   },
   {
    "duration": 297,
    "start_time": "2021-08-05T11:44:55.028Z"
   },
   {
    "duration": 10,
    "start_time": "2021-08-05T11:45:02.756Z"
   },
   {
    "duration": 8,
    "start_time": "2021-08-05T11:45:14.186Z"
   },
   {
    "duration": 77,
    "start_time": "2021-08-05T11:47:51.412Z"
   },
   {
    "duration": 15,
    "start_time": "2021-08-05T11:47:51.617Z"
   },
   {
    "duration": 12,
    "start_time": "2021-08-05T11:47:52.521Z"
   },
   {
    "duration": 5,
    "start_time": "2021-08-05T11:47:53.072Z"
   },
   {
    "duration": 7,
    "start_time": "2021-08-05T11:47:53.448Z"
   },
   {
    "duration": 5,
    "start_time": "2021-08-05T11:47:53.632Z"
   },
   {
    "duration": 14,
    "start_time": "2021-08-05T11:47:54.025Z"
   },
   {
    "duration": 12,
    "start_time": "2021-08-05T11:47:54.234Z"
   },
   {
    "duration": 11,
    "start_time": "2021-08-05T11:47:54.424Z"
   },
   {
    "duration": 12,
    "start_time": "2021-08-05T11:47:54.625Z"
   },
   {
    "duration": 10,
    "start_time": "2021-08-05T11:47:55.025Z"
   },
   {
    "duration": 18,
    "start_time": "2021-08-05T11:47:55.232Z"
   },
   {
    "duration": 5,
    "start_time": "2021-08-05T11:47:56.296Z"
   },
   {
    "duration": 5,
    "start_time": "2021-08-05T11:47:56.729Z"
   },
   {
    "duration": 5,
    "start_time": "2021-08-05T11:47:57.187Z"
   },
   {
    "duration": 5,
    "start_time": "2021-08-05T11:47:57.631Z"
   },
   {
    "duration": 8,
    "start_time": "2021-08-05T11:47:57.865Z"
   },
   {
    "duration": 10,
    "start_time": "2021-08-05T11:47:58.520Z"
   },
   {
    "duration": 8,
    "start_time": "2021-08-05T11:47:59.896Z"
   },
   {
    "duration": 19,
    "start_time": "2021-08-05T11:48:16.083Z"
   },
   {
    "duration": 15,
    "start_time": "2021-08-05T11:48:16.688Z"
   },
   {
    "duration": 10,
    "start_time": "2021-08-05T11:48:23.586Z"
   },
   {
    "duration": 16,
    "start_time": "2021-08-05T11:48:24.656Z"
   },
   {
    "duration": 11,
    "start_time": "2021-08-05T11:48:26.312Z"
   },
   {
    "duration": 10,
    "start_time": "2021-08-05T11:48:27.472Z"
   },
   {
    "duration": 18,
    "start_time": "2021-08-05T11:48:30.193Z"
   },
   {
    "duration": 13,
    "start_time": "2021-08-05T11:48:30.728Z"
   },
   {
    "duration": 9,
    "start_time": "2021-08-05T11:48:34.336Z"
   },
   {
    "duration": 9,
    "start_time": "2021-08-05T11:48:47.384Z"
   },
   {
    "duration": 9,
    "start_time": "2021-08-05T11:48:47.611Z"
   },
   {
    "duration": 7,
    "start_time": "2021-08-05T11:48:47.843Z"
   },
   {
    "duration": 12,
    "start_time": "2021-08-05T11:48:48.305Z"
   },
   {
    "duration": 10,
    "start_time": "2021-08-05T11:48:48.896Z"
   },
   {
    "duration": 15,
    "start_time": "2021-08-05T11:49:19.908Z"
   },
   {
    "duration": 24,
    "start_time": "2021-08-05T11:49:20.266Z"
   },
   {
    "duration": 5022,
    "start_time": "2021-08-05T11:49:21.985Z"
   },
   {
    "duration": 36,
    "start_time": "2021-08-05T11:49:27.010Z"
   },
   {
    "duration": 51,
    "start_time": "2021-08-05T11:49:27.049Z"
   },
   {
    "duration": 12,
    "start_time": "2021-08-05T11:49:29.760Z"
   },
   {
    "duration": 8,
    "start_time": "2021-08-05T11:49:30.361Z"
   },
   {
    "duration": 7311,
    "start_time": "2021-08-05T11:59:39.975Z"
   },
   {
    "duration": 9,
    "start_time": "2021-08-05T12:00:18.138Z"
   },
   {
    "duration": 26,
    "start_time": "2021-08-05T12:02:01.490Z"
   },
   {
    "duration": 14,
    "start_time": "2021-08-05T12:02:38.605Z"
   },
   {
    "duration": 283,
    "start_time": "2021-08-05T12:03:24.481Z"
   },
   {
    "duration": 10,
    "start_time": "2021-08-05T12:03:29.833Z"
   },
   {
    "duration": 13,
    "start_time": "2021-08-05T12:04:07.059Z"
   },
   {
    "duration": 20,
    "start_time": "2021-08-05T12:04:56.714Z"
   },
   {
    "duration": 1140,
    "start_time": "2021-08-05T12:05:30.356Z"
   },
   {
    "duration": 1115,
    "start_time": "2021-08-05T12:05:52.715Z"
   },
   {
    "duration": 1420,
    "start_time": "2021-08-05T12:06:06.044Z"
   },
   {
    "duration": 24,
    "start_time": "2021-08-05T12:06:47.899Z"
   },
   {
    "duration": 14,
    "start_time": "2021-08-05T12:07:12.292Z"
   },
   {
    "duration": 12,
    "start_time": "2021-08-05T12:08:01.011Z"
   },
   {
    "duration": 15,
    "start_time": "2021-08-05T12:08:05.921Z"
   },
   {
    "duration": 346,
    "start_time": "2021-08-05T12:08:22.553Z"
   },
   {
    "duration": 15,
    "start_time": "2021-08-05T12:08:31.858Z"
   },
   {
    "duration": 16,
    "start_time": "2021-08-05T12:08:46.593Z"
   },
   {
    "duration": 16,
    "start_time": "2021-08-05T12:10:00.442Z"
   },
   {
    "duration": 25,
    "start_time": "2021-08-05T12:11:31.106Z"
   },
   {
    "duration": 21,
    "start_time": "2021-08-05T12:11:50.113Z"
   },
   {
    "duration": 24,
    "start_time": "2021-08-05T12:13:19.267Z"
   },
   {
    "duration": 17,
    "start_time": "2021-08-05T12:13:27.586Z"
   },
   {
    "duration": 19,
    "start_time": "2021-08-05T12:14:12.306Z"
   },
   {
    "duration": 22,
    "start_time": "2021-08-05T12:16:46.595Z"
   },
   {
    "duration": 20,
    "start_time": "2021-08-05T12:17:03.505Z"
   },
   {
    "duration": 109,
    "start_time": "2021-08-05T12:17:39.554Z"
   },
   {
    "duration": 93,
    "start_time": "2021-08-05T12:17:43.690Z"
   },
   {
    "duration": 98,
    "start_time": "2021-08-05T12:17:56.254Z"
   },
   {
    "duration": 101,
    "start_time": "2021-08-05T12:18:04.947Z"
   },
   {
    "duration": 16,
    "start_time": "2021-08-05T12:18:17.623Z"
   },
   {
    "duration": 20,
    "start_time": "2021-08-05T12:18:34.677Z"
   },
   {
    "duration": 18,
    "start_time": "2021-08-05T12:18:58.630Z"
   },
   {
    "duration": 12,
    "start_time": "2021-08-05T12:21:03.106Z"
   },
   {
    "duration": 12,
    "start_time": "2021-08-05T12:21:11.437Z"
   },
   {
    "duration": 14,
    "start_time": "2021-08-05T12:21:39.115Z"
   },
   {
    "duration": 13,
    "start_time": "2021-08-05T12:23:00.953Z"
   },
   {
    "duration": 12,
    "start_time": "2021-08-05T12:25:05.707Z"
   },
   {
    "duration": 13,
    "start_time": "2021-08-05T12:26:30.073Z"
   },
   {
    "duration": 9,
    "start_time": "2021-08-05T12:34:57.893Z"
   },
   {
    "duration": 8,
    "start_time": "2021-08-05T12:35:13.868Z"
   },
   {
    "duration": 7,
    "start_time": "2021-08-05T12:36:13.723Z"
   },
   {
    "duration": 30,
    "start_time": "2021-08-05T12:36:20.692Z"
   },
   {
    "duration": 9,
    "start_time": "2021-08-05T12:38:39.778Z"
   },
   {
    "duration": 11,
    "start_time": "2021-08-05T12:38:43.794Z"
   },
   {
    "duration": 17,
    "start_time": "2021-08-05T12:39:01.274Z"
   },
   {
    "duration": 14,
    "start_time": "2021-08-05T12:39:04.201Z"
   },
   {
    "duration": 12,
    "start_time": "2021-08-05T12:39:05.329Z"
   },
   {
    "duration": 99,
    "start_time": "2021-08-05T12:39:05.673Z"
   },
   {
    "duration": 13,
    "start_time": "2021-08-05T12:39:05.892Z"
   },
   {
    "duration": 14,
    "start_time": "2021-08-05T12:39:16.825Z"
   },
   {
    "duration": 13,
    "start_time": "2021-08-05T12:39:17.697Z"
   },
   {
    "duration": 13,
    "start_time": "2021-08-05T12:39:18.354Z"
   },
   {
    "duration": 9,
    "start_time": "2021-08-05T12:45:31.318Z"
   },
   {
    "duration": 6,
    "start_time": "2021-08-05T12:52:52.630Z"
   },
   {
    "duration": 598,
    "start_time": "2021-08-05T12:53:22.133Z"
   },
   {
    "duration": 6,
    "start_time": "2021-08-05T12:53:28.764Z"
   },
   {
    "duration": 34,
    "start_time": "2021-08-05T12:53:29.772Z"
   },
   {
    "duration": 93,
    "start_time": "2021-08-05T12:55:32.141Z"
   },
   {
    "duration": 7,
    "start_time": "2021-08-05T12:56:19.887Z"
   },
   {
    "duration": 98,
    "start_time": "2021-08-05T12:56:26.516Z"
   },
   {
    "duration": 10,
    "start_time": "2021-08-05T12:58:00.699Z"
   },
   {
    "duration": 12,
    "start_time": "2021-08-05T12:58:07.861Z"
   },
   {
    "duration": 31,
    "start_time": "2021-08-05T13:00:06.244Z"
   },
   {
    "duration": 5,
    "start_time": "2021-08-05T13:00:08.787Z"
   },
   {
    "duration": 39,
    "start_time": "2021-08-05T13:00:09.306Z"
   },
   {
    "duration": 7,
    "start_time": "2021-08-05T13:00:16.202Z"
   },
   {
    "duration": 39,
    "start_time": "2021-08-05T13:00:16.578Z"
   },
   {
    "duration": 22,
    "start_time": "2021-08-05T13:01:06.047Z"
   },
   {
    "duration": 72,
    "start_time": "2021-08-05T13:01:26.278Z"
   },
   {
    "duration": 7817,
    "start_time": "2021-08-05T13:01:31.040Z"
   },
   {
    "duration": 293,
    "start_time": "2021-08-05T13:02:58.661Z"
   },
   {
    "duration": 14,
    "start_time": "2021-08-05T13:03:08.995Z"
   },
   {
    "duration": 15,
    "start_time": "2021-08-05T13:03:16.155Z"
   },
   {
    "duration": 12,
    "start_time": "2021-08-05T13:03:20.635Z"
   },
   {
    "duration": 13,
    "start_time": "2021-08-05T13:04:18.362Z"
   },
   {
    "duration": 8,
    "start_time": "2021-08-05T13:04:44.966Z"
   },
   {
    "duration": 6,
    "start_time": "2021-08-05T13:04:45.618Z"
   },
   {
    "duration": 45,
    "start_time": "2021-08-05T13:04:46.206Z"
   },
   {
    "duration": 12,
    "start_time": "2021-08-05T13:04:48.843Z"
   },
   {
    "duration": 16233,
    "start_time": "2021-08-05T13:04:49.604Z"
   },
   {
    "duration": 8,
    "start_time": "2021-08-05T13:05:27.996Z"
   },
   {
    "duration": 8,
    "start_time": "2021-08-05T13:07:02.148Z"
   },
   {
    "duration": 6,
    "start_time": "2021-08-05T13:07:17.048Z"
   },
   {
    "duration": 12,
    "start_time": "2021-08-05T13:08:53.884Z"
   },
   {
    "duration": 5,
    "start_time": "2021-08-05T13:09:22.667Z"
   },
   {
    "duration": 42,
    "start_time": "2021-08-05T13:09:23.187Z"
   },
   {
    "duration": 12,
    "start_time": "2021-08-05T13:09:32.032Z"
   },
   {
    "duration": 15,
    "start_time": "2021-08-05T13:09:34.207Z"
   },
   {
    "duration": 7555,
    "start_time": "2021-08-05T13:09:35.522Z"
   },
   {
    "duration": 11,
    "start_time": "2021-08-05T13:10:37.428Z"
   },
   {
    "duration": 5,
    "start_time": "2021-08-05T13:11:29.747Z"
   },
   {
    "duration": 35,
    "start_time": "2021-08-05T13:11:31.562Z"
   },
   {
    "duration": 12,
    "start_time": "2021-08-05T13:11:34.313Z"
   },
   {
    "duration": 11,
    "start_time": "2021-08-05T13:11:37.257Z"
   },
   {
    "duration": 7781,
    "start_time": "2021-08-05T13:11:38.263Z"
   },
   {
    "duration": 648,
    "start_time": "2021-08-05T13:13:42.196Z"
   },
   {
    "duration": 320,
    "start_time": "2021-08-05T13:13:48.859Z"
   },
   {
    "duration": 354,
    "start_time": "2021-08-05T13:13:52.886Z"
   },
   {
    "duration": 38,
    "start_time": "2021-08-05T13:13:57.863Z"
   },
   {
    "duration": 13,
    "start_time": "2021-08-05T13:13:59.739Z"
   },
   {
    "duration": 56,
    "start_time": "2021-08-05T13:14:42.252Z"
   },
   {
    "duration": 13,
    "start_time": "2021-08-05T13:14:43.387Z"
   },
   {
    "duration": 15,
    "start_time": "2021-08-05T13:14:48.690Z"
   },
   {
    "duration": 10,
    "start_time": "2021-08-05T13:14:53.035Z"
   },
   {
    "duration": 12,
    "start_time": "2021-08-05T13:14:56.549Z"
   },
   {
    "duration": 15,
    "start_time": "2021-08-05T13:15:02.003Z"
   },
   {
    "duration": 8964,
    "start_time": "2021-08-05T13:15:06.019Z"
   },
   {
    "duration": 15,
    "start_time": "2021-08-05T13:15:24.908Z"
   },
   {
    "duration": 12,
    "start_time": "2021-08-05T13:15:37.188Z"
   },
   {
    "duration": 12,
    "start_time": "2021-08-05T13:16:13.851Z"
   },
   {
    "duration": 11,
    "start_time": "2021-08-05T13:16:20.171Z"
   },
   {
    "duration": 17,
    "start_time": "2021-08-05T13:16:26.412Z"
   },
   {
    "duration": 10,
    "start_time": "2021-08-05T13:16:32.364Z"
   },
   {
    "duration": 9599,
    "start_time": "2021-08-05T13:16:37.338Z"
   },
   {
    "duration": 32,
    "start_time": "2021-08-05T13:19:27.754Z"
   },
   {
    "duration": 38,
    "start_time": "2021-08-05T13:24:46.790Z"
   },
   {
    "duration": 9,
    "start_time": "2021-08-05T13:24:54.034Z"
   },
   {
    "duration": 9,
    "start_time": "2021-08-05T13:26:32.258Z"
   },
   {
    "duration": 84,
    "start_time": "2021-08-05T13:26:44.804Z"
   },
   {
    "duration": 24,
    "start_time": "2021-08-05T13:26:45.010Z"
   },
   {
    "duration": 13,
    "start_time": "2021-08-05T13:26:45.924Z"
   },
   {
    "duration": 5,
    "start_time": "2021-08-05T13:26:46.492Z"
   },
   {
    "duration": 7,
    "start_time": "2021-08-05T13:26:46.894Z"
   },
   {
    "duration": 5,
    "start_time": "2021-08-05T13:26:47.091Z"
   },
   {
    "duration": 17,
    "start_time": "2021-08-05T13:26:47.522Z"
   },
   {
    "duration": 12,
    "start_time": "2021-08-05T13:26:47.756Z"
   },
   {
    "duration": 11,
    "start_time": "2021-08-05T13:26:48.073Z"
   },
   {
    "duration": 11,
    "start_time": "2021-08-05T13:26:48.388Z"
   },
   {
    "duration": 15,
    "start_time": "2021-08-05T13:26:48.906Z"
   },
   {
    "duration": 22,
    "start_time": "2021-08-05T13:26:49.203Z"
   },
   {
    "duration": 6,
    "start_time": "2021-08-05T13:26:51.657Z"
   },
   {
    "duration": 5,
    "start_time": "2021-08-05T13:26:51.963Z"
   },
   {
    "duration": 5,
    "start_time": "2021-08-05T13:26:52.593Z"
   },
   {
    "duration": 4,
    "start_time": "2021-08-05T13:26:53.939Z"
   },
   {
    "duration": 11,
    "start_time": "2021-08-05T13:26:54.514Z"
   },
   {
    "duration": 4,
    "start_time": "2021-08-05T13:33:22.057Z"
   },
   {
    "duration": 750,
    "start_time": "2021-08-05T13:33:47.685Z"
   },
   {
    "duration": 1678,
    "start_time": "2021-08-05T13:50:09.949Z"
   },
   {
    "duration": 4,
    "start_time": "2021-08-05T13:52:55.786Z"
   },
   {
    "duration": 691,
    "start_time": "2021-08-05T13:52:56.722Z"
   },
   {
    "duration": 31,
    "start_time": "2021-08-05T13:53:09.853Z"
   },
   {
    "duration": 44,
    "start_time": "2021-08-05T13:53:42.900Z"
   },
   {
    "duration": 10,
    "start_time": "2021-08-05T13:54:00.585Z"
   },
   {
    "duration": 87,
    "start_time": "2021-08-05T13:55:30.651Z"
   },
   {
    "duration": 16,
    "start_time": "2021-08-05T13:55:30.835Z"
   },
   {
    "duration": 17,
    "start_time": "2021-08-05T13:55:31.713Z"
   },
   {
    "duration": 5,
    "start_time": "2021-08-05T13:55:32.249Z"
   },
   {
    "duration": 10,
    "start_time": "2021-08-05T13:55:32.612Z"
   },
   {
    "duration": 6,
    "start_time": "2021-08-05T13:55:32.793Z"
   },
   {
    "duration": 11,
    "start_time": "2021-08-05T13:55:33.161Z"
   },
   {
    "duration": 11,
    "start_time": "2021-08-05T13:55:33.337Z"
   },
   {
    "duration": 10,
    "start_time": "2021-08-05T13:55:33.529Z"
   },
   {
    "duration": 15,
    "start_time": "2021-08-05T13:55:33.713Z"
   },
   {
    "duration": 11,
    "start_time": "2021-08-05T13:55:34.095Z"
   },
   {
    "duration": 14,
    "start_time": "2021-08-05T13:55:34.281Z"
   },
   {
    "duration": 5,
    "start_time": "2021-08-05T13:55:35.281Z"
   },
   {
    "duration": 5,
    "start_time": "2021-08-05T13:55:35.481Z"
   },
   {
    "duration": 5,
    "start_time": "2021-08-05T13:55:35.864Z"
   },
   {
    "duration": 5,
    "start_time": "2021-08-05T13:55:36.273Z"
   },
   {
    "duration": 8,
    "start_time": "2021-08-05T13:55:36.475Z"
   },
   {
    "duration": 20,
    "start_time": "2021-08-05T13:55:36.881Z"
   },
   {
    "duration": 20,
    "start_time": "2021-08-05T13:55:37.118Z"
   },
   {
    "duration": 11,
    "start_time": "2021-08-05T13:55:37.992Z"
   },
   {
    "duration": 23,
    "start_time": "2021-08-05T13:55:38.890Z"
   },
   {
    "duration": 11,
    "start_time": "2021-08-05T13:55:39.128Z"
   },
   {
    "duration": 14,
    "start_time": "2021-08-05T13:55:39.610Z"
   },
   {
    "duration": 22,
    "start_time": "2021-08-05T13:55:39.840Z"
   },
   {
    "duration": 12,
    "start_time": "2021-08-05T13:55:40.538Z"
   },
   {
    "duration": 10,
    "start_time": "2021-08-05T13:55:41.560Z"
   },
   {
    "duration": 10,
    "start_time": "2021-08-05T13:55:42.360Z"
   },
   {
    "duration": 9,
    "start_time": "2021-08-05T13:55:42.553Z"
   },
   {
    "duration": 9,
    "start_time": "2021-08-05T13:55:42.737Z"
   },
   {
    "duration": 9,
    "start_time": "2021-08-05T13:55:42.929Z"
   },
   {
    "duration": 8,
    "start_time": "2021-08-05T13:55:43.128Z"
   },
   {
    "duration": 12,
    "start_time": "2021-08-05T13:55:43.321Z"
   },
   {
    "duration": 22,
    "start_time": "2021-08-05T13:55:43.762Z"
   },
   {
    "duration": 5176,
    "start_time": "2021-08-05T13:55:45.243Z"
   },
   {
    "duration": 36,
    "start_time": "2021-08-05T13:55:50.423Z"
   },
   {
    "duration": 50,
    "start_time": "2021-08-05T13:55:50.462Z"
   },
   {
    "duration": 11,
    "start_time": "2021-08-05T13:55:50.515Z"
   },
   {
    "duration": 11,
    "start_time": "2021-08-05T13:55:55.680Z"
   },
   {
    "duration": 10,
    "start_time": "2021-08-05T13:55:57.673Z"
   },
   {
    "duration": 6,
    "start_time": "2021-08-05T13:55:58.945Z"
   },
   {
    "duration": 46,
    "start_time": "2021-08-05T13:55:59.265Z"
   },
   {
    "duration": 5,
    "start_time": "2021-08-05T13:55:59.553Z"
   },
   {
    "duration": 662,
    "start_time": "2021-08-05T13:55:59.810Z"
   },
   {
    "duration": 56,
    "start_time": "2021-08-05T13:56:00.475Z"
   },
   {
    "duration": 8,
    "start_time": "2021-08-05T13:56:00.534Z"
   },
   {
    "duration": 50,
    "start_time": "2021-08-05T13:59:11.004Z"
   },
   {
    "duration": 6,
    "start_time": "2021-08-05T14:07:24.719Z"
   },
   {
    "duration": 823,
    "start_time": "2021-08-05T14:07:38.610Z"
   },
   {
    "duration": 51,
    "start_time": "2021-08-05T14:07:48.370Z"
   },
   {
    "duration": 36,
    "start_time": "2021-08-05T14:08:16.543Z"
   },
   {
    "duration": 9,
    "start_time": "2021-08-05T14:08:52.170Z"
   },
   {
    "duration": 41,
    "start_time": "2021-08-05T14:13:36.361Z"
   },
   {
    "duration": 31,
    "start_time": "2021-08-05T14:13:47.211Z"
   },
   {
    "duration": 40,
    "start_time": "2021-08-05T14:14:00.371Z"
   },
   {
    "duration": 25,
    "start_time": "2021-08-05T14:14:55.366Z"
   },
   {
    "duration": 98,
    "start_time": "2021-08-05T14:15:44.482Z"
   },
   {
    "duration": 105,
    "start_time": "2021-08-05T14:16:35.275Z"
   },
   {
    "duration": 26,
    "start_time": "2021-08-05T14:21:21.357Z"
   },
   {
    "duration": 451,
    "start_time": "2021-08-05T14:24:26.332Z"
   },
   {
    "duration": 281,
    "start_time": "2021-08-05T14:24:48.876Z"
   },
   {
    "duration": 298,
    "start_time": "2021-08-05T14:25:08.754Z"
   },
   {
    "duration": 8,
    "start_time": "2021-08-05T14:25:41.594Z"
   },
   {
    "duration": 31,
    "start_time": "2021-08-05T14:25:46.739Z"
   },
   {
    "duration": 12,
    "start_time": "2021-08-05T14:27:50.881Z"
   },
   {
    "duration": 29,
    "start_time": "2021-08-05T14:28:47.370Z"
   },
   {
    "duration": 41,
    "start_time": "2021-08-05T14:29:07.218Z"
   },
   {
    "duration": 28,
    "start_time": "2021-08-05T14:29:26.843Z"
   },
   {
    "duration": 35,
    "start_time": "2021-08-05T14:29:37.522Z"
   },
   {
    "duration": 44,
    "start_time": "2021-08-05T14:29:41.586Z"
   },
   {
    "duration": 43,
    "start_time": "2021-08-05T14:29:51.674Z"
   },
   {
    "duration": 83,
    "start_time": "2021-08-05T14:29:55.126Z"
   },
   {
    "duration": 23,
    "start_time": "2021-08-05T14:29:55.313Z"
   },
   {
    "duration": 14,
    "start_time": "2021-08-05T14:29:56.137Z"
   },
   {
    "duration": 5,
    "start_time": "2021-08-05T14:29:56.681Z"
   },
   {
    "duration": 8,
    "start_time": "2021-08-05T14:29:57.065Z"
   },
   {
    "duration": 6,
    "start_time": "2021-08-05T14:29:57.249Z"
   },
   {
    "duration": 6,
    "start_time": "2021-08-05T14:29:58.225Z"
   },
   {
    "duration": 5,
    "start_time": "2021-08-05T14:29:58.426Z"
   },
   {
    "duration": 6,
    "start_time": "2021-08-05T14:29:58.873Z"
   },
   {
    "duration": 6,
    "start_time": "2021-08-05T14:29:59.257Z"
   },
   {
    "duration": 8,
    "start_time": "2021-08-05T14:29:59.457Z"
   },
   {
    "duration": 19,
    "start_time": "2021-08-05T14:29:59.859Z"
   },
   {
    "duration": 12,
    "start_time": "2021-08-05T14:30:00.266Z"
   },
   {
    "duration": 19,
    "start_time": "2021-08-05T14:30:00.818Z"
   },
   {
    "duration": 13,
    "start_time": "2021-08-05T14:30:01.025Z"
   },
   {
    "duration": 10,
    "start_time": "2021-08-05T14:30:01.457Z"
   },
   {
    "duration": 27,
    "start_time": "2021-08-05T14:30:01.704Z"
   },
   {
    "duration": 12,
    "start_time": "2021-08-05T14:30:04.073Z"
   },
   {
    "duration": 10,
    "start_time": "2021-08-05T14:30:08.624Z"
   },
   {
    "duration": 10,
    "start_time": "2021-08-05T14:30:09.048Z"
   },
   {
    "duration": 9,
    "start_time": "2021-08-05T14:30:09.267Z"
   },
   {
    "duration": 10,
    "start_time": "2021-08-05T14:30:09.537Z"
   },
   {
    "duration": 11,
    "start_time": "2021-08-05T14:30:09.721Z"
   },
   {
    "duration": 10,
    "start_time": "2021-08-05T14:30:09.913Z"
   },
   {
    "duration": 10,
    "start_time": "2021-08-05T14:30:10.089Z"
   },
   {
    "duration": 18,
    "start_time": "2021-08-05T14:30:10.274Z"
   },
   {
    "duration": 5254,
    "start_time": "2021-08-05T14:30:11.523Z"
   },
   {
    "duration": 49,
    "start_time": "2021-08-05T14:30:16.780Z"
   },
   {
    "duration": 27,
    "start_time": "2021-08-05T14:30:16.833Z"
   },
   {
    "duration": 7,
    "start_time": "2021-08-05T14:30:16.863Z"
   },
   {
    "duration": 86,
    "start_time": "2021-08-05T14:30:16.872Z"
   },
   {
    "duration": 4,
    "start_time": "2021-08-05T14:30:16.961Z"
   },
   {
    "duration": 797,
    "start_time": "2021-08-05T14:30:16.967Z"
   },
   {
    "duration": 41,
    "start_time": "2021-08-05T14:30:17.768Z"
   },
   {
    "duration": 7,
    "start_time": "2021-08-05T14:30:17.812Z"
   },
   {
    "duration": 947,
    "start_time": "2021-08-05T14:30:17.822Z"
   },
   {
    "duration": 10,
    "start_time": "2021-08-05T14:30:18.772Z"
   },
   {
    "duration": 74,
    "start_time": "2021-08-05T14:30:18.785Z"
   },
   {
    "duration": 10,
    "start_time": "2021-08-05T14:30:41.122Z"
   },
   {
    "duration": 11,
    "start_time": "2021-08-05T14:31:02.626Z"
   },
   {
    "duration": 10,
    "start_time": "2021-08-05T14:31:22.748Z"
   },
   {
    "duration": 25,
    "start_time": "2021-08-05T14:54:50.714Z"
   },
   {
    "duration": 104,
    "start_time": "2021-08-05T14:59:36.830Z"
   },
   {
    "duration": 4,
    "start_time": "2021-08-05T14:59:44.175Z"
   },
   {
    "duration": 625,
    "start_time": "2021-08-05T15:00:12.026Z"
   },
   {
    "duration": 306,
    "start_time": "2021-08-05T15:00:31.698Z"
   },
   {
    "duration": 11,
    "start_time": "2021-08-05T15:00:43.258Z"
   },
   {
    "duration": 91,
    "start_time": "2021-08-05T15:02:00.127Z"
   },
   {
    "duration": 20,
    "start_time": "2021-08-05T15:02:00.313Z"
   },
   {
    "duration": 15,
    "start_time": "2021-08-05T15:02:01.170Z"
   },
   {
    "duration": 6,
    "start_time": "2021-08-05T15:02:01.697Z"
   },
   {
    "duration": 8,
    "start_time": "2021-08-05T15:02:02.066Z"
   },
   {
    "duration": 6,
    "start_time": "2021-08-05T15:02:02.241Z"
   },
   {
    "duration": 7,
    "start_time": "2021-08-05T15:02:03.124Z"
   },
   {
    "duration": 7,
    "start_time": "2021-08-05T15:02:03.306Z"
   },
   {
    "duration": 5,
    "start_time": "2021-08-05T15:02:03.673Z"
   },
   {
    "duration": 5,
    "start_time": "2021-08-05T15:02:04.058Z"
   },
   {
    "duration": 10,
    "start_time": "2021-08-05T15:02:04.234Z"
   },
   {
    "duration": 28,
    "start_time": "2021-08-05T15:02:04.604Z"
   },
   {
    "duration": 11,
    "start_time": "2021-08-05T15:02:04.969Z"
   },
   {
    "duration": 16,
    "start_time": "2021-08-05T15:02:05.337Z"
   },
   {
    "duration": 14,
    "start_time": "2021-08-05T15:02:05.523Z"
   },
   {
    "duration": 14,
    "start_time": "2021-08-05T15:02:05.897Z"
   },
   {
    "duration": 20,
    "start_time": "2021-08-05T15:02:06.081Z"
   },
   {
    "duration": 12,
    "start_time": "2021-08-05T15:02:06.266Z"
   },
   {
    "duration": 11,
    "start_time": "2021-08-05T15:02:06.633Z"
   },
   {
    "duration": 13,
    "start_time": "2021-08-05T15:02:07.004Z"
   },
   {
    "duration": 12,
    "start_time": "2021-08-05T15:02:07.202Z"
   },
   {
    "duration": 8,
    "start_time": "2021-08-05T15:02:07.386Z"
   },
   {
    "duration": 9,
    "start_time": "2021-08-05T15:02:07.579Z"
   },
   {
    "duration": 10,
    "start_time": "2021-08-05T15:02:07.761Z"
   },
   {
    "duration": 11,
    "start_time": "2021-08-05T15:02:07.961Z"
   },
   {
    "duration": 19,
    "start_time": "2021-08-05T15:02:08.146Z"
   },
   {
    "duration": 5634,
    "start_time": "2021-08-05T15:02:08.981Z"
   },
   {
    "duration": 42,
    "start_time": "2021-08-05T15:02:14.619Z"
   },
   {
    "duration": 51,
    "start_time": "2021-08-05T15:02:14.664Z"
   },
   {
    "duration": 9,
    "start_time": "2021-08-05T15:02:14.719Z"
   },
   {
    "duration": 76,
    "start_time": "2021-08-05T15:02:14.731Z"
   },
   {
    "duration": 6,
    "start_time": "2021-08-05T15:02:14.810Z"
   },
   {
    "duration": 676,
    "start_time": "2021-08-05T15:02:14.819Z"
   },
   {
    "duration": 46,
    "start_time": "2021-08-05T15:02:15.502Z"
   },
   {
    "duration": 4,
    "start_time": "2021-08-05T15:02:15.551Z"
   },
   {
    "duration": 1085,
    "start_time": "2021-08-05T15:02:15.558Z"
   },
   {
    "duration": 10,
    "start_time": "2021-08-05T15:02:16.645Z"
   },
   {
    "duration": 69,
    "start_time": "2021-08-05T15:02:16.657Z"
   },
   {
    "duration": 23,
    "start_time": "2021-08-05T15:02:16.730Z"
   },
   {
    "duration": 6,
    "start_time": "2021-08-05T15:02:16.755Z"
   },
   {
    "duration": 656,
    "start_time": "2021-08-05T15:02:16.763Z"
   },
   {
    "duration": 12,
    "start_time": "2021-08-05T15:02:17.424Z"
   },
   {
    "duration": 89,
    "start_time": "2021-08-05T15:03:27.787Z"
   },
   {
    "duration": 16,
    "start_time": "2021-08-05T15:03:27.962Z"
   },
   {
    "duration": 12,
    "start_time": "2021-08-05T15:03:28.874Z"
   },
   {
    "duration": 5,
    "start_time": "2021-08-05T15:03:29.441Z"
   },
   {
    "duration": 9,
    "start_time": "2021-08-05T15:03:29.818Z"
   },
   {
    "duration": 5,
    "start_time": "2021-08-05T15:03:30.026Z"
   },
   {
    "duration": 6,
    "start_time": "2021-08-05T15:03:31.026Z"
   },
   {
    "duration": 6,
    "start_time": "2021-08-05T15:03:31.249Z"
   },
   {
    "duration": 6,
    "start_time": "2021-08-05T15:03:31.610Z"
   },
   {
    "duration": 6,
    "start_time": "2021-08-05T15:03:32.010Z"
   },
   {
    "duration": 12,
    "start_time": "2021-08-05T15:03:32.218Z"
   },
   {
    "duration": 27,
    "start_time": "2021-08-05T15:03:32.610Z"
   },
   {
    "duration": 16,
    "start_time": "2021-08-05T15:03:33.002Z"
   },
   {
    "duration": 16,
    "start_time": "2021-08-05T15:03:33.377Z"
   },
   {
    "duration": 11,
    "start_time": "2021-08-05T15:03:33.553Z"
   },
   {
    "duration": 10,
    "start_time": "2021-08-05T15:03:33.937Z"
   },
   {
    "duration": 18,
    "start_time": "2021-08-05T15:03:34.122Z"
   },
   {
    "duration": 13,
    "start_time": "2021-08-05T15:03:34.322Z"
   },
   {
    "duration": 15,
    "start_time": "2021-08-05T15:03:34.714Z"
   },
   {
    "duration": 11,
    "start_time": "2021-08-05T15:03:35.081Z"
   },
   {
    "duration": 12,
    "start_time": "2021-08-05T15:03:35.299Z"
   },
   {
    "duration": 9,
    "start_time": "2021-08-05T15:03:35.489Z"
   },
   {
    "duration": 9,
    "start_time": "2021-08-05T15:03:35.674Z"
   },
   {
    "duration": 9,
    "start_time": "2021-08-05T15:03:35.873Z"
   },
   {
    "duration": 10,
    "start_time": "2021-08-05T15:03:36.057Z"
   },
   {
    "duration": 19,
    "start_time": "2021-08-05T15:03:36.250Z"
   },
   {
    "duration": 5226,
    "start_time": "2021-08-05T15:03:37.075Z"
   },
   {
    "duration": 48,
    "start_time": "2021-08-05T15:03:42.305Z"
   },
   {
    "duration": 47,
    "start_time": "2021-08-05T15:03:42.356Z"
   },
   {
    "duration": 12,
    "start_time": "2021-08-05T15:03:42.407Z"
   },
   {
    "duration": 53,
    "start_time": "2021-08-05T15:03:42.423Z"
   },
   {
    "duration": 6,
    "start_time": "2021-08-05T15:03:42.500Z"
   },
   {
    "duration": 760,
    "start_time": "2021-08-05T15:03:42.509Z"
   },
   {
    "duration": 56,
    "start_time": "2021-08-05T15:03:43.272Z"
   },
   {
    "duration": 5,
    "start_time": "2021-08-05T15:03:43.331Z"
   },
   {
    "duration": 939,
    "start_time": "2021-08-05T15:03:43.338Z"
   },
   {
    "duration": 9,
    "start_time": "2021-08-05T15:03:44.279Z"
   },
   {
    "duration": 48,
    "start_time": "2021-08-05T15:03:44.302Z"
   },
   {
    "duration": 47,
    "start_time": "2021-08-05T15:03:44.353Z"
   },
   {
    "duration": 7,
    "start_time": "2021-08-05T15:03:44.404Z"
   },
   {
    "duration": 600,
    "start_time": "2021-08-05T15:03:44.414Z"
   },
   {
    "duration": 16,
    "start_time": "2021-08-05T15:03:45.017Z"
   },
   {
    "duration": 54,
    "start_time": "2021-08-05T15:04:50.082Z"
   },
   {
    "duration": 34,
    "start_time": "2021-08-05T15:05:09.827Z"
   },
   {
    "duration": 920,
    "start_time": "2021-08-05T21:17:38.640Z"
   },
   {
    "duration": 14,
    "start_time": "2021-08-05T21:17:39.563Z"
   },
   {
    "duration": 12,
    "start_time": "2021-08-05T21:17:39.580Z"
   },
   {
    "duration": 5,
    "start_time": "2021-08-05T21:17:39.595Z"
   },
   {
    "duration": 8,
    "start_time": "2021-08-05T21:17:39.603Z"
   },
   {
    "duration": 5,
    "start_time": "2021-08-05T21:17:39.614Z"
   },
   {
    "duration": 46,
    "start_time": "2021-08-05T21:17:39.622Z"
   },
   {
    "duration": 5,
    "start_time": "2021-08-05T21:17:39.673Z"
   },
   {
    "duration": 9,
    "start_time": "2021-08-05T21:17:39.681Z"
   },
   {
    "duration": 10,
    "start_time": "2021-08-05T21:17:39.693Z"
   },
   {
    "duration": 10,
    "start_time": "2021-08-05T21:17:39.706Z"
   },
   {
    "duration": 49,
    "start_time": "2021-08-05T21:17:39.718Z"
   },
   {
    "duration": 9,
    "start_time": "2021-08-05T21:17:39.770Z"
   },
   {
    "duration": 16,
    "start_time": "2021-08-05T21:17:39.782Z"
   },
   {
    "duration": 13,
    "start_time": "2021-08-05T21:17:39.800Z"
   },
   {
    "duration": 11,
    "start_time": "2021-08-05T21:17:39.816Z"
   },
   {
    "duration": 53,
    "start_time": "2021-08-05T21:17:39.830Z"
   },
   {
    "duration": 13,
    "start_time": "2021-08-05T21:17:39.885Z"
   },
   {
    "duration": 14,
    "start_time": "2021-08-05T21:17:39.900Z"
   },
   {
    "duration": 12,
    "start_time": "2021-08-05T21:17:39.916Z"
   },
   {
    "duration": 42,
    "start_time": "2021-08-05T21:17:39.930Z"
   },
   {
    "duration": 9,
    "start_time": "2021-08-05T21:17:39.975Z"
   },
   {
    "duration": 9,
    "start_time": "2021-08-05T21:17:39.989Z"
   },
   {
    "duration": 14,
    "start_time": "2021-08-05T21:17:40.001Z"
   },
   {
    "duration": 11,
    "start_time": "2021-08-05T21:17:40.018Z"
   },
   {
    "duration": 19,
    "start_time": "2021-08-05T21:17:40.067Z"
   },
   {
    "duration": 4478,
    "start_time": "2021-08-05T21:17:40.089Z"
   },
   {
    "duration": 34,
    "start_time": "2021-08-05T21:17:44.569Z"
   },
   {
    "duration": 31,
    "start_time": "2021-08-05T21:17:44.605Z"
   },
   {
    "duration": 28,
    "start_time": "2021-08-05T21:17:44.639Z"
   },
   {
    "duration": 49,
    "start_time": "2021-08-05T21:17:44.670Z"
   },
   {
    "duration": 4,
    "start_time": "2021-08-05T21:17:44.722Z"
   },
   {
    "duration": 626,
    "start_time": "2021-08-05T21:17:44.728Z"
   },
   {
    "duration": 33,
    "start_time": "2021-08-05T21:17:45.357Z"
   },
   {
    "duration": 4,
    "start_time": "2021-08-05T21:17:45.392Z"
   },
   {
    "duration": 775,
    "start_time": "2021-08-05T21:17:45.399Z"
   },
   {
    "duration": 10,
    "start_time": "2021-08-05T21:17:46.176Z"
   },
   {
    "duration": 44,
    "start_time": "2021-08-05T21:17:46.188Z"
   },
   {
    "duration": 43,
    "start_time": "2021-08-05T21:17:46.234Z"
   },
   {
    "duration": 6,
    "start_time": "2021-08-05T21:17:46.279Z"
   },
   {
    "duration": 590,
    "start_time": "2021-08-05T21:17:46.288Z"
   },
   {
    "duration": 9,
    "start_time": "2021-08-05T21:17:46.880Z"
   },
   {
    "duration": 39,
    "start_time": "2021-08-05T21:17:46.891Z"
   },
   {
    "duration": 10,
    "start_time": "2021-08-05T21:17:46.932Z"
   },
   {
    "duration": 10,
    "start_time": "2021-08-05T21:17:46.968Z"
   },
   {
    "duration": 15,
    "start_time": "2021-08-05T21:17:46.981Z"
   },
   {
    "duration": 37,
    "start_time": "2021-08-05T21:17:46.998Z"
   },
   {
    "duration": 350,
    "start_time": "2021-08-06T06:19:01.634Z"
   },
   {
    "duration": 737,
    "start_time": "2021-08-06T06:19:05.360Z"
   },
   {
    "duration": 85,
    "start_time": "2021-08-06T06:19:06.957Z"
   },
   {
    "duration": 18,
    "start_time": "2021-08-06T06:20:07.215Z"
   },
   {
    "duration": 17,
    "start_time": "2021-08-06T06:20:16.014Z"
   },
   {
    "duration": 19,
    "start_time": "2021-08-06T06:21:12.949Z"
   },
   {
    "duration": 20,
    "start_time": "2021-08-06T06:21:26.773Z"
   },
   {
    "duration": 49,
    "start_time": "2021-08-06T06:21:59.495Z"
   },
   {
    "duration": 47,
    "start_time": "2021-08-06T06:22:38.392Z"
   },
   {
    "duration": 46,
    "start_time": "2021-08-06T06:39:10.535Z"
   },
   {
    "duration": 10,
    "start_time": "2021-08-06T06:55:36.261Z"
   },
   {
    "duration": 77,
    "start_time": "2021-08-06T06:55:39.465Z"
   },
   {
    "duration": 4,
    "start_time": "2021-08-06T06:57:46.958Z"
   },
   {
    "duration": 73,
    "start_time": "2021-08-06T06:57:47.530Z"
   },
   {
    "duration": 20,
    "start_time": "2021-08-06T06:57:48.174Z"
   },
   {
    "duration": 19,
    "start_time": "2021-08-06T06:57:49.008Z"
   },
   {
    "duration": 15,
    "start_time": "2021-08-06T06:57:55.677Z"
   },
   {
    "duration": 46,
    "start_time": "2021-08-06T06:57:59.567Z"
   },
   {
    "duration": 57,
    "start_time": "2021-08-06T06:58:00.358Z"
   },
   {
    "duration": 84,
    "start_time": "2021-08-06T07:08:17.580Z"
   },
   {
    "duration": 4,
    "start_time": "2021-08-06T07:21:28.773Z"
   },
   {
    "duration": 1079,
    "start_time": "2021-08-06T07:22:36.871Z"
   },
   {
    "duration": 4,
    "start_time": "2021-08-06T07:23:00.289Z"
   },
   {
    "duration": 3,
    "start_time": "2021-08-06T07:23:03.374Z"
   },
   {
    "duration": 649,
    "start_time": "2021-08-06T07:23:03.862Z"
   },
   {
    "duration": -20,
    "start_time": "2021-08-06T07:24:25.310Z"
   },
   {
    "duration": 38,
    "start_time": "2021-08-06T07:24:51.102Z"
   },
   {
    "duration": 37,
    "start_time": "2021-08-06T07:26:06.265Z"
   },
   {
    "duration": 34,
    "start_time": "2021-08-06T07:26:18.020Z"
   },
   {
    "duration": 33,
    "start_time": "2021-08-06T07:26:45.738Z"
   },
   {
    "duration": 6836,
    "start_time": "2021-08-06T07:26:52.185Z"
   },
   {
    "duration": 9,
    "start_time": "2021-08-06T07:26:59.718Z"
   },
   {
    "duration": 8,
    "start_time": "2021-08-06T07:28:57.567Z"
   },
   {
    "duration": 8,
    "start_time": "2021-08-06T07:29:19.047Z"
   },
   {
    "duration": 9,
    "start_time": "2021-08-06T07:30:10.222Z"
   },
   {
    "duration": 4,
    "start_time": "2021-08-06T07:30:16.128Z"
   },
   {
    "duration": 81,
    "start_time": "2021-08-06T07:30:16.350Z"
   },
   {
    "duration": 21,
    "start_time": "2021-08-06T07:30:16.551Z"
   },
   {
    "duration": 19,
    "start_time": "2021-08-06T07:30:16.750Z"
   },
   {
    "duration": 14,
    "start_time": "2021-08-06T07:30:17.318Z"
   },
   {
    "duration": 49,
    "start_time": "2021-08-06T07:30:17.518Z"
   },
   {
    "duration": 12,
    "start_time": "2021-08-06T07:30:18.949Z"
   },
   {
    "duration": 5,
    "start_time": "2021-08-06T07:30:19.813Z"
   },
   {
    "duration": 8,
    "start_time": "2021-08-06T07:30:20.963Z"
   },
   {
    "duration": 4,
    "start_time": "2021-08-06T07:30:25.006Z"
   },
   {
    "duration": 784,
    "start_time": "2021-08-06T07:30:27.662Z"
   },
   {
    "duration": 8,
    "start_time": "2021-08-06T07:30:45.208Z"
   },
   {
    "duration": 12,
    "start_time": "2021-08-06T07:31:00.527Z"
   },
   {
    "duration": 4,
    "start_time": "2021-08-06T07:31:06.767Z"
   },
   {
    "duration": 76,
    "start_time": "2021-08-06T07:31:06.984Z"
   },
   {
    "duration": 20,
    "start_time": "2021-08-06T07:31:07.162Z"
   },
   {
    "duration": 20,
    "start_time": "2021-08-06T07:31:07.360Z"
   },
   {
    "duration": 14,
    "start_time": "2021-08-06T07:31:07.934Z"
   },
   {
    "duration": 49,
    "start_time": "2021-08-06T07:31:08.138Z"
   },
   {
    "duration": 13,
    "start_time": "2021-08-06T07:31:11.381Z"
   },
   {
    "duration": 36,
    "start_time": "2021-08-06T07:31:47.478Z"
   },
   {
    "duration": 130,
    "start_time": "2021-08-06T07:33:11.263Z"
   },
   {
    "duration": 35,
    "start_time": "2021-08-06T07:33:50.087Z"
   },
   {
    "duration": 8,
    "start_time": "2021-08-06T07:33:54.304Z"
   },
   {
    "duration": 12,
    "start_time": "2021-08-06T07:35:07.864Z"
   },
   {
    "duration": 8,
    "start_time": "2021-08-06T07:35:08.382Z"
   },
   {
    "duration": 4,
    "start_time": "2021-08-06T07:35:10.742Z"
   },
   {
    "duration": 4,
    "start_time": "2021-08-06T07:35:15.198Z"
   },
   {
    "duration": 76,
    "start_time": "2021-08-06T07:35:15.406Z"
   },
   {
    "duration": 22,
    "start_time": "2021-08-06T07:35:15.599Z"
   },
   {
    "duration": 20,
    "start_time": "2021-08-06T07:35:15.783Z"
   },
   {
    "duration": 15,
    "start_time": "2021-08-06T07:35:16.406Z"
   },
   {
    "duration": 50,
    "start_time": "2021-08-06T07:35:16.598Z"
   },
   {
    "duration": 12,
    "start_time": "2021-08-06T07:35:19.101Z"
   },
   {
    "duration": 36,
    "start_time": "2021-08-06T07:35:20.949Z"
   },
   {
    "duration": 8,
    "start_time": "2021-08-06T07:35:22.398Z"
   },
   {
    "duration": 4,
    "start_time": "2021-08-06T07:35:25.470Z"
   },
   {
    "duration": 802,
    "start_time": "2021-08-06T07:35:30.478Z"
   },
   {
    "duration": 19,
    "start_time": "2021-08-06T07:35:38.278Z"
   },
   {
    "duration": 22,
    "start_time": "2021-08-06T07:36:20.064Z"
   },
   {
    "duration": 3,
    "start_time": "2021-08-06T07:38:36.302Z"
   },
   {
    "duration": 76,
    "start_time": "2021-08-06T07:38:36.480Z"
   },
   {
    "duration": 20,
    "start_time": "2021-08-06T07:38:36.663Z"
   },
   {
    "duration": 20,
    "start_time": "2021-08-06T07:38:36.840Z"
   },
   {
    "duration": 17,
    "start_time": "2021-08-06T07:38:37.373Z"
   },
   {
    "duration": 49,
    "start_time": "2021-08-06T07:38:37.558Z"
   },
   {
    "duration": 14,
    "start_time": "2021-08-06T07:38:39.006Z"
   },
   {
    "duration": 32,
    "start_time": "2021-08-06T07:38:40.639Z"
   },
   {
    "duration": 9,
    "start_time": "2021-08-06T07:38:41.629Z"
   },
   {
    "duration": 4,
    "start_time": "2021-08-06T07:38:42.230Z"
   },
   {
    "duration": 607,
    "start_time": "2021-08-06T07:38:42.678Z"
   },
   {
    "duration": 20,
    "start_time": "2021-08-06T07:38:43.303Z"
   },
   {
    "duration": 4,
    "start_time": "2021-08-06T07:40:47.143Z"
   },
   {
    "duration": 79,
    "start_time": "2021-08-06T07:40:47.319Z"
   },
   {
    "duration": 20,
    "start_time": "2021-08-06T07:40:47.505Z"
   },
   {
    "duration": 20,
    "start_time": "2021-08-06T07:40:47.681Z"
   },
   {
    "duration": 14,
    "start_time": "2021-08-06T07:40:48.351Z"
   },
   {
    "duration": 47,
    "start_time": "2021-08-06T07:40:48.703Z"
   },
   {
    "duration": 11,
    "start_time": "2021-08-06T07:40:50.901Z"
   },
   {
    "duration": 35,
    "start_time": "2021-08-06T07:40:59.383Z"
   },
   {
    "duration": 9,
    "start_time": "2021-08-06T07:41:03.278Z"
   },
   {
    "duration": 4,
    "start_time": "2021-08-06T07:41:05.831Z"
   },
   {
    "duration": 778,
    "start_time": "2021-08-06T07:41:08.887Z"
   },
   {
    "duration": 22,
    "start_time": "2021-08-06T07:41:13.887Z"
   },
   {
    "duration": 4,
    "start_time": "2021-08-06T07:49:23.302Z"
   },
   {
    "duration": 78,
    "start_time": "2021-08-06T07:49:23.431Z"
   },
   {
    "duration": 21,
    "start_time": "2021-08-06T07:49:23.644Z"
   },
   {
    "duration": 20,
    "start_time": "2021-08-06T07:49:23.737Z"
   },
   {
    "duration": 15,
    "start_time": "2021-08-06T07:49:24.386Z"
   },
   {
    "duration": 47,
    "start_time": "2021-08-06T07:49:24.617Z"
   },
   {
    "duration": 12,
    "start_time": "2021-08-06T07:49:26.721Z"
   },
   {
    "duration": 35,
    "start_time": "2021-08-06T07:49:28.806Z"
   },
   {
    "duration": 8,
    "start_time": "2021-08-06T07:49:29.464Z"
   },
   {
    "duration": 5,
    "start_time": "2021-08-06T07:49:30.008Z"
   },
   {
    "duration": 787,
    "start_time": "2021-08-06T07:49:31.902Z"
   },
   {
    "duration": 21,
    "start_time": "2021-08-06T07:49:33.760Z"
   },
   {
    "duration": 87,
    "start_time": "2021-08-06T07:50:48.592Z"
   },
   {
    "duration": 21,
    "start_time": "2021-08-06T07:50:59.401Z"
   },
   {
    "duration": 305,
    "start_time": "2021-08-06T07:51:33.823Z"
   },
   {
    "duration": 39,
    "start_time": "2021-08-06T07:51:46.146Z"
   },
   {
    "duration": 14,
    "start_time": "2021-08-06T07:55:17.889Z"
   },
   {
    "duration": 763,
    "start_time": "2021-08-06T07:55:29.855Z"
   },
   {
    "duration": 12,
    "start_time": "2021-08-06T07:55:33.982Z"
   },
   {
    "duration": 218,
    "start_time": "2021-08-06T07:55:40.662Z"
   },
   {
    "duration": 11,
    "start_time": "2021-08-06T07:55:45.558Z"
   },
   {
    "duration": 10,
    "start_time": "2021-08-06T07:56:20.830Z"
   },
   {
    "duration": 102,
    "start_time": "2021-08-06T07:57:17.903Z"
   },
   {
    "duration": 8,
    "start_time": "2021-08-06T08:01:46.632Z"
   },
   {
    "duration": 5,
    "start_time": "2021-08-06T08:01:47.118Z"
   },
   {
    "duration": 4,
    "start_time": "2021-08-06T08:02:50.169Z"
   },
   {
    "duration": 79,
    "start_time": "2021-08-06T08:02:50.344Z"
   },
   {
    "duration": 20,
    "start_time": "2021-08-06T08:02:50.536Z"
   },
   {
    "duration": 19,
    "start_time": "2021-08-06T08:02:50.703Z"
   },
   {
    "duration": 15,
    "start_time": "2021-08-06T08:02:51.271Z"
   },
   {
    "duration": 47,
    "start_time": "2021-08-06T08:02:51.463Z"
   },
   {
    "duration": 12,
    "start_time": "2021-08-06T08:02:52.848Z"
   },
   {
    "duration": 35,
    "start_time": "2021-08-06T08:02:54.720Z"
   },
   {
    "duration": 8,
    "start_time": "2021-08-06T08:02:55.262Z"
   },
   {
    "duration": 4,
    "start_time": "2021-08-06T08:02:55.828Z"
   },
   {
    "duration": 803,
    "start_time": "2021-08-06T08:02:56.214Z"
   },
   {
    "duration": 29,
    "start_time": "2021-08-06T08:02:57.295Z"
   },
   {
    "duration": 10,
    "start_time": "2021-08-06T08:02:58.653Z"
   },
   {
    "duration": 6,
    "start_time": "2021-08-06T08:02:59.991Z"
   },
   {
    "duration": 5,
    "start_time": "2021-08-06T08:03:01.462Z"
   },
   {
    "duration": 10,
    "start_time": "2021-08-06T08:08:54.445Z"
   },
   {
    "duration": 18,
    "start_time": "2021-08-06T08:10:57.231Z"
   },
   {
    "duration": 11,
    "start_time": "2021-08-06T08:12:55.088Z"
   },
   {
    "duration": 3,
    "start_time": "2021-08-06T08:13:20.706Z"
   },
   {
    "duration": 74,
    "start_time": "2021-08-06T08:13:20.848Z"
   },
   {
    "duration": 20,
    "start_time": "2021-08-06T08:13:21.088Z"
   },
   {
    "duration": 20,
    "start_time": "2021-08-06T08:13:21.281Z"
   },
   {
    "duration": 16,
    "start_time": "2021-08-06T08:13:21.854Z"
   },
   {
    "duration": 73,
    "start_time": "2021-08-06T08:13:22.064Z"
   },
   {
    "duration": 11,
    "start_time": "2021-08-06T08:13:24.535Z"
   },
   {
    "duration": 35,
    "start_time": "2021-08-06T08:13:25.928Z"
   },
   {
    "duration": 9,
    "start_time": "2021-08-06T08:13:26.151Z"
   },
   {
    "duration": 12,
    "start_time": "2021-08-06T08:13:26.512Z"
   },
   {
    "duration": 4,
    "start_time": "2021-08-06T08:13:26.783Z"
   },
   {
    "duration": 830,
    "start_time": "2021-08-06T08:13:27.087Z"
   },
   {
    "duration": 20,
    "start_time": "2021-08-06T08:13:27.920Z"
   },
   {
    "duration": 9,
    "start_time": "2021-08-06T08:13:29.232Z"
   },
   {
    "duration": 11,
    "start_time": "2021-08-06T08:13:30.080Z"
   },
   {
    "duration": 7,
    "start_time": "2021-08-06T08:13:33.158Z"
   },
   {
    "duration": 7,
    "start_time": "2021-08-06T08:13:34.111Z"
   },
   {
    "duration": 5,
    "start_time": "2021-08-06T08:13:35.406Z"
   },
   {
    "duration": 15,
    "start_time": "2021-08-06T08:13:41.543Z"
   },
   {
    "duration": 18,
    "start_time": "2021-08-06T08:15:36.906Z"
   },
   {
    "duration": 26,
    "start_time": "2021-08-06T08:15:43.752Z"
   },
   {
    "duration": 7,
    "start_time": "2021-08-06T08:19:32.730Z"
   },
   {
    "duration": 15,
    "start_time": "2021-08-06T08:19:39.608Z"
   },
   {
    "duration": 26,
    "start_time": "2021-08-06T08:20:03.176Z"
   },
   {
    "duration": 107,
    "start_time": "2021-08-06T08:21:28.856Z"
   },
   {
    "duration": 101,
    "start_time": "2021-08-06T08:21:33.089Z"
   },
   {
    "duration": 7,
    "start_time": "2021-08-06T08:21:41.663Z"
   },
   {
    "duration": 4,
    "start_time": "2021-08-06T08:23:41.099Z"
   },
   {
    "duration": 116,
    "start_time": "2021-08-06T08:23:41.266Z"
   },
   {
    "duration": 32,
    "start_time": "2021-08-06T08:23:41.439Z"
   },
   {
    "duration": 29,
    "start_time": "2021-08-06T08:23:41.601Z"
   },
   {
    "duration": 22,
    "start_time": "2021-08-06T08:23:42.169Z"
   },
   {
    "duration": 51,
    "start_time": "2021-08-06T08:23:42.359Z"
   },
   {
    "duration": 14,
    "start_time": "2021-08-06T08:23:43.710Z"
   },
   {
    "duration": 42,
    "start_time": "2021-08-06T08:23:45.192Z"
   },
   {
    "duration": 8,
    "start_time": "2021-08-06T08:23:45.542Z"
   },
   {
    "duration": 13,
    "start_time": "2021-08-06T08:23:46.023Z"
   },
   {
    "duration": 5,
    "start_time": "2021-08-06T08:23:46.447Z"
   },
   {
    "duration": 828,
    "start_time": "2021-08-06T08:23:46.911Z"
   },
   {
    "duration": 21,
    "start_time": "2021-08-06T08:23:49.352Z"
   },
   {
    "duration": 10,
    "start_time": "2021-08-06T08:23:53.859Z"
   },
   {
    "duration": 10,
    "start_time": "2021-08-06T08:23:54.390Z"
   },
   {
    "duration": 7,
    "start_time": "2021-08-06T08:23:58.990Z"
   },
   {
    "duration": 8,
    "start_time": "2021-08-06T08:24:01.857Z"
   },
   {
    "duration": 5,
    "start_time": "2021-08-06T08:24:02.703Z"
   },
   {
    "duration": 7,
    "start_time": "2021-08-06T08:24:07.321Z"
   },
   {
    "duration": 25,
    "start_time": "2021-08-06T08:24:07.992Z"
   },
   {
    "duration": 20,
    "start_time": "2021-08-06T08:24:11.471Z"
   },
   {
    "duration": 77,
    "start_time": "2021-08-06T08:24:42.232Z"
   },
   {
    "duration": 52,
    "start_time": "2021-08-06T08:30:07.793Z"
   },
   {
    "duration": 4,
    "start_time": "2021-08-06T08:30:12.552Z"
   },
   {
    "duration": 5,
    "start_time": "2021-08-06T08:30:14.400Z"
   },
   {
    "duration": 16,
    "start_time": "2021-08-06T08:30:23.039Z"
   },
   {
    "duration": 291,
    "start_time": "2021-08-06T08:37:35.637Z"
   },
   {
    "duration": 17,
    "start_time": "2021-08-06T08:38:59.746Z"
   },
   {
    "duration": 113,
    "start_time": "2021-08-06T08:40:04.361Z"
   },
   {
    "duration": 17,
    "start_time": "2021-08-06T08:40:26.136Z"
   },
   {
    "duration": 14,
    "start_time": "2021-08-06T08:41:40.248Z"
   },
   {
    "duration": 16,
    "start_time": "2021-08-06T08:41:44.753Z"
   },
   {
    "duration": 16,
    "start_time": "2021-08-06T08:42:14.783Z"
   },
   {
    "duration": 14,
    "start_time": "2021-08-06T08:42:15.896Z"
   },
   {
    "duration": 15,
    "start_time": "2021-08-06T08:42:33.168Z"
   },
   {
    "duration": 15,
    "start_time": "2021-08-06T08:42:38.111Z"
   },
   {
    "duration": 15,
    "start_time": "2021-08-06T08:42:53.407Z"
   },
   {
    "duration": 15,
    "start_time": "2021-08-06T08:43:37.193Z"
   },
   {
    "duration": 15,
    "start_time": "2021-08-06T08:44:04.216Z"
   },
   {
    "duration": 15,
    "start_time": "2021-08-06T08:45:36.696Z"
   },
   {
    "duration": 15,
    "start_time": "2021-08-06T08:46:05.767Z"
   },
   {
    "duration": 24,
    "start_time": "2021-08-06T08:46:15.002Z"
   },
   {
    "duration": 14,
    "start_time": "2021-08-06T08:46:45.017Z"
   },
   {
    "duration": 15,
    "start_time": "2021-08-06T08:46:49.897Z"
   },
   {
    "duration": 23,
    "start_time": "2021-08-06T08:46:50.301Z"
   },
   {
    "duration": 14,
    "start_time": "2021-08-06T08:46:51.479Z"
   },
   {
    "duration": 12,
    "start_time": "2021-08-06T08:47:05.186Z"
   },
   {
    "duration": 294,
    "start_time": "2021-08-06T08:47:08.704Z"
   },
   {
    "duration": 7,
    "start_time": "2021-08-06T08:47:09.168Z"
   },
   {
    "duration": 306,
    "start_time": "2021-08-06T08:47:10.391Z"
   },
   {
    "duration": 287,
    "start_time": "2021-08-06T08:47:25.704Z"
   },
   {
    "duration": 4,
    "start_time": "2021-08-06T08:47:34.359Z"
   },
   {
    "duration": 82,
    "start_time": "2021-08-06T08:47:34.544Z"
   },
   {
    "duration": 23,
    "start_time": "2021-08-06T08:47:34.733Z"
   },
   {
    "duration": 21,
    "start_time": "2021-08-06T08:47:34.901Z"
   },
   {
    "duration": 17,
    "start_time": "2021-08-06T08:47:35.439Z"
   },
   {
    "duration": 47,
    "start_time": "2021-08-06T08:47:35.624Z"
   },
   {
    "duration": 13,
    "start_time": "2021-08-06T08:47:36.967Z"
   },
   {
    "duration": 35,
    "start_time": "2021-08-06T08:47:38.159Z"
   },
   {
    "duration": 8,
    "start_time": "2021-08-06T08:47:38.351Z"
   },
   {
    "duration": 12,
    "start_time": "2021-08-06T08:47:38.559Z"
   },
   {
    "duration": 5,
    "start_time": "2021-08-06T08:47:38.759Z"
   },
   {
    "duration": 813,
    "start_time": "2021-08-06T08:47:38.952Z"
   },
   {
    "duration": 21,
    "start_time": "2021-08-06T08:47:39.767Z"
   },
   {
    "duration": 10,
    "start_time": "2021-08-06T08:47:39.822Z"
   },
   {
    "duration": 10,
    "start_time": "2021-08-06T08:47:40.256Z"
   },
   {
    "duration": 6,
    "start_time": "2021-08-06T08:47:40.758Z"
   },
   {
    "duration": 6,
    "start_time": "2021-08-06T08:47:41.134Z"
   },
   {
    "duration": 5,
    "start_time": "2021-08-06T08:47:41.335Z"
   },
   {
    "duration": 7,
    "start_time": "2021-08-06T08:47:41.998Z"
   },
   {
    "duration": 37,
    "start_time": "2021-08-06T08:47:42.200Z"
   },
   {
    "duration": 16,
    "start_time": "2021-08-06T08:47:42.390Z"
   },
   {
    "duration": 51,
    "start_time": "2021-08-06T08:47:43.255Z"
   },
   {
    "duration": 16,
    "start_time": "2021-08-06T08:47:51.512Z"
   },
   {
    "duration": 24,
    "start_time": "2021-08-06T08:47:54.615Z"
   },
   {
    "duration": 13,
    "start_time": "2021-08-06T08:47:58.632Z"
   },
   {
    "duration": 21,
    "start_time": "2021-08-06T08:57:07.666Z"
   },
   {
    "duration": 36,
    "start_time": "2021-08-06T08:57:08.708Z"
   },
   {
    "duration": 20,
    "start_time": "2021-08-06T08:57:12.578Z"
   },
   {
    "duration": 4,
    "start_time": "2021-08-06T09:03:25.659Z"
   },
   {
    "duration": 82,
    "start_time": "2021-08-06T09:03:25.824Z"
   },
   {
    "duration": 24,
    "start_time": "2021-08-06T09:03:26.003Z"
   },
   {
    "duration": 20,
    "start_time": "2021-08-06T09:03:26.216Z"
   },
   {
    "duration": 14,
    "start_time": "2021-08-06T09:03:26.767Z"
   },
   {
    "duration": 49,
    "start_time": "2021-08-06T09:03:26.951Z"
   },
   {
    "duration": 12,
    "start_time": "2021-08-06T09:03:28.351Z"
   },
   {
    "duration": 35,
    "start_time": "2021-08-06T09:03:29.616Z"
   },
   {
    "duration": 7,
    "start_time": "2021-08-06T09:03:29.829Z"
   },
   {
    "duration": 12,
    "start_time": "2021-08-06T09:03:30.040Z"
   },
   {
    "duration": 4,
    "start_time": "2021-08-06T09:03:30.272Z"
   },
   {
    "duration": 884,
    "start_time": "2021-08-06T09:03:30.527Z"
   },
   {
    "duration": 24,
    "start_time": "2021-08-06T09:03:31.414Z"
   },
   {
    "duration": 10,
    "start_time": "2021-08-06T09:03:31.616Z"
   },
   {
    "duration": 12,
    "start_time": "2021-08-06T09:03:32.095Z"
   },
   {
    "duration": 6,
    "start_time": "2021-08-06T09:03:32.615Z"
   },
   {
    "duration": 8,
    "start_time": "2021-08-06T09:03:33.335Z"
   },
   {
    "duration": 5,
    "start_time": "2021-08-06T09:03:33.584Z"
   },
   {
    "duration": 7,
    "start_time": "2021-08-06T09:03:34.104Z"
   },
   {
    "duration": 24,
    "start_time": "2021-08-06T09:03:34.312Z"
   },
   {
    "duration": 16,
    "start_time": "2021-08-06T09:03:34.591Z"
   },
   {
    "duration": 56,
    "start_time": "2021-08-06T09:03:35.000Z"
   },
   {
    "duration": 15,
    "start_time": "2021-08-06T09:03:39.113Z"
   },
   {
    "duration": 29,
    "start_time": "2021-08-06T09:03:42.888Z"
   },
   {
    "duration": 15,
    "start_time": "2021-08-06T09:03:43.671Z"
   },
   {
    "duration": 45,
    "start_time": "2021-08-06T09:05:57.393Z"
   },
   {
    "duration": 36,
    "start_time": "2021-08-06T09:05:59.481Z"
   },
   {
    "duration": 18,
    "start_time": "2021-08-06T09:06:01.464Z"
   },
   {
    "duration": 992,
    "start_time": "2021-08-06T09:07:06.033Z"
   },
   {
    "duration": 23,
    "start_time": "2021-08-06T09:07:27.225Z"
   },
   {
    "duration": 42,
    "start_time": "2021-08-06T09:07:36.240Z"
   },
   {
    "duration": 15,
    "start_time": "2021-08-06T09:07:52.307Z"
   },
   {
    "duration": 3,
    "start_time": "2021-08-06T09:23:14.841Z"
   },
   {
    "duration": 84,
    "start_time": "2021-08-06T09:23:15.034Z"
   },
   {
    "duration": 22,
    "start_time": "2021-08-06T09:23:15.238Z"
   },
   {
    "duration": 19,
    "start_time": "2021-08-06T09:23:15.425Z"
   },
   {
    "duration": 17,
    "start_time": "2021-08-06T09:23:16.009Z"
   },
   {
    "duration": 67,
    "start_time": "2021-08-06T09:23:16.210Z"
   },
   {
    "duration": 14,
    "start_time": "2021-08-06T09:23:17.623Z"
   },
   {
    "duration": 36,
    "start_time": "2021-08-06T09:23:18.938Z"
   },
   {
    "duration": 10,
    "start_time": "2021-08-06T09:23:19.210Z"
   },
   {
    "duration": 13,
    "start_time": "2021-08-06T09:23:21.810Z"
   },
   {
    "duration": 4,
    "start_time": "2021-08-06T09:23:24.472Z"
   },
   {
    "duration": 856,
    "start_time": "2021-08-06T09:23:24.968Z"
   },
   {
    "duration": 26,
    "start_time": "2021-08-06T09:23:37.594Z"
   },
   {
    "duration": 9,
    "start_time": "2021-08-06T09:23:38.472Z"
   },
   {
    "duration": 10,
    "start_time": "2021-08-06T09:23:39.217Z"
   },
   {
    "duration": 6,
    "start_time": "2021-08-06T09:24:24.384Z"
   },
   {
    "duration": 7,
    "start_time": "2021-08-06T09:24:24.895Z"
   },
   {
    "duration": 4,
    "start_time": "2021-08-06T09:24:25.096Z"
   },
   {
    "duration": 7,
    "start_time": "2021-08-06T09:24:25.527Z"
   },
   {
    "duration": 25,
    "start_time": "2021-08-06T09:24:25.713Z"
   },
   {
    "duration": 23,
    "start_time": "2021-08-06T09:24:26.496Z"
   },
   {
    "duration": 56,
    "start_time": "2021-08-06T09:24:34.716Z"
   },
   {
    "duration": 12,
    "start_time": "2021-08-06T09:24:46.730Z"
   },
   {
    "duration": 15,
    "start_time": "2021-08-06T09:24:50.335Z"
   },
   {
    "duration": 15,
    "start_time": "2021-08-06T09:25:00.360Z"
   },
   {
    "duration": 8,
    "start_time": "2021-08-06T09:28:36.485Z"
   },
   {
    "duration": 295,
    "start_time": "2021-08-06T09:29:55.473Z"
   },
   {
    "duration": 36,
    "start_time": "2021-08-06T09:30:25.168Z"
   },
   {
    "duration": 47,
    "start_time": "2021-08-06T09:31:26.422Z"
   },
   {
    "duration": 35,
    "start_time": "2021-08-06T09:31:57.405Z"
   },
   {
    "duration": 36,
    "start_time": "2021-08-06T09:33:36.548Z"
   },
   {
    "duration": 37,
    "start_time": "2021-08-06T09:39:12.900Z"
   },
   {
    "duration": 4,
    "start_time": "2021-08-06T09:40:14.140Z"
   },
   {
    "duration": 79,
    "start_time": "2021-08-06T09:40:14.321Z"
   },
   {
    "duration": 20,
    "start_time": "2021-08-06T09:40:14.530Z"
   },
   {
    "duration": 18,
    "start_time": "2021-08-06T09:40:14.745Z"
   },
   {
    "duration": 15,
    "start_time": "2021-08-06T09:40:15.328Z"
   },
   {
    "duration": 50,
    "start_time": "2021-08-06T09:40:15.537Z"
   },
   {
    "duration": 12,
    "start_time": "2021-08-06T09:40:16.920Z"
   },
   {
    "duration": 33,
    "start_time": "2021-08-06T09:40:18.177Z"
   },
   {
    "duration": 8,
    "start_time": "2021-08-06T09:40:18.392Z"
   },
   {
    "duration": 12,
    "start_time": "2021-08-06T09:40:18.612Z"
   },
   {
    "duration": 5,
    "start_time": "2021-08-06T09:40:18.815Z"
   },
   {
    "duration": 900,
    "start_time": "2021-08-06T09:40:19.031Z"
   },
   {
    "duration": 20,
    "start_time": "2021-08-06T09:40:19.934Z"
   },
   {
    "duration": 15,
    "start_time": "2021-08-06T09:40:19.957Z"
   },
   {
    "duration": 10,
    "start_time": "2021-08-06T09:40:20.303Z"
   },
   {
    "duration": 7,
    "start_time": "2021-08-06T09:40:20.936Z"
   },
   {
    "duration": 7,
    "start_time": "2021-08-06T09:40:21.400Z"
   },
   {
    "duration": 5,
    "start_time": "2021-08-06T09:40:21.682Z"
   },
   {
    "duration": 6,
    "start_time": "2021-08-06T09:40:22.183Z"
   },
   {
    "duration": 24,
    "start_time": "2021-08-06T09:40:23.050Z"
   },
   {
    "duration": 14,
    "start_time": "2021-08-06T09:40:23.889Z"
   },
   {
    "duration": 50,
    "start_time": "2021-08-06T09:40:24.192Z"
   },
   {
    "duration": 12,
    "start_time": "2021-08-06T09:40:28.520Z"
   },
   {
    "duration": 15,
    "start_time": "2021-08-06T09:40:29.072Z"
   },
   {
    "duration": 37,
    "start_time": "2021-08-06T09:40:34.875Z"
   },
   {
    "duration": 7032,
    "start_time": "2021-08-06T09:41:52.028Z"
   },
   {
    "duration": 7018,
    "start_time": "2021-08-06T09:42:22.290Z"
   },
   {
    "duration": 43,
    "start_time": "2021-08-06T09:42:38.697Z"
   },
   {
    "duration": 35,
    "start_time": "2021-08-06T09:42:46.963Z"
   },
   {
    "duration": 36,
    "start_time": "2021-08-06T09:43:16.434Z"
   },
   {
    "duration": 34,
    "start_time": "2021-08-06T09:43:23.596Z"
   },
   {
    "duration": 38,
    "start_time": "2021-08-06T09:44:06.875Z"
   },
   {
    "duration": 42,
    "start_time": "2021-08-06T09:44:24.068Z"
   },
   {
    "duration": 96,
    "start_time": "2021-08-06T09:46:42.785Z"
   },
   {
    "duration": 10,
    "start_time": "2021-08-06T09:47:14.330Z"
   },
   {
    "duration": 11,
    "start_time": "2021-08-06T09:47:35.457Z"
   },
   {
    "duration": 8,
    "start_time": "2021-08-06T09:47:52.697Z"
   },
   {
    "duration": 305,
    "start_time": "2021-08-06T09:48:08.627Z"
   },
   {
    "duration": 20,
    "start_time": "2021-08-06T09:48:22.507Z"
   },
   {
    "duration": 4,
    "start_time": "2021-08-06T09:51:22.337Z"
   },
   {
    "duration": 411,
    "start_time": "2021-08-06T09:52:15.029Z"
   },
   {
    "duration": 11,
    "start_time": "2021-08-06T09:52:48.625Z"
   },
   {
    "duration": 11,
    "start_time": "2021-08-06T10:31:10.897Z"
   },
   {
    "duration": 9,
    "start_time": "2021-08-06T10:33:11.842Z"
   },
   {
    "duration": 6778,
    "start_time": "2021-08-06T10:33:56.771Z"
   },
   {
    "duration": 348,
    "start_time": "2021-08-06T10:34:20.492Z"
   },
   {
    "duration": 285,
    "start_time": "2021-08-06T10:34:25.849Z"
   },
   {
    "duration": 17,
    "start_time": "2021-08-06T10:34:34.396Z"
   },
   {
    "duration": 15,
    "start_time": "2021-08-06T10:35:08.259Z"
   },
   {
    "duration": 3787,
    "start_time": "2021-08-06T10:38:20.065Z"
   },
   {
    "duration": 4036,
    "start_time": "2021-08-06T10:39:10.773Z"
   },
   {
    "duration": 15,
    "start_time": "2021-08-06T10:39:25.602Z"
   },
   {
    "duration": 4,
    "start_time": "2021-08-06T10:41:26.210Z"
   },
   {
    "duration": 4,
    "start_time": "2021-08-06T10:43:19.216Z"
   },
   {
    "duration": 592,
    "start_time": "2021-08-06T10:46:24.421Z"
   },
   {
    "duration": 4,
    "start_time": "2021-08-06T10:46:47.112Z"
   },
   {
    "duration": 75,
    "start_time": "2021-08-06T10:46:47.273Z"
   },
   {
    "duration": 21,
    "start_time": "2021-08-06T10:46:47.442Z"
   },
   {
    "duration": 19,
    "start_time": "2021-08-06T10:46:47.634Z"
   },
   {
    "duration": 14,
    "start_time": "2021-08-06T10:46:48.176Z"
   },
   {
    "duration": 47,
    "start_time": "2021-08-06T10:46:48.361Z"
   },
   {
    "duration": 11,
    "start_time": "2021-08-06T10:46:49.872Z"
   },
   {
    "duration": 33,
    "start_time": "2021-08-06T10:46:51.002Z"
   },
   {
    "duration": 8,
    "start_time": "2021-08-06T10:46:51.186Z"
   },
   {
    "duration": 12,
    "start_time": "2021-08-06T10:46:51.386Z"
   },
   {
    "duration": 4,
    "start_time": "2021-08-06T10:46:51.576Z"
   },
   {
    "duration": 773,
    "start_time": "2021-08-06T10:46:51.777Z"
   },
   {
    "duration": 20,
    "start_time": "2021-08-06T10:46:52.553Z"
   },
   {
    "duration": 25,
    "start_time": "2021-08-06T10:46:52.576Z"
   },
   {
    "duration": 9,
    "start_time": "2021-08-06T10:46:52.946Z"
   },
   {
    "duration": 6,
    "start_time": "2021-08-06T10:46:53.349Z"
   },
   {
    "duration": 6,
    "start_time": "2021-08-06T10:46:53.728Z"
   },
   {
    "duration": 5,
    "start_time": "2021-08-06T10:46:53.916Z"
   },
   {
    "duration": 6,
    "start_time": "2021-08-06T10:46:54.392Z"
   },
   {
    "duration": 25,
    "start_time": "2021-08-06T10:46:54.675Z"
   },
   {
    "duration": 15,
    "start_time": "2021-08-06T10:46:55.330Z"
   },
   {
    "duration": 53,
    "start_time": "2021-08-06T10:46:58.393Z"
   },
   {
    "duration": 12,
    "start_time": "2021-08-06T10:47:02.408Z"
   },
   {
    "duration": 16,
    "start_time": "2021-08-06T10:47:03.083Z"
   },
   {
    "duration": 38,
    "start_time": "2021-08-06T10:47:08.811Z"
   },
   {
    "duration": 4,
    "start_time": "2021-08-06T10:47:13.472Z"
   },
   {
    "duration": 584,
    "start_time": "2021-08-06T10:47:14.095Z"
   },
   {
    "duration": 8,
    "start_time": "2021-08-06T10:47:25.025Z"
   },
   {
    "duration": 313,
    "start_time": "2021-08-06T10:49:08.318Z"
   },
   {
    "duration": 48,
    "start_time": "2021-08-06T10:49:53.628Z"
   },
   {
    "duration": 12,
    "start_time": "2021-08-06T10:50:21.515Z"
   },
   {
    "duration": 7,
    "start_time": "2021-08-06T10:50:29.023Z"
   },
   {
    "duration": 1952,
    "start_time": "2021-08-06T10:54:04.424Z"
   },
   {
    "duration": 93,
    "start_time": "2021-08-06T10:57:31.952Z"
   },
   {
    "duration": 5,
    "start_time": "2021-08-06T10:57:41.402Z"
   },
   {
    "duration": 1179,
    "start_time": "2021-08-06T10:58:02.034Z"
   },
   {
    "duration": 4405,
    "start_time": "2021-08-06T10:59:50.301Z"
   },
   {
    "duration": 25,
    "start_time": "2021-08-06T11:00:46.377Z"
   },
   {
    "duration": 11,
    "start_time": "2021-08-06T11:01:00.404Z"
   },
   {
    "duration": 3,
    "start_time": "2021-08-06T11:31:20.420Z"
   },
   {
    "duration": 75,
    "start_time": "2021-08-06T11:31:20.596Z"
   },
   {
    "duration": 22,
    "start_time": "2021-08-06T11:31:20.791Z"
   },
   {
    "duration": 22,
    "start_time": "2021-08-06T11:31:20.972Z"
   },
   {
    "duration": 15,
    "start_time": "2021-08-06T11:31:21.538Z"
   },
   {
    "duration": 47,
    "start_time": "2021-08-06T11:31:21.724Z"
   },
   {
    "duration": 13,
    "start_time": "2021-08-06T11:31:23.106Z"
   },
   {
    "duration": 34,
    "start_time": "2021-08-06T11:31:24.283Z"
   },
   {
    "duration": 8,
    "start_time": "2021-08-06T11:31:24.475Z"
   },
   {
    "duration": 12,
    "start_time": "2021-08-06T11:31:24.683Z"
   },
   {
    "duration": 4,
    "start_time": "2021-08-06T11:31:24.889Z"
   },
   {
    "duration": 868,
    "start_time": "2021-08-06T11:31:25.068Z"
   },
   {
    "duration": 38,
    "start_time": "2021-08-06T11:31:25.941Z"
   },
   {
    "duration": 13,
    "start_time": "2021-08-06T11:31:26.002Z"
   },
   {
    "duration": 14,
    "start_time": "2021-08-06T11:31:26.330Z"
   },
   {
    "duration": 7,
    "start_time": "2021-08-06T11:31:26.777Z"
   },
   {
    "duration": 9,
    "start_time": "2021-08-06T11:31:27.201Z"
   },
   {
    "duration": 4,
    "start_time": "2021-08-06T11:31:27.435Z"
   },
   {
    "duration": 6,
    "start_time": "2021-08-06T11:31:27.849Z"
   },
   {
    "duration": 25,
    "start_time": "2021-08-06T11:31:28.051Z"
   },
   {
    "duration": 14,
    "start_time": "2021-08-06T11:31:28.274Z"
   },
   {
    "duration": 52,
    "start_time": "2021-08-06T11:31:28.482Z"
   },
   {
    "duration": 11,
    "start_time": "2021-08-06T11:31:29.529Z"
   },
   {
    "duration": 15,
    "start_time": "2021-08-06T11:31:29.730Z"
   },
   {
    "duration": 38,
    "start_time": "2021-08-06T11:31:30.582Z"
   },
   {
    "duration": 4,
    "start_time": "2021-08-06T11:31:31.209Z"
   },
   {
    "duration": 576,
    "start_time": "2021-08-06T11:31:31.425Z"
   },
   {
    "duration": 11,
    "start_time": "2021-08-06T11:31:32.003Z"
   },
   {
    "duration": 4,
    "start_time": "2021-08-06T11:31:32.361Z"
   },
   {
    "duration": 9,
    "start_time": "2021-08-06T11:31:32.594Z"
   },
   {
    "duration": 20,
    "start_time": "2021-08-06T11:31:33.048Z"
   },
   {
    "duration": 9,
    "start_time": "2021-08-06T11:31:33.506Z"
   },
   {
    "duration": 15,
    "start_time": "2021-08-06T11:31:33.969Z"
   },
   {
    "duration": 12,
    "start_time": "2021-08-06T11:31:34.464Z"
   },
   {
    "duration": 10,
    "start_time": "2021-08-06T11:31:34.953Z"
   },
   {
    "duration": 17,
    "start_time": "2021-08-06T11:31:35.218Z"
   },
   {
    "duration": 12,
    "start_time": "2021-08-06T11:31:35.441Z"
   },
   {
    "duration": 10,
    "start_time": "2021-08-06T11:31:35.913Z"
   },
   {
    "duration": 25,
    "start_time": "2021-08-06T11:31:36.377Z"
   },
   {
    "duration": 9,
    "start_time": "2021-08-06T11:31:36.618Z"
   },
   {
    "duration": 10,
    "start_time": "2021-08-06T11:31:37.409Z"
   },
   {
    "duration": 22,
    "start_time": "2021-08-06T11:31:37.692Z"
   },
   {
    "duration": 4585,
    "start_time": "2021-08-06T11:31:39.223Z"
   },
   {
    "duration": 34,
    "start_time": "2021-08-06T11:31:43.811Z"
   },
   {
    "duration": 52,
    "start_time": "2021-08-06T11:31:43.848Z"
   },
   {
    "duration": 5,
    "start_time": "2021-08-06T11:31:45.017Z"
   },
   {
    "duration": 603,
    "start_time": "2021-08-06T11:31:45.883Z"
   },
   {
    "duration": 4,
    "start_time": "2021-08-06T11:32:09.665Z"
   },
   {
    "duration": 572,
    "start_time": "2021-08-06T11:32:10.141Z"
   },
   {
    "duration": 596,
    "start_time": "2021-08-06T11:32:10.716Z"
   },
   {
    "duration": -58,
    "start_time": "2021-08-06T11:32:11.372Z"
   },
   {
    "duration": 288,
    "start_time": "2021-08-06T11:32:11.400Z"
   },
   {
    "duration": -51,
    "start_time": "2021-08-06T11:32:11.742Z"
   },
   {
    "duration": 8099,
    "start_time": "2021-08-06T11:32:12.594Z"
   },
   {
    "duration": -44,
    "start_time": "2021-08-06T11:32:20.740Z"
   },
   {
    "duration": -50,
    "start_time": "2021-08-06T11:32:20.747Z"
   },
   {
    "duration": -54,
    "start_time": "2021-08-06T11:32:20.753Z"
   },
   {
    "duration": -58,
    "start_time": "2021-08-06T11:32:20.758Z"
   },
   {
    "duration": -63,
    "start_time": "2021-08-06T11:32:20.764Z"
   },
   {
    "duration": -66,
    "start_time": "2021-08-06T11:32:20.769Z"
   },
   {
    "duration": 286,
    "start_time": "2021-08-06T11:32:21.028Z"
   },
   {
    "duration": 406,
    "start_time": "2021-08-06T11:32:33.886Z"
   },
   {
    "duration": 306,
    "start_time": "2021-08-06T11:32:39.858Z"
   },
   {
    "duration": 4,
    "start_time": "2021-08-06T11:34:53.085Z"
   },
   {
    "duration": 720,
    "start_time": "2021-08-06T11:34:54.132Z"
   },
   {
    "duration": 10,
    "start_time": "2021-08-06T11:34:56.594Z"
   },
   {
    "duration": 2384,
    "start_time": "2021-08-06T11:35:02.555Z"
   },
   {
    "duration": 7,
    "start_time": "2021-08-06T11:36:14.285Z"
   },
   {
    "duration": 309,
    "start_time": "2021-08-06T11:37:09.965Z"
   },
   {
    "duration": 7997,
    "start_time": "2021-08-06T11:37:37.484Z"
   },
   {
    "duration": 9022,
    "start_time": "2021-08-06T11:38:10.092Z"
   },
   {
    "duration": 88,
    "start_time": "2021-08-06T11:38:25.099Z"
   },
   {
    "duration": -19,
    "start_time": "2021-08-06T11:38:37.646Z"
   },
   {
    "duration": 42,
    "start_time": "2021-08-06T11:38:40.827Z"
   },
   {
    "duration": 15,
    "start_time": "2021-08-06T11:40:07.515Z"
   },
   {
    "duration": 4,
    "start_time": "2021-08-06T11:40:10.969Z"
   },
   {
    "duration": 76,
    "start_time": "2021-08-06T11:40:11.115Z"
   },
   {
    "duration": 21,
    "start_time": "2021-08-06T11:40:11.309Z"
   },
   {
    "duration": 19,
    "start_time": "2021-08-06T11:40:11.674Z"
   },
   {
    "duration": 15,
    "start_time": "2021-08-06T11:40:12.233Z"
   },
   {
    "duration": 48,
    "start_time": "2021-08-06T11:40:12.443Z"
   },
   {
    "duration": 12,
    "start_time": "2021-08-06T11:40:13.757Z"
   },
   {
    "duration": 34,
    "start_time": "2021-08-06T11:40:15.170Z"
   },
   {
    "duration": 8,
    "start_time": "2021-08-06T11:40:15.378Z"
   },
   {
    "duration": 12,
    "start_time": "2021-08-06T11:40:15.579Z"
   },
   {
    "duration": 4,
    "start_time": "2021-08-06T11:40:15.779Z"
   },
   {
    "duration": 882,
    "start_time": "2021-08-06T11:40:15.986Z"
   },
   {
    "duration": 34,
    "start_time": "2021-08-06T11:40:16.870Z"
   },
   {
    "duration": 24,
    "start_time": "2021-08-06T11:40:16.906Z"
   },
   {
    "duration": 10,
    "start_time": "2021-08-06T11:40:17.265Z"
   },
   {
    "duration": 8,
    "start_time": "2021-08-06T11:40:17.689Z"
   },
   {
    "duration": 8,
    "start_time": "2021-08-06T11:40:18.177Z"
   },
   {
    "duration": 5,
    "start_time": "2021-08-06T11:40:18.394Z"
   },
   {
    "duration": 6,
    "start_time": "2021-08-06T11:40:18.809Z"
   },
   {
    "duration": 24,
    "start_time": "2021-08-06T11:40:19.027Z"
   },
   {
    "duration": 15,
    "start_time": "2021-08-06T11:40:19.226Z"
   },
   {
    "duration": 53,
    "start_time": "2021-08-06T11:40:19.426Z"
   },
   {
    "duration": 13,
    "start_time": "2021-08-06T11:40:20.497Z"
   },
   {
    "duration": 14,
    "start_time": "2021-08-06T11:40:20.866Z"
   },
   {
    "duration": 37,
    "start_time": "2021-08-06T11:40:22.188Z"
   },
   {
    "duration": 4,
    "start_time": "2021-08-06T11:40:23.490Z"
   },
   {
    "duration": 579,
    "start_time": "2021-08-06T11:40:23.858Z"
   },
   {
    "duration": 10,
    "start_time": "2021-08-06T11:40:24.440Z"
   },
   {
    "duration": 5,
    "start_time": "2021-08-06T11:40:25.314Z"
   },
   {
    "duration": 10,
    "start_time": "2021-08-06T11:40:25.547Z"
   },
   {
    "duration": 21,
    "start_time": "2021-08-06T11:40:26.002Z"
   },
   {
    "duration": 11,
    "start_time": "2021-08-06T11:40:26.434Z"
   },
   {
    "duration": 15,
    "start_time": "2021-08-06T11:40:26.930Z"
   },
   {
    "duration": 12,
    "start_time": "2021-08-06T11:40:27.402Z"
   },
   {
    "duration": 11,
    "start_time": "2021-08-06T11:40:27.873Z"
   },
   {
    "duration": 18,
    "start_time": "2021-08-06T11:40:28.082Z"
   },
   {
    "duration": 12,
    "start_time": "2021-08-06T11:40:28.322Z"
   },
   {
    "duration": 10,
    "start_time": "2021-08-06T11:40:28.818Z"
   },
   {
    "duration": 20,
    "start_time": "2021-08-06T11:40:29.305Z"
   },
   {
    "duration": 10,
    "start_time": "2021-08-06T11:40:29.539Z"
   },
   {
    "duration": 10,
    "start_time": "2021-08-06T11:40:30.185Z"
   },
   {
    "duration": 20,
    "start_time": "2021-08-06T11:40:30.419Z"
   },
   {
    "duration": 4477,
    "start_time": "2021-08-06T11:40:32.253Z"
   },
   {
    "duration": 35,
    "start_time": "2021-08-06T11:40:36.732Z"
   },
   {
    "duration": 48,
    "start_time": "2021-08-06T11:40:36.769Z"
   },
   {
    "duration": 20,
    "start_time": "2021-08-06T11:40:38.250Z"
   },
   {
    "duration": 5,
    "start_time": "2021-08-06T11:40:39.243Z"
   },
   {
    "duration": 41,
    "start_time": "2021-08-06T11:40:40.434Z"
   },
   {
    "duration": 4,
    "start_time": "2021-08-06T11:40:42.939Z"
   },
   {
    "duration": 586,
    "start_time": "2021-08-06T11:40:44.226Z"
   },
   {
    "duration": 34,
    "start_time": "2021-08-06T11:40:44.931Z"
   },
   {
    "duration": 5,
    "start_time": "2021-08-06T11:40:47.002Z"
   },
   {
    "duration": 726,
    "start_time": "2021-08-06T11:40:47.762Z"
   },
   {
    "duration": 14,
    "start_time": "2021-08-06T11:40:48.491Z"
   },
   {
    "duration": 39,
    "start_time": "2021-08-06T11:40:49.763Z"
   },
   {
    "duration": 22,
    "start_time": "2021-08-06T11:40:52.082Z"
   },
   {
    "duration": 5,
    "start_time": "2021-08-06T11:40:52.914Z"
   },
   {
    "duration": 503,
    "start_time": "2021-08-06T11:40:53.604Z"
   },
   {
    "duration": 9,
    "start_time": "2021-08-06T11:40:54.110Z"
   },
   {
    "duration": 37,
    "start_time": "2021-08-06T11:40:54.770Z"
   },
   {
    "duration": 11,
    "start_time": "2021-08-06T11:41:18.762Z"
   },
   {
    "duration": 11,
    "start_time": "2021-08-06T11:41:20.977Z"
   },
   {
    "duration": 11,
    "start_time": "2021-08-06T11:41:30.978Z"
   },
   {
    "duration": 34,
    "start_time": "2021-08-06T11:41:38.186Z"
   },
   {
    "duration": 3,
    "start_time": "2021-08-06T12:45:47.704Z"
   },
   {
    "duration": 77,
    "start_time": "2021-08-06T12:45:47.853Z"
   },
   {
    "duration": 21,
    "start_time": "2021-08-06T12:45:48.033Z"
   },
   {
    "duration": 20,
    "start_time": "2021-08-06T12:45:48.188Z"
   },
   {
    "duration": 16,
    "start_time": "2021-08-06T12:45:48.674Z"
   },
   {
    "duration": 51,
    "start_time": "2021-08-06T12:45:48.853Z"
   },
   {
    "duration": 16,
    "start_time": "2021-08-06T12:45:50.108Z"
   },
   {
    "duration": 38,
    "start_time": "2021-08-06T12:45:51.220Z"
   },
   {
    "duration": 8,
    "start_time": "2021-08-06T12:45:51.410Z"
   },
   {
    "duration": 16,
    "start_time": "2021-08-06T12:45:51.594Z"
   },
   {
    "duration": 5,
    "start_time": "2021-08-06T12:45:51.796Z"
   },
   {
    "duration": 842,
    "start_time": "2021-08-06T12:45:51.970Z"
   },
   {
    "duration": 20,
    "start_time": "2021-08-06T12:45:52.814Z"
   },
   {
    "duration": 15,
    "start_time": "2021-08-06T12:45:52.837Z"
   },
   {
    "duration": 10,
    "start_time": "2021-08-06T12:45:53.177Z"
   },
   {
    "duration": 6,
    "start_time": "2021-08-06T12:45:53.578Z"
   },
   {
    "duration": 7,
    "start_time": "2021-08-06T12:45:53.986Z"
   },
   {
    "duration": 5,
    "start_time": "2021-08-06T12:45:54.186Z"
   },
   {
    "duration": 6,
    "start_time": "2021-08-06T12:45:54.586Z"
   },
   {
    "duration": 24,
    "start_time": "2021-08-06T12:45:54.795Z"
   },
   {
    "duration": 15,
    "start_time": "2021-08-06T12:45:55.002Z"
   },
   {
    "duration": 55,
    "start_time": "2021-08-06T12:45:55.207Z"
   },
   {
    "duration": 13,
    "start_time": "2021-08-06T12:45:56.218Z"
   },
   {
    "duration": 15,
    "start_time": "2021-08-06T12:45:56.419Z"
   },
   {
    "duration": 36,
    "start_time": "2021-08-06T12:45:57.254Z"
   },
   {
    "duration": 5,
    "start_time": "2021-08-06T12:45:57.874Z"
   },
   {
    "duration": 617,
    "start_time": "2021-08-06T12:45:58.075Z"
   },
   {
    "duration": 15,
    "start_time": "2021-08-06T12:45:58.694Z"
   },
   {
    "duration": 4,
    "start_time": "2021-08-06T12:45:58.939Z"
   },
   {
    "duration": 8,
    "start_time": "2021-08-06T12:45:59.156Z"
   },
   {
    "duration": 20,
    "start_time": "2021-08-06T12:45:59.595Z"
   },
   {
    "duration": 10,
    "start_time": "2021-08-06T12:46:00.042Z"
   },
   {
    "duration": 15,
    "start_time": "2021-08-06T12:46:00.514Z"
   },
   {
    "duration": 11,
    "start_time": "2021-08-06T12:46:00.898Z"
   },
   {
    "duration": 10,
    "start_time": "2021-08-06T12:46:01.314Z"
   },
   {
    "duration": 18,
    "start_time": "2021-08-06T12:46:01.531Z"
   },
   {
    "duration": 12,
    "start_time": "2021-08-06T12:46:01.762Z"
   },
   {
    "duration": 11,
    "start_time": "2021-08-06T12:46:02.162Z"
   },
   {
    "duration": 22,
    "start_time": "2021-08-06T12:46:02.578Z"
   },
   {
    "duration": 12,
    "start_time": "2021-08-06T12:46:02.794Z"
   },
   {
    "duration": 11,
    "start_time": "2021-08-06T12:46:03.457Z"
   },
   {
    "duration": 21,
    "start_time": "2021-08-06T12:46:03.683Z"
   },
   {
    "duration": 4486,
    "start_time": "2021-08-06T12:46:04.453Z"
   },
   {
    "duration": 34,
    "start_time": "2021-08-06T12:46:08.942Z"
   },
   {
    "duration": 44,
    "start_time": "2021-08-06T12:46:08.979Z"
   },
   {
    "duration": 29,
    "start_time": "2021-08-06T12:46:09.026Z"
   },
   {
    "duration": 5,
    "start_time": "2021-08-06T12:46:09.058Z"
   },
   {
    "duration": 69,
    "start_time": "2021-08-06T12:46:09.066Z"
   },
   {
    "duration": 4,
    "start_time": "2021-08-06T12:46:09.138Z"
   },
   {
    "duration": 598,
    "start_time": "2021-08-06T12:46:09.146Z"
   },
   {
    "duration": 32,
    "start_time": "2021-08-06T12:46:09.747Z"
   },
   {
    "duration": 19,
    "start_time": "2021-08-06T12:46:09.782Z"
   },
   {
    "duration": 745,
    "start_time": "2021-08-06T12:46:09.804Z"
   },
   {
    "duration": 11,
    "start_time": "2021-08-06T12:46:10.552Z"
   },
   {
    "duration": 61,
    "start_time": "2021-08-06T12:46:10.565Z"
   },
   {
    "duration": 22,
    "start_time": "2021-08-06T12:46:10.629Z"
   },
   {
    "duration": 15,
    "start_time": "2021-08-06T12:46:10.653Z"
   },
   {
    "duration": 537,
    "start_time": "2021-08-06T12:46:10.671Z"
   },
   {
    "duration": 10,
    "start_time": "2021-08-06T12:46:11.210Z"
   },
   {
    "duration": 80,
    "start_time": "2021-08-06T12:46:11.223Z"
   },
   {
    "duration": 13,
    "start_time": "2021-08-06T12:46:12.102Z"
   },
   {
    "duration": 11,
    "start_time": "2021-08-06T12:46:13.058Z"
   },
   {
    "duration": 12,
    "start_time": "2021-08-06T12:46:13.961Z"
   },
   {
    "duration": 36,
    "start_time": "2021-08-06T12:46:14.858Z"
   }
  ],
  "kernelspec": {
   "display_name": "Python 3",
   "language": "python",
   "name": "python3"
  },
  "language_info": {
   "codemirror_mode": {
    "name": "ipython",
    "version": 3
   },
   "file_extension": ".py",
   "mimetype": "text/x-python",
   "name": "python",
   "nbconvert_exporter": "python",
   "pygments_lexer": "ipython3",
   "version": "3.8.8"
  },
  "toc": {
   "base_numbering": 1,
   "nav_menu": {},
   "number_sections": true,
   "sideBar": true,
   "skip_h1_title": true,
   "title_cell": "Table of Contents",
   "title_sidebar": "Contents",
   "toc_cell": false,
   "toc_position": {},
   "toc_section_display": true,
   "toc_window_display": false
  }
 },
 "nbformat": 4,
 "nbformat_minor": 2
}
